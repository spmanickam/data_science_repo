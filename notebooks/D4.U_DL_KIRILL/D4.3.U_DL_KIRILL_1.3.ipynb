{
 "cells": [
  {
   "cell_type": "markdown",
   "metadata": {},
   "source": [
    "# UDEMY_DEEP_LEARNING_A-Z_ANN_KIRILL_2.ipynb"
   ]
  },
  {
   "cell_type": "markdown",
   "metadata": {
    "toc": true
   },
   "source": [
    "<h1>Table of Contents<span class=\"tocSkip\"></span></h1>\n",
    "<div class=\"toc\"><ul class=\"toc-item\"><li><span><a href=\"#OneHotEncoder-(using-get_dummies)\" data-toc-modified-id=\"OneHotEncoder-(using-get_dummies)-1\"><span class=\"toc-item-num\">1&nbsp;&nbsp;</span>OneHotEncoder (using get_dummies)</a></span></li><li><span><a href=\"#Split\" data-toc-modified-id=\"Split-2\"><span class=\"toc-item-num\">2&nbsp;&nbsp;</span>Split</a></span></li><li><span><a href=\"#StandardScaler-(do-this-after-splitting)\" data-toc-modified-id=\"StandardScaler-(do-this-after-splitting)-3\"><span class=\"toc-item-num\">3&nbsp;&nbsp;</span>StandardScaler (do this after splitting)</a></span></li><li><span><a href=\"#ANN\" data-toc-modified-id=\"ANN-4\"><span class=\"toc-item-num\">4&nbsp;&nbsp;</span>ANN</a></span><ul class=\"toc-item\"><li><span><a href=\"#BUILD\" data-toc-modified-id=\"BUILD-4.1\"><span class=\"toc-item-num\">4.1&nbsp;&nbsp;</span>BUILD</a></span><ul class=\"toc-item\"><li><span><a href=\"#Add-first-hidden-layer\" data-toc-modified-id=\"Add-first-hidden-layer-4.1.1\"><span class=\"toc-item-num\">4.1.1&nbsp;&nbsp;</span>Add first hidden layer</a></span></li><li><span><a href=\"#Add-second-hidden-layer\" data-toc-modified-id=\"Add-second-hidden-layer-4.1.2\"><span class=\"toc-item-num\">4.1.2&nbsp;&nbsp;</span>Add second hidden layer</a></span></li><li><span><a href=\"#Add-output-layer\" data-toc-modified-id=\"Add-output-layer-4.1.3\"><span class=\"toc-item-num\">4.1.3&nbsp;&nbsp;</span>Add output layer</a></span></li></ul></li><li><span><a href=\"#TRAIN/FIT\" data-toc-modified-id=\"TRAIN/FIT-4.2\"><span class=\"toc-item-num\">4.2&nbsp;&nbsp;</span>TRAIN/FIT</a></span></li><li><span><a href=\"#PREDICT\" data-toc-modified-id=\"PREDICT-4.3\"><span class=\"toc-item-num\">4.3&nbsp;&nbsp;</span>PREDICT</a></span><ul class=\"toc-item\"><li><span><a href=\"#Convert-prediction-probability-values-to-boolean\" data-toc-modified-id=\"Convert-prediction-probability-values-to-boolean-4.3.1\"><span class=\"toc-item-num\">4.3.1&nbsp;&nbsp;</span>Convert prediction probability values to boolean</a></span></li></ul></li><li><span><a href=\"#EVALUATE\" data-toc-modified-id=\"EVALUATE-4.4\"><span class=\"toc-item-num\">4.4&nbsp;&nbsp;</span>EVALUATE</a></span></li></ul></li><li><span><a href=\"#K-FOLD-CROSS-VALIDATION\" data-toc-modified-id=\"K-FOLD-CROSS-VALIDATION-5\"><span class=\"toc-item-num\">5&nbsp;&nbsp;</span>K-FOLD CROSS VALIDATION</a></span></li><li><span><a href=\"#Dropout-Regularization-(is-THE-solutiorn-for-overfitting-im-deep-learning)\" data-toc-modified-id=\"Dropout-Regularization-(is-THE-solutiorn-for-overfitting-im-deep-learning)-6\"><span class=\"toc-item-num\">6&nbsp;&nbsp;</span>Dropout Regularization (is THE solutiorn for overfitting im deep learning)</a></span></li><li><span><a href=\"#PARAMETER-TUNING-(GRID-SEARCH)\" data-toc-modified-id=\"PARAMETER-TUNING-(GRID-SEARCH)-7\"><span class=\"toc-item-num\">7&nbsp;&nbsp;</span>PARAMETER TUNING (GRID SEARCH)</a></span></li></ul></div>"
   ]
  },
  {
   "cell_type": "code",
   "execution_count": null,
   "metadata": {},
   "outputs": [],
   "source": [
    "import keras"
   ]
  },
  {
   "cell_type": "markdown",
   "metadata": {},
   "source": [
    "### Deep Learning Libararies"
   ]
  },
  {
   "cell_type": "code",
   "execution_count": null,
   "metadata": {},
   "outputs": [],
   "source": [
    "# LIBRARIES \n",
    "#     1) THEANO\n",
    "#         -> open source numerical computations library\n",
    "#         -> efficient fast numerical computations; \n",
    "#         -> numpy syntax\n",
    "#         -> can run on CPUs & GPUs(more cores;higher floating point calculations per second)\n",
    "#     2) TENSORFLOW\n",
    "#     3) KERAS"
   ]
  },
  {
   "cell_type": "markdown",
   "metadata": {},
   "source": [
    "### Installation"
   ]
  },
  {
   "cell_type": "code",
   "execution_count": null,
   "metadata": {},
   "outputs": [],
   "source": [
    "#\n",
    "'''\n",
    "!pip install tensorflow\n",
    "!pip install theano\n",
    "!pip install keras\n",
    "\n",
    "Collecting theano\n",
    "  Downloading https://files.pythonhosted.org/packages/4d/b1/d490d88ab47f01f367f413bd2e47d86acf92c84157c5172c23903798bd70/Theano-1.0.3.tar.gz (2.8MB)\n",
    "    100% |████████████████████████████████| 2.8MB 4.5MB/s eta 0:00:01    40% |████████████▉                   | 1.1MB 686kB/s eta 0:00:03    44% |██████████████▏                 | 1.2MB 3.2MB/s eta 0:00:01\n",
    "Requirement already satisfied: numpy>=1.9.1 in /anaconda3/lib/python3.6/site-packages (from theano) (1.15.2)\n",
    "Requirement already satisfied: scipy>=0.14 in /anaconda3/lib/python3.6/site-packages (from theano) (1.1.0)\n",
    "Requirement already satisfied: six>=1.9.0 in /anaconda3/lib/python3.6/site-packages (from theano) (1.11.0)\n",
    "Building wheels for collected packages: theano\n",
    "  Running setup.py bdist_wheel for theano ... done\n",
    "  Stored in directory: /Users/pinky/Library/Caches/pip/wheels/10/82/05/9ef5e43bfcf906b4810f85f91b09d6daf7ad213d30179defa9\n",
    "Successfully built theano\n",
    "tensorflow 1.10.0 has requirement numpy<=1.14.5,>=1.13.3, but you'll have numpy 1.15.2 which is incompatible.\n",
    "Installing collected packages: theano\n",
    "Successfully installed theano-1.0.3\n",
    "'''"
   ]
  },
  {
   "cell_type": "code",
   "execution_count": null,
   "metadata": {},
   "outputs": [],
   "source": [
    "# Update all conda libararies\n",
    "#!conda update -y --all"
   ]
  },
  {
   "cell_type": "code",
   "execution_count": null,
   "metadata": {},
   "outputs": [],
   "source": [
    "# !conda update -y matplotlib"
   ]
  },
  {
   "cell_type": "code",
   "execution_count": null,
   "metadata": {},
   "outputs": [],
   "source": [
    "# Uninstall pip's version\n",
    "#!pip uninstall -y matplotlib\n",
    "\n",
    "# DOESN'T WORK: !conda install matplotlib\n",
    "# WORKS: !conda install -c conda-forge matplotlib=3.0.0"
   ]
  },
  {
   "cell_type": "markdown",
   "metadata": {},
   "source": [
    "### HouseKeeping"
   ]
  },
  {
   "cell_type": "code",
   "execution_count": 1,
   "metadata": {},
   "outputs": [],
   "source": [
    "# %load '../../src/scripts/housekeeping.py'\n",
    "#Housekeeping\\\n",
    "import pandas as pd\n",
    "import numpy as np\n",
    "import matplotlib.pyplot as plt\n",
    "%matplotlib inline\n",
    "import os\n",
    "\n",
    "from IPython.display import Image\n",
    "from IPython.core.display import HTML \n",
    "#Image(filename='images/extracting_data_from_db_template.png', height=300, width=400)}"
   ]
  },
  {
   "cell_type": "code",
   "execution_count": 2,
   "metadata": {},
   "outputs": [],
   "source": [
    "raw_data_path = os.path.join(os.pardir, '..', 'data', 'raw') \n",
    "churnDF = pd.read_csv(os.path.join(raw_data_path, 'Churn_Modelling.csv'))"
   ]
  },
  {
   "cell_type": "code",
   "execution_count": 3,
   "metadata": {},
   "outputs": [
    {
     "data": {
      "text/html": [
       "<div>\n",
       "<style scoped>\n",
       "    .dataframe tbody tr th:only-of-type {\n",
       "        vertical-align: middle;\n",
       "    }\n",
       "\n",
       "    .dataframe tbody tr th {\n",
       "        vertical-align: top;\n",
       "    }\n",
       "\n",
       "    .dataframe thead th {\n",
       "        text-align: right;\n",
       "    }\n",
       "</style>\n",
       "<table border=\"1\" class=\"dataframe\">\n",
       "  <thead>\n",
       "    <tr style=\"text-align: right;\">\n",
       "      <th></th>\n",
       "      <th>RowNumber</th>\n",
       "      <th>CustomerId</th>\n",
       "      <th>Surname</th>\n",
       "      <th>CreditScore</th>\n",
       "      <th>Geography</th>\n",
       "      <th>Gender</th>\n",
       "      <th>Age</th>\n",
       "      <th>Tenure</th>\n",
       "      <th>Balance</th>\n",
       "      <th>NumOfProducts</th>\n",
       "      <th>HasCrCard</th>\n",
       "      <th>IsActiveMember</th>\n",
       "      <th>EstimatedSalary</th>\n",
       "      <th>Exited</th>\n",
       "    </tr>\n",
       "  </thead>\n",
       "  <tbody>\n",
       "    <tr>\n",
       "      <th>0</th>\n",
       "      <td>1</td>\n",
       "      <td>15634602</td>\n",
       "      <td>Hargrave</td>\n",
       "      <td>619</td>\n",
       "      <td>France</td>\n",
       "      <td>Female</td>\n",
       "      <td>42</td>\n",
       "      <td>2</td>\n",
       "      <td>0.00</td>\n",
       "      <td>1</td>\n",
       "      <td>1</td>\n",
       "      <td>1</td>\n",
       "      <td>101348.88</td>\n",
       "      <td>1</td>\n",
       "    </tr>\n",
       "    <tr>\n",
       "      <th>1</th>\n",
       "      <td>2</td>\n",
       "      <td>15647311</td>\n",
       "      <td>Hill</td>\n",
       "      <td>608</td>\n",
       "      <td>Spain</td>\n",
       "      <td>Female</td>\n",
       "      <td>41</td>\n",
       "      <td>1</td>\n",
       "      <td>83807.86</td>\n",
       "      <td>1</td>\n",
       "      <td>0</td>\n",
       "      <td>1</td>\n",
       "      <td>112542.58</td>\n",
       "      <td>0</td>\n",
       "    </tr>\n",
       "    <tr>\n",
       "      <th>2</th>\n",
       "      <td>3</td>\n",
       "      <td>15619304</td>\n",
       "      <td>Onio</td>\n",
       "      <td>502</td>\n",
       "      <td>France</td>\n",
       "      <td>Female</td>\n",
       "      <td>42</td>\n",
       "      <td>8</td>\n",
       "      <td>159660.80</td>\n",
       "      <td>3</td>\n",
       "      <td>1</td>\n",
       "      <td>0</td>\n",
       "      <td>113931.57</td>\n",
       "      <td>1</td>\n",
       "    </tr>\n",
       "    <tr>\n",
       "      <th>3</th>\n",
       "      <td>4</td>\n",
       "      <td>15701354</td>\n",
       "      <td>Boni</td>\n",
       "      <td>699</td>\n",
       "      <td>France</td>\n",
       "      <td>Female</td>\n",
       "      <td>39</td>\n",
       "      <td>1</td>\n",
       "      <td>0.00</td>\n",
       "      <td>2</td>\n",
       "      <td>0</td>\n",
       "      <td>0</td>\n",
       "      <td>93826.63</td>\n",
       "      <td>0</td>\n",
       "    </tr>\n",
       "    <tr>\n",
       "      <th>4</th>\n",
       "      <td>5</td>\n",
       "      <td>15737888</td>\n",
       "      <td>Mitchell</td>\n",
       "      <td>850</td>\n",
       "      <td>Spain</td>\n",
       "      <td>Female</td>\n",
       "      <td>43</td>\n",
       "      <td>2</td>\n",
       "      <td>125510.82</td>\n",
       "      <td>1</td>\n",
       "      <td>1</td>\n",
       "      <td>1</td>\n",
       "      <td>79084.10</td>\n",
       "      <td>0</td>\n",
       "    </tr>\n",
       "  </tbody>\n",
       "</table>\n",
       "</div>"
      ],
      "text/plain": [
       "   RowNumber  CustomerId   Surname  CreditScore Geography  Gender  Age  \\\n",
       "0          1    15634602  Hargrave          619    France  Female   42   \n",
       "1          2    15647311      Hill          608     Spain  Female   41   \n",
       "2          3    15619304      Onio          502    France  Female   42   \n",
       "3          4    15701354      Boni          699    France  Female   39   \n",
       "4          5    15737888  Mitchell          850     Spain  Female   43   \n",
       "\n",
       "   Tenure    Balance  NumOfProducts  HasCrCard  IsActiveMember  \\\n",
       "0       2       0.00              1          1               1   \n",
       "1       1   83807.86              1          0               1   \n",
       "2       8  159660.80              3          1               0   \n",
       "3       1       0.00              2          0               0   \n",
       "4       2  125510.82              1          1               1   \n",
       "\n",
       "   EstimatedSalary  Exited  \n",
       "0        101348.88       1  \n",
       "1        112542.58       0  \n",
       "2        113931.57       1  \n",
       "3         93826.63       0  \n",
       "4         79084.10       0  "
      ]
     },
     "execution_count": 3,
     "metadata": {},
     "output_type": "execute_result"
    }
   ],
   "source": [
    "churnDF.head()"
   ]
  },
  {
   "cell_type": "code",
   "execution_count": 4,
   "metadata": {},
   "outputs": [],
   "source": [
    "churnDF.drop(axis='columns', columns=['RowNumber', 'CustomerId', 'Surname'], inplace=True)"
   ]
  },
  {
   "cell_type": "code",
   "execution_count": 5,
   "metadata": {},
   "outputs": [
    {
     "data": {
      "text/html": [
       "<div>\n",
       "<style scoped>\n",
       "    .dataframe tbody tr th:only-of-type {\n",
       "        vertical-align: middle;\n",
       "    }\n",
       "\n",
       "    .dataframe tbody tr th {\n",
       "        vertical-align: top;\n",
       "    }\n",
       "\n",
       "    .dataframe thead th {\n",
       "        text-align: right;\n",
       "    }\n",
       "</style>\n",
       "<table border=\"1\" class=\"dataframe\">\n",
       "  <thead>\n",
       "    <tr style=\"text-align: right;\">\n",
       "      <th></th>\n",
       "      <th>CreditScore</th>\n",
       "      <th>Geography</th>\n",
       "      <th>Gender</th>\n",
       "      <th>Age</th>\n",
       "      <th>Tenure</th>\n",
       "      <th>Balance</th>\n",
       "      <th>NumOfProducts</th>\n",
       "      <th>HasCrCard</th>\n",
       "      <th>IsActiveMember</th>\n",
       "      <th>EstimatedSalary</th>\n",
       "      <th>Exited</th>\n",
       "    </tr>\n",
       "  </thead>\n",
       "  <tbody>\n",
       "    <tr>\n",
       "      <th>0</th>\n",
       "      <td>619</td>\n",
       "      <td>France</td>\n",
       "      <td>Female</td>\n",
       "      <td>42</td>\n",
       "      <td>2</td>\n",
       "      <td>0.00</td>\n",
       "      <td>1</td>\n",
       "      <td>1</td>\n",
       "      <td>1</td>\n",
       "      <td>101348.88</td>\n",
       "      <td>1</td>\n",
       "    </tr>\n",
       "    <tr>\n",
       "      <th>1</th>\n",
       "      <td>608</td>\n",
       "      <td>Spain</td>\n",
       "      <td>Female</td>\n",
       "      <td>41</td>\n",
       "      <td>1</td>\n",
       "      <td>83807.86</td>\n",
       "      <td>1</td>\n",
       "      <td>0</td>\n",
       "      <td>1</td>\n",
       "      <td>112542.58</td>\n",
       "      <td>0</td>\n",
       "    </tr>\n",
       "    <tr>\n",
       "      <th>2</th>\n",
       "      <td>502</td>\n",
       "      <td>France</td>\n",
       "      <td>Female</td>\n",
       "      <td>42</td>\n",
       "      <td>8</td>\n",
       "      <td>159660.80</td>\n",
       "      <td>3</td>\n",
       "      <td>1</td>\n",
       "      <td>0</td>\n",
       "      <td>113931.57</td>\n",
       "      <td>1</td>\n",
       "    </tr>\n",
       "    <tr>\n",
       "      <th>3</th>\n",
       "      <td>699</td>\n",
       "      <td>France</td>\n",
       "      <td>Female</td>\n",
       "      <td>39</td>\n",
       "      <td>1</td>\n",
       "      <td>0.00</td>\n",
       "      <td>2</td>\n",
       "      <td>0</td>\n",
       "      <td>0</td>\n",
       "      <td>93826.63</td>\n",
       "      <td>0</td>\n",
       "    </tr>\n",
       "    <tr>\n",
       "      <th>4</th>\n",
       "      <td>850</td>\n",
       "      <td>Spain</td>\n",
       "      <td>Female</td>\n",
       "      <td>43</td>\n",
       "      <td>2</td>\n",
       "      <td>125510.82</td>\n",
       "      <td>1</td>\n",
       "      <td>1</td>\n",
       "      <td>1</td>\n",
       "      <td>79084.10</td>\n",
       "      <td>0</td>\n",
       "    </tr>\n",
       "  </tbody>\n",
       "</table>\n",
       "</div>"
      ],
      "text/plain": [
       "   CreditScore Geography  Gender  Age  Tenure    Balance  NumOfProducts  \\\n",
       "0          619    France  Female   42       2       0.00              1   \n",
       "1          608     Spain  Female   41       1   83807.86              1   \n",
       "2          502    France  Female   42       8  159660.80              3   \n",
       "3          699    France  Female   39       1       0.00              2   \n",
       "4          850     Spain  Female   43       2  125510.82              1   \n",
       "\n",
       "   HasCrCard  IsActiveMember  EstimatedSalary  Exited  \n",
       "0          1               1        101348.88       1  \n",
       "1          0               1        112542.58       0  \n",
       "2          1               0        113931.57       1  \n",
       "3          0               0         93826.63       0  \n",
       "4          1               1         79084.10       0  "
      ]
     },
     "execution_count": 5,
     "metadata": {},
     "output_type": "execute_result"
    }
   ],
   "source": [
    "churnDF.head()"
   ]
  },
  {
   "cell_type": "markdown",
   "metadata": {},
   "source": [
    "###  OneHotEncoder (using get_dummies)"
   ]
  },
  {
   "cell_type": "code",
   "execution_count": 6,
   "metadata": {},
   "outputs": [],
   "source": [
    "churnDF = pd.get_dummies(churnDF, columns=['Geography', 'Gender'], prefix=[\"Geography\", \"Gender\"])"
   ]
  },
  {
   "cell_type": "code",
   "execution_count": 7,
   "metadata": {},
   "outputs": [
    {
     "data": {
      "text/html": [
       "<div>\n",
       "<style scoped>\n",
       "    .dataframe tbody tr th:only-of-type {\n",
       "        vertical-align: middle;\n",
       "    }\n",
       "\n",
       "    .dataframe tbody tr th {\n",
       "        vertical-align: top;\n",
       "    }\n",
       "\n",
       "    .dataframe thead th {\n",
       "        text-align: right;\n",
       "    }\n",
       "</style>\n",
       "<table border=\"1\" class=\"dataframe\">\n",
       "  <thead>\n",
       "    <tr style=\"text-align: right;\">\n",
       "      <th></th>\n",
       "      <th>CreditScore</th>\n",
       "      <th>Age</th>\n",
       "      <th>Tenure</th>\n",
       "      <th>Balance</th>\n",
       "      <th>NumOfProducts</th>\n",
       "      <th>HasCrCard</th>\n",
       "      <th>IsActiveMember</th>\n",
       "      <th>EstimatedSalary</th>\n",
       "      <th>Exited</th>\n",
       "      <th>Geography_France</th>\n",
       "      <th>Geography_Germany</th>\n",
       "      <th>Geography_Spain</th>\n",
       "      <th>Gender_Female</th>\n",
       "      <th>Gender_Male</th>\n",
       "    </tr>\n",
       "  </thead>\n",
       "  <tbody>\n",
       "    <tr>\n",
       "      <th>0</th>\n",
       "      <td>619</td>\n",
       "      <td>42</td>\n",
       "      <td>2</td>\n",
       "      <td>0.00</td>\n",
       "      <td>1</td>\n",
       "      <td>1</td>\n",
       "      <td>1</td>\n",
       "      <td>101348.88</td>\n",
       "      <td>1</td>\n",
       "      <td>1</td>\n",
       "      <td>0</td>\n",
       "      <td>0</td>\n",
       "      <td>1</td>\n",
       "      <td>0</td>\n",
       "    </tr>\n",
       "    <tr>\n",
       "      <th>1</th>\n",
       "      <td>608</td>\n",
       "      <td>41</td>\n",
       "      <td>1</td>\n",
       "      <td>83807.86</td>\n",
       "      <td>1</td>\n",
       "      <td>0</td>\n",
       "      <td>1</td>\n",
       "      <td>112542.58</td>\n",
       "      <td>0</td>\n",
       "      <td>0</td>\n",
       "      <td>0</td>\n",
       "      <td>1</td>\n",
       "      <td>1</td>\n",
       "      <td>0</td>\n",
       "    </tr>\n",
       "    <tr>\n",
       "      <th>2</th>\n",
       "      <td>502</td>\n",
       "      <td>42</td>\n",
       "      <td>8</td>\n",
       "      <td>159660.80</td>\n",
       "      <td>3</td>\n",
       "      <td>1</td>\n",
       "      <td>0</td>\n",
       "      <td>113931.57</td>\n",
       "      <td>1</td>\n",
       "      <td>1</td>\n",
       "      <td>0</td>\n",
       "      <td>0</td>\n",
       "      <td>1</td>\n",
       "      <td>0</td>\n",
       "    </tr>\n",
       "    <tr>\n",
       "      <th>3</th>\n",
       "      <td>699</td>\n",
       "      <td>39</td>\n",
       "      <td>1</td>\n",
       "      <td>0.00</td>\n",
       "      <td>2</td>\n",
       "      <td>0</td>\n",
       "      <td>0</td>\n",
       "      <td>93826.63</td>\n",
       "      <td>0</td>\n",
       "      <td>1</td>\n",
       "      <td>0</td>\n",
       "      <td>0</td>\n",
       "      <td>1</td>\n",
       "      <td>0</td>\n",
       "    </tr>\n",
       "    <tr>\n",
       "      <th>4</th>\n",
       "      <td>850</td>\n",
       "      <td>43</td>\n",
       "      <td>2</td>\n",
       "      <td>125510.82</td>\n",
       "      <td>1</td>\n",
       "      <td>1</td>\n",
       "      <td>1</td>\n",
       "      <td>79084.10</td>\n",
       "      <td>0</td>\n",
       "      <td>0</td>\n",
       "      <td>0</td>\n",
       "      <td>1</td>\n",
       "      <td>1</td>\n",
       "      <td>0</td>\n",
       "    </tr>\n",
       "  </tbody>\n",
       "</table>\n",
       "</div>"
      ],
      "text/plain": [
       "   CreditScore  Age  Tenure    Balance  NumOfProducts  HasCrCard  \\\n",
       "0          619   42       2       0.00              1          1   \n",
       "1          608   41       1   83807.86              1          0   \n",
       "2          502   42       8  159660.80              3          1   \n",
       "3          699   39       1       0.00              2          0   \n",
       "4          850   43       2  125510.82              1          1   \n",
       "\n",
       "   IsActiveMember  EstimatedSalary  Exited  Geography_France  \\\n",
       "0               1        101348.88       1                 1   \n",
       "1               1        112542.58       0                 0   \n",
       "2               0        113931.57       1                 1   \n",
       "3               0         93826.63       0                 1   \n",
       "4               1         79084.10       0                 0   \n",
       "\n",
       "   Geography_Germany  Geography_Spain  Gender_Female  Gender_Male  \n",
       "0                  0                0              1            0  \n",
       "1                  0                1              1            0  \n",
       "2                  0                0              1            0  \n",
       "3                  0                0              1            0  \n",
       "4                  0                1              1            0  "
      ]
     },
     "execution_count": 7,
     "metadata": {},
     "output_type": "execute_result"
    }
   ],
   "source": [
    "churnDF.head()"
   ]
  },
  {
   "cell_type": "code",
   "execution_count": 8,
   "metadata": {},
   "outputs": [],
   "source": [
    "#DOESN'T WORK (beacuse you CANNOT use OneHotEncoder to encode a string column)\n",
    "# from sklearn.preprocessing import OneHotEncoder\n",
    "# oneHotEncoder = OneHotEncoder(categorical_features=['Geography', 'Gender'])\n",
    "# chrunDF2 = oneHotEncoder.fit_transform(churnDF)\n",
    "# ValueError: could not convert string to float: 'France'"
   ]
  },
  {
   "cell_type": "code",
   "execution_count": 9,
   "metadata": {},
   "outputs": [
    {
     "name": "stdout",
     "output_type": "stream",
     "text": [
      "<class 'pandas.core.frame.DataFrame'>\n",
      "RangeIndex: 10000 entries, 0 to 9999\n",
      "Data columns (total 14 columns):\n",
      "CreditScore          10000 non-null int64\n",
      "Age                  10000 non-null int64\n",
      "Tenure               10000 non-null int64\n",
      "Balance              10000 non-null float64\n",
      "NumOfProducts        10000 non-null int64\n",
      "HasCrCard            10000 non-null int64\n",
      "IsActiveMember       10000 non-null int64\n",
      "EstimatedSalary      10000 non-null float64\n",
      "Exited               10000 non-null int64\n",
      "Geography_France     10000 non-null uint8\n",
      "Geography_Germany    10000 non-null uint8\n",
      "Geography_Spain      10000 non-null uint8\n",
      "Gender_Female        10000 non-null uint8\n",
      "Gender_Male          10000 non-null uint8\n",
      "dtypes: float64(2), int64(7), uint8(5)\n",
      "memory usage: 752.0 KB\n"
     ]
    }
   ],
   "source": [
    "churnDF.info()"
   ]
  },
  {
   "cell_type": "markdown",
   "metadata": {},
   "source": [
    "### Split"
   ]
  },
  {
   "cell_type": "code",
   "execution_count": 10,
   "metadata": {},
   "outputs": [],
   "source": [
    "from sklearn.model_selection import train_test_split"
   ]
  },
  {
   "cell_type": "code",
   "execution_count": 11,
   "metadata": {},
   "outputs": [],
   "source": [
    "X = churnDF.drop('Exited', axis='columns')\n",
    "y = churnDF.Exited"
   ]
  },
  {
   "cell_type": "code",
   "execution_count": 12,
   "metadata": {},
   "outputs": [
    {
     "data": {
      "text/html": [
       "<div>\n",
       "<style scoped>\n",
       "    .dataframe tbody tr th:only-of-type {\n",
       "        vertical-align: middle;\n",
       "    }\n",
       "\n",
       "    .dataframe tbody tr th {\n",
       "        vertical-align: top;\n",
       "    }\n",
       "\n",
       "    .dataframe thead th {\n",
       "        text-align: right;\n",
       "    }\n",
       "</style>\n",
       "<table border=\"1\" class=\"dataframe\">\n",
       "  <thead>\n",
       "    <tr style=\"text-align: right;\">\n",
       "      <th></th>\n",
       "      <th>CreditScore</th>\n",
       "      <th>Age</th>\n",
       "      <th>Tenure</th>\n",
       "      <th>Balance</th>\n",
       "      <th>NumOfProducts</th>\n",
       "      <th>HasCrCard</th>\n",
       "      <th>IsActiveMember</th>\n",
       "      <th>EstimatedSalary</th>\n",
       "      <th>Geography_France</th>\n",
       "      <th>Geography_Germany</th>\n",
       "      <th>Geography_Spain</th>\n",
       "      <th>Gender_Female</th>\n",
       "      <th>Gender_Male</th>\n",
       "    </tr>\n",
       "  </thead>\n",
       "  <tbody>\n",
       "    <tr>\n",
       "      <th>9995</th>\n",
       "      <td>771</td>\n",
       "      <td>39</td>\n",
       "      <td>5</td>\n",
       "      <td>0.00</td>\n",
       "      <td>2</td>\n",
       "      <td>1</td>\n",
       "      <td>0</td>\n",
       "      <td>96270.64</td>\n",
       "      <td>1</td>\n",
       "      <td>0</td>\n",
       "      <td>0</td>\n",
       "      <td>0</td>\n",
       "      <td>1</td>\n",
       "    </tr>\n",
       "    <tr>\n",
       "      <th>9996</th>\n",
       "      <td>516</td>\n",
       "      <td>35</td>\n",
       "      <td>10</td>\n",
       "      <td>57369.61</td>\n",
       "      <td>1</td>\n",
       "      <td>1</td>\n",
       "      <td>1</td>\n",
       "      <td>101699.77</td>\n",
       "      <td>1</td>\n",
       "      <td>0</td>\n",
       "      <td>0</td>\n",
       "      <td>0</td>\n",
       "      <td>1</td>\n",
       "    </tr>\n",
       "    <tr>\n",
       "      <th>9997</th>\n",
       "      <td>709</td>\n",
       "      <td>36</td>\n",
       "      <td>7</td>\n",
       "      <td>0.00</td>\n",
       "      <td>1</td>\n",
       "      <td>0</td>\n",
       "      <td>1</td>\n",
       "      <td>42085.58</td>\n",
       "      <td>1</td>\n",
       "      <td>0</td>\n",
       "      <td>0</td>\n",
       "      <td>1</td>\n",
       "      <td>0</td>\n",
       "    </tr>\n",
       "    <tr>\n",
       "      <th>9998</th>\n",
       "      <td>772</td>\n",
       "      <td>42</td>\n",
       "      <td>3</td>\n",
       "      <td>75075.31</td>\n",
       "      <td>2</td>\n",
       "      <td>1</td>\n",
       "      <td>0</td>\n",
       "      <td>92888.52</td>\n",
       "      <td>0</td>\n",
       "      <td>1</td>\n",
       "      <td>0</td>\n",
       "      <td>0</td>\n",
       "      <td>1</td>\n",
       "    </tr>\n",
       "    <tr>\n",
       "      <th>9999</th>\n",
       "      <td>792</td>\n",
       "      <td>28</td>\n",
       "      <td>4</td>\n",
       "      <td>130142.79</td>\n",
       "      <td>1</td>\n",
       "      <td>1</td>\n",
       "      <td>0</td>\n",
       "      <td>38190.78</td>\n",
       "      <td>1</td>\n",
       "      <td>0</td>\n",
       "      <td>0</td>\n",
       "      <td>1</td>\n",
       "      <td>0</td>\n",
       "    </tr>\n",
       "  </tbody>\n",
       "</table>\n",
       "</div>"
      ],
      "text/plain": [
       "      CreditScore  Age  Tenure    Balance  NumOfProducts  HasCrCard  \\\n",
       "9995          771   39       5       0.00              2          1   \n",
       "9996          516   35      10   57369.61              1          1   \n",
       "9997          709   36       7       0.00              1          0   \n",
       "9998          772   42       3   75075.31              2          1   \n",
       "9999          792   28       4  130142.79              1          1   \n",
       "\n",
       "      IsActiveMember  EstimatedSalary  Geography_France  Geography_Germany  \\\n",
       "9995               0         96270.64                 1                  0   \n",
       "9996               1        101699.77                 1                  0   \n",
       "9997               1         42085.58                 1                  0   \n",
       "9998               0         92888.52                 0                  1   \n",
       "9999               0         38190.78                 1                  0   \n",
       "\n",
       "      Geography_Spain  Gender_Female  Gender_Male  \n",
       "9995                0              0            1  \n",
       "9996                0              0            1  \n",
       "9997                0              1            0  \n",
       "9998                0              0            1  \n",
       "9999                0              1            0  "
      ]
     },
     "execution_count": 12,
     "metadata": {},
     "output_type": "execute_result"
    }
   ],
   "source": [
    "X.tail()"
   ]
  },
  {
   "cell_type": "code",
   "execution_count": 13,
   "metadata": {},
   "outputs": [],
   "source": [
    "X_train, X_test, y_train, y_test = train_test_split(X, y, test_size= 0.2, random_state=0)"
   ]
  },
  {
   "cell_type": "code",
   "execution_count": 14,
   "metadata": {},
   "outputs": [
    {
     "data": {
      "text/plain": [
       "CreditScore          8000\n",
       "Age                  8000\n",
       "Tenure               8000\n",
       "Balance              8000\n",
       "NumOfProducts        8000\n",
       "HasCrCard            8000\n",
       "IsActiveMember       8000\n",
       "EstimatedSalary      8000\n",
       "Geography_France     8000\n",
       "Geography_Germany    8000\n",
       "Geography_Spain      8000\n",
       "Gender_Female        8000\n",
       "Gender_Male          8000\n",
       "dtype: int64"
      ]
     },
     "execution_count": 14,
     "metadata": {},
     "output_type": "execute_result"
    }
   ],
   "source": [
    "X_train.count()"
   ]
  },
  {
   "cell_type": "markdown",
   "metadata": {},
   "source": [
    "### StandardScaler (do this after splitting)"
   ]
  },
  {
   "cell_type": "code",
   "execution_count": 15,
   "metadata": {},
   "outputs": [],
   "source": [
    "from sklearn.preprocessing import StandardScaler"
   ]
  },
  {
   "cell_type": "code",
   "execution_count": 16,
   "metadata": {},
   "outputs": [
    {
     "name": "stderr",
     "output_type": "stream",
     "text": [
      "/anaconda3/lib/python3.6/site-packages/sklearn/preprocessing/data.py:617: DataConversionWarning: Data with input dtype uint8, int64, float64 were all converted to float64 by StandardScaler.\n",
      "  return self.partial_fit(X, y)\n",
      "/anaconda3/lib/python3.6/site-packages/sklearn/base.py:462: DataConversionWarning: Data with input dtype uint8, int64, float64 were all converted to float64 by StandardScaler.\n",
      "  return self.fit(X, **fit_params).transform(X)\n",
      "/anaconda3/lib/python3.6/site-packages/sklearn/preprocessing/data.py:617: DataConversionWarning: Data with input dtype uint8, int64, float64 were all converted to float64 by StandardScaler.\n",
      "  return self.partial_fit(X, y)\n",
      "/anaconda3/lib/python3.6/site-packages/sklearn/base.py:462: DataConversionWarning: Data with input dtype uint8, int64, float64 were all converted to float64 by StandardScaler.\n",
      "  return self.fit(X, **fit_params).transform(X)\n"
     ]
    }
   ],
   "source": [
    "standardScaler = StandardScaler()\n",
    "X_train = standardScaler.fit_transform(X_train)\n",
    "X_test = standardScaler.fit_transform(X_test)"
   ]
  },
  {
   "cell_type": "code",
   "execution_count": 17,
   "metadata": {},
   "outputs": [
    {
     "data": {
      "text/plain": [
       "numpy.ndarray"
      ]
     },
     "execution_count": 17,
     "metadata": {},
     "output_type": "execute_result"
    }
   ],
   "source": [
    "type(X_train)"
   ]
  },
  {
   "cell_type": "markdown",
   "metadata": {
    "toc-hr-collapsed": true
   },
   "source": [
    "### ANN"
   ]
  },
  {
   "cell_type": "code",
   "execution_count": 18,
   "metadata": {},
   "outputs": [
    {
     "name": "stderr",
     "output_type": "stream",
     "text": [
      "Using TensorFlow backend.\n"
     ]
    }
   ],
   "source": [
    "import keras\n",
    "from keras.models import Sequential\n",
    "from keras.layers import Dense"
   ]
  },
  {
   "cell_type": "markdown",
   "metadata": {},
   "source": [
    "#### BUILD"
   ]
  },
  {
   "cell_type": "code",
   "execution_count": 19,
   "metadata": {},
   "outputs": [],
   "source": [
    "classifier = Sequential()"
   ]
  },
  {
   "cell_type": "markdown",
   "metadata": {},
   "source": [
    "##### Add first hidden layer"
   ]
  },
  {
   "cell_type": "code",
   "execution_count": 20,
   "metadata": {},
   "outputs": [
    {
     "name": "stderr",
     "output_type": "stream",
     "text": [
      "/anaconda3/lib/python3.6/site-packages/ipykernel_launcher.py:1: UserWarning: Update your `Dense` call to the Keras 2 API: `Dense(activation=\"relu\", input_dim=13, units=7, kernel_initializer=\"uniform\")`\n",
      "  \"\"\"Entry point for launching an IPython kernel.\n"
     ]
    }
   ],
   "source": [
    "classifier.add(Dense(output_dim=7, init='uniform', activation='relu', input_dim=13))   # 13+1/2 = 7 layers"
   ]
  },
  {
   "cell_type": "markdown",
   "metadata": {},
   "source": [
    "##### Add second hidden layer"
   ]
  },
  {
   "cell_type": "code",
   "execution_count": 21,
   "metadata": {},
   "outputs": [
    {
     "name": "stderr",
     "output_type": "stream",
     "text": [
      "/anaconda3/lib/python3.6/site-packages/ipykernel_launcher.py:1: UserWarning: Update your `Dense` call to the Keras 2 API: `Dense(activation=\"relu\", units=7, kernel_initializer=\"uniform\")`\n",
      "  \"\"\"Entry point for launching an IPython kernel.\n"
     ]
    }
   ],
   "source": [
    "classifier.add(Dense(output_dim=7, init='uniform', activation='relu')) "
   ]
  },
  {
   "cell_type": "markdown",
   "metadata": {},
   "source": [
    "##### Add output layer"
   ]
  },
  {
   "cell_type": "code",
   "execution_count": 22,
   "metadata": {},
   "outputs": [
    {
     "name": "stderr",
     "output_type": "stream",
     "text": [
      "/anaconda3/lib/python3.6/site-packages/ipykernel_launcher.py:1: UserWarning: Update your `Dense` call to the Keras 2 API: `Dense(activation=\"sigmoid\", units=1, kernel_initializer=\"uniform\")`\n",
      "  \"\"\"Entry point for launching an IPython kernel.\n"
     ]
    }
   ],
   "source": [
    "classifier.add(Dense(output_dim=1, init='uniform', activation='sigmoid')) # use submax for mulitple label classes"
   ]
  },
  {
   "cell_type": "code",
   "execution_count": 23,
   "metadata": {},
   "outputs": [],
   "source": [
    "classifier.compile(optimizer='adam', loss='binary_crossentropy', metrics=['accuracy'])"
   ]
  },
  {
   "cell_type": "markdown",
   "metadata": {},
   "source": [
    "#### TRAIN/FIT"
   ]
  },
  {
   "cell_type": "code",
   "execution_count": 24,
   "metadata": {},
   "outputs": [
    {
     "name": "stderr",
     "output_type": "stream",
     "text": [
      "/anaconda3/lib/python3.6/site-packages/ipykernel_launcher.py:1: UserWarning: The `nb_epoch` argument in `fit` has been renamed `epochs`.\n",
      "  \"\"\"Entry point for launching an IPython kernel.\n"
     ]
    },
    {
     "name": "stdout",
     "output_type": "stream",
     "text": [
      "Epoch 1/100\n",
      "8000/8000 [==============================] - 5s 589us/step - loss: 0.4826 - acc: 0.7960\n",
      "Epoch 2/100\n",
      "8000/8000 [==============================] - 3s 328us/step - loss: 0.4282 - acc: 0.7960\n",
      "Epoch 3/100\n",
      "8000/8000 [==============================] - 3s 329us/step - loss: 0.4229 - acc: 0.8020\n",
      "Epoch 4/100\n",
      "8000/8000 [==============================] - 3s 323us/step - loss: 0.4186 - acc: 0.8237 1s - \n",
      "Epoch 5/100\n",
      "8000/8000 [==============================] - 3s 366us/step - loss: 0.4166 - acc: 0.8271\n",
      "Epoch 6/100\n",
      "8000/8000 [==============================] - 3s 333us/step - loss: 0.4145 - acc: 0.8302\n",
      "Epoch 7/100\n",
      "8000/8000 [==============================] - 3s 338us/step - loss: 0.4130 - acc: 0.8299\n",
      "Epoch 8/100\n",
      "8000/8000 [==============================] - 3s 357us/step - loss: 0.4117 - acc: 0.8324\n",
      "Epoch 9/100\n",
      "8000/8000 [==============================] - 3s 341us/step - loss: 0.4108 - acc: 0.8345\n",
      "Epoch 10/100\n",
      "8000/8000 [==============================] - 3s 347us/step - loss: 0.4095 - acc: 0.8335\n",
      "Epoch 11/100\n",
      "8000/8000 [==============================] - 3s 354us/step - loss: 0.4097 - acc: 0.8326\n",
      "Epoch 12/100\n",
      "8000/8000 [==============================] - 3s 385us/step - loss: 0.4084 - acc: 0.8342\n",
      "Epoch 13/100\n",
      "8000/8000 [==============================] - 3s 346us/step - loss: 0.4084 - acc: 0.8342\n",
      "Epoch 14/100\n",
      "8000/8000 [==============================] - 3s 336us/step - loss: 0.4080 - acc: 0.8327\n",
      "Epoch 15/100\n",
      "8000/8000 [==============================] - 4s 444us/step - loss: 0.4066 - acc: 0.8340\n",
      "Epoch 16/100\n",
      "8000/8000 [==============================] - 3s 372us/step - loss: 0.4067 - acc: 0.8346\n",
      "Epoch 17/100\n",
      "8000/8000 [==============================] - 4s 464us/step - loss: 0.4063 - acc: 0.8344\n",
      "Epoch 18/100\n",
      "8000/8000 [==============================] - 4s 501us/step - loss: 0.4054 - acc: 0.8336\n",
      "Epoch 19/100\n",
      "8000/8000 [==============================] - 5s 576us/step - loss: 0.4055 - acc: 0.8365\n",
      "Epoch 20/100\n",
      "8000/8000 [==============================] - 5s 591us/step - loss: 0.4055 - acc: 0.8340\n",
      "Epoch 21/100\n",
      "8000/8000 [==============================] - 4s 560us/step - loss: 0.4048 - acc: 0.8349\n",
      "Epoch 22/100\n",
      "8000/8000 [==============================] - 5s 596us/step - loss: 0.4048 - acc: 0.8350\n",
      "Epoch 23/100\n",
      "8000/8000 [==============================] - 3s 380us/step - loss: 0.4041 - acc: 0.8346\n",
      "Epoch 24/100\n",
      "8000/8000 [==============================] - 3s 399us/step - loss: 0.4042 - acc: 0.8349\n",
      "Epoch 25/100\n",
      "8000/8000 [==============================] - 3s 340us/step - loss: 0.4033 - acc: 0.8340\n",
      "Epoch 26/100\n",
      "8000/8000 [==============================] - 3s 378us/step - loss: 0.4033 - acc: 0.8357\n",
      "Epoch 27/100\n",
      "8000/8000 [==============================] - 3s 356us/step - loss: 0.4030 - acc: 0.8341\n",
      "Epoch 28/100\n",
      "8000/8000 [==============================] - 3s 322us/step - loss: 0.4032 - acc: 0.8357\n",
      "Epoch 29/100\n",
      "8000/8000 [==============================] - 3s 335us/step - loss: 0.4029 - acc: 0.8347\n",
      "Epoch 30/100\n",
      "8000/8000 [==============================] - 3s 347us/step - loss: 0.4025 - acc: 0.8359\n",
      "Epoch 31/100\n",
      "8000/8000 [==============================] - 3s 327us/step - loss: 0.4026 - acc: 0.8342\n",
      "Epoch 32/100\n",
      "8000/8000 [==============================] - 2s 301us/step - loss: 0.4029 - acc: 0.8347\n",
      "Epoch 33/100\n",
      "8000/8000 [==============================] - 2s 306us/step - loss: 0.4024 - acc: 0.8340\n",
      "Epoch 34/100\n",
      "8000/8000 [==============================] - 3s 322us/step - loss: 0.4023 - acc: 0.8354\n",
      "Epoch 35/100\n",
      "8000/8000 [==============================] - 2s 308us/step - loss: 0.4027 - acc: 0.8370\n",
      "Epoch 36/100\n",
      "8000/8000 [==============================] - 2s 301us/step - loss: 0.4021 - acc: 0.8337\n",
      "Epoch 37/100\n",
      "8000/8000 [==============================] - 3s 316us/step - loss: 0.4014 - acc: 0.8357 0s - loss: 0.\n",
      "Epoch 38/100\n",
      "8000/8000 [==============================] - 2s 312us/step - loss: 0.4020 - acc: 0.8352\n",
      "Epoch 39/100\n",
      "8000/8000 [==============================] - 3s 385us/step - loss: 0.4017 - acc: 0.8331\n",
      "Epoch 40/100\n",
      "8000/8000 [==============================] - 3s 361us/step - loss: 0.4020 - acc: 0.8349\n",
      "Epoch 41/100\n",
      "8000/8000 [==============================] - 3s 384us/step - loss: 0.4017 - acc: 0.8355\n",
      "Epoch 42/100\n",
      "8000/8000 [==============================] - 5s 579us/step - loss: 0.4021 - acc: 0.8336\n",
      "Epoch 43/100\n",
      "8000/8000 [==============================] - 3s 338us/step - loss: 0.4016 - acc: 0.8359\n",
      "Epoch 44/100\n",
      "8000/8000 [==============================] - 3s 374us/step - loss: 0.4019 - acc: 0.8360\n",
      "Epoch 45/100\n",
      "8000/8000 [==============================] - 3s 372us/step - loss: 0.4012 - acc: 0.8356\n",
      "Epoch 46/100\n",
      "8000/8000 [==============================] - 3s 349us/step - loss: 0.4014 - acc: 0.8349\n",
      "Epoch 47/100\n",
      "8000/8000 [==============================] - 3s 379us/step - loss: 0.4013 - acc: 0.8359\n",
      "Epoch 48/100\n",
      "8000/8000 [==============================] - 3s 423us/step - loss: 0.4017 - acc: 0.8356\n",
      "Epoch 49/100\n",
      "8000/8000 [==============================] - 3s 348us/step - loss: 0.4014 - acc: 0.8346\n",
      "Epoch 50/100\n",
      "8000/8000 [==============================] - 3s 409us/step - loss: 0.4010 - acc: 0.8366\n",
      "Epoch 51/100\n",
      "8000/8000 [==============================] - 3s 362us/step - loss: 0.4011 - acc: 0.8351\n",
      "Epoch 52/100\n",
      "8000/8000 [==============================] - 4s 462us/step - loss: 0.4014 - acc: 0.8349\n",
      "Epoch 53/100\n",
      "8000/8000 [==============================] - 4s 554us/step - loss: 0.4013 - acc: 0.8350\n",
      "Epoch 54/100\n",
      "8000/8000 [==============================] - 3s 342us/step - loss: 0.4010 - acc: 0.8355\n",
      "Epoch 55/100\n",
      "8000/8000 [==============================] - 2s 312us/step - loss: 0.4011 - acc: 0.8356\n",
      "Epoch 56/100\n",
      "8000/8000 [==============================] - 2s 281us/step - loss: 0.4006 - acc: 0.8362\n",
      "Epoch 57/100\n",
      "8000/8000 [==============================] - 2s 309us/step - loss: 0.4010 - acc: 0.8350\n",
      "Epoch 58/100\n",
      "8000/8000 [==============================] - 3s 314us/step - loss: 0.4010 - acc: 0.8357\n",
      "Epoch 59/100\n",
      "8000/8000 [==============================] - 2s 286us/step - loss: 0.4005 - acc: 0.8359\n",
      "Epoch 60/100\n",
      "8000/8000 [==============================] - 2s 300us/step - loss: 0.4008 - acc: 0.8349\n",
      "Epoch 61/100\n",
      "8000/8000 [==============================] - 2s 297us/step - loss: 0.4008 - acc: 0.8359\n",
      "Epoch 62/100\n",
      "8000/8000 [==============================] - 3s 421us/step - loss: 0.4004 - acc: 0.8361\n",
      "Epoch 63/100\n",
      "8000/8000 [==============================] - 4s 495us/step - loss: 0.4011 - acc: 0.8344\n",
      "Epoch 64/100\n",
      "8000/8000 [==============================] - 5s 565us/step - loss: 0.4005 - acc: 0.8359\n",
      "Epoch 65/100\n",
      "8000/8000 [==============================] - 4s 562us/step - loss: 0.4001 - acc: 0.8359\n",
      "Epoch 66/100\n",
      "8000/8000 [==============================] - 4s 498us/step - loss: 0.4005 - acc: 0.8332\n",
      "Epoch 67/100\n",
      "8000/8000 [==============================] - 5s 633us/step - loss: 0.4007 - acc: 0.8359\n",
      "Epoch 68/100\n",
      "8000/8000 [==============================] - 5s 605us/step - loss: 0.4005 - acc: 0.8359\n",
      "Epoch 69/100\n",
      "8000/8000 [==============================] - 6s 748us/step - loss: 0.4010 - acc: 0.8352\n",
      "Epoch 70/100\n",
      "8000/8000 [==============================] - 5s 567us/step - loss: 0.4000 - acc: 0.8360\n",
      "Epoch 71/100\n",
      "8000/8000 [==============================] - 5s 570us/step - loss: 0.4005 - acc: 0.8345\n",
      "Epoch 72/100\n",
      "8000/8000 [==============================] - 7s 825us/step - loss: 0.4007 - acc: 0.8354\n",
      "Epoch 73/100\n",
      "8000/8000 [==============================] - 5s 600us/step - loss: 0.4002 - acc: 0.8351\n",
      "Epoch 74/100\n",
      "8000/8000 [==============================] - 5s 611us/step - loss: 0.4008 - acc: 0.8345\n",
      "Epoch 75/100\n",
      "8000/8000 [==============================] - 6s 743us/step - loss: 0.4001 - acc: 0.8334\n",
      "Epoch 76/100\n",
      "8000/8000 [==============================] - 4s 470us/step - loss: 0.4000 - acc: 0.8350\n",
      "Epoch 77/100\n",
      "8000/8000 [==============================] - 4s 539us/step - loss: 0.4005 - acc: 0.8342\n",
      "Epoch 78/100\n",
      "8000/8000 [==============================] - 5s 587us/step - loss: 0.4004 - acc: 0.8345\n",
      "Epoch 79/100\n",
      "8000/8000 [==============================] - 5s 599us/step - loss: 0.4003 - acc: 0.8357\n",
      "Epoch 80/100\n",
      "8000/8000 [==============================] - 5s 618us/step - loss: 0.4005 - acc: 0.8357\n",
      "Epoch 81/100\n",
      "8000/8000 [==============================] - 5s 604us/step - loss: 0.4004 - acc: 0.8334\n",
      "Epoch 82/100\n",
      "8000/8000 [==============================] - 4s 524us/step - loss: 0.4007 - acc: 0.8329\n",
      "Epoch 83/100\n",
      "8000/8000 [==============================] - 5s 639us/step - loss: 0.4000 - acc: 0.8369\n",
      "Epoch 84/100\n",
      "8000/8000 [==============================] - 4s 461us/step - loss: 0.4004 - acc: 0.8335\n",
      "Epoch 85/100\n",
      "8000/8000 [==============================] - 4s 449us/step - loss: 0.4002 - acc: 0.8357\n",
      "Epoch 86/100\n",
      "8000/8000 [==============================] - 4s 541us/step - loss: 0.3999 - acc: 0.8340\n",
      "Epoch 87/100\n",
      "8000/8000 [==============================] - 3s 401us/step - loss: 0.4005 - acc: 0.8331\n",
      "Epoch 88/100\n",
      "8000/8000 [==============================] - 3s 378us/step - loss: 0.3998 - acc: 0.8360\n",
      "Epoch 89/100\n",
      "8000/8000 [==============================] - 3s 411us/step - loss: 0.4003 - acc: 0.8337\n",
      "Epoch 90/100\n",
      "8000/8000 [==============================] - 4s 553us/step - loss: 0.4003 - acc: 0.8339\n",
      "Epoch 91/100\n",
      "8000/8000 [==============================] - 4s 524us/step - loss: 0.4001 - acc: 0.8362\n",
      "Epoch 92/100\n",
      "8000/8000 [==============================] - 5s 584us/step - loss: 0.4005 - acc: 0.8354\n",
      "Epoch 93/100\n",
      "8000/8000 [==============================] - 5s 591us/step - loss: 0.3999 - acc: 0.8361\n",
      "Epoch 94/100\n",
      "8000/8000 [==============================] - 4s 525us/step - loss: 0.4005 - acc: 0.8345\n",
      "Epoch 95/100\n",
      "8000/8000 [==============================] - 5s 599us/step - loss: 0.4002 - acc: 0.8357\n",
      "Epoch 96/100\n",
      "8000/8000 [==============================] - 5s 663us/step - loss: 0.4002 - acc: 0.8352\n",
      "Epoch 97/100\n",
      "8000/8000 [==============================] - 4s 511us/step - loss: 0.4003 - acc: 0.8357\n",
      "Epoch 98/100\n",
      "8000/8000 [==============================] - 4s 561us/step - loss: 0.4006 - acc: 0.8346\n",
      "Epoch 99/100\n",
      "8000/8000 [==============================] - 5s 599us/step - loss: 0.4001 - acc: 0.8360\n",
      "Epoch 100/100\n",
      "8000/8000 [==============================] - 6s 702us/step - loss: 0.4003 - acc: 0.8359\n"
     ]
    },
    {
     "data": {
      "text/plain": [
       "'\\nEpoch 1/100\\n8000/8000 [==============================] - 6s 782us/step - loss: 0.4832 - acc: 0.7957\\nEpoch 2/100\\n8000/8000 [==============================] - 4s 444us/step - loss: 0.4291 - acc: 0.7960\\nEpoch 3/100\\n8000/8000 [==============================] - 4s 519us/step - loss: 0.4209 - acc: 0.8131\\n...\\nEpoch 97/100\\n8000/8000 [==============================] - 4s 457us/step - loss: 0.3418 - acc: 0.8610 2s - loss: 0.343 - ETA:\\nEpoch 98/100\\n8000/8000 [==============================] - 3s 415us/step - loss: 0.3415 - acc: 0.8617\\nEpoch 99/100\\n8000/8000 [==============================] - 3s 405us/step - loss: 0.3408 - acc: 0.8602\\nEpoch 100/100\\n8000/8000 [==============================] - 3s 425us/step - loss: 0.3418 - acc: 0.8614\\n'"
      ]
     },
     "execution_count": 24,
     "metadata": {},
     "output_type": "execute_result"
    }
   ],
   "source": [
    "classifier.fit(X_train, y_train, batch_size=10, nb_epoch=100)\n",
    "\n",
    "'''\n",
    "Epoch 1/100\n",
    "8000/8000 [==============================] - 6s 782us/step - loss: 0.4832 - acc: 0.7957\n",
    "Epoch 2/100\n",
    "8000/8000 [==============================] - 4s 444us/step - loss: 0.4291 - acc: 0.7960\n",
    "Epoch 3/100\n",
    "8000/8000 [==============================] - 4s 519us/step - loss: 0.4209 - acc: 0.8131\n",
    "...\n",
    "Epoch 97/100\n",
    "8000/8000 [==============================] - 4s 457us/step - loss: 0.3418 - acc: 0.8610 2s - loss: 0.343 - ETA:\n",
    "Epoch 98/100\n",
    "8000/8000 [==============================] - 3s 415us/step - loss: 0.3415 - acc: 0.8617\n",
    "Epoch 99/100\n",
    "8000/8000 [==============================] - 3s 405us/step - loss: 0.3408 - acc: 0.8602\n",
    "Epoch 100/100\n",
    "8000/8000 [==============================] - 3s 425us/step - loss: 0.3418 - acc: 0.8614\n",
    "'''"
   ]
  },
  {
   "cell_type": "markdown",
   "metadata": {},
   "source": [
    "#### PREDICT"
   ]
  },
  {
   "cell_type": "code",
   "execution_count": 25,
   "metadata": {},
   "outputs": [],
   "source": [
    "prediction = classifier.predict(X_test)"
   ]
  },
  {
   "cell_type": "code",
   "execution_count": 26,
   "metadata": {},
   "outputs": [
    {
     "data": {
      "text/plain": [
       "array([[0.1815121 ],\n",
       "       [0.35437876],\n",
       "       [0.16259202],\n",
       "       ...,\n",
       "       [0.1753319 ],\n",
       "       [0.17068844],\n",
       "       [0.11269962]], dtype=float32)"
      ]
     },
     "execution_count": 26,
     "metadata": {},
     "output_type": "execute_result"
    }
   ],
   "source": [
    "prediction"
   ]
  },
  {
   "cell_type": "code",
   "execution_count": 27,
   "metadata": {},
   "outputs": [
    {
     "data": {
      "text/plain": [
       "[<matplotlib.lines.Line2D at 0x1a38989748>]"
      ]
     },
     "execution_count": 27,
     "metadata": {},
     "output_type": "execute_result"
    },
    {
     "data": {
      "image/png": "[encoded data removed]",
      "text/plain": [
       "<Figure size 432x288 with 1 Axes>"
      ]
     },
     "metadata": {
      "needs_background": "light"
     },
     "output_type": "display_data"
    }
   ],
   "source": [
    "plt.plot(np.sort(prediction))"
   ]
  },
  {
   "cell_type": "markdown",
   "metadata": {},
   "source": [
    "##### Convert prediction probability values to boolean"
   ]
  },
  {
   "cell_type": "code",
   "execution_count": 28,
   "metadata": {},
   "outputs": [],
   "source": [
    "prediction = prediction > 0.5  # values greater than 0.5  is set to True, else, False"
   ]
  },
  {
   "cell_type": "code",
   "execution_count": 29,
   "metadata": {},
   "outputs": [
    {
     "data": {
      "text/plain": [
       "array([[False],\n",
       "       [False],\n",
       "       [False],\n",
       "       [False],\n",
       "       [False]])"
      ]
     },
     "execution_count": 29,
     "metadata": {},
     "output_type": "execute_result"
    }
   ],
   "source": [
    "prediction[:5]"
   ]
  },
  {
   "cell_type": "code",
   "execution_count": 30,
   "metadata": {},
   "outputs": [
    {
     "data": {
      "text/plain": [
       "9394    0\n",
       "898     1\n",
       "2398    0\n",
       "5906    0\n",
       "2343    0\n",
       "Name: Exited, dtype: int64"
      ]
     },
     "execution_count": 30,
     "metadata": {},
     "output_type": "execute_result"
    }
   ],
   "source": [
    "y_test.head()"
   ]
  },
  {
   "cell_type": "markdown",
   "metadata": {},
   "source": [
    "#### EVALUATE"
   ]
  },
  {
   "cell_type": "code",
   "execution_count": 34,
   "metadata": {},
   "outputs": [],
   "source": [
    "from sklearn.metrics import confusion_matrix, accuracy_score"
   ]
  },
  {
   "cell_type": "code",
   "execution_count": 35,
   "metadata": {},
   "outputs": [
    {
     "data": {
      "text/plain": [
       "array([[1545,   50],\n",
       "       [ 275,  130]])"
      ]
     },
     "execution_count": 35,
     "metadata": {},
     "output_type": "execute_result"
    }
   ],
   "source": [
    "cm = confusion_matrix(y_test, prediction)\n",
    "cm"
   ]
  },
  {
   "cell_type": "code",
   "execution_count": 36,
   "metadata": {},
   "outputs": [
    {
     "data": {
      "text/plain": [
       "0.8375"
      ]
     },
     "execution_count": 36,
     "metadata": {},
     "output_type": "execute_result"
    }
   ],
   "source": [
    "ascore = accuracy_score(y_test, prediction)\n",
    "ascore"
   ]
  },
  {
   "cell_type": "code",
   "execution_count": 37,
   "metadata": {},
   "outputs": [
    {
     "data": {
      "text/plain": [
       "9394    False\n",
       "898      True\n",
       "2398    False\n",
       "5906    False\n",
       "2343    False\n",
       "Name: Exited, dtype: bool"
      ]
     },
     "execution_count": 37,
     "metadata": {},
     "output_type": "execute_result"
    }
   ],
   "source": [
    "# convert y_test values to boolean\n",
    "y_test2 = y_test > 0\n",
    "y_test2[:5]"
   ]
  },
  {
   "cell_type": "code",
   "execution_count": 38,
   "metadata": {},
   "outputs": [
    {
     "data": {
      "text/plain": [
       "array([[1545,   50],\n",
       "       [ 275,  130]])"
      ]
     },
     "execution_count": 38,
     "metadata": {},
     "output_type": "execute_result"
    }
   ],
   "source": [
    "cm2 = confusion_matrix(y_test2, prediction)\n",
    "cm2"
   ]
  },
  {
   "cell_type": "code",
   "execution_count": 39,
   "metadata": {},
   "outputs": [
    {
     "data": {
      "text/plain": [
       "0.8375"
      ]
     },
     "execution_count": 39,
     "metadata": {},
     "output_type": "execute_result"
    }
   ],
   "source": [
    "ascore2 = accuracy_score(y_test2, prediction)\n",
    "ascore2"
   ]
  },
  {
   "cell_type": "code",
   "execution_count": 48,
   "metadata": {},
   "outputs": [
    {
     "data": {
      "text/html": [
       "<div>\n",
       "<style scoped>\n",
       "    .dataframe tbody tr th:only-of-type {\n",
       "        vertical-align: middle;\n",
       "    }\n",
       "\n",
       "    .dataframe tbody tr th {\n",
       "        vertical-align: top;\n",
       "    }\n",
       "\n",
       "    .dataframe thead th {\n",
       "        text-align: right;\n",
       "    }\n",
       "</style>\n",
       "<table border=\"1\" class=\"dataframe\">\n",
       "  <thead>\n",
       "    <tr style=\"text-align: right;\">\n",
       "      <th></th>\n",
       "      <th>CreditScore</th>\n",
       "      <th>Age</th>\n",
       "      <th>Tenure</th>\n",
       "      <th>Balance</th>\n",
       "      <th>NumOfProducts</th>\n",
       "      <th>HasCrCard</th>\n",
       "      <th>IsActiveMember</th>\n",
       "      <th>EstimatedSalary</th>\n",
       "      <th>Geography_France</th>\n",
       "      <th>Geography_Germany</th>\n",
       "      <th>Geography_Spain</th>\n",
       "      <th>Gender_Female</th>\n",
       "      <th>Gender_Male</th>\n",
       "    </tr>\n",
       "  </thead>\n",
       "  <tbody>\n",
       "    <tr>\n",
       "      <th>0</th>\n",
       "      <td>619</td>\n",
       "      <td>42</td>\n",
       "      <td>2</td>\n",
       "      <td>0.00</td>\n",
       "      <td>1</td>\n",
       "      <td>1</td>\n",
       "      <td>1</td>\n",
       "      <td>101348.88</td>\n",
       "      <td>1</td>\n",
       "      <td>0</td>\n",
       "      <td>0</td>\n",
       "      <td>1</td>\n",
       "      <td>0</td>\n",
       "    </tr>\n",
       "    <tr>\n",
       "      <th>1</th>\n",
       "      <td>608</td>\n",
       "      <td>41</td>\n",
       "      <td>1</td>\n",
       "      <td>83807.86</td>\n",
       "      <td>1</td>\n",
       "      <td>0</td>\n",
       "      <td>1</td>\n",
       "      <td>112542.58</td>\n",
       "      <td>0</td>\n",
       "      <td>0</td>\n",
       "      <td>1</td>\n",
       "      <td>1</td>\n",
       "      <td>0</td>\n",
       "    </tr>\n",
       "    <tr>\n",
       "      <th>2</th>\n",
       "      <td>502</td>\n",
       "      <td>42</td>\n",
       "      <td>8</td>\n",
       "      <td>159660.80</td>\n",
       "      <td>3</td>\n",
       "      <td>1</td>\n",
       "      <td>0</td>\n",
       "      <td>113931.57</td>\n",
       "      <td>1</td>\n",
       "      <td>0</td>\n",
       "      <td>0</td>\n",
       "      <td>1</td>\n",
       "      <td>0</td>\n",
       "    </tr>\n",
       "    <tr>\n",
       "      <th>3</th>\n",
       "      <td>699</td>\n",
       "      <td>39</td>\n",
       "      <td>1</td>\n",
       "      <td>0.00</td>\n",
       "      <td>2</td>\n",
       "      <td>0</td>\n",
       "      <td>0</td>\n",
       "      <td>93826.63</td>\n",
       "      <td>1</td>\n",
       "      <td>0</td>\n",
       "      <td>0</td>\n",
       "      <td>1</td>\n",
       "      <td>0</td>\n",
       "    </tr>\n",
       "    <tr>\n",
       "      <th>4</th>\n",
       "      <td>850</td>\n",
       "      <td>43</td>\n",
       "      <td>2</td>\n",
       "      <td>125510.82</td>\n",
       "      <td>1</td>\n",
       "      <td>1</td>\n",
       "      <td>1</td>\n",
       "      <td>79084.10</td>\n",
       "      <td>0</td>\n",
       "      <td>0</td>\n",
       "      <td>1</td>\n",
       "      <td>1</td>\n",
       "      <td>0</td>\n",
       "    </tr>\n",
       "  </tbody>\n",
       "</table>\n",
       "</div>"
      ],
      "text/plain": [
       "   CreditScore  Age  Tenure    Balance  NumOfProducts  HasCrCard  \\\n",
       "0          619   42       2       0.00              1          1   \n",
       "1          608   41       1   83807.86              1          0   \n",
       "2          502   42       8  159660.80              3          1   \n",
       "3          699   39       1       0.00              2          0   \n",
       "4          850   43       2  125510.82              1          1   \n",
       "\n",
       "   IsActiveMember  EstimatedSalary  Geography_France  Geography_Germany  \\\n",
       "0               1        101348.88                 1                  0   \n",
       "1               1        112542.58                 0                  0   \n",
       "2               0        113931.57                 1                  0   \n",
       "3               0         93826.63                 1                  0   \n",
       "4               1         79084.10                 0                  0   \n",
       "\n",
       "   Geography_Spain  Gender_Female  Gender_Male  \n",
       "0                0              1            0  \n",
       "1                1              1            0  \n",
       "2                0              1            0  \n",
       "3                0              1            0  \n",
       "4                1              1            0  "
      ]
     },
     "execution_count": 48,
     "metadata": {},
     "output_type": "execute_result"
    }
   ],
   "source": [
    "X.head()"
   ]
  },
  {
   "cell_type": "code",
   "execution_count": 50,
   "metadata": {},
   "outputs": [
    {
     "data": {
      "text/plain": [
       "array([[ 0.16958176, -0.46460796,  0.00666099, -1.21571749,  0.8095029 ,\n",
       "         0.64259497, -1.03227043,  1.10643166, -1.01460667, -0.5698444 ,\n",
       "         1.74309049,  1.09168714, -1.09168714]])"
      ]
     },
     "execution_count": 50,
     "metadata": {},
     "output_type": "execute_result"
    }
   ],
   "source": [
    "X_train[0:1]"
   ]
  },
  {
   "cell_type": "code",
   "execution_count": 51,
   "metadata": {},
   "outputs": [],
   "source": [
    "#single_observation_array = np.array([[0, 0, 600, 1, 40, 3, 60000, 2, 1, 1, 50000]])   #create 2 dimensional array\n",
    "single_observation_array = np.array([[700, 40, 3, 60000.00, 2, 1, 1, 50000, 1,0,0, 1,0]])   #create 2 dimensional array"
   ]
  },
  {
   "cell_type": "code",
   "execution_count": 52,
   "metadata": {},
   "outputs": [
    {
     "data": {
      "text/plain": [
       "array([[0., 0., 0., 0., 0., 0., 0., 0., 0., 0., 0., 0., 0.]])"
      ]
     },
     "execution_count": 52,
     "metadata": {},
     "output_type": "execute_result"
    }
   ],
   "source": [
    "single_observation_array_scaled = standardScaler.fit_transform(single_observation_array)\n",
    "single_observation_array_scaled"
   ]
  },
  {
   "cell_type": "code",
   "execution_count": 53,
   "metadata": {},
   "outputs": [],
   "source": [
    "single_prediction = classifier.predict(single_observation_array_scaled)"
   ]
  },
  {
   "cell_type": "code",
   "execution_count": 54,
   "metadata": {},
   "outputs": [
    {
     "data": {
      "text/plain": [
       "array([[0.3511116]], dtype=float32)"
      ]
     },
     "execution_count": 54,
     "metadata": {},
     "output_type": "execute_result"
    }
   ],
   "source": [
    "single_prediction"
   ]
  },
  {
   "cell_type": "code",
   "execution_count": 55,
   "metadata": {},
   "outputs": [
    {
     "data": {
      "text/plain": [
       "array([[False]])"
      ]
     },
     "execution_count": 55,
     "metadata": {},
     "output_type": "execute_result"
    }
   ],
   "source": [
    "single_prediction > 0.5"
   ]
  },
  {
   "cell_type": "markdown",
   "metadata": {},
   "source": [
    "### K-FOLD CROSS VALIDATION"
   ]
  },
  {
   "cell_type": "code",
   "execution_count": null,
   "metadata": {},
   "outputs": [],
   "source": [
    "#from sklearn.model_selection import StratifiedKFold"
   ]
  },
  {
   "cell_type": "code",
   "execution_count": 56,
   "metadata": {},
   "outputs": [],
   "source": [
    "from keras.wrappers.scikit_learn import KerasClassifier\n",
    "from sklearn.model_selection import cross_val_score"
   ]
  },
  {
   "cell_type": "code",
   "execution_count": 57,
   "metadata": {},
   "outputs": [],
   "source": [
    "def build_classifier():\n",
    "    tempClassifier = Sequential()\n",
    "    tempClassifier.add(Dense(output_dim=7, init='uniform', activation='relu', input_dim=13))   # 13+1/2 = 7 layers\n",
    "    tempClassifier.add(Dense(output_dim=7, init='uniform', activation='relu')) \n",
    "    tempClassifier.add(Dense(output_dim=1, init='uniform', activation='sigmoid')) # use submax for mulitple label classes\n",
    "    tempClassifier.compile(optimizer='adam', loss='binary_crossentropy', metrics=['accuracy'])\n",
    "    return tempClassifier"
   ]
  },
  {
   "cell_type": "code",
   "execution_count": 58,
   "metadata": {},
   "outputs": [],
   "source": [
    "classifier = KerasClassifier(build_fn=build_classifier, batch_size=5, nb_epoch=100)"
   ]
  },
  {
   "cell_type": "code",
   "execution_count": 59,
   "metadata": {},
   "outputs": [],
   "source": [
    "#ERROR:\n",
    "#accuracies = cross_val_score(estimator=classifier, X=X_train, y=y_train, n_jobs=-1)\n",
    "#BrokenProcessPool: A task has failed to un-serialize. Please ensure that the arguments of the function are all picklable."
   ]
  },
  {
   "cell_type": "code",
   "execution_count": 60,
   "metadata": {},
   "outputs": [
    {
     "name": "stderr",
     "output_type": "stream",
     "text": [
      "/anaconda3/lib/python3.6/site-packages/sklearn/model_selection/_split.py:1943: FutureWarning: You should specify a value for 'cv' instead of relying on the default value. The default value will change from 3 to 5 in version 0.22.\n",
      "  warnings.warn(CV_WARNING, FutureWarning)\n",
      "/anaconda3/lib/python3.6/site-packages/ipykernel_launcher.py:3: UserWarning: Update your `Dense` call to the Keras 2 API: `Dense(activation=\"relu\", input_dim=13, units=7, kernel_initializer=\"uniform\")`\n",
      "  This is separate from the ipykernel package so we can avoid doing imports until\n",
      "/anaconda3/lib/python3.6/site-packages/ipykernel_launcher.py:4: UserWarning: Update your `Dense` call to the Keras 2 API: `Dense(activation=\"relu\", units=7, kernel_initializer=\"uniform\")`\n",
      "  after removing the cwd from sys.path.\n",
      "/anaconda3/lib/python3.6/site-packages/ipykernel_launcher.py:5: UserWarning: Update your `Dense` call to the Keras 2 API: `Dense(activation=\"sigmoid\", units=1, kernel_initializer=\"uniform\")`\n",
      "  \"\"\"\n"
     ]
    },
    {
     "name": "stdout",
     "output_type": "stream",
     "text": [
      "Epoch 1/1\n",
      "5333/5333 [==============================] - 10s 2ms/step - loss: 0.4783 - acc: 0.7984\n",
      "2667/2667 [==============================] - 1s 464us/step\n",
      "Epoch 1/1\n",
      "5333/5333 [==============================] - 8s 1ms/step - loss: 0.4726 - acc: 0.7934\n",
      "2667/2667 [==============================] - 1s 456us/step\n",
      "Epoch 1/1\n",
      "5334/5334 [==============================] - 8s 1ms/step - loss: 0.4700 - acc: 0.7964\n",
      "2666/2666 [==============================] - 1s 431us/step\n"
     ]
    }
   ],
   "source": [
    "accuracies = cross_val_score(estimator=classifier, X=X_train, y=y_train)\n",
    "'''Epoch 1/1\n",
    "5333/5333 [==============================] - 10s 2ms/step - loss: 0.4783 - acc: 0.7984\n",
    "2667/2667 [==============================] - 1s 464us/step\n",
    "Epoch 1/1\n",
    "5333/5333 [==============================] - 8s 1ms/step - loss: 0.4726 - acc: 0.7934\n",
    "2667/2667 [==============================] - 1s 456us/step\n",
    "Epoch 1/1\n",
    "5334/5334 [==============================] - 8s 1ms/step - loss: 0.4700 - acc: 0.7964\n",
    "2666/2666 [==============================] - 1s 431us/step\n",
    "'''"
   ]
  },
  {
   "cell_type": "code",
   "execution_count": 61,
   "metadata": {},
   "outputs": [
    {
     "data": {
      "text/plain": [
       "array([0.81214849, 0.8008999 , 0.79519881])"
      ]
     },
     "execution_count": 61,
     "metadata": {},
     "output_type": "execute_result"
    }
   ],
   "source": [
    "accuracies"
   ]
  },
  {
   "cell_type": "code",
   "execution_count": 62,
   "metadata": {},
   "outputs": [
    {
     "data": {
      "text/plain": [
       "0.802749066332165"
      ]
     },
     "execution_count": 62,
     "metadata": {},
     "output_type": "execute_result"
    }
   ],
   "source": [
    "accuracies.mean()"
   ]
  },
  {
   "cell_type": "code",
   "execution_count": 63,
   "metadata": {},
   "outputs": [
    {
     "data": {
      "text/plain": [
       "0.0070421346162269725"
      ]
     },
     "execution_count": 63,
     "metadata": {},
     "output_type": "execute_result"
    }
   ],
   "source": [
    "accuracies.std()  # our variance is small;  overfitting DID NOT happen"
   ]
  },
  {
   "cell_type": "markdown",
   "metadata": {},
   "source": [
    "### Dropout Regularization (is THE solutiorn for overfitting in deep learning)"
   ]
  },
  {
   "cell_type": "code",
   "execution_count": 64,
   "metadata": {},
   "outputs": [],
   "source": [
    "from keras.layers import Dropout"
   ]
  },
  {
   "cell_type": "raw",
   "metadata": {},
   "source": [
    "# NOTES\n",
    "# Overfitting happens when there is a large difference in accuracies of training set v/s test set\n",
    "\n",
    "# Overfitting happens in K-fold cross validation, if the variance is high (this is because of difference in values of accuracies (some low values and some large values))\n",
    "\n",
    "#With Dropout, some random neurons are disabled for each iteration"
   ]
  },
  {
   "cell_type": "code",
   "execution_count": 73,
   "metadata": {},
   "outputs": [],
   "source": [
    "from keras.wrappers.scikit_learn import KerasClassifier\n",
    "from sklearn.model_selection import cross_val_score\n",
    "def build_classifier1():\n",
    "    tempClassifier = Sequential()\n",
    "    tempClassifier.add(Dense(output_dim=7, init='uniform', activation='relu', input_dim=13))   # 13+1/2 = 7 layers\n",
    "    tempClassifier.add(Dropout(p=0.5))  #10% dropped\n",
    "    tempClassifier.add(Dense(output_dim=7, init='uniform', activation='relu')) \n",
    "    tempClassifier.add(Dropout(p=0.3))  #10% dropped\n",
    "    tempClassifier.add(Dense(output_dim=1, init='uniform', activation='sigmoid')) # use submax for mulitple label classes\n",
    "    tempClassifier.compile(optimizer='adam', loss='binary_crossentropy', metrics=['accuracy'])\n",
    "    return tempClassifier"
   ]
  },
  {
   "cell_type": "code",
   "execution_count": 74,
   "metadata": {},
   "outputs": [
    {
     "name": "stderr",
     "output_type": "stream",
     "text": [
      "/anaconda3/lib/python3.6/site-packages/ipykernel_launcher.py:3: UserWarning: Update your `Dense` call to the Keras 2 API: `Dense(activation=\"relu\", input_dim=13, units=7, kernel_initializer=\"uniform\")`\n",
      "  This is separate from the ipykernel package so we can avoid doing imports until\n",
      "/anaconda3/lib/python3.6/site-packages/ipykernel_launcher.py:4: UserWarning: Update your `Dense` call to the Keras 2 API: `Dense(activation=\"relu\", units=7, kernel_initializer=\"uniform\")`\n",
      "  after removing the cwd from sys.path.\n",
      "/anaconda3/lib/python3.6/site-packages/ipykernel_launcher.py:5: UserWarning: Update your `Dense` call to the Keras 2 API: `Dense(activation=\"sigmoid\", units=1, kernel_initializer=\"uniform\")`\n",
      "  \"\"\"\n"
     ]
    },
    {
     "name": "stdout",
     "output_type": "stream",
     "text": [
      "Epoch 1/1\n",
      "5333/5333 [==============================] - 10s 2ms/step - loss: 0.4872 - acc: 0.7971\n",
      "2667/2667 [==============================] - 2s 656us/step\n",
      "Epoch 1/1\n",
      "5333/5333 [==============================] - 12s 2ms/step - loss: 0.4784 - acc: 0.7930\n",
      "2667/2667 [==============================] - 2s 734us/step\n",
      "Epoch 1/1\n",
      "5334/5334 [==============================] - 9s 2ms/step - loss: 0.4674 - acc: 0.7962\n",
      "2666/2666 [==============================] - 2s 706us/step\n"
     ]
    }
   ],
   "source": [
    "classifier1 = KerasClassifier(build_fn=build_classifier1, batch_size=5, nb_epoch=100)\n",
    "accuracies1 = cross_val_score(estimator=classifier, X=X_train, y=y_train)"
   ]
  },
  {
   "cell_type": "code",
   "execution_count": 68,
   "metadata": {},
   "outputs": [
    {
     "data": {
      "text/plain": [
       "array([0.79190102, 0.8008999 , 0.79519881])"
      ]
     },
     "execution_count": 68,
     "metadata": {},
     "output_type": "execute_result"
    }
   ],
   "source": [
    "accuracies1"
   ]
  },
  {
   "cell_type": "code",
   "execution_count": null,
   "metadata": {},
   "outputs": [],
   "source": [
    "accuracies1.std()"
   ]
  },
  {
   "cell_type": "markdown",
   "metadata": {},
   "source": [
    "### PARAMETER TUNING (GRID SEARCH)"
   ]
  },
  {
   "cell_type": "code",
   "execution_count": 79,
   "metadata": {},
   "outputs": [],
   "source": [
    "from keras.wrappers.scikit_learn import KerasClassifier\n",
    "from sklearn.model_selection import GridSearchCV\n",
    "def build_classifier_for_grid_search(p, optimizer):\n",
    "    tempClassifier = Sequential()\n",
    "    tempClassifier.add(Dense(output_dim=7, init='uniform', activation='relu', input_dim=13))   # 13+1/2 = 7 layers\n",
    "    tempClassifier.add(Dropout(p=p))  #10% dropped\n",
    "    tempClassifier.add(Dense(output_dim=7, init='uniform', activation='relu')) \n",
    "    tempClassifier.add(Dropout(p=p))  #10% dropped\n",
    "    tempClassifier.add(Dense(output_dim=1, init='uniform', activation='sigmoid')) # use submax for mulitple label classes\n",
    "    tempClassifier.compile(optimizer=optimizer, loss='binary_crossentropy', metrics=['accuracy'])\n",
    "    return tempClassifier"
   ]
  },
  {
   "cell_type": "code",
   "execution_count": 80,
   "metadata": {},
   "outputs": [],
   "source": [
    "gridSearchClassifier = KerasClassifier(build_fn=build_classifier_for_grid_search)"
   ]
  },
  {
   "cell_type": "code",
   "execution_count": 82,
   "metadata": {},
   "outputs": [],
   "source": [
    "parameters = { 'batch_size': [25, 32],\n",
    "                'nb_epoch': [100, 200],\n",
    "                'optimizer':['adam', 'rmsprop'],\n",
    "                'p': [0.1, 0.2]}"
   ]
  },
  {
   "cell_type": "code",
   "execution_count": 83,
   "metadata": {},
   "outputs": [],
   "source": [
    "gridSearch = GridSearchCV(estimator=gridSearchClassifier, param_grid=parameters, scoring='accuracy', cv=10)"
   ]
  },
  {
   "cell_type": "code",
   "execution_count": 84,
   "metadata": {},
   "outputs": [
    {
     "name": "stderr",
     "output_type": "stream",
     "text": [
      "/anaconda3/lib/python3.6/site-packages/ipykernel_launcher.py:5: UserWarning: Update your `Dense` call to the Keras 2 API: `Dense(activation=\"relu\", input_dim=13, units=7, kernel_initializer=\"uniform\")`\n",
      "  \"\"\"\n",
      "/anaconda3/lib/python3.6/site-packages/ipykernel_launcher.py:6: UserWarning: Update your `Dropout` call to the Keras 2 API: `Dropout(rate=0.1)`\n",
      "  \n",
      "/anaconda3/lib/python3.6/site-packages/ipykernel_launcher.py:7: UserWarning: Update your `Dense` call to the Keras 2 API: `Dense(activation=\"relu\", units=7, kernel_initializer=\"uniform\")`\n",
      "  import sys\n",
      "/anaconda3/lib/python3.6/site-packages/ipykernel_launcher.py:8: UserWarning: Update your `Dropout` call to the Keras 2 API: `Dropout(rate=0.1)`\n",
      "  \n",
      "/anaconda3/lib/python3.6/site-packages/ipykernel_launcher.py:9: UserWarning: Update your `Dense` call to the Keras 2 API: `Dense(activation=\"sigmoid\", units=1, kernel_initializer=\"uniform\")`\n",
      "  if __name__ == '__main__':\n"
     ]
    },
    {
     "name": "stdout",
     "output_type": "stream",
     "text": [
      "Epoch 1/1\n",
      "7200/7200 [==============================] - 6s 871us/step - loss: 0.5418 - acc: 0.7960\n",
      "Epoch 1/1\n",
      "7200/7200 [==============================] - 6s 785us/step - loss: 0.5576 - acc: 0.7950\n",
      "Epoch 1/1\n",
      "7200/7200 [==============================] - 6s 867us/step - loss: 0.5650 - acc: 0.7933\n",
      "Epoch 1/1\n",
      "7200/7200 [==============================] - 5s 662us/step - loss: 0.5507 - acc: 0.7967\n",
      "Epoch 1/1\n",
      "7200/7200 [==============================] - 6s 814us/step - loss: 0.5469 - acc: 0.7925\n",
      "Epoch 1/1\n",
      "7200/7200 [==============================] - 5s 741us/step - loss: 0.5499 - acc: 0.7937\n",
      "Epoch 1/1\n",
      "7200/7200 [==============================] - 5s 754us/step - loss: 0.5425 - acc: 0.7968\n",
      "Epoch 1/1\n",
      "7200/7200 [==============================] - 5s 725us/step - loss: 0.5587 - acc: 0.7954\n",
      "Epoch 1/1\n",
      "7200/7200 [==============================] - 5s 761us/step - loss: 0.5690 - acc: 0.7943\n",
      "Epoch 1/1\n",
      "7200/7200 [==============================] - 8s 1ms/step - loss: 0.5517 - acc: 0.7946\n"
     ]
    },
    {
     "name": "stderr",
     "output_type": "stream",
     "text": [
      "/anaconda3/lib/python3.6/site-packages/ipykernel_launcher.py:6: UserWarning: Update your `Dropout` call to the Keras 2 API: `Dropout(rate=0.2)`\n",
      "  \n",
      "/anaconda3/lib/python3.6/site-packages/ipykernel_launcher.py:8: UserWarning: Update your `Dropout` call to the Keras 2 API: `Dropout(rate=0.2)`\n",
      "  \n"
     ]
    },
    {
     "name": "stdout",
     "output_type": "stream",
     "text": [
      "Epoch 1/1\n",
      "7200/7200 [==============================] - 7s 1ms/step - loss: 0.5624 - acc: 0.7962\n",
      "Epoch 1/1\n",
      "7200/7200 [==============================] - 7s 929us/step - loss: 0.5833 - acc: 0.7950\n",
      "Epoch 1/1\n",
      "7200/7200 [==============================] - 7s 915us/step - loss: 0.5815 - acc: 0.7940\n",
      "Epoch 1/1\n",
      "7200/7200 [==============================] - 8s 1ms/step - loss: 0.5557 - acc: 0.7968\n",
      "Epoch 1/1\n",
      "7200/7200 [==============================] - 7s 1ms/step - loss: 0.5527 - acc: 0.7926\n",
      "Epoch 1/1\n",
      "7200/7200 [==============================] - 7s 1ms/step - loss: 0.5765 - acc: 0.7929\n",
      "Epoch 1/1\n",
      "7200/7200 [==============================] - 9s 1ms/step - loss: 0.5601 - acc: 0.7958\n",
      "Epoch 1/1\n",
      "7200/7200 [==============================] - 9s 1ms/step - loss: 0.5346 - acc: 0.7963\n",
      "Epoch 1/1\n",
      "7200/7200 [==============================] - 8s 1ms/step - loss: 0.5582 - acc: 0.7947\n",
      "Epoch 1/1\n",
      "7200/7200 [==============================] - 7s 961us/step - loss: 0.5615 - acc: 0.7947\n",
      "Epoch 1/1\n",
      "7200/7200 [==============================] - 7s 943us/step - loss: 0.5666 - acc: 0.7960\n",
      "Epoch 1/1\n",
      "7200/7200 [==============================] - 7s 980us/step - loss: 0.5556 - acc: 0.7949\n",
      "Epoch 1/1\n",
      "7200/7200 [==============================] - 8s 1ms/step - loss: 0.5764 - acc: 0.7939\n",
      "Epoch 1/1\n",
      "7200/7200 [==============================] - 7s 954us/step - loss: 0.5664 - acc: 0.7950\n",
      "Epoch 1/1\n",
      "7200/7200 [==============================] - 7s 971us/step - loss: 0.5673 - acc: 0.7935\n",
      "Epoch 1/1\n",
      "7200/7200 [==============================] - 9s 1ms/step - loss: 0.5747 - acc: 0.7926\n",
      "Epoch 1/1\n",
      "7200/7200 [==============================] - 10s 1ms/step - loss: 0.5627 - acc: 0.7962\n",
      "Epoch 1/1\n",
      "7200/7200 [==============================] - 7s 1ms/step - loss: 0.5803 - acc: 0.7957\n",
      "Epoch 1/1\n",
      "7200/7200 [==============================] - 6s 830us/step - loss: 0.5672 - acc: 0.7946\n",
      "Epoch 1/1\n",
      "7200/7200 [==============================] - 7s 941us/step - loss: 0.5930 - acc: 0.7960\n",
      "Epoch 1/1\n",
      "7200/7200 [==============================] - 13s 2ms/step - loss: 0.6053 - acc: 0.7951\n",
      "Epoch 1/1\n",
      "7200/7200 [==============================] - 9s 1ms/step - loss: 0.5685 - acc: 0.7960\n",
      "Epoch 1/1\n",
      "7200/7200 [==============================] - 7s 1ms/step - loss: 0.5669 - acc: 0.7933\n",
      "Epoch 1/1\n",
      "7200/7200 [==============================] - 7s 905us/step - loss: 0.5888 - acc: 0.7967\n",
      "Epoch 1/1\n",
      "7200/7200 [==============================] - 10s 1ms/step - loss: 0.5661 - acc: 0.7932\n",
      "Epoch 1/1\n",
      "7200/7200 [==============================] - 8s 1ms/step - loss: 0.5525 - acc: 0.7940\n",
      "Epoch 1/1\n",
      "7200/7200 [==============================] - 7s 997us/step - loss: 0.5916 - acc: 0.7964\n",
      "Epoch 1/1\n",
      "7200/7200 [==============================] - 8s 1ms/step - loss: 0.5835 - acc: 0.7957\n",
      "Epoch 1/1\n",
      "7200/7200 [==============================] - 7s 906us/step - loss: 0.5905 - acc: 0.7943\n",
      "Epoch 1/1\n",
      "7200/7200 [==============================] - 7s 959us/step - loss: 0.5583 - acc: 0.7949\n",
      "Epoch 1/1\n",
      "7200/7200 [==============================] - 7s 1ms/step - loss: 0.5576 - acc: 0.7964\n",
      "Epoch 1/1\n",
      "7200/7200 [==============================] - 8s 1ms/step - loss: 0.5556 - acc: 0.7963\n",
      "Epoch 1/1\n",
      "7200/7200 [==============================] - 7s 1ms/step - loss: 0.5494 - acc: 0.7939\n",
      "Epoch 1/1\n",
      "7200/7200 [==============================] - 8s 1ms/step - loss: 0.5602 - acc: 0.7965\n",
      "Epoch 1/1\n",
      "7200/7200 [==============================] - 8s 1ms/step - loss: 0.5530 - acc: 0.7918\n",
      "Epoch 1/1\n",
      "7200/7200 [==============================] - 8s 1ms/step - loss: 0.5537 - acc: 0.7940\n",
      "Epoch 1/1\n",
      "7200/7200 [==============================] - 8s 1ms/step - loss: 0.5809 - acc: 0.7947\n",
      "Epoch 1/1\n",
      "7200/7200 [==============================] - 8s 1ms/step - loss: 0.5541 - acc: 0.7957\n",
      "Epoch 1/1\n",
      "7200/7200 [==============================] - 8s 1ms/step - loss: 0.5719 - acc: 0.7954\n",
      "Epoch 1/1\n",
      "7200/7200 [==============================] - 9s 1ms/step - loss: 0.5455 - acc: 0.7946\n",
      "Epoch 1/1\n",
      "7200/7200 [==============================] - 8s 1ms/step - loss: 0.5461 - acc: 0.7968\n",
      "Epoch 1/1\n",
      "7200/7200 [==============================] - 8s 1ms/step - loss: 0.5516 - acc: 0.7967\n",
      "Epoch 1/1\n",
      "7200/7200 [==============================] - 9s 1ms/step - loss: 0.5506 - acc: 0.7946\n",
      "Epoch 1/1\n",
      "7200/7200 [==============================] - 9s 1ms/step - loss: 0.6549 - acc: 0.7956\n",
      "Epoch 1/1\n",
      "7200/7200 [==============================] - 9s 1ms/step - loss: 0.5541 - acc: 0.7929\n",
      "Epoch 1/1\n",
      "7200/7200 [==============================] - 8s 1ms/step - loss: 0.5696 - acc: 0.7924\n",
      "Epoch 1/1\n",
      "7200/7200 [==============================] - 9s 1ms/step - loss: 0.5487 - acc: 0.7958\n",
      "Epoch 1/1\n",
      "7200/7200 [==============================] - 9s 1ms/step - loss: 0.5569 - acc: 0.7957\n",
      "Epoch 1/1\n",
      "7200/7200 [==============================] - 9s 1ms/step - loss: 0.6566 - acc: 0.7938\n",
      "Epoch 1/1\n",
      "7200/7200 [==============================] - 9s 1ms/step - loss: 0.5653 - acc: 0.7954\n",
      "Epoch 1/1\n",
      "7200/7200 [==============================] - 9s 1ms/step - loss: 0.5477 - acc: 0.7965\n",
      "Epoch 1/1\n",
      "7200/7200 [==============================] - 9s 1ms/step - loss: 0.5516 - acc: 0.7967\n",
      "Epoch 1/1\n",
      "7200/7200 [==============================] - 10s 1ms/step - loss: 0.6200 - acc: 0.7936\n",
      "Epoch 1/1\n",
      "7200/7200 [==============================] - 9s 1ms/step - loss: 0.5567 - acc: 0.7975\n",
      "Epoch 1/1\n",
      "7200/7200 [==============================] - 9s 1ms/step - loss: 0.5540 - acc: 0.7937\n",
      "Epoch 1/1\n",
      "7200/7200 [==============================] - 10s 1ms/step - loss: 0.5882 - acc: 0.7926\n",
      "Epoch 1/1\n",
      "7200/7200 [==============================] - 9s 1ms/step - loss: 0.5517 - acc: 0.7964\n",
      "Epoch 1/1\n",
      "7200/7200 [==============================] - 9s 1ms/step - loss: 0.5769 - acc: 0.7946\n",
      "Epoch 1/1\n",
      "7200/7200 [==============================] - 9s 1ms/step - loss: 0.5665 - acc: 0.7949\n",
      "Epoch 1/1\n",
      "7200/7200 [==============================] - 9s 1ms/step - loss: 0.5754 - acc: 0.7962\n",
      "Epoch 1/1\n",
      "7200/7200 [==============================] - 9s 1ms/step - loss: 0.5714 - acc: 0.7971\n",
      "Epoch 1/1\n",
      "7200/7200 [==============================] - 10s 1ms/step - loss: 0.5654 - acc: 0.7963\n",
      "Epoch 1/1\n",
      "7200/7200 [==============================] - 10s 1ms/step - loss: 0.5656 - acc: 0.7949\n",
      "Epoch 1/1\n",
      "7200/7200 [==============================] - 10s 1ms/step - loss: 0.5668 - acc: 0.7963\n",
      "Epoch 1/1\n",
      "7200/7200 [==============================] - 10s 1ms/step - loss: 0.5836 - acc: 0.7932\n",
      "Epoch 1/1\n",
      "7200/7200 [==============================] - 10s 1ms/step - loss: 0.5802 - acc: 0.7935\n",
      "Epoch 1/1\n",
      "7200/7200 [==============================] - 11s 2ms/step - loss: 0.5809 - acc: 0.7957\n",
      "Epoch 1/1\n",
      "7200/7200 [==============================] - 11s 1ms/step - loss: 0.5776 - acc: 0.7957\n",
      "Epoch 1/1\n",
      "7200/7200 [==============================] - 10s 1ms/step - loss: 0.5632 - acc: 0.7946\n",
      "Epoch 1/1\n",
      "7200/7200 [==============================] - 11s 1ms/step - loss: 0.5701 - acc: 0.7950\n",
      "Epoch 1/1\n",
      "7200/7200 [==============================] - 10s 1ms/step - loss: 0.5735 - acc: 0.7962\n",
      "Epoch 1/1\n",
      "7200/7200 [==============================] - 10s 1ms/step - loss: 0.5858 - acc: 0.7950\n",
      "Epoch 1/1\n",
      "7200/7200 [==============================] - 10s 1ms/step - loss: 0.5569 - acc: 0.7950\n",
      "Epoch 1/1\n",
      "7200/7200 [==============================] - 10s 1ms/step - loss: 0.5719 - acc: 0.7972\n",
      "Epoch 1/1\n",
      "7200/7200 [==============================] - 10s 1ms/step - loss: 0.5842 - acc: 0.7910\n",
      "Epoch 1/1\n",
      "7200/7200 [==============================] - 20s 3ms/step - loss: 0.6077 - acc: 0.7911\n",
      "Epoch 1/1\n",
      "7200/7200 [==============================] - 14s 2ms/step - loss: 0.5685 - acc: 0.7972\n",
      "Epoch 1/1\n",
      "7200/7200 [==============================] - 12s 2ms/step - loss: 0.6104 - acc: 0.7931\n",
      "Epoch 1/1\n",
      "7200/7200 [==============================] - 11s 2ms/step - loss: 0.5652 - acc: 0.7957\n",
      "Epoch 1/1\n",
      "7200/7200 [==============================] - 12s 2ms/step - loss: 0.5720 - acc: 0.7953\n",
      "Epoch 1/1\n",
      "7200/7200 [==============================] - 15s 2ms/step - loss: 0.5781 - acc: 0.7944\n",
      "Epoch 1/1\n",
      "7200/7200 [==============================] - 14s 2ms/step - loss: 0.5627 - acc: 0.7967\n",
      "Epoch 1/1\n",
      "7200/7200 [==============================] - 18s 3ms/step - loss: 0.5810 - acc: 0.7953\n",
      "Epoch 1/1\n",
      "7200/7200 [==============================] - 11s 2ms/step - loss: 0.5752 - acc: 0.7972\n",
      "Epoch 1/1\n",
      "7200/7200 [==============================] - 13s 2ms/step - loss: 0.5680 - acc: 0.7936\n",
      "Epoch 1/1\n",
      "7200/7200 [==============================] - 13s 2ms/step - loss: 0.5722 - acc: 0.7940\n",
      "Epoch 1/1\n",
      "7200/7200 [==============================] - 11s 2ms/step - loss: 0.6324 - acc: 0.7947\n",
      "Epoch 1/1\n",
      "7200/7200 [==============================] - 12s 2ms/step - loss: 0.5732 - acc: 0.7956\n",
      "Epoch 1/1\n",
      "7200/7200 [==============================] - 14s 2ms/step - loss: 0.5977 - acc: 0.7954\n",
      "Epoch 1/1\n",
      "7200/7200 [==============================] - 15s 2ms/step - loss: 0.5803 - acc: 0.7960\n",
      "Epoch 1/1\n",
      "7200/7200 [==============================] - 14s 2ms/step - loss: 0.6425 - acc: 0.7942\n",
      "Epoch 1/1\n",
      "7200/7200 [==============================] - 14s 2ms/step - loss: 0.5891 - acc: 0.7956\n",
      "Epoch 1/1\n",
      "7200/7200 [==============================] - 12s 2ms/step - loss: 0.5899 - acc: 0.7947\n",
      "Epoch 1/1\n",
      "7200/7200 [==============================] - 36s 5ms/step - loss: 0.5947 - acc: 0.7960\n",
      "Epoch 1/1\n",
      "7200/7200 [==============================] - 16s 2ms/step - loss: 0.5800 - acc: 0.7929\n",
      "Epoch 1/1\n",
      "7200/7200 [==============================] - 22s 3ms/step - loss: 0.5957 - acc: 0.7935\n",
      "Epoch 1/1\n",
      "7200/7200 [==============================] - 22s 3ms/step - loss: 0.6038 - acc: 0.7965\n",
      "Epoch 1/1\n",
      "7200/7200 [==============================] - 30s 4ms/step - loss: 0.6248 - acc: 0.7946\n",
      "Epoch 1/1\n",
      "7200/7200 [==============================] - 25s 4ms/step - loss: 0.5811 - acc: 0.7954\n",
      "Epoch 1/1\n",
      "7200/7200 [==============================] - 15s 2ms/step - loss: 0.6069 - acc: 0.7939\n",
      "Epoch 1/1\n",
      "7200/7200 [==============================] - 16s 2ms/step - loss: 0.6280 - acc: 0.7947\n",
      "Epoch 1/1\n",
      "7200/7200 [==============================] - 16s 2ms/step - loss: 0.5907 - acc: 0.7953\n",
      "Epoch 1/1\n",
      "7200/7200 [==============================] - 59s 8ms/step - loss: 0.6032 - acc: 0.7940: 1s - loss: 0.6063 - acc: 0.7\n",
      "Epoch 1/1\n",
      "7200/7200 [==============================] - 72s 10ms/step - loss: 0.6058 - acc: 0.7949\n",
      "Epoch 1/1\n",
      "7200/7200 [==============================] - 30s 4ms/step - loss: 0.5887 - acc: 0.7932\n",
      "Epoch 1/1\n",
      "7200/7200 [==============================] - 12s 2ms/step - loss: 0.5924 - acc: 0.7942\n",
      "Epoch 1/1\n",
      "7200/7200 [==============================] - 11s 2ms/step - loss: 0.5928 - acc: 0.7951\n",
      "Epoch 1/1\n",
      "7200/7200 [==============================] - 11s 2ms/step - loss: 0.5994 - acc: 0.7942\n",
      "Epoch 1/1\n",
      "7200/7200 [==============================] - 12s 2ms/step - loss: 0.5813 - acc: 0.7956\n",
      "Epoch 1/1\n",
      "7200/7200 [==============================] - 12s 2ms/step - loss: 0.5914 - acc: 0.7937\n",
      "Epoch 1/1\n",
      "7200/7200 [==============================] - 13s 2ms/step - loss: 0.5725 - acc: 0.7961\n",
      "Epoch 1/1\n",
      "7200/7200 [==============================] - 12s 2ms/step - loss: 0.5695 - acc: 0.7965\n",
      "Epoch 1/1\n",
      "7200/7200 [==============================] - 12s 2ms/step - loss: 0.5656 - acc: 0.7946\n",
      "Epoch 1/1\n",
      "7200/7200 [==============================] - 12s 2ms/step - loss: 0.5777 - acc: 0.7967\n",
      "Epoch 1/1\n",
      "7200/7200 [==============================] - 13s 2ms/step - loss: 0.5766 - acc: 0.7922\n",
      "Epoch 1/1\n",
      "7200/7200 [==============================] - 12s 2ms/step - loss: 0.5896 - acc: 0.7932\n",
      "Epoch 1/1\n",
      "7200/7200 [==============================] - 12s 2ms/step - loss: 0.6074 - acc: 0.7946\n",
      "Epoch 1/1\n",
      "7200/7200 [==============================] - 13s 2ms/step - loss: 0.5731 - acc: 0.7944\n",
      "Epoch 1/1\n",
      "7200/7200 [==============================] - 17s 2ms/step - loss: 0.5821 - acc: 0.7946\n",
      "Epoch 1/1\n",
      "7200/7200 [==============================] - 13s 2ms/step - loss: 0.5907 - acc: 0.7954\n",
      "Epoch 1/1\n",
      "7200/7200 [==============================] - 13s 2ms/step - loss: 0.5702 - acc: 0.7961\n",
      "Epoch 1/1\n",
      "7200/7200 [==============================] - 13s 2ms/step - loss: 0.5913 - acc: 0.7954\n",
      "Epoch 1/1\n",
      "7200/7200 [==============================] - 13s 2ms/step - loss: 0.5715 - acc: 0.7956\n",
      "Epoch 1/1\n",
      "7200/7200 [==============================] - 14s 2ms/step - loss: 0.5770 - acc: 0.7964\n",
      "Epoch 1/1\n",
      "7200/7200 [==============================] - 13s 2ms/step - loss: 0.5986 - acc: 0.7925\n",
      "Epoch 1/1\n",
      "7200/7200 [==============================] - 14s 2ms/step - loss: 0.6081 - acc: 0.7936\n",
      "Epoch 1/1\n",
      "7200/7200 [==============================] - 13s 2ms/step - loss: 0.5947 - acc: 0.7944\n",
      "Epoch 1/1\n",
      "7200/7200 [==============================] - 13s 2ms/step - loss: 0.5871 - acc: 0.7950\n",
      "Epoch 1/1\n",
      "7200/7200 [==============================] - 14s 2ms/step - loss: 0.5884 - acc: 0.7947\n",
      "Epoch 1/1\n",
      "7200/7200 [==============================] - 14s 2ms/step - loss: 0.6088 - acc: 0.7939\n",
      "Epoch 1/1\n",
      "7200/7200 [==============================] - 13s 2ms/step - loss: 0.6045 - acc: 0.7957\n",
      "Epoch 1/1\n",
      "7200/7200 [==============================] - 14s 2ms/step - loss: 0.5903 - acc: 0.7940\n",
      "Epoch 1/1\n",
      "7200/7200 [==============================] - 15s 2ms/step - loss: 0.5849 - acc: 0.7942\n",
      "Epoch 1/1\n",
      "7200/7200 [==============================] - 15s 2ms/step - loss: 0.5760 - acc: 0.7975\n",
      "Epoch 1/1\n",
      "7200/7200 [==============================] - 25s 3ms/step - loss: 0.5963 - acc: 0.7918\n",
      "Epoch 1/1\n",
      "7200/7200 [==============================] - 16s 2ms/step - loss: 0.5937 - acc: 0.7936\n",
      "Epoch 1/1\n",
      "7200/7200 [==============================] - 17s 2ms/step - loss: 0.5990 - acc: 0.7949\n",
      "Epoch 1/1\n",
      "7200/7200 [==============================] - 23s 3ms/step - loss: 0.5943 - acc: 0.7956\n",
      "Epoch 1/1\n",
      "7200/7200 [==============================] - 16s 2ms/step - loss: 0.6239 - acc: 0.7943\n",
      "Epoch 1/1\n",
      "7200/7200 [==============================] - 14s 2ms/step - loss: 0.6340 - acc: 0.7942\n",
      "Epoch 1/1\n",
      "7200/7200 [==============================] - 15s 2ms/step - loss: 0.5836 - acc: 0.7962\n",
      "Epoch 1/1\n",
      "7200/7200 [==============================] - 15s 2ms/step - loss: 0.5917 - acc: 0.7947\n",
      "Epoch 1/1\n",
      "7200/7200 [==============================] - 20s 3ms/step - loss: 0.6104 - acc: 0.7939\n",
      "Epoch 1/1\n",
      "7200/7200 [==============================] - 25s 3ms/step - loss: 0.6242 - acc: 0.7954\n",
      "Epoch 1/1\n",
      "7200/7200 [==============================] - 20s 3ms/step - loss: 0.6038 - acc: 0.7922\n",
      "Epoch 1/1\n",
      "7200/7200 [==============================] - 15s 2ms/step - loss: 0.5896 - acc: 0.7942\n",
      "Epoch 1/1\n",
      "7200/7200 [==============================] - 16s 2ms/step - loss: 0.5893 - acc: 0.7968\n",
      "Epoch 1/1\n",
      "7200/7200 [==============================] - 16s 2ms/step - loss: 0.5807 - acc: 0.7951\n",
      "Epoch 1/1\n",
      "7200/7200 [==============================] - 16s 2ms/step - loss: 0.5917 - acc: 0.7953\n",
      "Epoch 1/1\n",
      "7200/7200 [==============================] - 16s 2ms/step - loss: 0.6121 - acc: 0.7946\n",
      "Epoch 1/1\n",
      "8000/8000 [==============================] - 18s 2ms/step - loss: 0.5474 - acc: 0.7945\n"
     ]
    }
   ],
   "source": [
    "gridSearchModel = gridSearch.fit(X_train, y_train)"
   ]
  },
  {
   "cell_type": "code",
   "execution_count": 88,
   "metadata": {},
   "outputs": [],
   "source": [
    "bestParameter = gridSearchModel.best_params_\n",
    "bestAccuracy = gridSearchModel.best_score_"
   ]
  },
  {
   "cell_type": "code",
   "execution_count": 90,
   "metadata": {},
   "outputs": [
    {
     "data": {
      "text/plain": [
       "{'batch_size': 25, 'nb_epoch': 100, 'optimizer': 'adam', 'p': 0.1}"
      ]
     },
     "execution_count": 90,
     "metadata": {},
     "output_type": "execute_result"
    }
   ],
   "source": [
    "bestParameter"
   ]
  },
  {
   "cell_type": "code",
   "execution_count": 89,
   "metadata": {},
   "outputs": [
    {
     "data": {
      "text/plain": [
       "0.796"
      ]
     },
     "execution_count": 89,
     "metadata": {},
     "output_type": "execute_result"
    }
   ],
   "source": [
    "bestAccuracy"
   ]
  },
  {
   "cell_type": "code",
   "execution_count": 92,
   "metadata": {},
   "outputs": [],
   "source": [
    "#END"
   ]
  },
  {
   "cell_type": "code",
   "execution_count": 2,
   "metadata": {},
   "outputs": [
    {
     "name": "stdout",
     "output_type": "stream",
     "text": [
      "[NbConvertApp] Converting notebook UDEMY_DEEP_LEARNING_A-Z_ANN_KIRILL_2.ipynb to script\n",
      "[NbConvertApp] Writing 14329 bytes to UDEMY_DEEP_LEARNING_A-Z_ANN_KIRILL_2.py\n"
     ]
    }
   ],
   "source": [
    "!jupyter nbconvert --to script UDEMY_DEEP_LEARNING_A-Z_ANN_KIRILL_2.ipynb"
   ]
  },
  {
   "cell_type": "code",
   "execution_count": null,
   "metadata": {},
   "outputs": [],
   "source": []
  }
 ],
 "metadata": {
  "hide_input": false,
  "kernelspec": {
   "display_name": "Python 3",
   "language": "python",
   "name": "python3"
  },
  "language_info": {
   "codemirror_mode": {
    "name": "ipython",
    "version": 3
   },
   "file_extension": ".py",
   "mimetype": "text/x-python",
   "name": "python",
   "nbconvert_exporter": "python",
   "pygments_lexer": "ipython3",
   "version": "3.6.6"
  },
  "nbTranslate": {
   "displayLangs": [
    "*"
   ],
   "hotkey": "alt-t",
   "langInMainMenu": true,
   "sourceLang": "en",
   "targetLang": "fr",
   "useGoogleTranslate": true
  },
  "toc": {
   "base_numbering": 1,
   "nav_menu": {},
   "number_sections": true,
   "sideBar": true,
   "skip_h1_title": false,
   "title_cell": "Table of Contents",
   "title_sidebar": "Contents",
   "toc_cell": true,
   "toc_position": {},
   "toc_section_display": true,
   "toc_window_display": true
  }
 },
 "nbformat": 4,
 "nbformat_minor": 2
}
