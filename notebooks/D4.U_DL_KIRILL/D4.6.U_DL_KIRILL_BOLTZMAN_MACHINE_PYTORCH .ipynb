{
 "cells": [
  {
   "cell_type": "markdown",
   "metadata": {
    "toc": true
   },
   "source": [
    "<h1>Table of Contents<span class=\"tocSkip\"></span></h1>\n",
    "<div class=\"toc\"><ul class=\"toc-item\"><li><span><a href=\"#Install-Pytorch\" data-toc-modified-id=\"Install-Pytorch-1\"><span class=\"toc-item-num\">1&nbsp;&nbsp;</span>Install Pytorch</a></span></li><li><span><a href=\"#TO-DO:-include-image1\" data-toc-modified-id=\"TO-DO:-include-image1-2\"><span class=\"toc-item-num\">2&nbsp;&nbsp;</span>TO DO: include image1</a></span></li><li><span><a href=\"#TO-DO:-include-image2\" data-toc-modified-id=\"TO-DO:-include-image2-3\"><span class=\"toc-item-num\">3&nbsp;&nbsp;</span>TO DO: include image2</a></span></li><li><span><a href=\"#TO-DO:-from-122.-Building-a-Boltzmann-MachineStep-1\" data-toc-modified-id=\"TO-DO:-from-122.-Building-a-Boltzmann-MachineStep-1-4\"><span class=\"toc-item-num\">4&nbsp;&nbsp;</span>TO DO: from 122. Building a Boltzmann MachineStep 1</a></span></li></ul></div>"
   ]
  },
  {
   "cell_type": "markdown",
   "metadata": {},
   "source": [
    "### Install Pytorch"
   ]
  },
  {
   "cell_type": "code",
   "execution_count": 1,
   "metadata": {},
   "outputs": [],
   "source": [
    "#conda install pytorch torchvision -c pytorch"
   ]
  },
  {
   "cell_type": "markdown",
   "metadata": {},
   "source": [
    "### TO DO: include image1"
   ]
  },
  {
   "cell_type": "markdown",
   "metadata": {},
   "source": [
    "### TO DO: include image2"
   ]
  },
  {
   "cell_type": "markdown",
   "metadata": {},
   "source": [
    "### TO DO: from 122. Building a Boltzmann MachineStep 1"
   ]
  },
  {
   "cell_type": "code",
   "execution_count": null,
   "metadata": {},
   "outputs": [],
   "source": []
  }
 ],
 "metadata": {
  "hide_input": false,
  "kernelspec": {
   "display_name": "Python3.5",
   "language": "python",
   "name": "python3.5"
  },
  "language_info": {
   "codemirror_mode": {
    "name": "ipython",
    "version": 3
   },
   "file_extension": ".py",
   "mimetype": "text/x-python",
   "name": "python",
   "nbconvert_exporter": "python",
   "pygments_lexer": "ipython3",
   "version": "3.6.6"
  },
  "nbTranslate": {
   "displayLangs": [
    "*"
   ],
   "hotkey": "alt-t",
   "langInMainMenu": true,
   "sourceLang": "en",
   "targetLang": "fr",
   "useGoogleTranslate": true
  },
  "toc": {
   "base_numbering": 1,
   "nav_menu": {},
   "number_sections": true,
   "sideBar": true,
   "skip_h1_title": false,
   "title_cell": "Table of Contents",
   "title_sidebar": "Contents",
   "toc_cell": true,
   "toc_position": {},
   "toc_section_display": true,
   "toc_window_display": true
  }
 },
 "nbformat": 4,
 "nbformat_minor": 2
}
