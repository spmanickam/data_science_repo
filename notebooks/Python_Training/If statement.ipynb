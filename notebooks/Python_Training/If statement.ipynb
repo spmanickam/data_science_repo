{
 "cells": [
  {
   "cell_type": "code",
   "execution_count": 1,
   "metadata": {},
   "outputs": [
    {
     "name": "stdout",
     "output_type": "stream",
     "text": [
      "Number is 5\n"
     ]
    }
   ],
   "source": [
    "a=5\n",
    "if a==5:\n",
    "    print(\"Number is 5\")\n",
    "else:\n",
    "    print(\"number is not 5\")"
   ]
  },
  {
   "cell_type": "code",
   "execution_count": 2,
   "metadata": {},
   "outputs": [
    {
     "name": "stdout",
     "output_type": "stream",
     "text": [
      "Text is defined not truthy\n"
     ]
    }
   ],
   "source": [
    "a=0\n",
    "if a:\n",
    "    print(\"Text is defined and truthy\")\n",
    "else:\n",
    "    print(\"Text is defined not truthy\")"
   ]
  },
  {
   "cell_type": "code",
   "execution_count": 3,
   "metadata": {},
   "outputs": [
    {
     "name": "stdout",
     "output_type": "stream",
     "text": [
      "Text is defined and truthy\n"
     ]
    }
   ],
   "source": [
    "a=5\n",
    "if a:\n",
    "    print(\"Text is defined and truthy\")\n",
    "else:\n",
    "    print(\"Text is defined not truthy\")"
   ]
  },
  {
   "cell_type": "code",
   "execution_count": 4,
   "metadata": {},
   "outputs": [
    {
     "name": "stdout",
     "output_type": "stream",
     "text": [
      "Text is defined and truthy\n"
     ]
    }
   ],
   "source": [
    "text=\"Python\"\n",
    "if text:\n",
    "    print(\"Text is defined and truthy\")"
   ]
  }
 ],
 "metadata": {
  "kernelspec": {
   "display_name": "Python 3",
   "language": "python",
   "name": "python3"
  },
  "language_info": {
   "codemirror_mode": {
    "name": "ipython",
    "version": 3
   },
   "file_extension": ".py",
   "mimetype": "text/x-python",
   "name": "python",
   "nbconvert_exporter": "python",
   "pygments_lexer": "ipython3",
   "version": "3.7.4"
  }
 },
 "nbformat": 4,
 "nbformat_minor": 2
}
