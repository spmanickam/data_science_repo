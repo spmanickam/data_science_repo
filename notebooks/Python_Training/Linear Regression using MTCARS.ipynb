{
 "cells": [
  {
   "cell_type": "code",
   "execution_count": 2,
   "metadata": {},
   "outputs": [],
   "source": [
    "import pandas as pd\n",
    "import os\n",
    "os.chdir(r'/Users/manick/Python Training/dataset')"
   ]
  },
  {
   "cell_type": "code",
   "execution_count": 3,
   "metadata": {},
   "outputs": [
    {
     "name": "stdout",
     "output_type": "stream",
     "text": [
      "<class 'pandas.core.frame.DataFrame'>\n",
      "RangeIndex: 32 entries, 0 to 31\n",
      "Data columns (total 12 columns):\n",
      "CarName    32 non-null object\n",
      "mpg        32 non-null float64\n",
      "cyl        32 non-null int64\n",
      "disp       32 non-null float64\n",
      "hp         32 non-null int64\n",
      "drat       32 non-null float64\n",
      "wt         32 non-null float64\n",
      "qsec       32 non-null float64\n",
      "vs         32 non-null int64\n",
      "am         32 non-null int64\n",
      "gear       32 non-null int64\n",
      "carb       32 non-null int64\n",
      "dtypes: float64(5), int64(6), object(1)\n",
      "memory usage: 3.1+ KB\n"
     ]
    }
   ],
   "source": [
    "infile = pd.read_csv('mtcars.csv')\n",
    "infile.info()"
   ]
  },
  {
   "cell_type": "code",
   "execution_count": 4,
   "metadata": {},
   "outputs": [],
   "source": [
    "#infile['hp'].value_counts()"
   ]
  },
  {
   "cell_type": "code",
   "execution_count": 5,
   "metadata": {},
   "outputs": [
    {
     "data": {
      "text/html": [
       "<div>\n",
       "<style scoped>\n",
       "    .dataframe tbody tr th:only-of-type {\n",
       "        vertical-align: middle;\n",
       "    }\n",
       "\n",
       "    .dataframe tbody tr th {\n",
       "        vertical-align: top;\n",
       "    }\n",
       "\n",
       "    .dataframe thead th {\n",
       "        text-align: right;\n",
       "    }\n",
       "</style>\n",
       "<table border=\"1\" class=\"dataframe\">\n",
       "  <thead>\n",
       "    <tr style=\"text-align: right;\">\n",
       "      <th></th>\n",
       "      <th>mpg</th>\n",
       "      <th>disp</th>\n",
       "    </tr>\n",
       "  </thead>\n",
       "  <tbody>\n",
       "    <tr>\n",
       "      <td>mpg</td>\n",
       "      <td>1.000000</td>\n",
       "      <td>-0.847551</td>\n",
       "    </tr>\n",
       "    <tr>\n",
       "      <td>disp</td>\n",
       "      <td>-0.847551</td>\n",
       "      <td>1.000000</td>\n",
       "    </tr>\n",
       "  </tbody>\n",
       "</table>\n",
       "</div>"
      ],
      "text/plain": [
       "           mpg      disp\n",
       "mpg   1.000000 -0.847551\n",
       "disp -0.847551  1.000000"
      ]
     },
     "execution_count": 5,
     "metadata": {},
     "output_type": "execute_result"
    }
   ],
   "source": [
    "df1 = infile.loc[ : , ['mpg','disp'] ]\n",
    "#df1.head(5)\n",
    "df1.corr()"
   ]
  },
  {
   "cell_type": "code",
   "execution_count": 6,
   "metadata": {},
   "outputs": [
    {
     "data": {
      "text/plain": [
       "<matplotlib.axes._subplots.AxesSubplot at 0x7f8ba094fad0>"
      ]
     },
     "execution_count": 6,
     "metadata": {},
     "output_type": "execute_result"
    },
    {
     "data": {
      "image/png": "[encoded data removed]",
      "text/plain": [
       "<Figure size 432x288 with 1 Axes>"
      ]
     },
     "metadata": {
      "needs_background": "light"
     },
     "output_type": "display_data"
    }
   ],
   "source": [
    "%matplotlib inline\n",
    "infile.plot.scatter('disp','mpg')"
   ]
  },
  {
   "cell_type": "code",
   "execution_count": 7,
   "metadata": {},
   "outputs": [
    {
     "data": {
      "text/plain": [
       "<matplotlib.axes._subplots.AxesSubplot at 0x7f8bb87d6b10>"
      ]
     },
     "execution_count": 7,
     "metadata": {},
     "output_type": "execute_result"
    },
    {
     "data": {
      "image/png": "[encoded data removed]",
      "text/plain": [
       "<Figure size 432x288 with 1 Axes>"
      ]
     },
     "metadata": {
      "needs_background": "light"
     },
     "output_type": "display_data"
    }
   ],
   "source": [
    "infile.boxplot('mpg',by='cyl')"
   ]
  },
  {
   "cell_type": "code",
   "execution_count": 8,
   "metadata": {},
   "outputs": [],
   "source": [
    "from sklearn.linear_model import LinearRegression"
   ]
  },
  {
   "cell_type": "code",
   "execution_count": 9,
   "metadata": {},
   "outputs": [
    {
     "name": "stdout",
     "output_type": "stream",
     "text": [
      "12.303374155996298 [-3.71530393 -0.11144048 -0.02148212  0.78711097  2.52022689  0.31776281\n",
      "  0.01333524 -0.19941925  0.82104075  0.65541302]\n"
     ]
    }
   ],
   "source": [
    "x = infile.loc[ : , ['wt','cyl','hp','drat','am','vs',\n",
    "                    'disp','carb','qsec','gear']]\n",
    "y = infile['mpg']\n",
    "linmod1 = LinearRegression()\n",
    "\n",
    "linmod1.fit(x, y)   # train the model\n",
    "print(linmod1.intercept_, linmod1.coef_)"
   ]
  },
  {
   "cell_type": "code",
   "execution_count": 10,
   "metadata": {},
   "outputs": [
    {
     "name": "stdout",
     "output_type": "stream",
     "text": [
      "0.8690157644777646 0.8066423189909859 4.609200938020334\n"
     ]
    }
   ],
   "source": [
    "from sklearn.metrics import r2_score, mean_squared_error\n",
    "predmpg = linmod1.predict(x)\n",
    "\n",
    "mse = mean_squared_error(y,predmpg)\n",
    "r2  = r2_score(y,predmpg)\n",
    "\n",
    "n = len(y)    # Number of Samples\n",
    "p = x.shape[1] # Number of Input variables\n",
    "adjr2 = 1 - (1-r2)*(n-1)/ (n-p-1)\n",
    "print(r2,adjr2,mse)\n",
    "\n",
    "### multi collinearity \n"
   ]
  },
  {
   "cell_type": "code",
   "execution_count": 11,
   "metadata": {},
   "outputs": [
    {
     "data": {
      "text/html": [
       "<div>\n",
       "<style scoped>\n",
       "    .dataframe tbody tr th:only-of-type {\n",
       "        vertical-align: middle;\n",
       "    }\n",
       "\n",
       "    .dataframe tbody tr th {\n",
       "        vertical-align: top;\n",
       "    }\n",
       "\n",
       "    .dataframe thead th {\n",
       "        text-align: right;\n",
       "    }\n",
       "</style>\n",
       "<table border=\"1\" class=\"dataframe\">\n",
       "  <thead>\n",
       "    <tr style=\"text-align: right;\">\n",
       "      <th></th>\n",
       "      <th>0</th>\n",
       "      <th>1</th>\n",
       "      <th>2</th>\n",
       "      <th>3</th>\n",
       "      <th>4</th>\n",
       "      <th>5</th>\n",
       "      <th>6</th>\n",
       "      <th>7</th>\n",
       "      <th>8</th>\n",
       "      <th>9</th>\n",
       "    </tr>\n",
       "  </thead>\n",
       "  <tbody>\n",
       "    <tr>\n",
       "      <td>0</td>\n",
       "      <td>cyl</td>\n",
       "      <td>disp</td>\n",
       "      <td>hp</td>\n",
       "      <td>drat</td>\n",
       "      <td>wt</td>\n",
       "      <td>qsec</td>\n",
       "      <td>vs</td>\n",
       "      <td>am</td>\n",
       "      <td>gear</td>\n",
       "      <td>carb</td>\n",
       "    </tr>\n",
       "    <tr>\n",
       "      <td>1</td>\n",
       "      <td>8</td>\n",
       "      <td>10</td>\n",
       "      <td>9</td>\n",
       "      <td>4</td>\n",
       "      <td>1</td>\n",
       "      <td>3</td>\n",
       "      <td>7</td>\n",
       "      <td>2</td>\n",
       "      <td>6</td>\n",
       "      <td>5</td>\n",
       "    </tr>\n",
       "  </tbody>\n",
       "</table>\n",
       "</div>"
      ],
      "text/plain": [
       "     0     1   2     3   4     5   6   7     8     9\n",
       "0  cyl  disp  hp  drat  wt  qsec  vs  am  gear  carb\n",
       "1    8    10   9     4   1     3   7   2     6     5"
      ]
     },
     "execution_count": 11,
     "metadata": {},
     "output_type": "execute_result"
    }
   ],
   "source": [
    "from sklearn.feature_selection import RFE\n",
    "x1 = infile.drop(columns=['mpg','CarName'])\n",
    "y1 = infile['mpg'] \n",
    "\n",
    "linmod2 = LinearRegression()\n",
    "rfemod = RFE(linmod2,1)\n",
    "rfemod.fit(x1,y1)\n",
    "rfemod.ranking_\n",
    "x1.columns\n",
    "\n",
    "varlist = x1.columns\n",
    "rating = rfemod.ranking_\n",
    "pd.DataFrame([varlist,rating])"
   ]
  },
  {
   "cell_type": "code",
   "execution_count": 12,
   "metadata": {},
   "outputs": [
    {
     "name": "stdout",
     "output_type": "stream",
     "text": [
      "0.8496635563617072 0.8335560802576044\n"
     ]
    }
   ],
   "source": [
    "x = infile.loc[:,['wt','am','qsec']] # <--Add variables here1,2,3...x\n",
    "y = infile['mpg']\n",
    "linmod3 = LinearRegression()\n",
    "linmod3.fit(x,y)\n",
    "predmpg = linmod3.predict(x)\n",
    "r2 = r2_score(y, predmpg)\n",
    "\n",
    "n = len(y)    # Number of Samples\n",
    "p = x.shape[1] # Number of Input variables\n",
    "adjr2 = 1 - (1-r2)*(n-1)/ (n-p-1)\n",
    "print(r2,adjr2)"
   ]
  },
  {
   "cell_type": "code",
   "execution_count": 13,
   "metadata": {},
   "outputs": [
    {
     "name": "stdout",
     "output_type": "stream",
     "text": [
      "9.617780514561636 [-3.91650372  2.93583719  1.22588597]\n"
     ]
    }
   ],
   "source": [
    "print(linmod3.intercept_, linmod3.coef_)"
   ]
  },
  {
   "cell_type": "markdown",
   "metadata": {},
   "source": [
    "y = a + b1x1 + b2x2 + b3x3 ....)\n",
    "mpg = 9.67 + -3.9*wt +2.9*am + 1.22*qsec"
   ]
  }
 ],
 "metadata": {
  "kernelspec": {
   "display_name": "Python 3",
   "language": "python",
   "name": "python3"
  },
  "language_info": {
   "codemirror_mode": {
    "name": "ipython",
    "version": 3
   },
   "file_extension": ".py",
   "mimetype": "text/x-python",
   "name": "python",
   "nbconvert_exporter": "python",
   "pygments_lexer": "ipython3",
   "version": "3.7.4"
  }
 },
 "nbformat": 4,
 "nbformat_minor": 2
}
