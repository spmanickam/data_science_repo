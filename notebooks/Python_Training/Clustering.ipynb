{
 "cells": [
  {
   "cell_type": "markdown",
   "metadata": {},
   "source": [
    "import pandas as pd\n",
    "import numpy as np\n",
    "from sklearn.cluster import KMeans\n",
    "import os\n",
    "os.chdir(r'/Users/manick/Python Training/dataset')\n",
    "infile=pd.read_csv('ClusterData.csv')\n",
    "infile.head()"
   ]
  },
  {
   "cell_type": "code",
   "execution_count": 3,
   "metadata": {},
   "outputs": [
    {
     "ename": "SyntaxError",
     "evalue": "invalid syntax (<ipython-input-3-02632539df06>, line 2)",
     "output_type": "error",
     "traceback": [
      "\u001b[0;36m  File \u001b[0;32m\"<ipython-input-3-02632539df06>\"\u001b[0;36m, line \u001b[0;32m2\u001b[0m\n\u001b[0;31m    import numpy as np from sklearn.cluster\u001b[0m\n\u001b[0m                          ^\u001b[0m\n\u001b[0;31mSyntaxError\u001b[0m\u001b[0;31m:\u001b[0m invalid syntax\n"
     ]
    }
   ],
   "source": [
    "import pandas as pd \n",
    "import numpy as np from sklearn.cluster \n",
    "import KMeans \n",
    "import os os.chdir(r'/Users/manick/Python Training/dataset') \n",
    "\n",
    "infile=pd.read_csv('ClusterData.csv') \n",
    "infile.head()\n",
    "\n"
   ]
  },
  {
   "cell_type": "code",
   "execution_count": 69,
   "metadata": {},
   "outputs": [
    {
     "name": "stdout",
     "output_type": "stream",
     "text": [
      "[1 1 1 1 2 2 2 2 2 2 2 0 0 0 0 0 0 0 0 1 1 1 1 1 1 1 1 1 1 2 2 2 2 2 2 2 0\n",
      " 0 0 1 1 1 1 1 1 1 1 1 2 2 2 2 2 2 2 2 2 2 2 2 2 0 0 0 0 0 0 0 0 1 1 1 1 1\n",
      " 1 2 2 2 2 2 2 0 0 0 1 1 1 1 1 1 2 2 2 0 0 0 0 0 0 0]\n"
     ]
    }
   ],
   "source": [
    "kmc=KMeans(n_clusters=3)\n",
    "kmc.fit(infile)\n",
    "print(kmc.labels_)"
   ]
  },
  {
   "cell_type": "code",
   "execution_count": 70,
   "metadata": {},
   "outputs": [
    {
     "data": {
      "text/html": [
       "<div>\n",
       "<style scoped>\n",
       "    .dataframe tbody tr th:only-of-type {\n",
       "        vertical-align: middle;\n",
       "    }\n",
       "\n",
       "    .dataframe tbody tr th {\n",
       "        vertical-align: top;\n",
       "    }\n",
       "\n",
       "    .dataframe thead th {\n",
       "        text-align: right;\n",
       "    }\n",
       "</style>\n",
       "<table border=\"1\" class=\"dataframe\">\n",
       "  <thead>\n",
       "    <tr style=\"text-align: right;\">\n",
       "      <th></th>\n",
       "      <th>DailySteps</th>\n",
       "      <th>age</th>\n",
       "      <th>height</th>\n",
       "      <th>weight</th>\n",
       "    </tr>\n",
       "    <tr>\n",
       "      <th>ClusterNo</th>\n",
       "      <th></th>\n",
       "      <th></th>\n",
       "      <th></th>\n",
       "      <th></th>\n",
       "    </tr>\n",
       "  </thead>\n",
       "  <tbody>\n",
       "    <tr>\n",
       "      <th>0</th>\n",
       "      <td>12399.344828</td>\n",
       "      <td>47.137931</td>\n",
       "      <td>162.103448</td>\n",
       "      <td>74.034483</td>\n",
       "    </tr>\n",
       "    <tr>\n",
       "      <th>1</th>\n",
       "      <td>2996.142857</td>\n",
       "      <td>40.571429</td>\n",
       "      <td>173.600000</td>\n",
       "      <td>66.057143</td>\n",
       "    </tr>\n",
       "    <tr>\n",
       "      <th>2</th>\n",
       "      <td>7951.694444</td>\n",
       "      <td>42.305556</td>\n",
       "      <td>171.777778</td>\n",
       "      <td>68.222222</td>\n",
       "    </tr>\n",
       "  </tbody>\n",
       "</table>\n",
       "</div>"
      ],
      "text/plain": [
       "             DailySteps        age      height     weight\n",
       "ClusterNo                                                \n",
       "0          12399.344828  47.137931  162.103448  74.034483\n",
       "1           2996.142857  40.571429  173.600000  66.057143\n",
       "2           7951.694444  42.305556  171.777778  68.222222"
      ]
     },
     "execution_count": 70,
     "metadata": {},
     "output_type": "execute_result"
    }
   ],
   "source": [
    "outfile=infile.copy()\n",
    "outfile['ClusterNo'] = kmc.labels_\n",
    "outfile.tail(2)\n",
    "outfile.pivot_table(index='ClusterNo',aggfunc='mean')"
   ]
  },
  {
   "cell_type": "code",
   "execution_count": 71,
   "metadata": {},
   "outputs": [
    {
     "data": {
      "text/plain": [
       "<matplotlib.axes._subplots.AxesSubplot at 0x1a2494f588>"
      ]
     },
     "execution_count": 71,
     "metadata": {},
     "output_type": "execute_result"
    },
    {
     "data": {
      "image/png": "[encoded data removed]",
      "text/plain": [
       "<Figure size 432x288 with 2 Axes>"
      ]
     },
     "metadata": {
      "needs_background": "light"
     },
     "output_type": "display_data"
    }
   ],
   "source": [
    "%matplotlib inline\n",
    "outfile.plot.scatter(x='age', y='DailySteps',c='ClusterNo', colormap='viridis')"
   ]
  },
  {
   "cell_type": "code",
   "execution_count": 72,
   "metadata": {},
   "outputs": [
    {
     "name": "stdout",
     "output_type": "stream",
     "text": [
      "    age  weight  height  DailySteps\n",
      "98   68     100     122       13200\n",
      "99   70     100     122       14855 \n",
      " [[0.96153846 1.         0.         0.88373727]\n",
      " [1.         1.         0.         1.        ]]\n"
     ]
    },
    {
     "data": {
      "text/html": [
       "<div>\n",
       "<style scoped>\n",
       "    .dataframe tbody tr th:only-of-type {\n",
       "        vertical-align: middle;\n",
       "    }\n",
       "\n",
       "    .dataframe tbody tr th {\n",
       "        vertical-align: top;\n",
       "    }\n",
       "\n",
       "    .dataframe thead th {\n",
       "        text-align: right;\n",
       "    }\n",
       "</style>\n",
       "<table border=\"1\" class=\"dataframe\">\n",
       "  <thead>\n",
       "    <tr style=\"text-align: right;\">\n",
       "      <th></th>\n",
       "      <th>DailySteps</th>\n",
       "      <th>age</th>\n",
       "      <th>height</th>\n",
       "      <th>weight</th>\n",
       "    </tr>\n",
       "    <tr>\n",
       "      <th>ClusterNo</th>\n",
       "      <th></th>\n",
       "      <th></th>\n",
       "      <th></th>\n",
       "      <th></th>\n",
       "    </tr>\n",
       "  </thead>\n",
       "  <tbody>\n",
       "    <tr>\n",
       "      <th>0</th>\n",
       "      <td>3450.961538</td>\n",
       "      <td>31.230769</td>\n",
       "      <td>192.192308</td>\n",
       "      <td>54.538462</td>\n",
       "    </tr>\n",
       "    <tr>\n",
       "      <th>1</th>\n",
       "      <td>10809.722222</td>\n",
       "      <td>62.388889</td>\n",
       "      <td>131.444444</td>\n",
       "      <td>92.166667</td>\n",
       "    </tr>\n",
       "    <tr>\n",
       "      <th>2</th>\n",
       "      <td>9193.000000</td>\n",
       "      <td>46.727273</td>\n",
       "      <td>164.409091</td>\n",
       "      <td>74.909091</td>\n",
       "    </tr>\n",
       "    <tr>\n",
       "      <th>3</th>\n",
       "      <td>3149.384615</td>\n",
       "      <td>57.461538</td>\n",
       "      <td>140.769231</td>\n",
       "      <td>86.230769</td>\n",
       "    </tr>\n",
       "    <tr>\n",
       "      <th>4</th>\n",
       "      <td>10629.476190</td>\n",
       "      <td>28.571429</td>\n",
       "      <td>197.666667</td>\n",
       "      <td>50.904762</td>\n",
       "    </tr>\n",
       "  </tbody>\n",
       "</table>\n",
       "</div>"
      ],
      "text/plain": [
       "             DailySteps        age      height     weight\n",
       "ClusterNo                                                \n",
       "0           3450.961538  31.230769  192.192308  54.538462\n",
       "1          10809.722222  62.388889  131.444444  92.166667\n",
       "2           9193.000000  46.727273  164.409091  74.909091\n",
       "3           3149.384615  57.461538  140.769231  86.230769\n",
       "4          10629.476190  28.571429  197.666667  50.904762"
      ]
     },
     "execution_count": 72,
     "metadata": {},
     "output_type": "execute_result"
    }
   ],
   "source": [
    "from sklearn.preprocessing import MinMaxScaler\n",
    "scalerfun= MinMaxScaler()\n",
    "scaled_data = scalerfun.fit_transform(infile)\n",
    "\n",
    "print(infile.tail(2),'\\n',scaled_data[-2:])\n",
    "\n",
    "kmc1 = KMeans (n_clusters=5)\n",
    "kmc1.fit(scaled_data)\n",
    "outfile = infile.copy()\n",
    "outfile['ClusterNo']=kmc1.labels_\n",
    "#kmc1.labels_\n",
    "outfile.pivot_table(index='ClusterNo',aggfunc='mean')"
   ]
  },
  {
   "cell_type": "code",
   "execution_count": 73,
   "metadata": {},
   "outputs": [
    {
     "data": {
      "text/plain": [
       "numpy.ndarray"
      ]
     },
     "execution_count": 73,
     "metadata": {},
     "output_type": "execute_result"
    }
   ],
   "source": [
    "type(scaled_data)"
   ]
  },
  {
   "cell_type": "code",
   "execution_count": 74,
   "metadata": {},
   "outputs": [],
   "source": [
    "#Understanding oversampling\n",
    "#target y = default (3%) or pay (97%)\n",
    "#train (defualt 30,pay 970)-1000\n",
    "#train - 30 default, 60 pay"
   ]
  },
  {
   "cell_type": "code",
   "execution_count": 75,
   "metadata": {},
   "outputs": [
    {
     "data": {
      "text/plain": [
       "<function matplotlib.pyplot.bone()>"
      ]
     },
     "execution_count": 75,
     "metadata": {},
     "output_type": "execute_result"
    },
    {
     "data": {
      "image/png": "[encoded data removed]",
      "text/plain": [
       "<Figure size 432x288 with 1 Axes>"
      ]
     },
     "metadata": {
      "needs_background": "light"
     },
     "output_type": "display_data"
    }
   ],
   "source": [
    "cldist=[]\n",
    "for i in range(1,20):\n",
    "    kmc1 = KMeans (n_clusters=i)\n",
    "    kmc1.fit(scaled_data)\n",
    "    cldist.append(kmc1.inertia_)\n",
    "\n",
    "%matplotlib inline\n",
    "import matplotlib.pyplot as plt\n",
    "plt.scatter(x=range(1,20),y=cldist)\n",
    "# Scree or elbow\n",
    "plt.bone"
   ]
  },
  {
   "cell_type": "code",
   "execution_count": 76,
   "metadata": {},
   "outputs": [],
   "source": [
    "import pandas as pd\n",
    "\n",
    "from sklearn.preprocessing import MinMaxScaler\n",
    "import os\n",
    "os.chdir(r'/Users/manick/Python Training/dataset')\n",
    "infile=pd.read_csv('europeanfoods.csv')"
   ]
  },
  {
   "cell_type": "code",
   "execution_count": 77,
   "metadata": {},
   "outputs": [],
   "source": [
    "scalefun=MinMaxScaler()\n",
    "scaled_data = scalefun.fit_transform(infile.drop(columns='name'))"
   ]
  },
  {
   "cell_type": "code",
   "execution_count": 78,
   "metadata": {},
   "outputs": [
    {
     "data": {
      "image/png": "[encoded data removed]",
      "text/plain": [
       "<Figure size 720x504 with 1 Axes>"
      ]
     },
     "metadata": {
      "needs_background": "light"
     },
     "output_type": "display_data"
    }
   ],
   "source": [
    "import scipy.cluster.hierarchy as shc\n",
    "import matplotlib.pyplot as plt\n",
    "%matplotlib inline\n",
    "plt.figure (figsize=(10,7))\n",
    "plt.title(\"Customer Dendograms\")\n",
    "dend=shc.dendrogram(shc.linkage(scaled_data, method='ward'), \n",
    "                   labels=list(infile['name']))\n",
    "\n"
   ]
  },
  {
   "cell_type": "code",
   "execution_count": 79,
   "metadata": {},
   "outputs": [
    {
     "data": {
      "text/html": [
       "<div>\n",
       "<style scoped>\n",
       "    .dataframe tbody tr th:only-of-type {\n",
       "        vertical-align: middle;\n",
       "    }\n",
       "\n",
       "    .dataframe tbody tr th {\n",
       "        vertical-align: top;\n",
       "    }\n",
       "\n",
       "    .dataframe thead th {\n",
       "        text-align: right;\n",
       "    }\n",
       "</style>\n",
       "<table border=\"1\" class=\"dataframe\">\n",
       "  <thead>\n",
       "    <tr style=\"text-align: right;\">\n",
       "      <th></th>\n",
       "      <th>butter</th>\n",
       "      <th>crispbread</th>\n",
       "      <th>fresh apples</th>\n",
       "      <th>fresh oranges</th>\n",
       "      <th>frozen fish</th>\n",
       "      <th>frozen vegetables</th>\n",
       "      <th>garlic clove</th>\n",
       "      <th>ground coffee</th>\n",
       "      <th>instant coffee</th>\n",
       "      <th>instant potatoes</th>\n",
       "      <th>margarine</th>\n",
       "      <th>olive oil</th>\n",
       "      <th>packaged biscuits</th>\n",
       "      <th>packaged soup</th>\n",
       "      <th>shop jam</th>\n",
       "      <th>sugarless sweets</th>\n",
       "      <th>tea bags</th>\n",
       "      <th>tinned fruit</th>\n",
       "      <th>tinned soup</th>\n",
       "      <th>yogurt</th>\n",
       "    </tr>\n",
       "    <tr>\n",
       "      <th>ClusterNo</th>\n",
       "      <th></th>\n",
       "      <th></th>\n",
       "      <th></th>\n",
       "      <th></th>\n",
       "      <th></th>\n",
       "      <th></th>\n",
       "      <th></th>\n",
       "      <th></th>\n",
       "      <th></th>\n",
       "      <th></th>\n",
       "      <th></th>\n",
       "      <th></th>\n",
       "      <th></th>\n",
       "      <th></th>\n",
       "      <th></th>\n",
       "      <th></th>\n",
       "      <th></th>\n",
       "      <th></th>\n",
       "      <th></th>\n",
       "      <th></th>\n",
       "    </tr>\n",
       "  </thead>\n",
       "  <tbody>\n",
       "    <tr>\n",
       "      <th>0</th>\n",
       "      <td>79.750000</td>\n",
       "      <td>63.250000</td>\n",
       "      <td>62.000000</td>\n",
       "      <td>69.750000</td>\n",
       "      <td>38.250000</td>\n",
       "      <td>28.50</td>\n",
       "      <td>11.5</td>\n",
       "      <td>95.750000</td>\n",
       "      <td>14.75</td>\n",
       "      <td>18.75</td>\n",
       "      <td>77.750000</td>\n",
       "      <td>30.75</td>\n",
       "      <td>48.000000</td>\n",
       "      <td>38.250000</td>\n",
       "      <td>56.750000</td>\n",
       "      <td>24.750000</td>\n",
       "      <td>88.0</td>\n",
       "      <td>39.750000</td>\n",
       "      <td>18.50</td>\n",
       "      <td>3.750000</td>\n",
       "    </tr>\n",
       "    <tr>\n",
       "      <th>1</th>\n",
       "      <td>96.000000</td>\n",
       "      <td>18.500000</td>\n",
       "      <td>66.500000</td>\n",
       "      <td>60.000000</td>\n",
       "      <td>12.500000</td>\n",
       "      <td>13.50</td>\n",
       "      <td>8.0</td>\n",
       "      <td>20.000000</td>\n",
       "      <td>69.00</td>\n",
       "      <td>9.50</td>\n",
       "      <td>59.500000</td>\n",
       "      <td>44.00</td>\n",
       "      <td>85.500000</td>\n",
       "      <td>65.000000</td>\n",
       "      <td>90.000000</td>\n",
       "      <td>16.500000</td>\n",
       "      <td>99.0</td>\n",
       "      <td>67.500000</td>\n",
       "      <td>47.00</td>\n",
       "      <td>7.000000</td>\n",
       "    </tr>\n",
       "    <tr>\n",
       "      <th>2</th>\n",
       "      <td>79.333333</td>\n",
       "      <td>17.166667</td>\n",
       "      <td>81.833333</td>\n",
       "      <td>81.333333</td>\n",
       "      <td>18.333333</td>\n",
       "      <td>15.00</td>\n",
       "      <td>51.5</td>\n",
       "      <td>89.666667</td>\n",
       "      <td>54.00</td>\n",
       "      <td>14.00</td>\n",
       "      <td>75.166667</td>\n",
       "      <td>58.50</td>\n",
       "      <td>63.166667</td>\n",
       "      <td>58.333333</td>\n",
       "      <td>55.833333</td>\n",
       "      <td>19.833333</td>\n",
       "      <td>78.0</td>\n",
       "      <td>52.666667</td>\n",
       "      <td>20.00</td>\n",
       "      <td>39.833333</td>\n",
       "    </tr>\n",
       "    <tr>\n",
       "      <th>3</th>\n",
       "      <td>56.500000</td>\n",
       "      <td>12.750000</td>\n",
       "      <td>49.250000</td>\n",
       "      <td>60.250000</td>\n",
       "      <td>15.500000</td>\n",
       "      <td>5.75</td>\n",
       "      <td>76.5</td>\n",
       "      <td>69.750000</td>\n",
       "      <td>26.75</td>\n",
       "      <td>6.50</td>\n",
       "      <td>56.250000</td>\n",
       "      <td>76.25</td>\n",
       "      <td>42.000000</td>\n",
       "      <td>37.750000</td>\n",
       "      <td>35.250000</td>\n",
       "      <td>4.750000</td>\n",
       "      <td>59.5</td>\n",
       "      <td>15.250000</td>\n",
       "      <td>1.75</td>\n",
       "      <td>10.000000</td>\n",
       "    </tr>\n",
       "  </tbody>\n",
       "</table>\n",
       "</div>"
      ],
      "text/plain": [
       "              butter  crispbread  fresh apples  fresh oranges  frozen fish  \\\n",
       "ClusterNo                                                                    \n",
       "0          79.750000   63.250000     62.000000      69.750000    38.250000   \n",
       "1          96.000000   18.500000     66.500000      60.000000    12.500000   \n",
       "2          79.333333   17.166667     81.833333      81.333333    18.333333   \n",
       "3          56.500000   12.750000     49.250000      60.250000    15.500000   \n",
       "\n",
       "           frozen vegetables  garlic clove  ground coffee  instant coffee  \\\n",
       "ClusterNo                                                                   \n",
       "0                      28.50          11.5      95.750000           14.75   \n",
       "1                      13.50           8.0      20.000000           69.00   \n",
       "2                      15.00          51.5      89.666667           54.00   \n",
       "3                       5.75          76.5      69.750000           26.75   \n",
       "\n",
       "           instant potatoes  margarine  olive oil  packaged biscuits  \\\n",
       "ClusterNo                                                              \n",
       "0                     18.75  77.750000      30.75          48.000000   \n",
       "1                      9.50  59.500000      44.00          85.500000   \n",
       "2                     14.00  75.166667      58.50          63.166667   \n",
       "3                      6.50  56.250000      76.25          42.000000   \n",
       "\n",
       "           packaged soup   shop jam  sugarless sweets  tea bags  tinned fruit  \\\n",
       "ClusterNo                                                                       \n",
       "0              38.250000  56.750000         24.750000      88.0     39.750000   \n",
       "1              65.000000  90.000000         16.500000      99.0     67.500000   \n",
       "2              58.333333  55.833333         19.833333      78.0     52.666667   \n",
       "3              37.750000  35.250000          4.750000      59.5     15.250000   \n",
       "\n",
       "           tinned soup     yogurt  \n",
       "ClusterNo                          \n",
       "0                18.50   3.750000  \n",
       "1                47.00   7.000000  \n",
       "2                20.00  39.833333  \n",
       "3                 1.75  10.000000  "
      ]
     },
     "execution_count": 79,
     "metadata": {},
     "output_type": "execute_result"
    }
   ],
   "source": [
    "from sklearn.cluster import AgglomerativeClustering\n",
    "cluster = AgglomerativeClustering(n_clusters=4,\n",
    "                                  affinity='euclidean',\n",
    "                                  linkage='ward')\n",
    "clusterno = cluster.fit_predict(scaled_data)\n",
    "outdf = infile.copy()\n",
    "outdf['ClusterNo'] = clusterno\n",
    "pd.crosstab(outdf['name'],outdf['ClusterNo']).T\n",
    "\n",
    "outdf.pivot_table(index='ClusterNo',aggfunc='mean')"
   ]
  },
  {
   "cell_type": "code",
   "execution_count": null,
   "metadata": {},
   "outputs": [],
   "source": [
    " "
   ]
  }
 ],
 "metadata": {
  "kernelspec": {
   "display_name": "Python 3",
   "language": "python",
   "name": "python3"
  },
  "language_info": {
   "codemirror_mode": {
    "name": "ipython",
    "version": 3
   },
   "file_extension": ".py",
   "mimetype": "text/x-python",
   "name": "python",
   "nbconvert_exporter": "python",
   "pygments_lexer": "ipython3",
   "version": "3.7.4"
  }
 },
 "nbformat": 4,
 "nbformat_minor": 2
}
