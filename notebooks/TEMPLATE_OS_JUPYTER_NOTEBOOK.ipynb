{
 "cells": [
  {
   "cell_type": "markdown",
   "metadata": {},
   "source": [
    "### Notes:"
   ]
  },
  {
   "cell_type": "code",
   "execution_count": null,
   "metadata": {},
   "outputs": [],
   "source": [
    "NOTES:\n",
    "# • Python Distributions for Data Science:\n",
    "#     ->Ananconda\n",
    "#     ->Enthought Canopy\n",
    "\n",
    "# • Jupyter Notebook:\n",
    "# \t\t○ Combine code, text, images, videos\n",
    "# \t\t○ Any browser\n",
    "# \t\t○ Supports below kernels:\n",
    "# \t\t\t§ Python\n",
    "# \t\t\t§ R\n",
    "# \t\t\t§ Julia\n",
    "# \t\t\t§ Scala\n",
    "# \t\t○   Viewer: nbviewer(no browser needed)(in github)\n",
    "# \t\t○ Export to pdf, HTML, etc\n",
    "\n",
    "# • Jupyter notebook [--port <port_no>] #default:8888\n",
    "#                    [--no-browser] # useful for cloud\n"
   ]
  },
  {
   "cell_type": "markdown",
   "metadata": {},
   "source": [
    "### IMAGE"
   ]
  },
  {
   "cell_type": "code",
   "execution_count": null,
   "metadata": {},
   "outputs": [],
   "source": [
    "from IPython.display import Image \n",
    "#Image(filename='images/extracting_data_from_db_template.png', height=300, width=400)"
   ]
  },
  {
   "cell_type": "markdown",
   "metadata": {},
   "source": [
    "### Import Youtube videos"
   ]
  },
  {
   "cell_type": "code",
   "execution_count": null,
   "metadata": {},
   "outputs": [],
   "source": [
    "from IPython.display import YouTubeVideo\n",
    "YouTubeVideo(\"pN4HqWRybwk\")"
   ]
  },
  {
   "cell_type": "markdown",
   "metadata": {},
   "source": [
    "### Warnings"
   ]
  },
  {
   "cell_type": "code",
   "execution_count": null,
   "metadata": {},
   "outputs": [],
   "source": [
    "import warnings\n",
    "warnings.filterwarnings('ignore')"
   ]
  },
  {
   "cell_type": "markdown",
   "metadata": {},
   "source": [
    "### CONVERT .ipynb to .py"
   ]
  },
  {
   "cell_type": "code",
   "execution_count": null,
   "metadata": {},
   "outputs": [],
   "source": [
    "!jupyter nbconvert --to script Pluralsight_Python_data_science_Abhishek_kumar_2.ipynb\n",
    "!jupyter nbconvert --to script pyspark_baled_linechart_sql_test.ipynb\n",
    "!jupyter nbconvert --to script UDEMY_DEEP_LEARNING_A-Z_ANN_KIRILL_2.ipynb"
   ]
  },
  {
   "cell_type": "code",
   "execution_count": null,
   "metadata": {},
   "outputs": [],
   "source": [
    "'''\n",
    "!conda install -y nbconvert\n",
    "Solving environment: done\n",
    "\n",
    "## Package Plan ##\n",
    "\n",
    "  environment location: /anaconda3\n",
    "\n",
    "  added / updated specs: \n",
    "    - nbconvert\n",
    "\n",
    "\n",
    "The following packages will be downloaded:\n",
    "\n",
    "    package                    |            build\n",
    "    ---------------------------|-----------------\n",
    "    defusedxml-0.5.0           |           py36_1          29 KB\n",
    "    openssl-1.0.2p             |       h1de35cc_0         3.4 MB\n",
    "    nbconvert-5.4.0            |           py36_1         416 KB\n",
    "    conda-4.5.11               |           py36_0         1.0 MB\n",
    "    certifi-2018.8.24          |           py36_1         139 KB\n",
    "    ------------------------------------------------------------\n",
    "                                           Total:         5.0 MB\n",
    "\n",
    "The following NEW packages will be INSTALLED:\n",
    "\n",
    "    defusedxml:      0.5.0-py36_1                    \n",
    "\n",
    "The following packages will be UPDATED:\n",
    "\n",
    "    certifi:         2018.8.24-py36_1     conda-forge --> 2018.8.24-py36_1 \n",
    "    conda:           4.5.11-py36_0        conda-forge --> 4.5.11-py36_0    \n",
    "    nbconvert:       5.3.1-py36h810822e_0             --> 5.4.0-py36_1     \n",
    "    openssl:         1.0.2p-h470a237_0    conda-forge --> 1.0.2p-h1de35cc_0\n",
    "\n",
    "The following packages will be DOWNGRADED:\n",
    "\n",
    "    ca-certificates: 2018.8.24-ha4d7672_0 conda-forge --> 2018.03.07-0     \n",
    "\n",
    "\n",
    "Downloading and Extracting Packages\n",
    "defusedxml-0.5.0     | 29 KB     | ##################################### | 100% \n",
    "openssl-1.0.2p       | 3.4 MB    | ##################################### | 100% \n",
    "nbconvert-5.4.0      | 416 KB    | ##################################### | 100% \n",
    "conda-4.5.11         | 1.0 MB    | ##################################### | 100% \n",
    "certifi-2018.8.24    | 139 KB    | ##################################### | 100% \n",
    "Preparing transaction: done\n",
    "Verifying transaction: done\n",
    "Executing transaction: done\n",
    "\n",
    "​\n",
    "'''"
   ]
  },
  {
   "cell_type": "markdown",
   "metadata": {},
   "source": [
    "### PATH"
   ]
  },
  {
   "cell_type": "code",
   "execution_count": null,
   "metadata": {},
   "outputs": [],
   "source": [
    "import os\n",
    "raw_file_path = os.path.join(os.path.pardir, 'data', 'raw') \n",
    "\n",
    "consolidatemill_file_path = os.path.join(raw_file_path, 'consolidate_mill.csv')\n",
    "humidity_data_path = os.path.join(raw_file_path, 'dc_humidity.csv')\n",
    "date_data_path = os.path.join(raw_file_path, 'date_data.csv')\n",
    "\n",
    "location_division_mapping_file = os.path.join(os.path.pardir, 'data', 'raw', 'Location_Division_Mapping.csv') "
   ]
  },
  {
   "cell_type": "markdown",
   "metadata": {},
   "source": [
    "### RUN .PY SCRIPT FROM JUPYTER"
   ]
  },
  {
   "cell_type": "code",
   "execution_count": null,
   "metadata": {},
   "outputs": [],
   "source": [
    "import os\n",
    "get_data_processing_file = os.path.join(os.path.pardir, 'src', 'data', 'Titanic_processing_script.py')\n",
    " \n",
    "!python $get_data_processing_file\n",
    "# Output gets written below this cell"
   ]
  },
  {
   "cell_type": "markdown",
   "metadata": {},
   "source": [
    "### OS INFO"
   ]
  },
  {
   "cell_type": "code",
   "execution_count": null,
   "metadata": {},
   "outputs": [],
   "source": [
    "!pwd\n",
    "!python --version\n"
   ]
  },
  {
   "cell_type": "code",
   "execution_count": 4,
   "metadata": {},
   "outputs": [
    {
     "data": {
      "text/plain": [
       "{'ALLUSERSPROFILE': 'C:\\\\ProgramData',\n",
       " 'APPDATA': 'C:\\\\Users\\\\kon3254\\\\AppData\\\\Roaming',\n",
       " 'COMMONPROGRAMFILES': 'C:\\\\Program Files\\\\Common Files',\n",
       " 'COMMONPROGRAMFILES(X86)': 'C:\\\\Program Files (x86)\\\\Common Files',\n",
       " 'COMMONPROGRAMW6432': 'C:\\\\Program Files\\\\Common Files',\n",
       " 'COMPUTERNAME': 'OF06090MJ4M20',\n",
       " 'COMSPEC': 'C:\\\\Windows\\\\system32\\\\cmd.exe',\n",
       " 'FP_NO_HOST_CHECK': 'NO',\n",
       " 'HADOOP_HOME': 'C:\\\\SOFTWARE\\\\winutils\\\\hadoop-winutils-2.6.0',\n",
       " 'HOMEDRIVE': 'C:',\n",
       " 'HOMEPATH': '\\\\Users\\\\kon3254',\n",
       " 'IMAGE': '1.0.20160308',\n",
       " 'IMAGETYPE': 'Prod',\n",
       " 'JAVA_HOME': 'C:\\\\Program Files\\\\Java\\\\jdk1.8.0_161',\n",
       " 'LOCALAPPDATA': 'C:\\\\Users\\\\kon3254\\\\AppData\\\\Local',\n",
       " 'LOGONSERVER': '\\\\\\\\N060ADKBTC41',\n",
       " 'NUMBER_OF_PROCESSORS': '4',\n",
       " 'ONEDRIVE': 'C:\\\\Users\\\\kon3254\\\\OneDrive',\n",
       " 'OS': 'Windows_NT',\n",
       " 'PATH': 'c:\\\\SOFTWARE\\\\anaconda\\\\Library\\\\bin;C:\\\\Windows\\\\system32;C:\\\\SOFTWARE\\\\anaconda;C:\\\\cygwin64\\\\bin;C:\\\\Program Files\\\\IDM Computer Solutions\\\\UltraEdit;C:\\\\Program Files (x86)\\\\GitExtensions\\\\;C:\\\\Windows\\\\System32\\\\WindowsPowerShell\\\\v1.0\\\\;C:\\\\SOFTWARE\\\\anaconda\\\\pkgs\\\\java-jdk-8.25.17-0\\\\Library\\\\bin;C:\\\\Program Files\\\\Java\\\\jdk1.8.0_161\\\\bin;C:\\\\Users\\\\kon3254\\\\Downloads\\\\apache-maven-3.5.3\\\\bin;C:\\\\Program Files\\\\Java\\\\jdk1.8.0_161\\\\bin;C:\\\\Program Files (x86)\\\\Google\\\\Cloud SDK\\\\google-cloud-sdk\\\\bin;C:\\\\Users\\\\kon3254\\\\Downloads\\\\google-cloud-sdk\\\\bin;C:\\\\SOFTWARE\\\\apache-maven-3.5.3\\\\bin;C:\\\\Python27;C:\\\\Python27\\\\Lib;C:\\\\Python27\\\\Scripts;C:\\\\Program Files (x86)\\\\WinMerge;C:\\\\Windows\\\\System32\\\\WindowsPowerShell\\\\v1.0\\\\;c:\\\\SOFTWARE\\\\anaconda\\\\Scripts;C:\\\\Program Files\\\\Git\\\\bin;C:\\\\Windows\\\\System32\\\\WindowsPowerShell\\\\v1.0\\\\;C:\\\\Program Files (x86)\\\\Microsoft SQL Server\\\\Client SDK\\\\ODBC\\\\130\\\\Tools\\\\Binn\\\\;C:\\\\Program Files (x86)\\\\Microsoft SQL Server\\\\140\\\\Tools\\\\Binn\\\\;C:\\\\Program Files (x86)\\\\Microsoft SQL Server\\\\140\\\\DTS\\\\Binn\\\\;C:\\\\Program Files (x86)\\\\Microsoft SQL Server\\\\140\\\\Tools\\\\Binn\\\\ManagementStudio\\\\;C:\\\\SOFTWARE\\\\terraform;',\n",
       " 'PATHEXT': '.COM;.EXE;.BAT;.CMD;.VBS;.VBE;.JS;.JSE;.WSF;.WSH;.MSC',\n",
       " 'PROCESSOR_ARCHITECTURE': 'AMD64',\n",
       " 'PROCESSOR_IDENTIFIER': 'Intel64 Family 6 Model 94 Stepping 3, GenuineIntel',\n",
       " 'PROCESSOR_LEVEL': '6',\n",
       " 'PROCESSOR_REVISION': '5e03',\n",
       " 'PROGRAMDATA': 'C:\\\\ProgramData',\n",
       " 'PROGRAMFILES': 'C:\\\\Program Files',\n",
       " 'PROGRAMFILES(X86)': 'C:\\\\Program Files (x86)',\n",
       " 'PROGRAMW6432': 'C:\\\\Program Files',\n",
       " 'PROMPT': '$P$G',\n",
       " 'PSMODULEPATH': ';C:\\\\SOFTWARE\\\\google_cloud_sdk_new\\\\google-cloud-sdk\\\\platform\\\\PowerShell;C:\\\\SOFTWARE\\\\google-cloud-sdk\\\\platform\\\\PowerShell;C:\\\\Users\\\\kon3254\\\\AppData\\\\Local\\\\Google\\\\Cloud SDK\\\\google-cloud-sdk\\\\platform\\\\PowerShell',\n",
       " 'PUBLIC': 'C:\\\\Users\\\\Public',\n",
       " 'SESSIONNAME': 'Console',\n",
       " 'SYSTEMDRIVE': 'C:',\n",
       " 'SYSTEMROOT': 'C:\\\\Windows',\n",
       " 'TEMP': 'C:\\\\Users\\\\kon3254\\\\AppData\\\\Local\\\\Temp',\n",
       " 'TMP': 'C:\\\\Users\\\\kon3254\\\\AppData\\\\Local\\\\Temp',\n",
       " 'USERDNSDOMAIN': 'KROGER.COM',\n",
       " 'USERDOMAIN': 'KROGER',\n",
       " 'USERNAME': 'KON3254',\n",
       " 'USERPROFILE': 'C:\\\\Users\\\\kon3254',\n",
       " 'VBOX_MSI_INSTALL_PATH': 'C:\\\\Program Files\\\\Oracle\\\\VirtualBox\\\\',\n",
       " 'WINDIR': 'C:\\\\Windows',\n",
       " 'WINDOWS_TRACING_FLAGS': '3',\n",
       " 'WINDOWS_TRACING_LOGFILE': 'C:\\\\BVTBin\\\\Tests\\\\installpackage\\\\csilogfile.log',\n",
       " 'JPY_INTERRUPT_EVENT': '4004',\n",
       " 'IPY_INTERRUPT_EVENT': '4004',\n",
       " 'JPY_PARENT_PID': '3340',\n",
       " 'TERM': 'xterm-color',\n",
       " 'CLICOLOR': '1',\n",
       " 'PAGER': 'cat',\n",
       " 'GIT_PAGER': 'cat',\n",
       " 'MPLBACKEND': 'module://ipykernel.pylab.backend_inline'}"
      ]
     },
     "execution_count": 4,
     "metadata": {},
     "output_type": "execute_result"
    }
   ],
   "source": [
    "%env"
   ]
  },
  {
   "cell_type": "code",
   "execution_count": 2,
   "metadata": {},
   "outputs": [
    {
     "name": "stderr",
     "output_type": "stream",
     "text": [
      "DEPRECATION: The default format will switch to columns in the future. You can use --format=(legacy|columns) (or define a format=(legacy|columns) in your pip.conf under the [list] section) to disable this warning.\n",
      "You are using pip version 9.0.1, however version 19.1.1 is available.\n",
      "You should consider upgrading via the 'python -m pip install --upgrade pip' command.\n"
     ]
    }
   ],
   "source": [
    "!pip list | grep ipython "
   ]
  },
  {
   "cell_type": "code",
   "execution_count": 3,
   "metadata": {},
   "outputs": [
    {
     "name": "stdout",
     "output_type": "stream",
     "text": [
      "ipython                   7.1.1            py36h39e3cac_0  \n",
      "ipython_genutils          0.2.0            py36h3c5d0ee_0  \n"
     ]
    }
   ],
   "source": [
    "!conda list | grep ipython "
   ]
  },
  {
   "cell_type": "code",
   "execution_count": 1,
   "metadata": {},
   "outputs": [
    {
     "name": "stdout",
     "output_type": "stream",
     "text": [
      "LICENSE\n",
      "LOGGING\n",
      "Makefile\n",
      "README.md\n",
      "docs\n",
      "logging.conf\n",
      "models\n",
      "notebooks\n",
      "references\n",
      "reports\n",
      "requirements.txt\n",
      "setup.py\n",
      "src\n",
      "test_environment.py\n",
      "tox.ini\n"
     ]
    }
   ],
   "source": [
    "import os\n",
    "! ls $os.path.pardir"
   ]
  },
  {
   "cell_type": "code",
   "execution_count": 2,
   "metadata": {},
   "outputs": [
    {
     "name": "stdout",
     "output_type": "stream",
     "text": [
      "MY_DATA_SCIENCE\n"
     ]
    }
   ],
   "source": [
    "! ls ../$os.path.pardir"
   ]
  },
  {
   "cell_type": "code",
   "execution_count": null,
   "metadata": {},
   "outputs": [],
   "source": [
    "import os\n",
    "os.curdir\n",
    "\n",
    "os.pardir\n",
    "\n",
    "os.path.dirname(os.pardir)\n",
    "\n",
    "os.getcwd()\n",
    "\n",
    "os.path.abspath(__name__)\n",
    "\n",
    "os.getegid()\n",
    "\n",
    "os.getenv('SPARK_HOME')\n",
    "\n",
    "os.environ\n",
    "\n",
    "my_folder= !pwd\n",
    "my_folder\n",
    "\n",
    "!pwd"
   ]
  },
  {
   "cell_type": "markdown",
   "metadata": {},
   "source": [
    "### Housekeeping Global file"
   ]
  },
  {
   "cell_type": "code",
   "execution_count": 3,
   "metadata": {},
   "outputs": [
    {
     "data": {
      "text/plain": [
       "'..\\\\src\\\\scripts\\\\housekeeping.py'"
      ]
     },
     "execution_count": 3,
     "metadata": {},
     "output_type": "execute_result"
    }
   ],
   "source": [
    "housekeeping_file = os.path.join(os.pardir , 'src' , 'scripts', 'housekeeping.py')\n",
    "housekeeping_file"
   ]
  },
  {
   "cell_type": "code",
   "execution_count": 5,
   "metadata": {},
   "outputs": [
    {
     "name": "stdout",
     "output_type": "stream",
     "text": [
      "#Housekeeping\\\n",
      "import pandas as pd\n",
      "import numpy as np\n",
      "import matplotlib.pyplot as plt\n",
      "%matplotlib inline\n",
      "import os\n",
      "\n",
      "from IPython.display import Image\n",
      "from IPython.core.display import HTML \n",
      "#Image(filename='images/extracting_data_from_db_template.png', height=300, width=400)}\n"
     ]
    }
   ],
   "source": [
    "!cat $housekeeping_file  "
   ]
  },
  {
   "cell_type": "code",
   "execution_count": null,
   "metadata": {},
   "outputs": [],
   "source": [
    "%load ../src/scripts/housekeeping.py"
   ]
  },
  {
   "cell_type": "code",
   "execution_count": null,
   "metadata": {},
   "outputs": [],
   "source": [
    "# %load ../src/scripts/housekeeping.py\n",
    "#Housekeeping\\\n",
    "import pandas as pd\n",
    "import numpy as np\n",
    "import matplotlib.pyplot as plt\n",
    "%matplotlib inline\n",
    "import os\n",
    "\n",
    "from IPython.display import Image\n",
    "from IPython.core.display import HTML \n",
    "#Image(filename='images/extracting_data_from_db_template.png', height=300, width=400)}"
   ]
  },
  {
   "cell_type": "markdown",
   "metadata": {},
   "source": [
    "### GLOB in python"
   ]
  },
  {
   "cell_type": "code",
   "execution_count": null,
   "metadata": {},
   "outputs": [],
   "source": [
    "def processAll(path):\n",
    "    \n",
    "    allDF = pd.DataFrame()\n",
    "    folder_names = glob.glob(path + '\\\\*') \n",
    "    for f in folder_names:\n",
    "        df = processFolder(f)\n",
    "        allDF = allDF.append(df, ignore_index=True, sort=True)\n",
    "    return allDF\n",
    "\n",
    "def processFolder(folder_name): \n",
    "    partialDF = pd.DataFrame()\n",
    "    current_files = folder_name  + '\\*.xls'\n",
    "    file_names = glob.glob(current_files)  \n",
    "    for f in file_names:\n",
    "        df = pd.read_excel(f)\n",
    "        partialDF = partialDF.append(df,ignore_index=True, sort=True)\n",
    "    return partialDF\n",
    "\n",
    "import glob\n",
    "# STEP 1: Process all folders\n",
    "raw_file_path = os.path.join(os.path.pardir, 'data', 'raw', 'mill_data_all') \n",
    "finalDF = processAll(raw_file_path) "
   ]
  },
  {
   "cell_type": "markdown",
   "metadata": {},
   "source": [
    "### EXECUTE USNG .PY FILE"
   ]
  },
  {
   "cell_type": "markdown",
   "metadata": {},
   "source": [
    "#Usage: C:\\OR\\PROJECTS\\BALER\\BALER_JUPYTER_PROJECT\\baler\\notebooks>python Combine_Mill_Data.py <root_path> | default"
   ]
  },
  {
   "cell_type": "markdown",
   "metadata": {},
   "source": [
    "### PRINT"
   ]
  },
  {
   "cell_type": "code",
   "execution_count": null,
   "metadata": {},
   "outputs": [],
   "source": [
    "# Define some helpful functions\n",
    "def printDf(sprkDF): \n",
    "    newdf = sprkDF.toPandas()\n",
    "    from IPython.display import display, HTML\n",
    "    return HTML(newdf.to_html())"
   ]
  },
  {
   "cell_type": "markdown",
   "metadata": {},
   "source": [
    "## MARKDOWN"
   ]
  },
  {
   "cell_type": "markdown",
   "metadata": {},
   "source": [
    "### BLOCK QUOTES"
   ]
  },
  {
   "cell_type": "markdown",
   "metadata": {},
   "source": [
    ">lock quote blah blah bblah blah block quote blah blah block quote blah blah block quote blah blah block quote blah blah \n",
    "lock quote blah blah bblah blah block quote blah blah block quote blah blah block quote blah blah block quote blah blah block quote blah blah block quote blah blah block quote blah blah block quote blah blah block quote"
   ]
  },
  {
   "cell_type": "markdown",
   "metadata": {},
   "source": [
    "***"
   ]
  },
  {
   "cell_type": "markdown",
   "metadata": {},
   "source": [
    "### HORIZONTAL LINE"
   ]
  },
  {
   "cell_type": "markdown",
   "metadata": {},
   "source": [
    "#***"
   ]
  },
  {
   "cell_type": "markdown",
   "metadata": {},
   "source": [
    "***"
   ]
  },
  {
   "cell_type": "markdown",
   "metadata": {},
   "source": [
    "### NESTED BLOCKQUOTES"
   ]
  },
  {
   "cell_type": "markdown",
   "metadata": {},
   "source": [
    ">blah blah block quote blah blah block quote blah blah block  \n",
    "block quote blah blah block block quote blah blah block  \n",
    ">>quote blah blah block quote blah blah  \n",
    "block block quote blah blah block   \n",
    ">>>quote blah blah block quote blah blah block quote blah blah block quote"
   ]
  },
  {
   "cell_type": "markdown",
   "metadata": {},
   "source": [
    "### ORDERED LIST"
   ]
  },
  {
   "cell_type": "raw",
   "metadata": {},
   "source": [
    "0. Fruit:\n",
    "    6. Pears\n",
    "    0. Peaches\n",
    "    3. Plums\n",
    "    4. Apples \n",
    "        2. Granny Smith \n",
    "        7. Gala\n",
    "    * Oranges\n",
    "    - Berries \n",
    "        8. Strawberries \n",
    "        + Blueberries\n",
    "        * Raspberries\n",
    "    - Bananas\n",
    "9. Bread:\n",
    "    9. Whole Wheat\n",
    "        0. With oats on crust\n",
    "        0. Without oats on crust\n",
    "    0. Rye \n",
    "    0. White\n",
    "0. Dairy:\n",
    "    0. Milk\n",
    "        0. Whole\n",
    "        0. Skim\n",
    "    0. Cheese\n",
    "        0. Wisconsin Cheddar\n",
    "        0. Pepper Jack"
   ]
  },
  {
   "cell_type": "markdown",
   "metadata": {},
   "source": [
    "0. Fruit:\n",
    "    6. Pears\n",
    "    0. Peaches\n",
    "    3. Plums\n",
    "    4. Apples \n",
    "        2. Granny Smith \n",
    "        7. Gala\n",
    "    * Oranges\n",
    "    - Berries \n",
    "        8. Strawberries \n",
    "        + Blueberries\n",
    "        * Raspberries\n",
    "    - Bananas\n",
    "9. Bread:\n",
    "    9. Whole Wheat\n",
    "        0. With oats on crust\n",
    "        0. Without oats on crust\n",
    "    0. Rye \n",
    "    0. White\n",
    "0. Dairy:\n",
    "    0. Milk\n",
    "        0. Whole\n",
    "        0. Skim\n",
    "    0. Cheese\n",
    "        0. Wisconsin Cheddar\n",
    "        0. Pepper Jack"
   ]
  },
  {
   "cell_type": "markdown",
   "metadata": {},
   "source": [
    "---"
   ]
  },
  {
   "cell_type": "markdown",
   "metadata": {},
   "source": [
    "---"
   ]
  },
  {
   "cell_type": "markdown",
   "metadata": {},
   "source": [
    "### LINKS"
   ]
  },
  {
   "cell_type": "markdown",
   "metadata": {},
   "source": [
    "#### Standard Link:"
   ]
  },
  {
   "cell_type": "markdown",
   "metadata": {},
   "source": [
    "[click this link](http://en.wikipedia.org)"
   ]
  },
  {
   "cell_type": "markdown",
   "metadata": {},
   "source": [
    "#### Standard Links with mouse over title:"
   ]
  },
  {
   "cell_type": "markdown",
   "metadata": {},
   "source": [
    "[click this link](http://en.wikipedia.org \"Wikipedia\")"
   ]
  },
  {
   "cell_type": "markdown",
   "metadata": {},
   "source": [
    "#### Automatic link:"
   ]
  },
  {
   "cell_type": "markdown",
   "metadata": {},
   "source": [
    "http://en.wikipedia.org"
   ]
  },
  {
   "cell_type": "markdown",
   "metadata": {},
   "source": [
    "### TABLES"
   ]
  },
  {
   "cell_type": "raw",
   "metadata": {},
   "source": [
    "Header|Header|Header|Header\n",
    "-|-|-|-\n",
    "Cell|Cell|Cell|Cell\n",
    "Cell|Cell|Cell|Cell\n",
    "Cell|Cell|Cell|Cell\n",
    "Cell|Cell|Cell|Cell"
   ]
  },
  {
   "cell_type": "markdown",
   "metadata": {},
   "source": [
    "Header|Header|Header|Header\n",
    "-|-|-|-\n",
    "Cell|Cell|Cell|Cell\n",
    "Cell|Cell|Cell|Cell\n",
    "Cell|Cell|Cell|Cell\n",
    "Cell|Cell|Cell|Cell"
   ]
  },
  {
   "cell_type": "markdown",
   "metadata": {},
   "source": [
    "### DECORATIONS ON TEXT"
   ]
  },
  {
   "cell_type": "markdown",
   "metadata": {},
   "source": [
    "* ITALICS\n",
    "\n",
    "*Italics*\n",
    "\n",
    "* BOLD\n",
    "\n",
    "**Bold**\n",
    "\n",
    "* INDENT\n",
    "\n",
    "$Indent1$\n",
    "$$Indent2$$\n",
    "\n",
    "* LEVELS\n",
    "> LEVEL1\n",
    ">> LEVEL2\n",
    "\n",
    "* OTHER CHARACTERS\n",
    "\n",
    "Ampersand &amp; Ampersand\n",
    "\n",
    "&lt; angle brackets &gt;\n",
    "\n",
    "&quot; quotes &quot;\n"
   ]
  },
  {
   "cell_type": "markdown",
   "metadata": {},
   "source": [
    "### IMAGES"
   ]
  },
  {
   "cell_type": "markdown",
   "metadata": {},
   "source": [
    "![It doesn't matter what you write here](http://upload.wikimedia.org/wikipedia/commons/thumb/b/b7/South_African_Giraffe,_head.jpg/877px-South_African_Giraffe,_head.jpg \"Picture of a Giraffe)"
   ]
  },
  {
   "cell_type": "markdown",
   "metadata": {},
   "source": [
    "### LaTeX Math"
   ]
  },
  {
   "cell_type": "markdown",
   "metadata": {},
   "source": [
    "$z=\\dfrac{2x}{3y}$"
   ]
  },
  {
   "cell_type": "markdown",
   "metadata": {},
   "source": [
    "$F(k) = \\int_{-\\infty}^{\\infty} f(x) e^{2\\pi i k} dx$"
   ]
  },
  {
   "cell_type": "markdown",
   "metadata": {},
   "source": [
    "### COLOR"
   ]
  },
  {
   "cell_type": "markdown",
   "metadata": {},
   "source": [
    "This is <font color='red'>RED</font> color\n",
    "\n",
    "\n",
    "$\\color{red}{\\text{RED}}$\n",
    "\n",
    "<p style=\"font-family: Arial; font-size:1.4em;color:gold;\"> Golden </p>\n",
    "\n",
    "<p style=\"color:red;\">ERROR: Setting focus didn't work for me when I tried from jupyter. However it worked well when I ran it from the terminal</p>"
   ]
  },
  {
   "cell_type": "markdown",
   "metadata": {},
   "source": []
  },
  {
   "cell_type": "markdown",
   "metadata": {},
   "source": [
    "#### > INDENT\n",
    "> INDENT"
   ]
  },
  {
   "cell_type": "markdown",
   "metadata": {},
   "source": [
    "#### - BULLET ITEM\n",
    "- BULLET ITEM"
   ]
  },
  {
   "cell_type": "markdown",
   "metadata": {},
   "source": [
    "####  -  ITEM2\n",
    " -  ITEM2"
   ]
  },
  {
   "cell_type": "markdown",
   "metadata": {},
   "source": [
    "#### * ITEM3\n",
    "* ITEM3"
   ]
  },
  {
   "cell_type": "markdown",
   "metadata": {},
   "source": [
    "#### * MAIN BULLET\n",
    "####   * SUB_BULLET\n",
    "* MAIN BULLET\n",
    "   * SUB_BULLET    "
   ]
  },
  {
   "cell_type": "markdown",
   "metadata": {},
   "source": [
    "####\n",
    "#### 1. NUMBERED ITEM1\n",
    "#### 1. NUMBERED ITEM2\n",
    "#### 1. NUMBERED ITEM3\n",
    "#### 1. NUMBERED ITEM4\n",
    "####\n",
    "\n",
    "1. NUMBERED ITEM1\n",
    "1. NUMBERED ITEM2\n",
    "1. NUMBERED ITEM3\n",
    "1. NUMBERED ITEM4"
   ]
  },
  {
   "cell_type": "markdown",
   "metadata": {},
   "source": [
    "<div class=\"alert alert-block alert-danger\"> This is <b>RED</b> colored text </div>"
   ]
  },
  {
   "cell_type": "markdown",
   "metadata": {},
   "source": [
    "<div class=\"alert alert-block alert-danger\">\n",
    "<b>Just don't:</b> In general, avoid the red boxes. These should only be\n",
    "used for actions that might cause data loss or another major issue.\n",
    "</div>"
   ]
  },
  {
   "cell_type": "markdown",
   "metadata": {},
   "source": [
    "***"
   ]
  },
  {
   "cell_type": "markdown",
   "metadata": {},
   "source": [
    "__[Google web site]http://google.com__"
   ]
  },
  {
   "cell_type": "markdown",
   "metadata": {},
   "source": [
    "### Line Numbers"
   ]
  },
  {
   "cell_type": "code",
   "execution_count": 1,
   "metadata": {},
   "outputs": [],
   "source": [
    " #Line numbers keyboard shortcut: [ESC] + L"
   ]
  },
  {
   "cell_type": "markdown",
   "metadata": {},
   "source": [
    "### Magic Functions"
   ]
  },
  {
   "cell_type": "code",
   "execution_count": null,
   "metadata": {},
   "outputs": [],
   "source": [
    "%matplotlib inline"
   ]
  },
  {
   "cell_type": "code",
   "execution_count": null,
   "metadata": {},
   "outputs": [],
   "source": [
    " # Use % for single line\n",
    " # Use %% for multi line"
   ]
  },
  {
   "cell_type": "code",
   "execution_count": 13,
   "metadata": {},
   "outputs": [],
   "source": [
    "name = 'GANESH'"
   ]
  },
  {
   "cell_type": "code",
   "execution_count": 26,
   "metadata": {},
   "outputs": [
    {
     "name": "stdout",
     "output_type": "stream",
     "text": [
      "Overwriting test.txt\n"
     ]
    }
   ],
   "source": [
    "%%writefile test.txt\n",
    "this is written from jupyter notebook %name"
   ]
  },
  {
   "cell_type": "code",
   "execution_count": 27,
   "metadata": {},
   "outputs": [
    {
     "name": "stdout",
     "output_type": "stream",
     "text": [
      "this is written from jupyter notebook %name\n"
     ]
    }
   ],
   "source": [
    "!cat test.txt"
   ]
  },
  {
   "cell_type": "code",
   "execution_count": 9,
   "metadata": {},
   "outputs": [
    {
     "data": {
      "text/html": [
       "<p> List1 </i>\n",
       "<p> List2 </i>\n"
      ],
      "text/plain": [
       "<IPython.core.display.HTML object>"
      ]
     },
     "metadata": {},
     "output_type": "display_data"
    }
   ],
   "source": [
    "%%HTML\n",
    "<p> List1 </i>\n",
    "<p> List2 </i>"
   ]
  },
  {
   "cell_type": "code",
   "execution_count": 10,
   "metadata": {},
   "outputs": [
    {
     "data": {
      "text/latex": [
       "\\begin{align}\n",
       "Gradient : \\nabla J = - 2H^T (Y_HW)\n",
       "\\end{align}\n"
      ],
      "text/plain": [
       "<IPython.core.display.Latex object>"
      ]
     },
     "metadata": {},
     "output_type": "display_data"
    }
   ],
   "source": [
    "%%latex\n",
    "\\begin{align}\n",
    "Gradient : \\nabla J = - 2H^T (Y_HW)\n",
    "\\end{align}"
   ]
  },
  {
   "cell_type": "code",
   "execution_count": 28,
   "metadata": {},
   "outputs": [
    {
     "name": "stdout",
     "output_type": "stream",
     "text": [
      "27.6 µs ± 536 ns per loop (mean ± std. dev. of 7 runs, 10000 loops each)\n"
     ]
    }
   ],
   "source": [
    "%%timeit x = range(1000)\n",
    "max(x)"
   ]
  },
  {
   "cell_type": "markdown",
   "metadata": {},
   "source": [
    "### HTML RENDERING"
   ]
  },
  {
   "cell_type": "code",
   "execution_count": 33,
   "metadata": {},
   "outputs": [],
   "source": [
    "html_string = '''\n",
    "<!doctype html>\n",
    "<html lang=\\\"en\\\">\n",
    "    \"<head>\n",
    "          <title>Doing Data Science With Python</title>\n",
    "    </head>\n",
    "    <body>\n",
    "          <h1 style=\\\"color:#F15B2A;\\\">Doing Data Science With Python</h1>\n",
    "          <p id=\\\"author\\\">Author : Abhishek Kumar</p>\n",
    "    <p id=\\\"description\\\">This course will help you to perform various data science activities using python.</p>\n",
    "          \n",
    "          <h3 style=\\\"color:#404040\\\">Modules</h3>\n",
    "          <table id=\\\"module\\\" style=\\\"width:100%\\\">\n",
    "              <tr>\n",
    "                <th>Title</th>\n",
    "                <th>Duration (In Minutes)</th> \n",
    "              </tr>\n",
    "              <tr>\n",
    "                <td>Getting Started</td>\n",
    "                <td>20</td> \n",
    "              </tr>\n",
    "              <tr>\n",
    "                <td>Setting up the Environment</td>\n",
    "                <td>40</td> \n",
    "              </tr>\n",
    "              <tr>\n",
    "                <td>Extracting Data</td>\n",
    "                <td>35</td> \n",
    "              </tr>\n",
    "              <tr>\n",
    "                <td>Building Predictive Model</td>\n",
    "                <td>30</td> \n",
    "              </tr>\n",
    "          </table>\n",
    "    </body>\n",
    "    </html>\n",
    "    '''"
   ]
  },
  {
   "cell_type": "code",
   "execution_count": 34,
   "metadata": {},
   "outputs": [
    {
     "data": {
      "text/html": [
       "\n",
       "<!doctype html>\n",
       "<html lang=\"en\">\n",
       "    \"<head>\n",
       "          <title>Doing Data Science With Python</title>\n",
       "    </head>\n",
       "    <body>\n",
       "          <h1 style=\"color:#F15B2A;\">Doing Data Science With Python</h1>\n",
       "          <p id=\"author\">Author : Abhishek Kumar</p>\n",
       "    <p id=\"description\">This course will help you to perform various data science activities using python.</p>\n",
       "          \n",
       "          <h3 style=\"color:#404040\">Modules</h3>\n",
       "          <table id=\"module\" style=\"width:100%\">\n",
       "              <tr>\n",
       "                <th>Title</th>\n",
       "                <th>Duration (In Minutes)</th> \n",
       "              </tr>\n",
       "              <tr>\n",
       "                <td>Getting Started</td>\n",
       "                <td>20</td> \n",
       "              </tr>\n",
       "              <tr>\n",
       "                <td>Setting up the Environment</td>\n",
       "                <td>40</td> \n",
       "              </tr>\n",
       "              <tr>\n",
       "                <td>Extracting Data</td>\n",
       "                <td>35</td> \n",
       "              </tr>\n",
       "              <tr>\n",
       "                <td>Building Predictive Model</td>\n",
       "                <td>30</td> \n",
       "              </tr>\n",
       "          </table>\n",
       "    </body>\n",
       "    </html>\n",
       "    "
      ],
      "text/plain": [
       "<IPython.core.display.HTML object>"
      ]
     },
     "metadata": {},
     "output_type": "display_data"
    }
   ],
   "source": [
    "from IPython.core.display import display, HTML\n",
    "display(HTML(html_string))"
   ]
  },
  {
   "cell_type": "markdown",
   "metadata": {},
   "source": [
    "### Convert notebook to script"
   ]
  },
  {
   "cell_type": "code",
   "execution_count": 39,
   "metadata": {},
   "outputs": [
    {
     "name": "stderr",
     "output_type": "stream",
     "text": [
      "[NbConvertApp] Converting notebook TEMPLATE_OS_JUPYTER_NOTEBOOK.ipynb to html\n",
      "[NbConvertApp] Writing 314472 bytes to TEMPLATE_OS_JUPYTER_NOTEBOOK.html\n"
     ]
    }
   ],
   "source": [
    "!jupyter nbconvert TEMPLATE_OS_JUPYTER_NOTEBOOK.ipynb"
   ]
  },
  {
   "cell_type": "code",
   "execution_count": 40,
   "metadata": {},
   "outputs": [
    {
     "name": "stderr",
     "output_type": "stream",
     "text": [
      "[NbConvertApp] Converting notebook TEMPLATE_OS_JUPYTER_NOTEBOOK.ipynb to script\n",
      "[NbConvertApp] Writing 12154 bytes to TEMPLATE_OS_JUPYTER_NOTEBOOK.py\n"
     ]
    }
   ],
   "source": [
    "!jupyter nbconvert --to script TEMPLATE_OS_JUPYTER_NOTEBOOK.ipynb"
   ]
  },
  {
   "cell_type": "code",
   "execution_count": 41,
   "metadata": {},
   "outputs": [
    {
     "name": "stderr",
     "output_type": "stream",
     "text": [
      "[NbConvertApp] Converting notebook TEMPLATE_OS_JUPYTER_NOTEBOOK.ipynb to pdf\n",
      "[NbConvertApp] Writing 59380 bytes to notebook.tex\n",
      "[NbConvertApp] Building PDF\n",
      "Traceback (most recent call last):\n",
      "  File \"c:\\SOFTWARE\\anaconda\\Scripts\\jupyter-nbconvert-script.py\", line 10, in <module>\n",
      "    sys.exit(main())\n",
      "  File \"c:\\SOFTWARE\\anaconda\\lib\\site-packages\\jupyter_core\\application.py\", line 266, in launch_instance\n",
      "    return super(JupyterApp, cls).launch_instance(argv=argv, **kwargs)\n",
      "  File \"c:\\SOFTWARE\\anaconda\\lib\\site-packages\\traitlets\\config\\application.py\", line 658, in launch_instance\n",
      "    app.start()\n",
      "  File \"c:\\SOFTWARE\\anaconda\\lib\\site-packages\\nbconvert\\nbconvertapp.py\", line 325, in start\n",
      "    self.convert_notebooks()\n",
      "  File \"c:\\SOFTWARE\\anaconda\\lib\\site-packages\\nbconvert\\nbconvertapp.py\", line 493, in convert_notebooks\n",
      "    self.convert_single_notebook(notebook_filename)\n",
      "  File \"c:\\SOFTWARE\\anaconda\\lib\\site-packages\\nbconvert\\nbconvertapp.py\", line 464, in convert_single_notebook\n",
      "    output, resources = self.export_single_notebook(notebook_filename, resources, input_buffer=input_buffer)\n",
      "  File \"c:\\SOFTWARE\\anaconda\\lib\\site-packages\\nbconvert\\nbconvertapp.py\", line 393, in export_single_notebook\n",
      "    output, resources = self.exporter.from_filename(notebook_filename, resources=resources)\n",
      "  File \"c:\\SOFTWARE\\anaconda\\lib\\site-packages\\nbconvert\\exporters\\exporter.py\", line 174, in from_filename\n",
      "    return self.from_file(f, resources=resources, **kw)\n",
      "  File \"c:\\SOFTWARE\\anaconda\\lib\\site-packages\\nbconvert\\exporters\\exporter.py\", line 192, in from_file\n",
      "    return self.from_notebook_node(nbformat.read(file_stream, as_version=4), resources=resources, **kw)\n",
      "  File \"c:\\SOFTWARE\\anaconda\\lib\\site-packages\\nbconvert\\exporters\\pdf.py\", line 175, in from_notebook_node\n",
      "    rc = self.run_latex(tex_file)\n",
      "  File \"c:\\SOFTWARE\\anaconda\\lib\\site-packages\\nbconvert\\exporters\\pdf.py\", line 137, in run_latex\n",
      "    self.latex_count, log_error)\n",
      "  File \"c:\\SOFTWARE\\anaconda\\lib\\site-packages\\nbconvert\\exporters\\pdf.py\", line 99, in run_command\n",
      "    \"at {link}.\".format(formatter=command_list[0], link=link))\n",
      "OSError: xelatex not found on PATH, if you have not installed xelatex you may need to do so. Find further instructions at https://nbconvert.readthedocs.io/en/latest/install.html#installing-tex.\n"
     ]
    }
   ],
   "source": [
    "!jupyter nbconvert --to pdf TEMPLATE_OS_JUPYTER_NOTEBOOK.ipynb"
   ]
  },
  {
   "cell_type": "code",
   "execution_count": 1,
   "metadata": {},
   "outputs": [
    {
     "name": "stdout",
     "output_type": "stream",
     "text": [
      "config:\n",
      "    C:\\Users\\kon3254\\.jupyter\n",
      "    c:\\SOFTWARE\\anaconda\\etc\\jupyter\n",
      "    C:\\ProgramData\\jupyter\n",
      "data:\n",
      "    C:\\Users\\kon3254\\AppData\\Roaming\\jupyter\n",
      "    c:\\SOFTWARE\\anaconda\\share\\jupyter\n",
      "    C:\\ProgramData\\jupyter\n",
      "runtime:\n",
      "    C:\\Users\\kon3254\\AppData\\Roaming\\jupyter\\runtime\n"
     ]
    }
   ],
   "source": [
    "!jupyter --paths"
   ]
  },
  {
   "cell_type": "code",
   "execution_count": null,
   "metadata": {},
   "outputs": [],
   "source": [
    "'''\n",
    "!jupyter nb_xxx_extension enable --sys-prefix\n",
    "!jupyter nbextension disable toc2/toc2\n",
    "!jupyter nbextension enable toc2/toc2\n",
    "!jupyter nbextension enable codefolding/main\n",
    "\n",
    "!pip install jupyterthemes\n",
    "\n",
    "Successfully installed jupyterthemes-0.19.6 lesscpy-0.13.0 notebook-5.6.0 prometheus-client-0.3.1\n",
    "You are using pip version 10.0.1, however version 18.0 is available.\n",
    "You should consider upgrading via the 'pip install --upgrade pip' command.\n",
    "\n",
    "\n",
    "NOTE:\n",
    "pip install the themes.\n",
    "\n",
    "pip install jupyterthemes\n",
    "Then Choose the themes from the following and set them using the following command, Once you have installed successfully, Many of us thought we need to start the jupyter server again, just refresh the page. Set the theme by.\n",
    "\n",
    "jt -t <theme-name>\n",
    "List of theme names\n",
    "\n",
    "onedork | grade3 | oceans16 | chesterish | monokai | solarizedl | solarizedd\n",
    "\n",
    "\n",
    "'''"
   ]
  },
  {
   "cell_type": "code",
   "execution_count": null,
   "metadata": {},
   "outputs": [],
   "source": [
    "'''\n",
    "#!jupyter contrib nbextension install --user\n",
    "\n",
    "OUTPUT:\n",
    "...etc...\n",
    "\n",
    "Enabling: jupyter_nbextensions_configurator\n",
    "- Writing config: /Users/pinky/.jupyter\n",
    "    - Validating...\n",
    "      jupyter_nbextensions_configurator 0.4.0 OK\n",
    "Enabling notebook nbextension nbextensions_configurator/config_menu/main...\n",
    "Enabling tree nbextension nbextensions_configurator/tree_tab/main...\n",
    "[I 20:57:41 InstallContribNbextensionsApp] Enabling notebook extension contrib_nbextensions_help_item/main...\n",
    "[I 20:57:41 InstallContribNbextensionsApp]       - Validating: OK\n",
    "[I 20:57:41 InstallContribNbextensionsApp] - Editing config: /Users/pinky/.jupyter/jupyter_nbconvert_config.json\n",
    "[I 20:57:41 InstallContribNbextensionsApp] --  Configuring nbconvert template path\n",
    "[I 20:57:41 InstallContribNbextensionsApp] --  Configuring nbconvert preprocessors\n",
    "[I 20:57:41 InstallContribNbextensionsApp] - Writing config: /Users/pinky/.jupyter/jupyter_nbconvert_config.json\n",
    "[I 20:57:41 InstallContribNbextensionsApp] --  Writing updated config file /Users/pinky/.jupyter/jupyter_nbconvert_config.json\n",
    "'''"
   ]
  },
  {
   "cell_type": "code",
   "execution_count": null,
   "metadata": {},
   "outputs": [],
   "source": [
    "# %run '/Users/pinky/Downloads/jupyter_pyspark_init.py'"
   ]
  },
  {
   "cell_type": "code",
   "execution_count": null,
   "metadata": {},
   "outputs": [],
   "source": [
    "%pdb\n",
    "#import numpy as np\n",
    "def pick_and_take():\n",
    "    picked = numpy.random.randint(0, 1000)\n",
    "    raise NotImplementedError()\n",
    "\n",
    "pick_and_take()"
   ]
  },
  {
   "cell_type": "code",
   "execution_count": null,
   "metadata": {},
   "outputs": [],
   "source": []
  }
 ],
 "metadata": {
  "hide_input": false,
  "kernelspec": {
   "display_name": "Python 3",
   "language": "python",
   "name": "python3"
  },
  "language_info": {
   "codemirror_mode": {
    "name": "ipython",
    "version": 3
   },
   "file_extension": ".py",
   "mimetype": "text/x-python",
   "name": "python",
   "nbconvert_exporter": "python",
   "pygments_lexer": "ipython3",
   "version": "3.6.7"
  },
  "nbTranslate": {
   "displayLangs": [
    "*"
   ],
   "hotkey": "alt-t",
   "langInMainMenu": true,
   "sourceLang": "en",
   "targetLang": "fr",
   "useGoogleTranslate": true
  },
  "toc": {
   "base_numbering": 1,
   "nav_menu": {},
   "number_sections": true,
   "sideBar": true,
   "skip_h1_title": false,
   "title_cell": "Table of Contents",
   "title_sidebar": "Contents",
   "toc_cell": false,
   "toc_position": {},
   "toc_section_display": true,
   "toc_window_display": false
  },
  "toc-showtags": false
 },
 "nbformat": 4,
 "nbformat_minor": 2
}
