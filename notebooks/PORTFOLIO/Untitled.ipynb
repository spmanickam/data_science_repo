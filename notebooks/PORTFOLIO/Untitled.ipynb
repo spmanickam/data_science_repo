{
 "cells": [
  {
   "cell_type": "code",
   "execution_count": 58,
   "metadata": {},
   "outputs": [],
   "source": [
    "import pandas as pd\n",
    "df = pd.read_csv('../../data/raw/portfolio/weight-height.csv')"
   ]
  },
  {
   "cell_type": "code",
   "execution_count": 59,
   "metadata": {},
   "outputs": [
    {
     "data": {
      "text/html": [
       "<div>\n",
       "<style scoped>\n",
       "    .dataframe tbody tr th:only-of-type {\n",
       "        vertical-align: middle;\n",
       "    }\n",
       "\n",
       "    .dataframe tbody tr th {\n",
       "        vertical-align: top;\n",
       "    }\n",
       "\n",
       "    .dataframe thead th {\n",
       "        text-align: right;\n",
       "    }\n",
       "</style>\n",
       "<table border=\"1\" class=\"dataframe\">\n",
       "  <thead>\n",
       "    <tr style=\"text-align: right;\">\n",
       "      <th></th>\n",
       "      <th>Gender</th>\n",
       "      <th>Height</th>\n",
       "      <th>Weight</th>\n",
       "    </tr>\n",
       "  </thead>\n",
       "  <tbody>\n",
       "    <tr>\n",
       "      <th>0</th>\n",
       "      <td>Male</td>\n",
       "      <td>73.847017</td>\n",
       "      <td>241.893563</td>\n",
       "    </tr>\n",
       "    <tr>\n",
       "      <th>1</th>\n",
       "      <td>Male</td>\n",
       "      <td>68.781904</td>\n",
       "      <td>162.310473</td>\n",
       "    </tr>\n",
       "    <tr>\n",
       "      <th>2</th>\n",
       "      <td>Male</td>\n",
       "      <td>74.110105</td>\n",
       "      <td>212.740856</td>\n",
       "    </tr>\n",
       "    <tr>\n",
       "      <th>3</th>\n",
       "      <td>Male</td>\n",
       "      <td>71.730978</td>\n",
       "      <td>220.042470</td>\n",
       "    </tr>\n",
       "    <tr>\n",
       "      <th>4</th>\n",
       "      <td>Male</td>\n",
       "      <td>69.881796</td>\n",
       "      <td>206.349801</td>\n",
       "    </tr>\n",
       "  </tbody>\n",
       "</table>\n",
       "</div>"
      ],
      "text/plain": [
       "  Gender     Height      Weight\n",
       "0   Male  73.847017  241.893563\n",
       "1   Male  68.781904  162.310473\n",
       "2   Male  74.110105  212.740856\n",
       "3   Male  71.730978  220.042470\n",
       "4   Male  69.881796  206.349801"
      ]
     },
     "execution_count": 59,
     "metadata": {},
     "output_type": "execute_result"
    }
   ],
   "source": [
    "df.head()"
   ]
  },
  {
   "cell_type": "code",
   "execution_count": 60,
   "metadata": {},
   "outputs": [],
   "source": [
    "import keras\n",
    "from keras.layers import Dense\n",
    "from keras.models import Sequential\n",
    "from keras.optimizers import SGD, Adam"
   ]
  },
  {
   "cell_type": "code",
   "execution_count": 61,
   "metadata": {},
   "outputs": [],
   "source": [
    "X = df.Height\n",
    "y = df.Weight\n",
    "\n",
    "from sklearn.model_selection import train_test_split\n",
    "X_train, X_test, y_train, y_test = \\\n",
    "             train_test_split(X, y, test_size=0.33, random_state=42)"
   ]
  },
  {
   "cell_type": "code",
   "execution_count": 62,
   "metadata": {},
   "outputs": [],
   "source": [
    "model = Sequential()\n",
    "model.add(Dense(units=1, input_shape=(1,)))\n",
    "model.compile(optimizer=Adam(lr=0.8), loss='mean_squared_error')\n",
    "model.fit(X_train, y_train, epochs=50, verbose=0)\n",
    "y_pred = model.predict(X_test)"
   ]
  },
  {
   "cell_type": "code",
   "execution_count": 63,
   "metadata": {},
   "outputs": [
    {
     "data": {
      "text/plain": [
       "{'batch_size': 32,\n",
       " 'epochs': 50,\n",
       " 'steps': None,\n",
       " 'samples': 6700,\n",
       " 'verbose': 0,\n",
       " 'do_validation': False,\n",
       " 'metrics': ['loss']}"
      ]
     },
     "execution_count": 63,
     "metadata": {},
     "output_type": "execute_result"
    }
   ],
   "source": [
    "model.history.params"
   ]
  },
  {
   "cell_type": "code",
   "execution_count": 64,
   "metadata": {},
   "outputs": [
    {
     "data": {
      "text/plain": [
       "0    241.893563\n",
       "1    162.310473\n",
       "2    212.740856\n",
       "3    220.042470\n",
       "4    206.349801\n",
       "Name: Weight, dtype: float64"
      ]
     },
     "execution_count": 64,
     "metadata": {},
     "output_type": "execute_result"
    }
   ],
   "source": [
    "y[:5]"
   ]
  },
  {
   "cell_type": "code",
   "execution_count": 66,
   "metadata": {},
   "outputs": [
    {
     "data": {
      "text/plain": [
       "0.848720694067331"
      ]
     },
     "execution_count": 66,
     "metadata": {},
     "output_type": "execute_result"
    }
   ],
   "source": [
    "from sklearn.metrics import r2_score, mean_squared_error as mse\n",
    "r2_score(y_test, y_pred)"
   ]
  },
  {
   "cell_type": "code",
   "execution_count": 68,
   "metadata": {},
   "outputs": [
    {
     "data": {
      "text/plain": [
       "[<matplotlib.lines.Line2D at 0x10a8d7a90>]"
      ]
     },
     "execution_count": 68,
     "metadata": {},
     "output_type": "execute_result"
    },
    {
     "data": {
      "image/png": "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\n",
      "text/plain": [
       "<Figure size 432x288 with 1 Axes>"
      ]
     },
     "metadata": {
      "needs_background": "light"
     },
     "output_type": "display_data"
    }
   ],
   "source": [
    "import matplotlib.pyplot as plt\n",
    "%matplotlib inline\n",
    "plt.plot(X_test, y_test, '*')\n",
    "plt.plot(X_test, y_pred, color='red')"
   ]
  },
  {
   "cell_type": "code",
   "execution_count": 71,
   "metadata": {},
   "outputs": [
    {
     "name": "stdout",
     "output_type": "stream",
     "text": [
      "r2_score:  0.848720694067331\n",
      "mse:  156.91714302489962\n"
     ]
    }
   ],
   "source": [
    "print(\"r2_score: \" , r2_score(y_test, y_pred))\n",
    "print(\"mse: \" , mse(y_test, y_pred))"
   ]
  },
  {
   "cell_type": "code",
   "execution_count": null,
   "metadata": {},
   "outputs": [],
   "source": [
    "# END"
   ]
  }
 ],
 "metadata": {
  "kernelspec": {
   "display_name": "Python 3",
   "language": "python",
   "name": "python3"
  },
  "language_info": {
   "codemirror_mode": {
    "name": "ipython",
    "version": 3
   },
   "file_extension": ".py",
   "mimetype": "text/x-python",
   "name": "python",
   "nbconvert_exporter": "python",
   "pygments_lexer": "ipython3",
<<<<<<< HEAD
   "version": "3.6.6"
=======
   "version": "3.6.7"
>>>>>>> 66cb65f689ba56f75c8f7887083fb537af4075f0
  }
 },
 "nbformat": 4,
 "nbformat_minor": 2
}
