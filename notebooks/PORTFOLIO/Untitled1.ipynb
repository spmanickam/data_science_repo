{
 "cells": [
  {
   "cell_type": "code",
   "execution_count": 1,
   "metadata": {},
   "outputs": [
    {
     "name": "stderr",
     "output_type": "stream",
     "text": [
      "Using TensorFlow backend.\n"
     ]
    }
   ],
   "source": [
    "import keras"
   ]
  },
  {
   "cell_type": "code",
   "execution_count": 85,
   "metadata": {},
   "outputs": [],
   "source": [
    "from keras.layers import Dense\n",
    "from keras.activations import relu, sigmoid\n",
    "from keras.metrics import binary_crossentropy\n",
    "from keras.optimizers import Adam, SGD\n",
    "from keras.models import Sequential\n",
    "\n",
    "import pandas as pd\n",
    "import numpy as np\n",
    "import matplotlib.pyplot as plt\n",
    "%matplotlib inline"
   ]
  },
  {
   "cell_type": "code",
   "execution_count": 7,
   "metadata": {},
   "outputs": [],
   "source": [
    "import pandas as pd\n",
    "df = pd.read_csv('../../data/raw/portfolio/user_visit_duration.csv')"
   ]
  },
  {
   "cell_type": "code",
   "execution_count": 8,
   "metadata": {},
   "outputs": [
    {
     "data": {
      "text/html": [
       "<div>\n",
       "<style scoped>\n",
       "    .dataframe tbody tr th:only-of-type {\n",
       "        vertical-align: middle;\n",
       "    }\n",
       "\n",
       "    .dataframe tbody tr th {\n",
       "        vertical-align: top;\n",
       "    }\n",
       "\n",
       "    .dataframe thead th {\n",
       "        text-align: right;\n",
       "    }\n",
       "</style>\n",
       "<table border=\"1\" class=\"dataframe\">\n",
       "  <thead>\n",
       "    <tr style=\"text-align: right;\">\n",
       "      <th></th>\n",
       "      <th>Time (min)</th>\n",
       "      <th>Buy</th>\n",
       "    </tr>\n",
       "  </thead>\n",
       "  <tbody>\n",
       "    <tr>\n",
       "      <th>0</th>\n",
       "      <td>2.000000</td>\n",
       "      <td>0</td>\n",
       "    </tr>\n",
       "    <tr>\n",
       "      <th>1</th>\n",
       "      <td>0.683333</td>\n",
       "      <td>0</td>\n",
       "    </tr>\n",
       "    <tr>\n",
       "      <th>2</th>\n",
       "      <td>3.216667</td>\n",
       "      <td>1</td>\n",
       "    </tr>\n",
       "    <tr>\n",
       "      <th>3</th>\n",
       "      <td>0.900000</td>\n",
       "      <td>0</td>\n",
       "    </tr>\n",
       "    <tr>\n",
       "      <th>4</th>\n",
       "      <td>1.533333</td>\n",
       "      <td>1</td>\n",
       "    </tr>\n",
       "  </tbody>\n",
       "</table>\n",
       "</div>"
      ],
      "text/plain": [
       "   Time (min)  Buy\n",
       "0    2.000000    0\n",
       "1    0.683333    0\n",
       "2    3.216667    1\n",
       "3    0.900000    0\n",
       "4    1.533333    1"
      ]
     },
     "execution_count": 8,
     "metadata": {},
     "output_type": "execute_result"
    }
   ],
   "source": [
    "df.head()"
   ]
  },
  {
   "cell_type": "code",
   "execution_count": 75,
   "metadata": {},
   "outputs": [
    {
     "name": "stdout",
     "output_type": "stream",
     "text": [
      "_________________________________________________________________\n",
      "Layer (type)                 Output Shape              Param #   \n",
      "=================================================================\n",
      "dense_14 (Dense)             (None, 1)                 2         \n",
      "=================================================================\n",
      "Total params: 2\n",
      "Trainable params: 2\n",
      "Non-trainable params: 0\n",
      "_________________________________________________________________\n"
     ]
    }
   ],
   "source": [
    "model = Sequential()\n",
    "#model.add(Dense(units=2,input_shape=(1,), activation='relu'))\n",
    "model.add(Dense(units=1,input_shape=(1,), activation='sigmoid'))\n",
    "model.compile(optimizer=Adam(lr=0.8), loss='binary_crossentropy', metrics=['accuracy'])\n",
    "#model.compile(optimizer=SGD(lr=0.5), loss='binary_crossentropy', metrics=['accuracy'])\n",
    "model.summary()"
   ]
  },
  {
   "cell_type": "code",
   "execution_count": 76,
   "metadata": {},
   "outputs": [],
   "source": [
    "X = df['Time (min)']\n",
    "y=df.Buy"
   ]
  },
  {
   "cell_type": "code",
   "execution_count": 77,
   "metadata": {},
   "outputs": [
    {
     "data": {
      "text/plain": [
       "<keras.callbacks.History at 0x1a2f106710>"
      ]
     },
     "execution_count": 77,
     "metadata": {},
     "output_type": "execute_result"
    }
   ],
   "source": [
    "model.fit(X, y, epochs=50, verbose=0)"
   ]
  },
  {
   "cell_type": "code",
   "execution_count": 78,
   "metadata": {},
   "outputs": [
    {
     "data": {
      "text/plain": [
       "array([[0.8347929 ],\n",
       "       [0.0545276 ],\n",
       "       [0.9968375 ],\n",
       "       [0.10746304],\n",
       "       [0.50865674]], dtype=float32)"
      ]
     },
     "execution_count": 78,
     "metadata": {},
     "output_type": "execute_result"
    }
   ],
   "source": [
    "y_pred = model.predict(X)\n",
    "y_pred[:5]"
   ]
  },
  {
   "cell_type": "code",
   "execution_count": 79,
   "metadata": {},
   "outputs": [
    {
     "data": {
      "text/plain": [
       "array([[1],\n",
       "       [0],\n",
       "       [1],\n",
       "       [0],\n",
       "       [1]], dtype=int32)"
      ]
     },
     "execution_count": 79,
     "metadata": {},
     "output_type": "execute_result"
    }
   ],
   "source": [
    "y_pred_class = model.predict_classes(X)\n",
    "y_pred_class[:5]"
   ]
  },
  {
   "cell_type": "code",
   "execution_count": 80,
   "metadata": {},
   "outputs": [
    {
     "data": {
      "text/plain": [
       "[1.1362650108337402,\n",
       " 0.6942849659919739,\n",
       " 0.5299331498146057,\n",
       " 0.4322556257247925,\n",
       " 0.4183312177658081]"
      ]
     },
     "execution_count": 80,
     "metadata": {},
     "output_type": "execute_result"
    }
   ],
   "source": [
    "model.history.history['loss'][:5]"
   ]
  },
  {
   "cell_type": "code",
   "execution_count": 81,
   "metadata": {},
   "outputs": [
    {
     "data": {
      "text/plain": [
       "[0.45, 0.55, 0.78, 0.78, 0.83]"
      ]
     },
     "execution_count": 81,
     "metadata": {},
     "output_type": "execute_result"
    }
   ],
   "source": [
    "model.history.history['acc'][:5]"
   ]
  },
  {
   "cell_type": "code",
   "execution_count": 82,
   "metadata": {},
   "outputs": [],
   "source": [
    "from sklearn.metrics import accuracy_score, confusion_matrix, classification_report"
   ]
  },
  {
   "cell_type": "code",
   "execution_count": 83,
   "metadata": {},
   "outputs": [
    {
     "name": "stdout",
     "output_type": "stream",
     "text": [
      "accuracy_score:  0.8\n",
      "confusion_matrix:  [[36 14]\n",
      " [ 6 44]]\n",
      "classification_report:                precision    recall  f1-score   support\n",
      "\n",
      "           0       0.86      0.72      0.78        50\n",
      "           1       0.76      0.88      0.81        50\n",
      "\n",
      "   micro avg       0.80      0.80      0.80       100\n",
      "   macro avg       0.81      0.80      0.80       100\n",
      "weighted avg       0.81      0.80      0.80       100\n",
      "\n"
     ]
    }
   ],
   "source": [
    "print('accuracy_score: ', accuracy_score(y, y_pred_class))\n",
    "print('confusion_matrix: ', confusion_matrix(y, y_pred_class))\n",
    "print('classification_report: ', classification_report(y, y_pred_class))"
   ]
  },
  {
   "cell_type": "code",
   "execution_count": 88,
   "metadata": {},
   "outputs": [
    {
     "data": {
      "text/plain": [
       "<matplotlib.collections.PathCollection at 0x1a3ae3b7b8>"
      ]
     },
     "execution_count": 88,
     "metadata": {},
     "output_type": "execute_result"
    },
    {
     "data": {
      "image/png": "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\n",
      "text/plain": [
       "<Figure size 432x288 with 1 Axes>"
      ]
     },
     "metadata": {
      "needs_background": "light"
     },
     "output_type": "display_data"
    }
   ],
   "source": [
    "plt.plot(X, y,  \"*\") \n",
    "plt.scatter(X, y_pred, color='b') \n",
    "plt.scatter(X, y_pred_class, color='r') "
   ]
  },
  {
   "cell_type": "code",
   "execution_count": null,
   "metadata": {},
   "outputs": [],
   "source": []
  }
 ],
 "metadata": {
  "kernelspec": {
   "display_name": "Python 3",
   "language": "python",
   "name": "python3"
  },
  "language_info": {
   "codemirror_mode": {
    "name": "ipython",
    "version": 3
   },
   "file_extension": ".py",
   "mimetype": "text/x-python",
   "name": "python",
   "nbconvert_exporter": "python",
   "pygments_lexer": "ipython3",
<<<<<<< HEAD
   "version": "3.6.6"
=======
   "version": "3.6.7"
>>>>>>> 66cb65f689ba56f75c8f7887083fb537af4075f0
  }
 },
 "nbformat": 4,
 "nbformat_minor": 2
}
