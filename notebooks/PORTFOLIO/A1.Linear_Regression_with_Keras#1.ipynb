{
 "cells": [
  {
   "cell_type": "markdown",
   "metadata": {},
   "source": [
    "### A1.Linear Regression with Keras #1"
   ]
  },
  {
   "cell_type": "code",
   "execution_count": 2,
   "metadata": {},
   "outputs": [
    {
     "name": "stderr",
     "output_type": "stream",
     "text": [
      "Using TensorFlow backend.\n"
     ]
    }
   ],
   "source": [
    "import keras"
   ]
  },
  {
   "cell_type": "code",
   "execution_count": 3,
   "metadata": {},
   "outputs": [],
   "source": [
    "from keras.models import Sequential\n",
    "from keras.layers import Dense\n",
    "from keras.optimizers import SGD, Adam"
   ]
  },
  {
   "cell_type": "code",
   "execution_count": 8,
   "metadata": {},
   "outputs": [
    {
     "data": {
      "text/html": [
       "<div>\n",
       "<style scoped>\n",
       "    .dataframe tbody tr th:only-of-type {\n",
       "        vertical-align: middle;\n",
       "    }\n",
       "\n",
       "    .dataframe tbody tr th {\n",
       "        vertical-align: top;\n",
       "    }\n",
       "\n",
       "    .dataframe thead th {\n",
       "        text-align: right;\n",
       "    }\n",
       "</style>\n",
       "<table border=\"1\" class=\"dataframe\">\n",
       "  <thead>\n",
       "    <tr style=\"text-align: right;\">\n",
       "      <th></th>\n",
       "      <th>Gender</th>\n",
       "      <th>Height</th>\n",
       "      <th>Weight</th>\n",
       "    </tr>\n",
       "  </thead>\n",
       "  <tbody>\n",
       "    <tr>\n",
       "      <th>0</th>\n",
       "      <td>Male</td>\n",
       "      <td>73.847017</td>\n",
       "      <td>241.893563</td>\n",
       "    </tr>\n",
       "    <tr>\n",
       "      <th>1</th>\n",
       "      <td>Male</td>\n",
       "      <td>68.781904</td>\n",
       "      <td>162.310473</td>\n",
       "    </tr>\n",
       "    <tr>\n",
       "      <th>2</th>\n",
       "      <td>Male</td>\n",
       "      <td>74.110105</td>\n",
       "      <td>212.740856</td>\n",
       "    </tr>\n",
       "    <tr>\n",
       "      <th>3</th>\n",
       "      <td>Male</td>\n",
       "      <td>71.730978</td>\n",
       "      <td>220.042470</td>\n",
       "    </tr>\n",
       "    <tr>\n",
       "      <th>4</th>\n",
       "      <td>Male</td>\n",
       "      <td>69.881796</td>\n",
       "      <td>206.349801</td>\n",
       "    </tr>\n",
       "  </tbody>\n",
       "</table>\n",
       "</div>"
      ],
      "text/plain": [
       "  Gender     Height      Weight\n",
       "0   Male  73.847017  241.893563\n",
       "1   Male  68.781904  162.310473\n",
       "2   Male  74.110105  212.740856\n",
       "3   Male  71.730978  220.042470\n",
       "4   Male  69.881796  206.349801"
      ]
     },
     "execution_count": 8,
     "metadata": {},
     "output_type": "execute_result"
    }
   ],
   "source": [
    "import pandas as pd\n",
    "df = pd.read_csv('../../data/raw/portfolio/weight-height.csv')\n",
    "df.head()"
   ]
  },
  {
   "cell_type": "code",
   "execution_count": 10,
   "metadata": {},
   "outputs": [],
   "source": [
    "X = df.Height\n",
    "y = df.Weight"
   ]
  },
  {
   "cell_type": "code",
   "execution_count": 5,
   "metadata": {},
   "outputs": [],
   "source": [
    "model = Sequential()\n",
    "\n",
    "# The dense layer below is the simplest NN and is same as a linear regression\n",
    "model.add(Dense(units=1, input_shape=(1,)))  #units specifies how many output values we have from this layer"
   ]
  },
  {
   "cell_type": "code",
   "execution_count": 6,
   "metadata": {},
   "outputs": [
    {
     "name": "stdout",
     "output_type": "stream",
     "text": [
      "_________________________________________________________________\n",
      "Layer (type)                 Output Shape              Param #   \n",
      "=================================================================\n",
      "dense_1 (Dense)              (None, 1)                 2         \n",
      "=================================================================\n",
      "Total params: 2\n",
      "Trainable params: 2\n",
      "Non-trainable params: 0\n",
      "_________________________________________________________________\n"
     ]
    }
   ],
   "source": [
    "model.summary() # Params: 2 -> weight and bias"
   ]
  },
  {
   "cell_type": "code",
   "execution_count": 40,
   "metadata": {},
   "outputs": [],
   "source": [
    "model.compile(optimizer=Adam(lr=0.8), loss='mean_squared_error')"
   ]
  },
  {
   "cell_type": "code",
   "execution_count": 41,
   "metadata": {},
   "outputs": [
    {
     "name": "stdout",
     "output_type": "stream",
     "text": [
      "Epoch 1/50\n",
      "10000/10000 [==============================] - 1s 88us/step - loss: 298.8148\n",
      "Epoch 2/50\n",
      "10000/10000 [==============================] - 0s 43us/step - loss: 260.5064\n",
      "Epoch 3/50\n",
      "10000/10000 [==============================] - 1s 52us/step - loss: 234.1415\n",
      "Epoch 4/50\n",
      "10000/10000 [==============================] - 0s 43us/step - loss: 232.2645\n",
      "Epoch 5/50\n",
      "10000/10000 [==============================] - 0s 47us/step - loss: 223.1981\n",
      "Epoch 6/50\n",
      "10000/10000 [==============================] - 0s 42us/step - loss: 205.4466\n",
      "Epoch 7/50\n",
      "10000/10000 [==============================] - 0s 44us/step - loss: 199.0293\n",
      "Epoch 8/50\n",
      "10000/10000 [==============================] - 0s 47us/step - loss: 193.8052\n",
      "Epoch 9/50\n",
      "10000/10000 [==============================] - 0s 48us/step - loss: 197.3425\n",
      "Epoch 10/50\n",
      "10000/10000 [==============================] - 0s 48us/step - loss: 186.0155\n",
      "Epoch 11/50\n",
      "10000/10000 [==============================] - 0s 43us/step - loss: 196.9657\n",
      "Epoch 12/50\n",
      "10000/10000 [==============================] - 0s 45us/step - loss: 175.7287\n",
      "Epoch 13/50\n",
      "10000/10000 [==============================] - 0s 44us/step - loss: 188.5972\n",
      "Epoch 14/50\n",
      "10000/10000 [==============================] - 0s 46us/step - loss: 184.6943\n",
      "Epoch 15/50\n",
      "10000/10000 [==============================] - 0s 46us/step - loss: 180.5133\n",
      "Epoch 16/50\n",
      "10000/10000 [==============================] - 0s 48us/step - loss: 175.8263\n",
      "Epoch 17/50\n",
      "10000/10000 [==============================] - 0s 46us/step - loss: 182.0390\n",
      "Epoch 18/50\n",
      "10000/10000 [==============================] - 0s 46us/step - loss: 187.9849\n",
      "Epoch 19/50\n",
      "10000/10000 [==============================] - 0s 42us/step - loss: 172.0879\n",
      "Epoch 20/50\n",
      "10000/10000 [==============================] - 0s 45us/step - loss: 168.2903\n",
      "Epoch 21/50\n",
      "10000/10000 [==============================] - 1s 55us/step - loss: 181.4798\n",
      "Epoch 22/50\n",
      "10000/10000 [==============================] - 1s 56us/step - loss: 178.1454\n",
      "Epoch 23/50\n",
      "10000/10000 [==============================] - 0s 49us/step - loss: 179.2397\n",
      "Epoch 24/50\n",
      "10000/10000 [==============================] - 1s 52us/step - loss: 172.6864\n",
      "Epoch 25/50\n",
      "10000/10000 [==============================] - 1s 58us/step - loss: 187.2496\n",
      "Epoch 26/50\n",
      "10000/10000 [==============================] - 1s 60us/step - loss: 181.3867\n",
      "Epoch 27/50\n",
      "10000/10000 [==============================] - 1s 69us/step - loss: 183.3659\n",
      "Epoch 28/50\n",
      "10000/10000 [==============================] - 1s 71us/step - loss: 178.2643\n",
      "Epoch 29/50\n",
      "10000/10000 [==============================] - 1s 53us/step - loss: 181.5688\n",
      "Epoch 30/50\n",
      "10000/10000 [==============================] - 1s 51us/step - loss: 175.9298\n",
      "Epoch 31/50\n",
      "10000/10000 [==============================] - 0s 48us/step - loss: 182.9796\n",
      "Epoch 32/50\n",
      "10000/10000 [==============================] - 0s 44us/step - loss: 184.3599\n",
      "Epoch 33/50\n",
      "10000/10000 [==============================] - 1s 54us/step - loss: 176.8968\n",
      "Epoch 34/50\n",
      "10000/10000 [==============================] - 1s 63us/step - loss: 180.2595\n",
      "Epoch 35/50\n",
      "10000/10000 [==============================] - 1s 52us/step - loss: 178.4436\n",
      "Epoch 36/50\n",
      "10000/10000 [==============================] - 1s 54us/step - loss: 193.7974\n",
      "Epoch 37/50\n",
      "10000/10000 [==============================] - 0s 47us/step - loss: 175.1476\n",
      "Epoch 38/50\n",
      "10000/10000 [==============================] - 0s 46us/step - loss: 180.0188\n",
      "Epoch 39/50\n",
      "10000/10000 [==============================] - 0s 47us/step - loss: 165.8966\n",
      "Epoch 40/50\n",
      "10000/10000 [==============================] - 0s 43us/step - loss: 174.6859\n",
      "Epoch 41/50\n",
      "10000/10000 [==============================] - 1s 52us/step - loss: 180.8578\n",
      "Epoch 42/50\n",
      "10000/10000 [==============================] - 1s 53us/step - loss: 171.3144\n",
      "Epoch 43/50\n",
      "10000/10000 [==============================] - 0s 48us/step - loss: 188.3661\n",
      "Epoch 44/50\n",
      "10000/10000 [==============================] - 0s 47us/step - loss: 163.9069\n",
      "Epoch 45/50\n",
      "10000/10000 [==============================] - 1s 65us/step - loss: 178.2161\n",
      "Epoch 46/50\n",
      "10000/10000 [==============================] - 1s 64us/step - loss: 184.5058\n",
      "Epoch 47/50\n",
      "10000/10000 [==============================] - 0s 47us/step - loss: 179.8867\n",
      "Epoch 48/50\n",
      "10000/10000 [==============================] - 0s 48us/step - loss: 182.8195\n",
      "Epoch 49/50\n",
      "10000/10000 [==============================] - 0s 47us/step - loss: 178.5678\n",
      "Epoch 50/50\n",
      "10000/10000 [==============================] - 0s 46us/step - loss: 168.7131\n"
     ]
    },
    {
     "data": {
      "text/plain": [
       "<keras.callbacks.History at 0xb26796dd8>"
      ]
     },
     "execution_count": 41,
     "metadata": {},
     "output_type": "execute_result"
    }
   ],
   "source": [
    "model.fit(X, y, epochs=50)"
   ]
  },
  {
   "cell_type": "code",
   "execution_count": 42,
   "metadata": {},
   "outputs": [],
   "source": [
    "y_pred = model.predict(X)"
   ]
  },
  {
   "cell_type": "code",
   "execution_count": 43,
   "metadata": {},
   "outputs": [
    {
     "data": {
      "text/plain": [
       "array([[226.91263],\n",
       "       [187.32498],\n",
       "       [228.9689 ],\n",
       "       [210.37424],\n",
       "       [195.92148]], dtype=float32)"
      ]
     },
     "execution_count": 43,
     "metadata": {},
     "output_type": "execute_result"
    }
   ],
   "source": [
    "y_pred[0:5]"
   ]
  },
  {
   "cell_type": "code",
   "execution_count": 39,
   "metadata": {},
   "outputs": [
    {
     "data": {
      "text/plain": [
       "<matplotlib.collections.PathCollection at 0xb38545780>"
      ]
     },
     "execution_count": 39,
     "metadata": {},
     "output_type": "execute_result"
    },
    {
     "data": {
      "image/png": "[encoded data removed]",
      "text/plain": [
       "<Figure size 432x288 with 1 Axes>"
      ]
     },
     "metadata": {
      "needs_background": "light"
     },
     "output_type": "display_data"
    }
   ],
   "source": [
    "import matplotlib.pyplot as plt\n",
    "%matplotlib inline\n",
    "plt.plot(X, y_pred, color='red') \n",
    "plt.scatter(X, y, color='blue')\n",
    "plt.title('Prediction with epochs=10')"
   ]
  },
  {
   "cell_type": "code",
   "execution_count": 44,
   "metadata": {},
   "outputs": [
    {
     "data": {
      "text/plain": [
       "Text(0.5, 1.0, 'Prediction with epochs=50')"
      ]
     },
     "execution_count": 44,
     "metadata": {},
     "output_type": "execute_result"
    },
    {
     "data": {
      "image/png": "[encoded data removed]",
      "text/plain": [
       "<Figure size 432x288 with 1 Axes>"
      ]
     },
     "metadata": {
      "needs_background": "light"
     },
     "output_type": "display_data"
    }
   ],
   "source": [
    "import matplotlib.pyplot as plt\n",
    "%matplotlib inline\n",
    "plt.plot(X, y_pred, color='red') \n",
    "plt.scatter(X, y, color='blue')\n",
    "plt.title('Prediction with epochs=50')"
   ]
  },
  {
   "cell_type": "code",
   "execution_count": 45,
   "metadata": {},
   "outputs": [],
   "source": [
    "W, B = model.get_weights()"
   ]
  },
  {
   "cell_type": "code",
   "execution_count": 48,
   "metadata": {},
   "outputs": [
    {
     "data": {
      "text/plain": [
       "(array([[7.815756]], dtype=float32), array([-350.2576], dtype=float32))"
      ]
     },
     "execution_count": 48,
     "metadata": {},
     "output_type": "execute_result"
    }
   ],
   "source": [
    "W, B"
   ]
  },
  {
   "cell_type": "code",
   "execution_count": null,
   "metadata": {},
   "outputs": [],
   "source": [
    "# END"
   ]
  }
 ],
 "metadata": {
  "kernelspec": {
   "display_name": "Python 3",
   "language": "python",
   "name": "python3"
  },
  "language_info": {
   "codemirror_mode": {
    "name": "ipython",
    "version": 3
   },
   "file_extension": ".py",
   "mimetype": "text/x-python",
   "name": "python",
   "nbconvert_exporter": "python",
   "pygments_lexer": "ipython3",
   "version": "3.6.7"
  }
 },
 "nbformat": 4,
 "nbformat_minor": 2
}
