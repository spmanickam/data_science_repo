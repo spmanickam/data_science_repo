{
 "cells": [
  {
   "cell_type": "markdown",
   "metadata": {},
   "source": [
    "### EXCERCISE 1"
   ]
  },
  {
   "cell_type": "code",
   "execution_count": 1,
   "metadata": {},
   "outputs": [],
   "source": [
    "import pandas as pd\n",
    "import numpy as np\n",
    "import matplotlib.pyplot as plt\n",
    "%matplotlib inline"
   ]
  },
  {
   "cell_type": "code",
   "execution_count": 2,
   "metadata": {},
   "outputs": [
    {
     "name": "stderr",
     "output_type": "stream",
     "text": [
      "Using TensorFlow backend.\n"
     ]
    }
   ],
   "source": [
    "import keras"
   ]
  },
  {
   "cell_type": "code",
   "execution_count": 7,
   "metadata": {},
   "outputs": [],
   "source": [
    "df = pd.read_csv('../../data/raw/Udemy_Zero_to_deep_learning_Mosconi/housing-data.csv')"
   ]
  },
  {
   "cell_type": "code",
   "execution_count": 8,
   "metadata": {},
   "outputs": [
    {
     "data": {
      "text/html": [
       "<div>\n",
       "<style scoped>\n",
       "    .dataframe tbody tr th:only-of-type {\n",
       "        vertical-align: middle;\n",
       "    }\n",
       "\n",
       "    .dataframe tbody tr th {\n",
       "        vertical-align: top;\n",
       "    }\n",
       "\n",
       "    .dataframe thead th {\n",
       "        text-align: right;\n",
       "    }\n",
       "</style>\n",
       "<table border=\"1\" class=\"dataframe\">\n",
       "  <thead>\n",
       "    <tr style=\"text-align: right;\">\n",
       "      <th></th>\n",
       "      <th>sqft</th>\n",
       "      <th>bdrms</th>\n",
       "      <th>age</th>\n",
       "      <th>price</th>\n",
       "    </tr>\n",
       "  </thead>\n",
       "  <tbody>\n",
       "    <tr>\n",
       "      <th>0</th>\n",
       "      <td>2104</td>\n",
       "      <td>3</td>\n",
       "      <td>70</td>\n",
       "      <td>399900</td>\n",
       "    </tr>\n",
       "    <tr>\n",
       "      <th>1</th>\n",
       "      <td>1600</td>\n",
       "      <td>3</td>\n",
       "      <td>28</td>\n",
       "      <td>329900</td>\n",
       "    </tr>\n",
       "    <tr>\n",
       "      <th>2</th>\n",
       "      <td>2400</td>\n",
       "      <td>3</td>\n",
       "      <td>44</td>\n",
       "      <td>369000</td>\n",
       "    </tr>\n",
       "    <tr>\n",
       "      <th>3</th>\n",
       "      <td>1416</td>\n",
       "      <td>2</td>\n",
       "      <td>49</td>\n",
       "      <td>232000</td>\n",
       "    </tr>\n",
       "    <tr>\n",
       "      <th>4</th>\n",
       "      <td>3000</td>\n",
       "      <td>4</td>\n",
       "      <td>75</td>\n",
       "      <td>539900</td>\n",
       "    </tr>\n",
       "  </tbody>\n",
       "</table>\n",
       "</div>"
      ],
      "text/plain": [
       "   sqft  bdrms  age   price\n",
       "0  2104      3   70  399900\n",
       "1  1600      3   28  329900\n",
       "2  2400      3   44  369000\n",
       "3  1416      2   49  232000\n",
       "4  3000      4   75  539900"
      ]
     },
     "execution_count": 8,
     "metadata": {},
     "output_type": "execute_result"
    }
   ],
   "source": [
    "df.head()"
   ]
  },
  {
   "cell_type": "code",
   "execution_count": 9,
   "metadata": {},
   "outputs": [
    {
     "data": {
      "text/plain": [
       "Index(['sqft', 'bdrms', 'age', 'price'], dtype='object')"
      ]
     },
     "execution_count": 9,
     "metadata": {},
     "output_type": "execute_result"
    }
   ],
   "source": [
    "df.columns"
   ]
  },
  {
   "cell_type": "code",
   "execution_count": 45,
   "metadata": {},
   "outputs": [
    {
     "data": {
      "image/png": "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\n",
      "text/plain": [
       "<Figure size 1080x288 with 4 Axes>"
      ]
     },
     "metadata": {
      "needs_background": "light"
     },
     "output_type": "display_data"
    }
   ],
   "source": [
    "plt.figure(figsize=(15,4))\n",
    "for i, c in enumerate(df.columns): \n",
    "    plt.subplot(1,4,i+1)\n",
    "    df[c].plot(kind='hist', title=c)  "
   ]
  },
  {
   "cell_type": "code",
   "execution_count": 53,
   "metadata": {},
   "outputs": [
    {
     "data": {
      "text/plain": [
       "Index(['sqft', 'bdrms', 'age', 'price'], dtype='object')"
      ]
     },
     "execution_count": 53,
     "metadata": {},
     "output_type": "execute_result"
    }
   ],
   "source": [
    "df.columns"
   ]
  },
  {
   "cell_type": "code",
   "execution_count": 65,
   "metadata": {},
   "outputs": [
    {
     "data": {
      "text/html": [
       "<div>\n",
       "<style scoped>\n",
       "    .dataframe tbody tr th:only-of-type {\n",
       "        vertical-align: middle;\n",
       "    }\n",
       "\n",
       "    .dataframe tbody tr th {\n",
       "        vertical-align: top;\n",
       "    }\n",
       "\n",
       "    .dataframe thead th {\n",
       "        text-align: right;\n",
       "    }\n",
       "</style>\n",
       "<table border=\"1\" class=\"dataframe\">\n",
       "  <thead>\n",
       "    <tr style=\"text-align: right;\">\n",
       "      <th></th>\n",
       "      <th>sqft</th>\n",
       "      <th>bdrms</th>\n",
       "      <th>age</th>\n",
       "      <th>price</th>\n",
       "    </tr>\n",
       "  </thead>\n",
       "  <tbody>\n",
       "    <tr>\n",
       "      <th>1</th>\n",
       "      <td>1600</td>\n",
       "      <td>3</td>\n",
       "      <td>28</td>\n",
       "      <td>329900</td>\n",
       "    </tr>\n",
       "  </tbody>\n",
       "</table>\n",
       "</div>"
      ],
      "text/plain": [
       "   sqft  bdrms  age   price\n",
       "1  1600      3   28  329900"
      ]
     },
     "execution_count": 65,
     "metadata": {},
     "output_type": "execute_result"
    }
   ],
   "source": [
    "df[1:2]"
   ]
  },
  {
   "cell_type": "code",
   "execution_count": 69,
   "metadata": {},
   "outputs": [],
   "source": [
    "X = df[['sqft','bdrms','age']]\n",
    "y = df['price']"
   ]
  },
  {
   "cell_type": "code",
   "execution_count": 71,
   "metadata": {},
   "outputs": [
    {
     "data": {
      "text/plain": [
       "0    399900\n",
       "1    329900\n",
       "2    369000\n",
       "3    232000\n",
       "4    539900\n",
       "Name: price, dtype: int64"
      ]
     },
     "execution_count": 71,
     "metadata": {},
     "output_type": "execute_result"
    }
   ],
   "source": [
    "y.head()"
   ]
  },
  {
   "cell_type": "code",
   "execution_count": 73,
   "metadata": {},
   "outputs": [],
   "source": [
    "from sklearn.preprocessing import MinMaxScaler\n",
    "scaler = MinMaxScaler()"
   ]
  },
  {
   "cell_type": "code",
   "execution_count": 81,
   "metadata": {},
   "outputs": [
    {
     "name": "stderr",
     "output_type": "stream",
     "text": [
      "/anaconda3/lib/python3.6/site-packages/sklearn/preprocessing/data.py:323: DataConversionWarning: Data with input dtype int64 were all converted to float64 by MinMaxScaler.\n",
      "  return self.partial_fit(X, y)\n"
     ]
    }
   ],
   "source": [
    "df2 = scaler.fit_transform(df)"
   ]
  },
  {
   "cell_type": "code",
   "execution_count": 94,
   "metadata": {},
   "outputs": [],
   "source": [
    "X = df2[:,0:3]"
   ]
  },
  {
   "cell_type": "code",
   "execution_count": 95,
   "metadata": {},
   "outputs": [
    {
     "data": {
      "text/plain": [
       "array([[0.34528406, 0.5       , 0.87837838],\n",
       "       [0.20628792, 0.5       , 0.31081081],\n",
       "       [0.42691671, 0.5       , 0.52702703],\n",
       "       [0.1555433 , 0.25      , 0.59459459],\n",
       "       [0.59238831, 0.75      , 0.94594595],\n",
       "       [0.31246553, 0.75      , 0.75675676],\n",
       "       [0.18808605, 0.5       , 0.09459459],\n",
       "       [0.15857694, 0.5       , 0.7027027 ],\n",
       "       [0.145615  , 0.5       , 0.12162162],\n",
       "       [0.17705461, 0.5       , 0.13513514],\n",
       "       [0.30005516, 0.75      , 0.02702703],\n",
       "       [0.31660232, 0.5       , 0.2972973 ],\n",
       "       [0.28626586, 0.5       , 0.54054054],\n",
       "       [1.        , 1.        , 0.59459459],\n",
       "       [0.11472697, 0.5       , 0.71621622],\n",
       "       [0.39933811, 0.75      , 0.97297297],\n",
       "       [0.12906784, 0.25      , 0.77027027],\n",
       "       [0.10590182, 0.5       , 0.98648649],\n",
       "       [0.48455598, 0.75      , 0.        ],\n",
       "       [0.60093767, 0.75      , 0.21621622],\n",
       "       [0.25234418, 0.5       , 0.52702703],\n",
       "       [0.28571429, 0.25      , 1.        ],\n",
       "       [0.20739106, 0.5       , 0.10810811],\n",
       "       [0.30612245, 0.75      , 0.64864865],\n",
       "       [0.83783784, 0.5       , 0.41891892],\n",
       "       [0.06839493, 0.5       , 0.74324324],\n",
       "       [0.16712631, 0.5       , 0.32432432],\n",
       "       [0.46166575, 0.5       , 0.10810811],\n",
       "       [0.37175951, 0.5       , 0.31081081],\n",
       "       [0.49227799, 0.5       , 0.27027027],\n",
       "       [0.27220077, 0.25      , 0.47297297],\n",
       "       [0.04081633, 0.        , 0.        ],\n",
       "       [0.32763376, 0.75      , 0.94594595],\n",
       "       [0.63017099, 0.5       , 0.83783784],\n",
       "       [0.26447876, 0.75      , 0.25675676],\n",
       "       [0.1613348 , 0.5       , 0.60810811],\n",
       "       [0.10672918, 0.5       , 0.22972973],\n",
       "       [0.35300607, 0.75      , 0.31081081],\n",
       "       [0.92746828, 0.75      , 0.82432432],\n",
       "       [0.36127965, 0.75      , 0.51351351],\n",
       "       [0.22393822, 0.25      , 0.47297297],\n",
       "       [0.38223938, 0.5       , 0.43243243],\n",
       "       [0.47297297, 0.75      , 0.7027027 ],\n",
       "       [0.09597352, 0.5       , 0.95945946],\n",
       "       [0.        , 0.25      , 0.87837838],\n",
       "       [0.27578599, 0.75      , 0.7972973 ],\n",
       "       [0.09680088, 0.5       , 0.08108108]])"
      ]
     },
     "execution_count": 95,
     "metadata": {},
     "output_type": "execute_result"
    }
   ],
   "source": [
    "X"
   ]
  },
  {
   "cell_type": "code",
   "execution_count": 96,
   "metadata": {},
   "outputs": [],
   "source": [
    "y = df2[:,3]"
   ]
  },
  {
   "cell_type": "code",
   "execution_count": 97,
   "metadata": {},
   "outputs": [
    {
     "data": {
      "text/plain": [
       "array([0.43396226, 0.30188679, 0.37566038, 0.11716981, 0.69811321,\n",
       "       0.24528302, 0.27358491, 0.05490377, 0.07943396, 0.13698113,\n",
       "       0.13226226, 0.33415094, 0.30207358, 1.        , 0.16981132,\n",
       "       0.52830189, 0.24528302, 0.05660377, 0.62282642, 0.80962264,\n",
       "       0.15660377, 0.16056604, 0.13773585, 0.16981132, 0.76226415,\n",
       "       0.1509434 , 0.55584906, 0.56433962, 0.57566038, 0.24528302,\n",
       "       0.33962264, 0.        , 0.27358491, 0.77358491, 0.21886792,\n",
       "       0.1509434 , 0.11320755, 0.33037736, 0.71528302, 0.2209434 ,\n",
       "       0.37471698, 0.30188679, 0.27188679, 0.24358491, 0.01886792,\n",
       "       0.24528302, 0.13132075])"
      ]
     },
     "execution_count": 97,
     "metadata": {},
     "output_type": "execute_result"
    }
   ],
   "source": [
    "y"
   ]
  },
  {
   "cell_type": "code",
   "execution_count": 118,
   "metadata": {},
   "outputs": [],
   "source": [
    "from keras.models import Sequential\n",
    "from keras.layers import Dense\n",
    "from keras.optimizers import Adam\n",
    "\n",
    "from sklearn.model_selection import train_test_split\n",
    "from sklearn.metrics import r2_score, auc"
   ]
  },
  {
   "cell_type": "code",
   "execution_count": 100,
   "metadata": {},
   "outputs": [],
   "source": [
    "X_train, X_test, y_train, y_test = train_test_split(X, y, test_size=0.33, random_state=42)"
   ]
  },
  {
   "cell_type": "code",
   "execution_count": 103,
   "metadata": {},
   "outputs": [
    {
     "data": {
      "text/plain": [
       "(93, 48, 31, 16)"
      ]
     },
     "execution_count": 103,
     "metadata": {},
     "output_type": "execute_result"
    }
   ],
   "source": [
    "X_train.size, X_test.size, y_train.size, y_test.size"
   ]
  },
  {
   "cell_type": "code",
   "execution_count": 104,
   "metadata": {},
   "outputs": [
    {
     "data": {
      "text/plain": [
       "(141, 47)"
      ]
     },
     "execution_count": 104,
     "metadata": {},
     "output_type": "execute_result"
    }
   ],
   "source": [
    "X.size, y.size"
   ]
  },
  {
   "cell_type": "code",
   "execution_count": 120,
   "metadata": {},
   "outputs": [
    {
     "data": {
      "text/plain": [
       "<keras.callbacks.History at 0xb3afeafd0>"
      ]
     },
     "execution_count": 120,
     "metadata": {},
     "output_type": "execute_result"
    }
   ],
   "source": [
    "model = Sequential()\n",
    "model.add(Dense(1))\n",
    "model.compile(optimizer=Adam(lr=0.1), loss='mean_squared_error')\n",
    "model.fit(X_train, y_train, epochs=100, verbose=0)"
   ]
  },
  {
   "cell_type": "code",
   "execution_count": 121,
   "metadata": {},
   "outputs": [
    {
     "name": "stdout",
     "output_type": "stream",
     "text": [
      "_________________________________________________________________\n",
      "Layer (type)                 Output Shape              Param #   \n",
      "=================================================================\n",
      "dense_5 (Dense)              (None, 1)                 4         \n",
      "=================================================================\n",
      "Total params: 4\n",
      "Trainable params: 4\n",
      "Non-trainable params: 0\n",
      "_________________________________________________________________\n"
     ]
    }
   ],
   "source": [
    "model.summary()"
   ]
  },
  {
   "cell_type": "code",
   "execution_count": 122,
   "metadata": {},
   "outputs": [],
   "source": [
    "y_pred = model.predict(X_test)"
   ]
  },
  {
   "cell_type": "code",
   "execution_count": 123,
   "metadata": {},
   "outputs": [
    {
     "data": {
      "text/plain": [
       "16"
      ]
     },
     "execution_count": 123,
     "metadata": {},
     "output_type": "execute_result"
    }
   ],
   "source": [
    "y_pred.size"
   ]
  },
  {
   "cell_type": "code",
   "execution_count": 124,
   "metadata": {},
   "outputs": [
    {
     "data": {
      "text/plain": [
       "16"
      ]
     },
     "execution_count": 124,
     "metadata": {},
     "output_type": "execute_result"
    }
   ],
   "source": [
    "y_test.size"
   ]
  },
  {
   "cell_type": "code",
   "execution_count": 126,
   "metadata": {},
   "outputs": [
    {
     "name": "stdout",
     "output_type": "stream",
     "text": [
      "r2_score: 0.6465924070278958\n"
     ]
    }
   ],
   "source": [
    "print('r2_score:', r2_score(y_test, y_pred)) "
   ]
  },
  {
   "cell_type": "code",
   "execution_count": 127,
   "metadata": {},
   "outputs": [
    {
     "data": {
      "text/plain": [
       "array([[0.40815896],\n",
       "       [0.31552014],\n",
       "       [0.16591717],\n",
       "       [0.10060796],\n",
       "       [0.7107016 ]], dtype=float32)"
      ]
     },
     "execution_count": 127,
     "metadata": {},
     "output_type": "execute_result"
    }
   ],
   "source": [
    "y_pred[:5]"
   ]
  },
  {
   "cell_type": "code",
   "execution_count": 148,
   "metadata": {},
   "outputs": [
    {
     "ename": "ValueError",
     "evalue": "Expected 2D array, got 1D array instead:\narray=[0.05660377 0.01886792 0.52830189 0.13698113 0.24528302 0.24528302\n 0.27358491 0.24528302 0.43396226 0.         0.33962264 0.24528302\n 0.33415094 0.21886792 0.30188679 0.30188679 0.16056604 0.37566038\n 0.1509434  0.16981132 0.33037736 0.13226226 0.13773585 0.62282642\n 0.13132075 0.15660377 0.05490377 0.27188679 0.16981132 0.57566038\n 0.71528302].\nReshape your data either using array.reshape(-1, 1) if your data has a single feature or array.reshape(1, -1) if it contains a single sample.",
     "output_type": "error",
     "traceback": [
      "\u001b[0;31m---------------------------------------------------------------------------\u001b[0m",
      "\u001b[0;31mValueError\u001b[0m                                Traceback (most recent call last)",
      "\u001b[0;32m<ipython-input-148-453aa0e45352>\u001b[0m in \u001b[0;36m<module>\u001b[0;34m\u001b[0m\n\u001b[1;32m      1\u001b[0m \u001b[0mscaler2\u001b[0m \u001b[0;34m=\u001b[0m \u001b[0mMinMaxScaler\u001b[0m\u001b[0;34m(\u001b[0m\u001b[0;34m)\u001b[0m\u001b[0;34m\u001b[0m\u001b[0m\n\u001b[0;32m----> 2\u001b[0;31m \u001b[0mscaler2\u001b[0m\u001b[0;34m.\u001b[0m\u001b[0mfit_transform\u001b[0m\u001b[0;34m(\u001b[0m\u001b[0my_train\u001b[0m\u001b[0;34m)\u001b[0m\u001b[0;34m\u001b[0m\u001b[0m\n\u001b[0m\u001b[1;32m      3\u001b[0m \u001b[0my_values\u001b[0m \u001b[0;34m=\u001b[0m \u001b[0mscaler2\u001b[0m\u001b[0;34m.\u001b[0m\u001b[0minverse_transform\u001b[0m\u001b[0;34m(\u001b[0m\u001b[0my_pred\u001b[0m\u001b[0;34m.\u001b[0m\u001b[0mreshape\u001b[0m\u001b[0;34m(\u001b[0m\u001b[0;36m16\u001b[0m\u001b[0;34m,\u001b[0m\u001b[0;36m1\u001b[0m\u001b[0;34m)\u001b[0m\u001b[0;34m)\u001b[0m\u001b[0;34m\u001b[0m\u001b[0m\n",
      "\u001b[0;32m/anaconda3/lib/python3.6/site-packages/sklearn/base.py\u001b[0m in \u001b[0;36mfit_transform\u001b[0;34m(self, X, y, **fit_params)\u001b[0m\n\u001b[1;32m    460\u001b[0m         \u001b[0;32mif\u001b[0m \u001b[0my\u001b[0m \u001b[0;32mis\u001b[0m \u001b[0;32mNone\u001b[0m\u001b[0;34m:\u001b[0m\u001b[0;34m\u001b[0m\u001b[0m\n\u001b[1;32m    461\u001b[0m             \u001b[0;31m# fit method of arity 1 (unsupervised transformation)\u001b[0m\u001b[0;34m\u001b[0m\u001b[0;34m\u001b[0m\u001b[0m\n\u001b[0;32m--> 462\u001b[0;31m             \u001b[0;32mreturn\u001b[0m \u001b[0mself\u001b[0m\u001b[0;34m.\u001b[0m\u001b[0mfit\u001b[0m\u001b[0;34m(\u001b[0m\u001b[0mX\u001b[0m\u001b[0;34m,\u001b[0m \u001b[0;34m**\u001b[0m\u001b[0mfit_params\u001b[0m\u001b[0;34m)\u001b[0m\u001b[0;34m.\u001b[0m\u001b[0mtransform\u001b[0m\u001b[0;34m(\u001b[0m\u001b[0mX\u001b[0m\u001b[0;34m)\u001b[0m\u001b[0;34m\u001b[0m\u001b[0m\n\u001b[0m\u001b[1;32m    463\u001b[0m         \u001b[0;32melse\u001b[0m\u001b[0;34m:\u001b[0m\u001b[0;34m\u001b[0m\u001b[0m\n\u001b[1;32m    464\u001b[0m             \u001b[0;31m# fit method of arity 2 (supervised transformation)\u001b[0m\u001b[0;34m\u001b[0m\u001b[0;34m\u001b[0m\u001b[0m\n",
      "\u001b[0;32m/anaconda3/lib/python3.6/site-packages/sklearn/preprocessing/data.py\u001b[0m in \u001b[0;36mfit\u001b[0;34m(self, X, y)\u001b[0m\n\u001b[1;32m    321\u001b[0m         \u001b[0;31m# Reset internal state before fitting\u001b[0m\u001b[0;34m\u001b[0m\u001b[0;34m\u001b[0m\u001b[0m\n\u001b[1;32m    322\u001b[0m         \u001b[0mself\u001b[0m\u001b[0;34m.\u001b[0m\u001b[0m_reset\u001b[0m\u001b[0;34m(\u001b[0m\u001b[0;34m)\u001b[0m\u001b[0;34m\u001b[0m\u001b[0m\n\u001b[0;32m--> 323\u001b[0;31m         \u001b[0;32mreturn\u001b[0m \u001b[0mself\u001b[0m\u001b[0;34m.\u001b[0m\u001b[0mpartial_fit\u001b[0m\u001b[0;34m(\u001b[0m\u001b[0mX\u001b[0m\u001b[0;34m,\u001b[0m \u001b[0my\u001b[0m\u001b[0;34m)\u001b[0m\u001b[0;34m\u001b[0m\u001b[0m\n\u001b[0m\u001b[1;32m    324\u001b[0m \u001b[0;34m\u001b[0m\u001b[0m\n\u001b[1;32m    325\u001b[0m     \u001b[0;32mdef\u001b[0m \u001b[0mpartial_fit\u001b[0m\u001b[0;34m(\u001b[0m\u001b[0mself\u001b[0m\u001b[0;34m,\u001b[0m \u001b[0mX\u001b[0m\u001b[0;34m,\u001b[0m \u001b[0my\u001b[0m\u001b[0;34m=\u001b[0m\u001b[0;32mNone\u001b[0m\u001b[0;34m)\u001b[0m\u001b[0;34m:\u001b[0m\u001b[0;34m\u001b[0m\u001b[0m\n",
      "\u001b[0;32m/anaconda3/lib/python3.6/site-packages/sklearn/preprocessing/data.py\u001b[0m in \u001b[0;36mpartial_fit\u001b[0;34m(self, X, y)\u001b[0m\n\u001b[1;32m    349\u001b[0m         X = check_array(X, copy=self.copy, warn_on_dtype=True,\n\u001b[1;32m    350\u001b[0m                         \u001b[0mestimator\u001b[0m\u001b[0;34m=\u001b[0m\u001b[0mself\u001b[0m\u001b[0;34m,\u001b[0m \u001b[0mdtype\u001b[0m\u001b[0;34m=\u001b[0m\u001b[0mFLOAT_DTYPES\u001b[0m\u001b[0;34m,\u001b[0m\u001b[0;34m\u001b[0m\u001b[0m\n\u001b[0;32m--> 351\u001b[0;31m                         force_all_finite=\"allow-nan\")\n\u001b[0m\u001b[1;32m    352\u001b[0m \u001b[0;34m\u001b[0m\u001b[0m\n\u001b[1;32m    353\u001b[0m         \u001b[0mdata_min\u001b[0m \u001b[0;34m=\u001b[0m \u001b[0mnp\u001b[0m\u001b[0;34m.\u001b[0m\u001b[0mnanmin\u001b[0m\u001b[0;34m(\u001b[0m\u001b[0mX\u001b[0m\u001b[0;34m,\u001b[0m \u001b[0maxis\u001b[0m\u001b[0;34m=\u001b[0m\u001b[0;36m0\u001b[0m\u001b[0;34m)\u001b[0m\u001b[0;34m\u001b[0m\u001b[0m\n",
      "\u001b[0;32m/anaconda3/lib/python3.6/site-packages/sklearn/utils/validation.py\u001b[0m in \u001b[0;36mcheck_array\u001b[0;34m(array, accept_sparse, accept_large_sparse, dtype, order, copy, force_all_finite, ensure_2d, allow_nd, ensure_min_samples, ensure_min_features, warn_on_dtype, estimator)\u001b[0m\n\u001b[1;32m    550\u001b[0m                     \u001b[0;34m\"Reshape your data either using array.reshape(-1, 1) if \"\u001b[0m\u001b[0;34m\u001b[0m\u001b[0m\n\u001b[1;32m    551\u001b[0m                     \u001b[0;34m\"your data has a single feature or array.reshape(1, -1) \"\u001b[0m\u001b[0;34m\u001b[0m\u001b[0m\n\u001b[0;32m--> 552\u001b[0;31m                     \"if it contains a single sample.\".format(array))\n\u001b[0m\u001b[1;32m    553\u001b[0m \u001b[0;34m\u001b[0m\u001b[0m\n\u001b[1;32m    554\u001b[0m         \u001b[0;31m# in the future np.flexible dtypes will be handled like object dtypes\u001b[0m\u001b[0;34m\u001b[0m\u001b[0;34m\u001b[0m\u001b[0m\n",
      "\u001b[0;31mValueError\u001b[0m: Expected 2D array, got 1D array instead:\narray=[0.05660377 0.01886792 0.52830189 0.13698113 0.24528302 0.24528302\n 0.27358491 0.24528302 0.43396226 0.         0.33962264 0.24528302\n 0.33415094 0.21886792 0.30188679 0.30188679 0.16056604 0.37566038\n 0.1509434  0.16981132 0.33037736 0.13226226 0.13773585 0.62282642\n 0.13132075 0.15660377 0.05490377 0.27188679 0.16981132 0.57566038\n 0.71528302].\nReshape your data either using array.reshape(-1, 1) if your data has a single feature or array.reshape(1, -1) if it contains a single sample."
     ]
    }
   ],
   "source": [
    "scaler2 = MinMaxScaler()\n",
    "scaler2.fit_transform(y_train)\n",
    "y_values = scaler2.inverse_transform(y_pred.reshape(16,1))"
   ]
  },
  {
   "cell_type": "code",
   "execution_count": null,
   "metadata": {},
   "outputs": [],
   "source": []
  }
 ],
 "metadata": {
  "kernelspec": {
   "display_name": "Python 3",
   "language": "python",
   "name": "python3"
  },
  "language_info": {
   "codemirror_mode": {
    "name": "ipython",
    "version": 3
   },
   "file_extension": ".py",
   "mimetype": "text/x-python",
   "name": "python",
   "nbconvert_exporter": "python",
   "pygments_lexer": "ipython3",
<<<<<<< HEAD
   "version": "3.6.6"
=======
   "version": "3.6.7"
>>>>>>> 66cb65f689ba56f75c8f7887083fb537af4075f0
  }
 },
 "nbformat": 4,
 "nbformat_minor": 2
}
