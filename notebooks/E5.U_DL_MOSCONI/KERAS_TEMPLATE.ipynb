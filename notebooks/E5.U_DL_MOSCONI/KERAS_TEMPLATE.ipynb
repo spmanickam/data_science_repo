{
 "cells": [
  {
   "cell_type": "markdown",
   "metadata": {},
   "source": [
    "## KERAS TEMPLATE"
   ]
  },
  {
   "cell_type": "markdown",
   "metadata": {},
   "source": [
    "### IMPORT"
   ]
  },
  {
   "cell_type": "code",
   "execution_count": null,
   "metadata": {},
   "outputs": [],
   "source": [
    "import pandas as pd\n",
    "import numpy as np\n",
    "import matplotlib.pyplot as plt\n",
    "%matplotlib inline\n",
    "\n",
    "import keras"
   ]
  },
  {
   "cell_type": "markdown",
   "metadata": {},
   "source": [
    "### READ"
   ]
  },
  {
   "cell_type": "code",
   "execution_count": null,
   "metadata": {},
   "outputs": [],
   "source": [
    "df = pd.read_csv('../../data/raw/Udemy_Zero_to_deep_learning_Mosconi/HR_comma_sep.csv')\n",
    "df = pd.read_csv('../../data/raw/Udemy_Zero_to_deep_learning_Mosconi/iris.csv')"
   ]
  },
  {
   "cell_type": "code",
   "execution_count": null,
   "metadata": {},
   "outputs": [],
   "source": []
  },
  {
   "cell_type": "markdown",
   "metadata": {},
   "source": [
    "### ANALYSIS"
   ]
  },
  {
   "cell_type": "code",
   "execution_count": null,
   "metadata": {},
   "outputs": [],
   "source": [
    "df.head()\n",
    "df.describe()\n",
    "df.info()\n",
    "df.corr()\n",
    "df.columns\n",
    "df.shape\n",
    "\n",
    "\n",
    "# Count\n",
    "df.species.unique().size  # same as len(df['species'].unique())\n",
    "df.left.value_counts()\n",
    "df.query('left==1').salary.value_counts()\n",
    "\n",
    "# Distinct\n",
    "df.left.unique()\n",
    "\n",
    "\n",
    "# Select\n",
    "df.sample(10)\n",
    "df3['species']\n",
    "df.iloc[1:5, 0:2] \n",
    "labels = data[:,-1] # last column\n",
    "features = data[:,:-1] # all columns except last\n",
    "\n",
    "# Drop\n",
    "df3.drop('species', axis=1)\n",
    "\n"
   ]
  },
  {
   "cell_type": "markdown",
   "metadata": {},
   "source": [
    "### BENCHMARK"
   ]
  },
  {
   "cell_type": "code",
   "execution_count": null,
   "metadata": {},
   "outputs": [],
   "source": [
    "df.left.value_counts()/len(df)\n",
    "NOTE: Predicting 0 all the time would yield an accuracy of 76%"
   ]
  },
  {
   "cell_type": "markdown",
   "metadata": {},
   "source": [
    "### PLOT"
   ]
  },
  {
   "cell_type": "code",
   "execution_count": null,
   "metadata": {},
   "outputs": [],
   "source": [
    "# Pairplot\n",
    "import seaborn as sns\n",
    "sns.pairplot(df, hue='species')\n",
    "\n",
    "# Histogram for each feature\n",
    "x= 0\n",
    "for n in range(2):\n",
    "    plt.figure(figsize=(15,4))\n",
    "    for i, c in enumerate(df.iloc[:,x:x+4].columns):\n",
    "        print(i,c)\n",
    "        plt.subplot(n+1,4, i+1)\n",
    "        df[c].plot(kind='hist')\n",
    "        plt.xlabel(c)\n",
    "    x = x + 4\n",
    "---------------------------------------------------------------------------------------\n",
    "pimaDF.hist(figsize=(12,10));            \n",
    "---------------------------------------------------------------------------------------\n",
    "sns.pairplot(pimaDF, hue='class')\n",
    "---------------------------------------------------------------------------------------\n",
    "sns.heatmap(pimaDF.corr())\n",
    "sns.heatmap(pimaDF.corr(), annot=True)  # shows value on each cell\n"
   ]
  }
 ],
 "metadata": {
  "kernelspec": {
   "display_name": "Python 3",
   "language": "python",
   "name": "python3"
  },
  "language_info": {
   "codemirror_mode": {
    "name": "ipython",
    "version": 3
   },
   "file_extension": ".py",
   "mimetype": "text/x-python",
   "name": "python",
   "nbconvert_exporter": "python",
   "pygments_lexer": "ipython3",
   "version": "3.6.7"
  }
 },
 "nbformat": 4,
 "nbformat_minor": 2
}
