{
 "cells": [
  {
   "cell_type": "code",
   "execution_count": 1,
   "metadata": {},
   "outputs": [],
   "source": [
    "import tensorflow as tf"
   ]
  },
  {
   "cell_type": "code",
   "execution_count": 2,
   "metadata": {},
   "outputs": [
    {
     "data": {
      "text/plain": [
       "<module 'tensorflow' from 'c:\\\\SOFTWARE\\\\anaconda\\\\lib\\\\site-packages\\\\tensorflow\\\\__init__.py'>"
      ]
     },
     "execution_count": 2,
     "metadata": {},
     "output_type": "execute_result"
    }
   ],
   "source": [
    "tf"
   ]
  },
  {
   "cell_type": "code",
   "execution_count": 3,
   "metadata": {},
   "outputs": [],
   "source": [
    "a = tf.constant(10, name = 'constant_a')\n",
    "b = tf.constant(5, name = 'constant_b')\n",
    "c = tf.constant(90, name = 'constant_c')\n",
    "d = tf.constant(45, name = 'constant_d')"
   ]
  },
  {
   "cell_type": "code",
   "execution_count": null,
   "metadata": {},
   "outputs": [],
   "source": [
    "my_mul = tf.multiply(a, b, name='my_mul')"
   ]
  },
  {
   "cell_type": "code",
   "execution_count": null,
   "metadata": {},
   "outputs": [],
   "source": [
    "my_div = tf.div(c, d, name='my_div')"
   ]
  },
  {
   "cell_type": "code",
   "execution_count": null,
   "metadata": {},
   "outputs": [],
   "source": [
    "my_add = tf.add(my_mul, my_div, name='my_add')"
   ]
  },
  {
   "cell_type": "code",
   "execution_count": null,
   "metadata": {},
   "outputs": [],
   "source": [
    "sess = tf.Session()"
   ]
  },
  {
   "cell_type": "code",
   "execution_count": null,
   "metadata": {},
   "outputs": [],
   "source": [
    "sess.run(my_mul)"
   ]
  },
  {
   "cell_type": "code",
   "execution_count": null,
   "metadata": {},
   "outputs": [],
   "source": [
    "sess.run(my_div)"
   ]
  },
  {
   "cell_type": "code",
   "execution_count": null,
   "metadata": {},
   "outputs": [],
   "source": [
    "sess.run(my_add)"
   ]
  },
  {
   "cell_type": "code",
   "execution_count": null,
   "metadata": {},
   "outputs": [],
   "source": [
    "writer = tf.summary.FileWriter('./graph', sess.graph)"
   ]
  },
  {
   "cell_type": "code",
   "execution_count": null,
   "metadata": {},
   "outputs": [],
   "source": [
    "writer.close()"
   ]
  },
  {
   "cell_type": "code",
   "execution_count": null,
   "metadata": {},
   "outputs": [],
   "source": [
    "sess.close()"
   ]
  },
  {
   "cell_type": "code",
   "execution_count": null,
   "metadata": {},
   "outputs": [],
   "source": []
  },
  {
   "cell_type": "code",
   "execution_count": 9,
   "metadata": {},
   "outputs": [],
   "source": [
    "p = tf.constant(6.5, name='contant_p')\n",
    "q = tf.constant(3.4, name='contact_q')\n",
    "r = tf.constant(3.0, name='contact_r')\n",
    "s = tf.constant(100.2, name='contact_s')\n",
    "\n",
    "\n",
    "i = tf.constant(10.0, name = 'constant_i')\n",
    "j = tf.constant(5.0, name = 'constant_j')\n",
    "k = tf.constant(90.0, name = 'constant_k')\n",
    "l = tf.constant(45.0, name = 'constant_l')\n"
   ]
  },
  {
   "cell_type": "code",
   "execution_count": 10,
   "metadata": {},
   "outputs": [],
   "source": [
    "my_square = tf.square(p, 'my_square')\n",
    "my_power = tf.pow(q, r, name='my_power')\n",
    "my_sqrt = tf.sqrt(s, name='my_sqrt')"
   ]
  },
  {
   "cell_type": "code",
   "execution_count": 11,
   "metadata": {},
   "outputs": [],
   "source": [
    "final_sum = tf.add_n([my_square, my_power, my_sqrt], name='final_sum')"
   ]
  },
  {
   "cell_type": "code",
   "execution_count": 12,
   "metadata": {},
   "outputs": [
    {
     "name": "stdout",
     "output_type": "stream",
     "text": [
      "91.563995\n"
     ]
    }
   ],
   "source": [
    "with tf.Session() as sess:\n",
    "     print(sess.run(final_sum))"
   ]
  },
  {
   "cell_type": "code",
   "execution_count": 15,
   "metadata": {},
   "outputs": [
    {
     "name": "stdout",
     "output_type": "stream",
     "text": [
      "241.564\n"
     ]
    }
   ],
   "source": [
    "new_sum = tf.add_n([my_square, my_power, my_sqrt, i, j, k, l], name='new_sum')\n",
    "with tf.Session() as sess:\n",
    "    print(sess.run(new_sum))"
   ]
  },
  {
   "cell_type": "code",
   "execution_count": 16,
   "metadata": {},
   "outputs": [
    {
     "name": "stdout",
     "output_type": "stream",
     "text": [
      "Tensor(\"final_sum_1:0\", shape=(), dtype=float32)\n"
     ]
    }
   ],
   "source": [
    " print(final_sum)"
   ]
  },
  {
   "cell_type": "code",
   "execution_count": 17,
   "metadata": {},
   "outputs": [],
   "source": [
    "writer = tf.summary.FileWriter('./graph2', sess.graph)\n",
    "writer.close()"
   ]
  },
  {
   "cell_type": "code",
   "execution_count": null,
   "metadata": {},
   "outputs": [],
   "source": [
    "!tensorboard --logdir=graph2"
   ]
  },
  {
   "cell_type": "code",
   "execution_count": 19,
   "metadata": {},
   "outputs": [
    {
     "name": "stdout",
     "output_type": "stream",
     "text": [
      "Tensor(\"Rank_3:0\", shape=(), dtype=int32)\n",
      "Tensor(\"Rank_4:0\", shape=(), dtype=int32)\n",
      "Tensor(\"Rank_5:0\", shape=(), dtype=int32)\n",
      "Tensor(\"Rank_6:0\", shape=(), dtype=int32)\n"
     ]
    }
   ],
   "source": [
    "with tf.Session() as sess:\n",
    "    zeroD = tf.constant(5)\n",
    "    print(tf.rank(zeroD))\n",
    "    \n",
    "    oneD = tf.constant(['How', 'are', 'you'])\n",
    "    print(tf.rank(oneD))\n",
    "        \n",
    "    twoD = tf.constant([[1,2,3,4]])\n",
    "    print(tf.rank(twoD))\n",
    "        \n",
    "    threeD = tf.constant([[[1,2]]])\n",
    "    print(tf.rank(threeD))"
   ]
  },
  {
   "cell_type": "code",
   "execution_count": null,
   "metadata": {},
   "outputs": [],
   "source": []
  },
  {
   "cell_type": "code",
   "execution_count": null,
   "metadata": {},
   "outputs": [],
   "source": [
    "x = tf.constant([11,22,33], name='x' )\n",
    "\n",
    "sum_x = tf.reduce_sum(x, name='sum_x')\n",
    "print('sum_x: ', sum_x)\n",
    "\n",
    "prod_x = tf.reduce_sum(x, name='sum_x')\n",
    "print('sum_x: ', sum_x)\n",
    "\n",
    "\n",
    "div_x = tf.reduce_sum(x, name='sum_x')\n",
    "print('sum_x: ', sum_x)\n",
    "\n",
    "\n",
    "sum_x = tf.reduce_sum(x, name='sum_x')\n",
    "print('sum_x: ', sum_x)\n",
    "\n",
    "\n",
    "\n"
   ]
  }
 ],
 "metadata": {
  "kernelspec": {
   "display_name": "Python 3",
   "language": "python",
   "name": "python3"
  },
  "language_info": {
   "codemirror_mode": {
    "name": "ipython",
    "version": 3
   },
   "file_extension": ".py",
   "mimetype": "text/x-python",
   "name": "python",
   "nbconvert_exporter": "python",
   "pygments_lexer": "ipython3",
   "version": "3.6.6"
  },
  "toc": {
   "base_numbering": 1,
   "nav_menu": {},
   "number_sections": true,
   "sideBar": true,
   "skip_h1_title": false,
   "title_cell": "Table of Contents",
   "title_sidebar": "Contents",
   "toc_cell": false,
   "toc_position": {},
   "toc_section_display": true,
   "toc_window_display": false
  }
 },
 "nbformat": 4,
 "nbformat_minor": 2
}
