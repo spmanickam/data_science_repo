{
 "cells": [
  {
   "cell_type": "markdown",
   "metadata": {},
   "source": [
    "### FETCHES"
   ]
  },
  {
   "cell_type": "code",
   "execution_count": null,
   "metadata": {},
   "outputs": [],
   "source": [
    "# Fetches tells tensorflow what you want to compute"
   ]
  },
  {
   "cell_type": "code",
   "execution_count": 1,
   "metadata": {},
   "outputs": [
    {
     "data": {
      "text/plain": [
       "<module 'tensorflow' from 'c:\\\\SOFTWARE\\\\anaconda\\\\lib\\\\site-packages\\\\tensorflow\\\\__init__.py'>"
      ]
     },
     "execution_count": 1,
     "metadata": {},
     "output_type": "execute_result"
    }
   ],
   "source": [
    "import tensorflow as tf\n",
    "tf"
   ]
  },
  {
   "cell_type": "code",
   "execution_count": 7,
   "metadata": {},
   "outputs": [],
   "source": [
    "# y = Wx + b\n",
    "W = tf.constant([10,100, 1000], name='const_W')\n",
    "\n",
    "# Create placehoders without specifying the shape\n",
    "x = tf.placeholder(tf.int32, name='x')\n",
    "b = tf.placeholder(tf.int32, name='b')"
   ]
  },
  {
   "cell_type": "code",
   "execution_count": 8,
   "metadata": {},
   "outputs": [],
   "source": [
    "#Multiplies every element of W with every element of x\n",
    "Wx = tf.multiply(W, x, name='Wx')  #x should be of the same shape and rank as W"
   ]
  },
  {
   "cell_type": "code",
   "execution_count": 9,
   "metadata": {},
   "outputs": [],
   "source": [
    "y = tf.add(Wx, b, name='y')"
   ]
  },
  {
   "cell_type": "code",
   "execution_count": 16,
   "metadata": {},
   "outputs": [],
   "source": [
    "y_ = tf.subtract(x,b, name='y_')"
   ]
  },
  {
   "cell_type": "code",
   "execution_count": 18,
   "metadata": {},
   "outputs": [
    {
     "name": "stdout",
     "output_type": "stream",
     "text": [
      "Intermediate result(Wx):  [    50   5000 500000]\n",
      "Final result(y)        :  [    57   5009 500011]\n",
      "Final result(y) with intermiedate values specified:  [    57   5009 500011]\n",
      "Two results: [Wx+b, x-b]:  [array([    57,   5009, 500011]), array([ -2,  41, 489])]\n",
      "Two results: [Wx+b, x-b]:  [array([    57,   5009, 500011]), array([ -2,  41, 489])]\n"
     ]
    }
   ],
   "source": [
    "with tf.Session() as sess:\n",
    "    #print('Intermediate result(Wx): ', sess.run(Wx, feed_dict={x: [3, 33, 333]})) # Intermediate result(Wx):  [    30   3300 333000]\n",
    "    print('Intermediate result(Wx): ', sess.run(Wx, feed_dict={x: [5,50, 500]}))\n",
    "    print('Final result(y)        : ', sess.run(y, feed_dict={x:[5,50, 500], b:[7,9, 11]}))\n",
    "    print('Final result(y) with intermiedate values specified: ', sess.run(y, feed_dict={Wx:[50, 5000, 500000], b:[7,9,11]}))\n",
    "    \n",
    "    print('Two results: [Wx+b, x-b]: ', sess.run([y, y_], feed_dict={x:[5,50, 500], b:[7,9, 11]}))\n",
    "    print('Two results: [Wx+b, x-b]: ', sess.run(fetches=[y, y_], feed_dict={x:[5,50, 500], b:[7,9, 11]}))"
   ]
  },
  {
   "cell_type": "code",
   "execution_count": 20,
   "metadata": {},
   "outputs": [],
   "source": [
    "writer = tf.summary.FileWriter('/graph4', sess.graph)"
   ]
  },
  {
   "cell_type": "code",
   "execution_count": 21,
   "metadata": {},
   "outputs": [],
   "source": [
    "writer.close()"
   ]
  },
  {
   "cell_type": "code",
   "execution_count": 22,
   "metadata": {},
   "outputs": [],
   "source": [
    "sess.close()"
   ]
  },
  {
   "cell_type": "code",
   "execution_count": null,
   "metadata": {},
   "outputs": [],
   "source": [
    "#END"
   ]
  }
 ],
 "metadata": {
  "kernelspec": {
   "display_name": "Python 3",
   "language": "python",
   "name": "python3"
  },
  "language_info": {
   "codemirror_mode": {
    "name": "ipython",
    "version": 3
   },
   "file_extension": ".py",
   "mimetype": "text/x-python",
   "name": "python",
   "nbconvert_exporter": "python",
   "pygments_lexer": "ipython3",
   "version": "3.6.7"
  },
  "toc": {
   "base_numbering": 1,
   "nav_menu": {},
   "number_sections": true,
   "sideBar": true,
   "skip_h1_title": false,
   "title_cell": "Table of Contents",
   "title_sidebar": "Contents",
   "toc_cell": false,
   "toc_position": {},
   "toc_section_display": true,
   "toc_window_display": false
  }
 },
 "nbformat": 4,
 "nbformat_minor": 2
}
