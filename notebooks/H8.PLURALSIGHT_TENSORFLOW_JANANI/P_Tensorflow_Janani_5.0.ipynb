{
 "cells": [
  {
   "cell_type": "markdown",
   "metadata": {},
   "source": [
    "### GRAPH"
   ]
  },
  {
   "cell_type": "code",
   "execution_count": 2,
   "metadata": {},
   "outputs": [
    {
     "data": {
      "text/plain": [
       "<module 'tensorflow' from 'c:\\\\SOFTWARE\\\\anaconda\\\\lib\\\\site-packages\\\\tensorflow\\\\__init__.py'>"
      ]
     },
     "execution_count": 2,
     "metadata": {},
     "output_type": "execute_result"
    }
   ],
   "source": [
    "import tensorflow as tf\n",
    "tf"
   ]
  },
  {
   "cell_type": "code",
   "execution_count": 22,
   "metadata": {},
   "outputs": [],
   "source": [
    "graph1 = tf.Graph()\n",
    "graph2 = tf.Graph()"
   ]
  },
  {
   "cell_type": "code",
   "execution_count": 23,
   "metadata": {},
   "outputs": [
    {
     "data": {
      "text/plain": [
       "<tensorflow.python.framework.ops.Graph at 0x66837b8>"
      ]
     },
     "execution_count": 23,
     "metadata": {},
     "output_type": "execute_result"
    }
   ],
   "source": [
    "graph1"
   ]
  },
  {
   "cell_type": "code",
   "execution_count": 33,
   "metadata": {},
   "outputs": [
    {
     "name": "stdout",
     "output_type": "stream",
     "text": [
      "y : [60]\n"
     ]
    }
   ],
   "source": [
    "with graph1.as_default():\n",
    "    with tf.Session() as sess:\n",
    "        # y = Ax + B\n",
    "        A = tf.constant([5], tf.int32, name='A')\n",
    "        B = tf.constant([10], tf.int32, name='B')\n",
    "        \n",
    "        x = tf.placeholder(tf.int32, name='x')\n",
    "        \n",
    "        y = A * x + B\n",
    "        \n",
    "        print('y :', sess.run(y, feed_dict={x: [10]}))\n",
    "        \n",
    "        assert(y.graph is graph1)"
   ]
  },
  {
   "cell_type": "code",
   "execution_count": 36,
   "metadata": {},
   "outputs": [
    {
     "name": "stdout",
     "output_type": "stream",
     "text": [
      "y:  [ 5 11]\n",
      "y:  [20 31]\n"
     ]
    }
   ],
   "source": [
    "with graph2.as_default():\n",
    "    with tf.Session() as sess:\n",
    "        A = tf.Variable([1,2], name='a')\n",
    "        B = tf.Variable([2,3], name='b')\n",
    "        x = tf.placeholder(tf.int32, name='x')\n",
    "        \n",
    "        y = A * x + B\n",
    "        init = tf.global_variables_initializer()\n",
    "        sess.run(init)\n",
    "        print('y: ', sess.run(y, feed_dict={x:[3,4]}))\n",
    "        \n",
    "        # assert(y.graph is graph1) # AssertionError\n",
    "        print('y: ', sess.run(y, feed_dict={x:[3,4], A:[6,7]}))"
   ]
  },
  {
   "cell_type": "code",
   "execution_count": 37,
   "metadata": {},
   "outputs": [
    {
     "name": "stdout",
     "output_type": "stream",
     "text": [
      "<tensorflow.python.framework.ops.Graph object at 0x0000000005200160>\n"
     ]
    }
   ],
   "source": [
    "print(tf.get_default_graph())"
   ]
  },
  {
   "cell_type": "code",
   "execution_count": 44,
   "metadata": {},
   "outputs": [
    {
     "name": "stdout",
     "output_type": "stream",
     "text": [
      "y:  [ 5 11]\n",
      "y:  [20 31]\n"
     ]
    }
   ],
   "source": [
    "tf.get_default_graph()\n",
    "with tf.Session() as sess:\n",
    "    A = tf.constant([1,2], name='a')\n",
    "    B = tf.Variable([2,3], name='b')\n",
    "    x = tf.placeholder(tf.int32, name='x')\n",
    "        \n",
    "    y = A * x + B\n",
    "    init = tf.global_variables_initializer()\n",
    "    sess.run(init)\n",
    "    print('y: ', sess.run(y, feed_dict={x:[3,4]}))\n",
    "        \n",
    "    #assert(y.graph is graph1) # AssertionError\n",
    "    #assert(y.graph is graph2) # AssertionError\n",
    "    assert(y.graph is tf.get_default_graph())\n",
    "    print('y: ', sess.run(y, feed_dict={x:[3,4], A:[6,7]})) # No effect on passing A in feed_dict, as it is constant"
   ]
  },
  {
   "cell_type": "code",
   "execution_count": null,
   "metadata": {},
   "outputs": [],
   "source": [
    "# END"
   ]
  }
 ],
 "metadata": {
  "kernelspec": {
   "display_name": "Python 3",
   "language": "python",
   "name": "python3"
  },
  "language_info": {
   "codemirror_mode": {
    "name": "ipython",
    "version": 3
   },
   "file_extension": ".py",
   "mimetype": "text/x-python",
   "name": "python",
   "nbconvert_exporter": "python",
   "pygments_lexer": "ipython3",
   "version": "3.6.7"
  },
  "toc": {
   "base_numbering": 1,
   "nav_menu": {},
   "number_sections": true,
   "sideBar": true,
   "skip_h1_title": false,
   "title_cell": "Table of Contents",
   "title_sidebar": "Contents",
   "toc_cell": false,
   "toc_position": {},
   "toc_section_display": true,
   "toc_window_display": false
  }
 },
 "nbformat": 4,
 "nbformat_minor": 2
}
