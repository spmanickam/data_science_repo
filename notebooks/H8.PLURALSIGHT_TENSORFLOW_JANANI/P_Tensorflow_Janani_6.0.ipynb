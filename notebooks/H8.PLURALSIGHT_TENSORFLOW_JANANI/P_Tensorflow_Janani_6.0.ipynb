{
 "cells": [
  {
   "cell_type": "markdown",
   "metadata": {},
   "source": [
    "### Default Session, Interactive Session, Named Scopes"
   ]
  },
  {
   "cell_type": "code",
   "execution_count": 1,
   "metadata": {},
   "outputs": [
    {
     "data": {
      "text/plain": [
       "<module 'tensorflow' from 'c:\\\\SOFTWARE\\\\anaconda\\\\lib\\\\site-packages\\\\tensorflow\\\\__init__.py'>"
      ]
     },
     "execution_count": 1,
     "metadata": {},
     "output_type": "execute_result"
    }
   ],
   "source": [
    "import tensorflow as tf\n",
    "tf"
   ]
  },
  {
   "cell_type": "code",
   "execution_count": 2,
   "metadata": {},
   "outputs": [
    {
     "name": "stdout",
     "output_type": "stream",
     "text": [
      "y:  [ 5 11]\n"
     ]
    },
    {
     "name": "stderr",
     "output_type": "stream",
     "text": [
      "c:\\SOFTWARE\\anaconda\\lib\\site-packages\\tensorflow\\python\\client\\session.py:1714: UserWarning: An interactive session is already active. This can cause out-of-memory errors in some cases. You must explicitly call `InteractiveSession.close()` to release resources held by the other session(s).\n",
      "  warnings.warn('An interactive session is already active. This can '\n"
     ]
    }
   ],
   "source": [
    "# Using interactive session\n",
    "A = tf.constant([1,2], name='a')\n",
    "B = tf.constant([2,3], name='b')\n",
    "x = tf.placeholder(tf.int32, name='x')\n",
    "        \n",
    "y = A * x + B\n",
    "\n",
    "tf.InteractiveSession()\n",
    "print('y: ', y.eval(feed_dict={x:[3,4]}))\n",
    "tf.InteractiveSession().close()"
   ]
  },
  {
   "cell_type": "code",
   "execution_count": 3,
   "metadata": {},
   "outputs": [
    {
     "name": "stdout",
     "output_type": "stream",
     "text": [
      "y:  [ 5 11]\n"
     ]
    }
   ],
   "source": [
    "# Using default session to run\n",
    "A = tf.constant([1,2], name='a')\n",
    "B = tf.constant([2,3], name='b')\n",
    "x = tf.placeholder(tf.int32, name='x')\n",
    "        \n",
    "y = A * x + B\n",
    "\n",
    "print('y: ', tf.get_default_session().run(y, feed_dict={x:[3,4]}))"
   ]
  },
  {
   "cell_type": "code",
   "execution_count": 4,
   "metadata": {},
   "outputs": [],
   "source": [
    "P = tf.constant([4], tf.int32, name='P')\n",
    "Q = tf.constant([4], tf.int32, name='Q')\n",
    "R = tf.constant([4], tf.int32, name='R')\n",
    "\n",
    "x = tf.placeholder(tf.int32, name='x')\n",
    "\n",
    "# y = Px^2 + Qx + R\n",
    "Px2_1 = tf.multiply(P, tf.pow(x,2), name='Px2_1')\n",
    "Qx = tf.multiply(Q, x, name='Qx')\n",
    "y1 = tf.add_n([Px2_1, Qx, R], name='y1')\n",
    "\n",
    "# y = Px^2 + Qx^2\n",
    "Px2_2 = tf.multiply(P, tf.pow(x,2), name='Px2_2')\n",
    "Qx2_2 = tf.multiply(Q, tf.pow(x,2), name='Qx2_2')\n",
    "y2 = tf.add_n([Px2_2,Qx2_2], name='y2')\n",
    "\n",
    "y = y1 + y2"
   ]
  },
  {
   "cell_type": "code",
   "execution_count": 5,
   "metadata": {},
   "outputs": [
    {
     "name": "stdout",
     "output_type": "stream",
     "text": [
      "y:  [1244]\n"
     ]
    }
   ],
   "source": [
    "with tf.Session() as sess:\n",
    "    print('y: ', sess.run(y, feed_dict={x:[10]}))"
   ]
  },
  {
   "cell_type": "code",
   "execution_count": 6,
   "metadata": {},
   "outputs": [],
   "source": [
    "writer = tf.summary.FileWriter('./graph4', sess.graph)\n",
    "writer.close()"
   ]
  },
  {
   "cell_type": "code",
   "execution_count": null,
   "metadata": {},
   "outputs": [],
   "source": [
    "#END"
   ]
  }
 ],
 "metadata": {
  "kernelspec": {
   "display_name": "Python 3",
   "language": "python",
   "name": "python3"
  },
  "language_info": {
   "codemirror_mode": {
    "name": "ipython",
    "version": 3
   },
   "file_extension": ".py",
   "mimetype": "text/x-python",
   "name": "python",
   "nbconvert_exporter": "python",
   "pygments_lexer": "ipython3",
   "version": "3.6.7"
  },
  "toc": {
   "base_numbering": 1,
   "nav_menu": {},
   "number_sections": true,
   "sideBar": true,
   "skip_h1_title": false,
   "title_cell": "Table of Contents",
   "title_sidebar": "Contents",
   "toc_cell": false,
   "toc_position": {},
   "toc_section_display": true,
   "toc_window_display": false
  }
 },
 "nbformat": 4,
 "nbformat_minor": 2
}
