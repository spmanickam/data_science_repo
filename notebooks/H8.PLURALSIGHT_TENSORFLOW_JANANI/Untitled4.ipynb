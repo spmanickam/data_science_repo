{
 "cells": [
  {
   "cell_type": "markdown",
   "metadata": {},
   "source": [
    "### NAMED SCOPE"
   ]
  },
  {
   "cell_type": "code",
   "execution_count": 1,
   "metadata": {},
   "outputs": [
    {
     "data": {
      "text/plain": [
       "<module 'tensorflow' from 'c:\\\\SOFTWARE\\\\anaconda\\\\lib\\\\site-packages\\\\tensorflow\\\\__init__.py'>"
      ]
     },
     "execution_count": 1,
     "metadata": {},
     "output_type": "execute_result"
    }
   ],
   "source": [
    "import tensorflow as tf\n",
    "tf"
   ]
  },
  {
   "cell_type": "code",
   "execution_count": 2,
   "metadata": {},
   "outputs": [],
   "source": [
    "P = tf.constant([4], tf.int32, name='P')\n",
    "Q = tf.constant([4], tf.int32, name='Q')\n",
    "R = tf.constant([4], tf.int32, name='R')\n",
    "\n",
    "x = tf.placeholder(tf.int32, name='x')\n",
    "\n",
    "\n",
    "with tf.name_scope('EQUATION_1'):\n",
    "    # y = Px^2 + Qx + R\n",
    "    Px2_1 = tf.multiply(P, tf.pow(x,2), name='Px2_1')\n",
    "    Qx = tf.multiply(Q, x, name='Qx')\n",
    "    y1 = tf.add_n([Px2_1, Qx, R], name='y1')\n",
    "\n",
    "    \n",
    "with tf.name_scope('EQUATION_2'):\n",
    "    # y = Px^2 + Qx^2\n",
    "    Px2_2 = tf.multiply(P, tf.pow(x,2), name='Px2_2')\n",
    "    Qx2_2 = tf.multiply(Q, tf.pow(x,2), name='Qx2_2')\n",
    "    y2 = tf.add_n([Px2_2,Qx2_2], name='y2')\n",
    "\n",
    "    \n",
    "with tf.name_scope('FINAL_RESULT'):\n",
    "    y = y1 + y2"
   ]
  },
  {
   "cell_type": "code",
   "execution_count": 3,
   "metadata": {},
   "outputs": [
    {
     "name": "stdout",
     "output_type": "stream",
     "text": [
      "y:  [1244]\n"
     ]
    }
   ],
   "source": [
    "with tf.Session() as sess:\n",
    "    print('y: ', sess.run(y, feed_dict={x:[10]}))"
   ]
  },
  {
   "cell_type": "code",
   "execution_count": 4,
   "metadata": {},
   "outputs": [],
   "source": [
    "writer = tf.summary.FileWriter('./graph5', sess.graph)\n",
    "writer.close()"
   ]
  },
  {
   "cell_type": "code",
   "execution_count": null,
   "metadata": {},
   "outputs": [],
   "source": []
  }
 ],
 "metadata": {
  "kernelspec": {
   "display_name": "Python 3",
   "language": "python",
   "name": "python3"
  },
  "language_info": {
   "codemirror_mode": {
    "name": "ipython",
    "version": 3
   },
   "file_extension": ".py",
   "mimetype": "text/x-python",
   "name": "python",
   "nbconvert_exporter": "python",
   "pygments_lexer": "ipython3",
   "version": "3.6.7"
  },
  "toc": {
   "base_numbering": 1,
   "nav_menu": {},
   "number_sections": true,
   "sideBar": true,
   "skip_h1_title": false,
   "title_cell": "Table of Contents",
   "title_sidebar": "Contents",
   "toc_cell": false,
   "toc_position": {},
   "toc_section_display": true,
   "toc_window_display": false
  }
 },
 "nbformat": 4,
 "nbformat_minor": 2
}
