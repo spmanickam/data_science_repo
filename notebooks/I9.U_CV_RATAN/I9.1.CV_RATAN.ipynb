{
 "cells": [
  {
   "cell_type": "markdown",
   "metadata": {},
   "source": [
    "## A1.CV_RATAN.ipynb"
   ]
  },
  {
   "cell_type": "code",
   "execution_count": 1,
   "metadata": {},
   "outputs": [],
   "source": [
    "import cv2\n",
    "import numpy as np\n",
    "import pandas as pd\n",
    "import matplotlib.pyplot as plt"
   ]
  },
  {
   "cell_type": "code",
   "execution_count": 2,
   "metadata": {},
   "outputs": [],
   "source": [
    "my_image = np.random.random((9,9))"
   ]
  },
  {
   "cell_type": "code",
   "execution_count": 3,
   "metadata": {},
   "outputs": [
    {
     "data": {
      "text/plain": [
       "array([[0.7082444 , 0.10958458, 0.42775076, 0.01879288, 0.57700833,\n",
       "        0.95631145, 0.43364372, 0.49075141, 0.47520404],\n",
       "       [0.31875737, 0.77755462, 0.33361841, 0.92721398, 0.42216723,\n",
       "        0.15006647, 0.63035467, 0.62026231, 0.10950157],\n",
       "       [0.01809884, 0.99928477, 0.21523116, 0.70111028, 0.07597296,\n",
       "        0.02813879, 0.30986132, 0.82893926, 0.95598906],\n",
       "       [0.05280439, 0.03653725, 0.2015473 , 0.48904857, 0.87518697,\n",
       "        0.13547512, 0.19002101, 0.89098586, 0.63340809],\n",
       "       [0.00560619, 0.87227104, 0.81863409, 0.32468771, 0.79904985,\n",
       "        0.04012618, 0.84523529, 0.88770931, 0.40916868],\n",
       "       [0.86933907, 0.45256654, 0.69977163, 0.29724213, 0.08056279,\n",
       "        0.73240364, 0.85819115, 0.82070292, 0.39605723],\n",
       "       [0.79148639, 0.16326296, 0.58100976, 0.10219813, 0.85846129,\n",
       "        0.85730387, 0.81417167, 0.3460163 , 0.33524924],\n",
       "       [0.88748084, 0.20041915, 0.40032135, 0.31332769, 0.33388468,\n",
       "        0.97294345, 0.99408858, 0.5693025 , 0.66759021],\n",
       "       [0.55570952, 0.03907979, 0.19850062, 0.36221504, 0.34096669,\n",
       "        0.26924774, 0.97295149, 0.68400547, 0.53711675]])"
      ]
     },
     "execution_count": 3,
     "metadata": {},
     "output_type": "execute_result"
    }
   ],
   "source": [
    "my_image"
   ]
  },
  {
   "cell_type": "code",
   "execution_count": 4,
   "metadata": {},
   "outputs": [],
   "source": [
    "my_image[4:5] = 0\n",
    "my_image[:,4:5] = 0"
   ]
  },
  {
   "cell_type": "code",
   "execution_count": 5,
   "metadata": {},
   "outputs": [
    {
     "data": {
      "text/plain": [
       "<matplotlib.image.AxesImage at 0x91312e8>"
      ]
     },
     "execution_count": 5,
     "metadata": {},
     "output_type": "execute_result"
    },
    {
     "data": {
      "image/png": "[encoded data removed]",
      "text/plain": [
       "<Figure size 432x288 with 1 Axes>"
      ]
     },
     "metadata": {
      "needs_background": "light"
     },
     "output_type": "display_data"
    }
   ],
   "source": [
    "plt.imshow(my_image)"
   ]
  },
  {
   "cell_type": "code",
   "execution_count": 6,
   "metadata": {},
   "outputs": [
    {
     "data": {
      "text/plain": [
       "<matplotlib.image.AxesImage at 0x91c0da0>"
      ]
     },
     "execution_count": 6,
     "metadata": {},
     "output_type": "execute_result"
    },
    {
     "data": {
      "image/png": "[encoded data removed]",
      "text/plain": [
       "<Figure size 432x288 with 1 Axes>"
      ]
     },
     "metadata": {
      "needs_background": "light"
     },
     "output_type": "display_data"
    }
   ],
   "source": [
    "plt.imshow(my_image, cmap='gray')"
   ]
  },
  {
   "cell_type": "code",
   "execution_count": 8,
   "metadata": {},
   "outputs": [
    {
     "data": {
      "text/plain": [
       "array([[0.7082444]])"
      ]
     },
     "execution_count": 8,
     "metadata": {},
     "output_type": "execute_result"
    }
   ],
   "source": [
    "my_image[0:1,0:1]"
   ]
  },
  {
   "cell_type": "code",
   "execution_count": 9,
   "metadata": {},
   "outputs": [
    {
     "data": {
      "text/plain": [
       "array([[0.42775076]])"
      ]
     },
     "execution_count": 9,
     "metadata": {},
     "output_type": "execute_result"
    }
   ],
   "source": [
    "my_image[0:1,2:3]"
   ]
  },
  {
   "cell_type": "code",
   "execution_count": 10,
   "metadata": {},
   "outputs": [],
   "source": [
    "my_image2 = my_image\n",
    " \n",
    "for i in range(9):\n",
    "    for j in range(9):\n",
    "        #print(i,j)\n",
    "        if my_image2[i:i+1,j:j+1] < 0.7:\n",
    "            #print(i,j)\n",
    "            my_image2[i:i+1,j:j+1] = 1\n",
    "my_image[4:5] = 0\n",
    "my_image[:,4:5] = 0"
   ]
  },
  {
   "cell_type": "code",
   "execution_count": 11,
   "metadata": {},
   "outputs": [
    {
     "data": {
      "text/plain": [
       "<matplotlib.image.AxesImage at 0x92cee48>"
      ]
     },
     "execution_count": 11,
     "metadata": {},
     "output_type": "execute_result"
    },
    {
     "data": {
      "image/png": "[encoded data removed]",
      "text/plain": [
       "<Figure size 432x288 with 1 Axes>"
      ]
     },
     "metadata": {
      "needs_background": "light"
     },
     "output_type": "display_data"
    }
   ],
   "source": [
    "plt.imshow(my_image2)"
   ]
  },
  {
   "cell_type": "code",
   "execution_count": null,
   "metadata": {},
   "outputs": [],
   "source": [
    "NOTES:\n",
    "OpenCV:\n",
    "    -> OpenCV's core is written in C++. Python has a wrapper around it\n",
    "    -> It has > 2500 algorithms\n",
    "    -> supported on Windows, MacOs, Linux, Andriod, IOS with bindings in Python, Java and Matlab\n",
    "    -> https://www.opencv.org\n",
    "    -> OpenVINO is from Intel. Late to the market\n",
    "    -> OpenCV uses RGB color space by default\n",
    "    -> OpenCV 2.4.13 is latest stable release for OpenCV 2.X"
   ]
  }
 ],
 "metadata": {
  "kernelspec": {
   "display_name": "Python 3",
   "language": "python",
   "name": "python3"
  },
  "language_info": {
   "codemirror_mode": {
    "name": "ipython",
    "version": 3
   },
   "file_extension": ".py",
   "mimetype": "text/x-python",
   "name": "python",
   "nbconvert_exporter": "python",
   "pygments_lexer": "ipython3",
   "version": "3.6.7"
  }
 },
 "nbformat": 4,
 "nbformat_minor": 2
}
