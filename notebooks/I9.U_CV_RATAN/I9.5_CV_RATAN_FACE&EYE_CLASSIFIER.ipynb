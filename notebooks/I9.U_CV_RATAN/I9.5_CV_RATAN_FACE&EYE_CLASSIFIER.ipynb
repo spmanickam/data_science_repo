{
 "cells": [
  {
   "cell_type": "code",
   "execution_count": null,
   "metadata": {},
   "outputs": [],
   "source": [
    "import cv2\n",
    "\n",
    "import numpy as np\n",
    "import pandas as pd\n",
    "import matplotlib.pyplot as plt\n",
    "%matplotlib inline\n",
    "\n",
    "from IPython.display import Image \n",
    "\n",
    "def showImage(name, image):\n",
    "    cv2.startWindowThread()\n",
    "    cv2.imshow(name,image)\n",
    "    # cv2.startWindowThread()\n",
    "    cv2.waitKey()\n",
    "    cv2.destroyAllWindows()\n",
    "    for i in range (1,10):\n",
    "        cv2.waitKey(1) \n",
    "\n",
    "def faceAndEyeDetector(frame, size = 0.5):\n",
    "    frame_gray = cv2.cvtColor(frame, cv2.COLOR_BGR2GRAY)\n",
    "    faces = pretrained_face_classifier.detectMultiScale(frame_gray, 1.3, 5)\n",
    "    if faces is ():\n",
    "        return frame\n",
    "    else:\n",
    "        for (x, y, w, h) in faces:\n",
    "            x = x - 50\n",
    "            y = y - 50\n",
    "            w = w + 50\n",
    "            h = h + 50\n",
    "            cv2.rectangle(frame, (x,y), (x+w, y+ h), (255, 0, 0), 2)\n",
    "            #roi_frame_gray = frame_gray[y:y+h, x:x+w]\n",
    "            #roi_frame = frame[y:y+h, x:x+w]  # color roi\n",
    "            eyes = pretrained_eye_classifier.detectMultiScale(frame_gray, 1.3, 5)\n",
    "            \n",
    "            for (ex, ey, ew, eh) in eyes:\n",
    "                cv2.rectangle(frame, (ex,ey), (ex+ew, ey+eh), (255, 0, 0), 2)\n",
    "        #frame = cv2.flip(frame, 1)\n",
    "        return frame\n",
    "\n",
    "\n",
    "pretrained_eye_classifier = cv2.CascadeClassifier('../../models/pre-trained/Haarcascades/haarcascade_eye.xml')\n",
    "pretrained_face_classifier = cv2.CascadeClassifier('../../models/pre-trained/Haarcascades/haarcascade_frontalface_default.xml')\n",
    "\n",
    "\n",
    "capture = cv2.VideoCapture(0)\n",
    "\n",
    "while True:\n",
    "    ret, frame = capture.read()\n",
    "    cv2.imshow('MY FACE & EYES CLASSIFIER', faceAndEyeDetector(frame))\n",
    "    if cv2.waitKey(1) == 13:\n",
    "        break\n",
    "capture.release()\n",
    "cv2.destroyAllWindows()"
   ]
  },
  {
   "cell_type": "code",
   "execution_count": null,
   "metadata": {},
   "outputs": [],
   "source": [
    "# END"
   ]
  },
  {
   "cell_type": "code",
   "execution_count": null,
   "metadata": {},
   "outputs": [],
   "source": []
  },
  {
   "cell_type": "code",
   "execution_count": null,
   "metadata": {},
   "outputs": [],
   "source": []
  },
  {
   "cell_type": "code",
   "execution_count": null,
   "metadata": {},
   "outputs": [],
   "source": []
  }
 ],
 "metadata": {
  "kernelspec": {
   "display_name": "Python 3",
   "language": "python",
   "name": "python3"
  },
  "language_info": {
   "codemirror_mode": {
    "name": "ipython",
    "version": 3
   },
   "file_extension": ".py",
   "mimetype": "text/x-python",
   "name": "python",
   "nbconvert_exporter": "python",
   "pygments_lexer": "ipython3",
   "version": "3.6.6"
  }
 },
 "nbformat": 4,
 "nbformat_minor": 2
}
