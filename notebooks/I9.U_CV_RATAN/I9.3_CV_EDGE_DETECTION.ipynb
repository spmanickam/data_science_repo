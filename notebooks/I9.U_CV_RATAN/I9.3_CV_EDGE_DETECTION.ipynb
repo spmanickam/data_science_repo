{
 "cells": [
  {
   "cell_type": "markdown",
   "metadata": {
    "toc": true
   },
   "source": [
    "<h1>Table of Contents<span class=\"tocSkip\"></span></h1>\n",
    "<div class=\"toc\"><ul class=\"toc-item\"><li><span><a href=\"#EDGE-DETECTION\" data-toc-modified-id=\"EDGE-DETECTION-1\"><span class=\"toc-item-num\">1&nbsp;&nbsp;</span>EDGE DETECTION</a></span></li></ul></div>"
   ]
  },
  {
   "cell_type": "markdown",
   "metadata": {},
   "source": [
    "## EDGE DETECTION"
   ]
  },
  {
   "cell_type": "code",
   "execution_count": null,
   "metadata": {},
   "outputs": [],
   "source": [
    "import cv2\n",
    "\n",
    "import numpy as np\n",
    "import pandas as pd\n",
    "import matplotlib.pyplot as plt\n",
    "%matplotlib inline\n",
    "\n",
    "def showImage(name, image):\n",
    "    cv2.startWindowThread()\n",
    "    cv2.imshow(name,image)\n",
    "    # cv2.startWindowThread()\n",
    "    cv2.waitKey()\n",
    "    cv2.destroyAllWindows()\n",
    "    for i in range (1,10):\n",
    "        cv2.waitKey(1) \n",
    "        \n",
    "def sketch(image):\n",
    "    image_gray = cv2.cvtColor(image, cv2.COLOR_BGR2GRAY)\n",
    "    \n",
    "    image_gray_blur = cv2.GaussianBlur(image_gray, (5,5), 0)\n",
    "    \n",
    "    image_canny = cv2.Canny(image_gray_blur, 10, 50)\n",
    "    #image_canny = cv2.Canny(image_gray, 10, 70)\n",
    "    #return image_canny\n",
    "    \n",
    "    ret, mask = cv2.threshold(image_canny, 70, 277, cv2.THRESH_BINARY_INV)\n",
    "    return mask\n",
    "\n",
    "capture = cv2.VideoCapture(0)\n",
    "\n",
    "while True:\n",
    "    ret, frame = capture.read()\n",
    "    cv2.imshow('MY SKETCH', sketch(frame))\n",
    "    if cv2.waitKey(1) == 13:\n",
    "        break\n",
    "capture.release()\n",
    "cv2.destroyAllWindows()"
   ]
  },
  {
   "cell_type": "code",
   "execution_count": null,
   "metadata": {},
   "outputs": [],
   "source": [
    "# def sketch(image):\n",
    "#     image_gray = cv2.cvtColor(image, cv2.COLOR_BGR2GRAY)\n",
    "    \n",
    "#     image_gray_blur = cv2.GaussianBlur(image_gray, (5,5), 0)\n",
    "    \n",
    "#     image_canny = cv2.Canny(image_gray_blur, 10, 70)\n",
    "    \n",
    "#     ret, mask = cv2.threshold(image_canny, 70, 277, cv2.THRESH_BINARY_INV)\n",
    "#     return mask"
   ]
  },
  {
   "cell_type": "code",
   "execution_count": null,
   "metadata": {},
   "outputs": [],
   "source": []
  }
 ],
 "metadata": {
  "hide_input": false,
  "kernelspec": {
   "display_name": "Python 3",
   "language": "python",
   "name": "python3"
  },
  "language_info": {
   "codemirror_mode": {
    "name": "ipython",
    "version": 3
   },
   "file_extension": ".py",
   "mimetype": "text/x-python",
   "name": "python",
   "nbconvert_exporter": "python",
   "pygments_lexer": "ipython3",
   "version": "3.6.6"
  },
  "nbTranslate": {
   "displayLangs": [
    "*"
   ],
   "hotkey": "alt-t",
   "langInMainMenu": true,
   "sourceLang": "en",
   "targetLang": "fr",
   "useGoogleTranslate": true
  },
  "toc": {
   "base_numbering": 1,
   "nav_menu": {},
   "number_sections": true,
   "sideBar": true,
   "skip_h1_title": false,
   "title_cell": "Table of Contents",
   "title_sidebar": "Contents",
   "toc_cell": true,
   "toc_position": {},
   "toc_section_display": true,
   "toc_window_display": true
  }
 },
 "nbformat": 4,
 "nbformat_minor": 2
}
