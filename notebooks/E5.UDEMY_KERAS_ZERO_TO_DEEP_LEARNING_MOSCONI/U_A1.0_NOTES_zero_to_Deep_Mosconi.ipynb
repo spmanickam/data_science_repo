{
 "cells": [
  {
   "cell_type": "markdown",
   "metadata": {},
   "source": [
    "# U_1.0_zero_to_Deep_Mosconi_1"
   ]
  },
  {
   "cell_type": "code",
   "execution_count": null,
   "metadata": {},
   "outputs": [],
   "source": [
    "'''\n",
    "NOTES:\n",
    "\n",
    "-> Deep Learning applications (same as types of machine learning problems):\n",
    "    --> Supervised\n",
    "    --> Unsupervised\n",
    "    --> Reinforcement (similar to supervised)\n",
    "-> Reinforcement learning is similar to supervised learning; but in this case, the alorithm is training an agent to act \n",
    "   in an environment. The agent can take some action and know the state of the environment and these actions lead to an outcome\n",
    "   The outcome is attached to a score and the algorithm tries to maximize the score. The algorithm does not receive a label \n",
    "   for each action, but may receive a score after a sequence of actions\n",
    "   \n",
    "-> Types of supervised learning:\n",
    "    --> Binary Classifier:\n",
    "        ---> Churn prediction\n",
    "        ---> Sentiment Analysis (millions of comments for a celebrity)\n",
    "        ---> Click prediction \n",
    "        ---> Disease screening\n",
    "        ---> Human detection\n",
    "    --> Multi-class classifier:\n",
    "    --> Regression for Continuous values    \n",
    "    \n",
    "-> Process of finding the best parameters(combination of b and w values) is called training\n",
    "'''"
   ]
  },
  {
   "cell_type": "code",
   "execution_count": null,
   "metadata": {},
   "outputs": [],
   "source": [
    "'''\n",
    "NOTE: with dataset(weight-height.csv), you can do\n",
    "1) Regression (with weight as input and height as output)\n",
    "2) Classification:\n",
    "    a) with weight & height as input and gender as output (TO DO LATER)\n",
    "    b) with weight as input and gender as output(DONE BELOW)\n",
    "'''"
   ]
  },
  {
   "cell_type": "code",
   "execution_count": null,
   "metadata": {},
   "outputs": [],
   "source": [
    "'''\n",
    "Deep Learning success stories:\n",
    "    -> Object Recognition:\n",
    "        --> Image classification/ Object recognition\n",
    "        --> Image Captioning(text description from content of the image)\n",
    "    -> Text Processing/Audio Processing/Time series:\n",
    "        --> Speech recognition, synthesis   \n",
    "        --> Machine translation (can translate to a language that model is not trained: trained on German to English \n",
    "       and trained on English to Spanish, model can translate from German to Spanish without going through intermediate language(English))\n",
    "    -> Scientific fields including Physics, Chemistry, Biology, Medicine and Pharmacology\n",
    "        --> used to detect sckin cancer and eye disease\n",
    "        --> Drug discovery: deep learning has helped find new uses for existing medicines\n",
    "    -> Industrial applications:\n",
    "        --> Controlling temperature of data centers\n",
    "        --> Managing crops in agriculture planning\n",
    "    -> Atonomus vehicles\n",
    "    -> Play complex games\n",
    "\n",
    "Characteristics of Deep learning models that make them superior to traditional machine learning:\n",
    "    -> Performance of deep learning model increases with more data (as long as model is deep enough & there is variety in training data)\n",
    "    -> Automatic feature detection\n",
    "'''"
   ]
  },
  {
   "cell_type": "code",
   "execution_count": null,
   "metadata": {},
   "outputs": [],
   "source": [
    "'''\n",
    "-> A node will always have many inputs and one output\n",
    "-> A multi layer perceptron is an example of a fully connected network\n",
    "\n",
    "-> for logistic regression, use sigmoid\n",
    "-> perceptron uses step function\n",
    "\n",
    "#################################################################################\n",
    "Linear Regression: y = x.w + b\n",
    "Multivariate(multiple inputs): y = x.w + b  # here x, w and y are vectors\n",
    "\n",
    "Logistic Regression -> Sigmoid\n",
    "Perceptron -> Step\n",
    "\n",
    "Mutually exclusive output classes -> Softmax (probability adds to 1)\n",
    "#################################################################################\n",
    "\n",
    "-> Multilayer perceptron is an example of fully connected layer\n",
    "\n",
    "'''"
   ]
  },
  {
   "cell_type": "code",
   "execution_count": null,
   "metadata": {},
   "outputs": [],
   "source": [
    "'''\n",
    "Activation Functions:\n",
    "    -> Sigmoid --> Logistic regression\n",
    "    -> Step    --> Preceptron & multilayer preceptron\n",
    "    -> Hyperbolic Tangent(Tanh)\n",
    "    -> ReLU\n",
    "    -> Softplus    \n",
    "    \n",
    "    --> Other actvation functions that can be used to extend multilayer perceptrons to other types of fully connected networks:\n",
    "        --> Tanh (penalises negative values)\n",
    "        --> ReLU (max(0,x))\n",
    "        --> SoftPlus (smooth transition near 0)\n",
    "        \n",
    "'''"
   ]
  },
  {
   "cell_type": "code",
   "execution_count": null,
   "metadata": {},
   "outputs": [],
   "source": []
  },
  {
   "cell_type": "code",
   "execution_count": null,
   "metadata": {},
   "outputs": [],
   "source": []
  },
  {
   "cell_type": "code",
   "execution_count": null,
   "metadata": {},
   "outputs": [],
   "source": []
  },
  {
   "cell_type": "code",
   "execution_count": null,
   "metadata": {},
   "outputs": [],
   "source": []
  },
  {
   "cell_type": "code",
   "execution_count": null,
   "metadata": {},
   "outputs": [],
   "source": []
  },
  {
   "cell_type": "code",
   "execution_count": null,
   "metadata": {},
   "outputs": [],
   "source": []
  }
 ],
 "metadata": {
  "kernelspec": {
   "display_name": "Python 3",
   "language": "python",
   "name": "python3"
  },
  "language_info": {
   "codemirror_mode": {
    "name": "ipython",
    "version": 3
   },
   "file_extension": ".py",
   "mimetype": "text/x-python",
   "name": "python",
   "nbconvert_exporter": "python",
   "pygments_lexer": "ipython3",
   "version": "3.6.6"
  }
 },
 "nbformat": 4,
 "nbformat_minor": 2
}
