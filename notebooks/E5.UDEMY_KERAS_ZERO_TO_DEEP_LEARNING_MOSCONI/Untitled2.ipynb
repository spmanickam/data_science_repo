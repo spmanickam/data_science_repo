{
 "cells": [
  {
   "cell_type": "code",
   "execution_count": 1,
   "metadata": {},
   "outputs": [
    {
     "name": "stderr",
     "output_type": "stream",
     "text": [
      "Using TensorFlow backend.\n"
     ]
    }
   ],
   "source": [
    "import keras"
   ]
  },
  {
   "cell_type": "raw",
   "metadata": {},
   "source": [
    "src: https://keras.io/"
   ]
  },
  {
   "cell_type": "code",
   "execution_count": null,
   "metadata": {},
   "outputs": [],
   "source": [
    "MODEL METHODS:\n",
    "    compile\n",
    "    fit\n",
    "    evaluate\n",
    "    predict\n",
    "    train_on_batch\n",
    "    test_on_batch\n",
    "    predict_on_batch\n",
    "    fit_generator\n",
    "    evaluate_generator\n",
    "    predict_generator\n",
    "    get_layer"
   ]
  },
  {
   "cell_type": "code",
   "execution_count": null,
   "metadata": {},
   "outputs": [],
   "source": []
  },
  {
   "cell_type": "code",
   "execution_count": null,
   "metadata": {},
   "outputs": [],
   "source": [
    "LOSSES:\n",
    "    mean_squared_error\n",
    "    mean_absolute_error\n",
    "    hinge\n",
    "    categorical_crossentropy\n",
    "    binary_crossentropy\n",
    "    kullback_leibler_divergence\n",
    "    poisson"
   ]
  },
  {
   "cell_type": "code",
   "execution_count": null,
   "metadata": {},
   "outputs": [],
   "source": [
    "OPTIMIZERS:\n",
    "    SGD\n",
    "    RMSprop\n",
    "    Adagrad\n",
    "    Adadelta\n",
    "    Adam\n",
    "    Adamax\n",
    "    Nadam"
   ]
  },
  {
   "cell_type": "code",
   "execution_count": null,
   "metadata": {},
   "outputs": [],
   "source": [
    "ACTIVTIONS:\n",
    "    softmax\n",
    "    elu\n",
    "    selu\n",
    "    softplus\n",
    "    softsign\n",
    "    reu\n",
    "    tanh\n",
    "    sigmoid\n",
    "    hard_sigmoid\n",
    "    exponential\n",
    "    linear"
   ]
  },
  {
   "cell_type": "code",
   "execution_count": null,
   "metadata": {},
   "outputs": [],
   "source": [
    "CALLBACKS:\n",
    "    BaseLogger\n",
    "    TerminateOnNaN\n",
    "    History\n",
    "    EarlyStopping\n",
    "    LearningRate\n",
    "    LambdaCallback"
   ]
  },
  {
   "cell_type": "code",
   "execution_count": null,
   "metadata": {},
   "outputs": [],
   "source": [
    "LAYERS\n",
    "    CORE:\n",
    "        Dense\n",
    "        Activation\n",
    "        Dropout\n",
    "        Flattern\n",
    "        Input\n",
    "        ActivityRegularization\n",
    "        Masking\n",
    "        SpatialDropout1D\n",
    "        SpatialDropout2D\n",
    "        SpatialDropout3D\n",
    "    CONVOLUTIONAL:\n",
    "        Conv1D\n",
    "        Conv2D\n",
    "        Conv3D\n",
    "        SeparableConv1D\n",
    "        SeparableConv2D\n",
    "        DepthwiseConv2D\n",
    "        Conv2DTranspose\n",
    "        Conv3DTranspose\n",
    "        Cropping1D\n",
    "        Cropping2D\n",
    "        Cropping3D\n",
    "        UpSampling1D\n",
    "        UpSampling2D\n",
    "        UpSampling3D\n",
    "        ZeroPadding1D\n",
    "        ZeroPadding2D\n",
    "        ZeroPadding3D\n",
    "    POOLING:\n",
    "        MaxPooling1D\n",
    "        MaxPooling2D\n",
    "        MaxPooling3D\n",
    "        AveragePooling1D\n",
    "        AveragePooling2D\n",
    "        AveragePooling3D\n",
    "        GlobalMaxPooling1D\n",
    "        GlobalMaxPooling2D\n",
    "        GlobalMaxPooling3D\n",
    "        GlobalAveragePooling1D\n",
    "        GlobalAveragePooling2D\n",
    "        GlobalAveragePooling3D\n",
    "    LOCALLY CONNECTED:\n",
    "        LocallyConnected1D\n",
    "        LocallyConnected2D\n",
    "    RECURRENT:\n",
    "        RNN\n",
    "        SimpleRNN\n",
    "        GRU\n",
    "        LSTM\n",
    "        ConvLSTM2D\n",
    "        ConvLSTM2DCell\n",
    "        SimpleRNNCell\n",
    "        GRUCell\n",
    "        LSTMCell\n",
    "        CuDNNGRU\n",
    "        CuDNNLSTM\n",
    "    EMBEDDING:\n",
    "        Embedding\n",
    "    MERGE:\n",
    "        Add\n",
    "        Subtract\n",
    "        Multiply\n",
    "        Average\n",
    "        Maximum\n",
    "        Minimum\n",
    "        Concatenate\n",
    "        Dot\n",
    "    ADAVANCED ACTIVATION:\n",
    "        LeakyReLU\n",
    "        PReLU\n",
    "        ELU\n",
    "        ThresholdedReLU\n",
    "        Softmax\n",
    "        ReLU\n",
    "    NORMALIZATION:\n",
    "        BatchNormalization\n",
    "    NOISE:\n",
    "        GaussianNoise\n",
    "        GaussianDropout\n",
    "        AlphaDropout"
   ]
  },
  {
   "cell_type": "code",
   "execution_count": null,
   "metadata": {},
   "outputs": [],
   "source": [
    "DATASETS:\n",
    "    CIFAR1O\n",
    "    CIFAR100\n",
    "    IMDB movie reviews \n",
    "    Reuters newswire topics\n",
    "    MNIST\n",
    "    Fashion-MNIST\n",
    "    Boston house pricing"
   ]
  }
 ],
 "metadata": {
  "kernelspec": {
   "display_name": "Python 3",
   "language": "python",
   "name": "python3"
  },
  "language_info": {
   "codemirror_mode": {
    "name": "ipython",
    "version": 3
   },
   "file_extension": ".py",
   "mimetype": "text/x-python",
   "name": "python",
   "nbconvert_exporter": "python",
   "pygments_lexer": "ipython3",
   "version": "3.6.7"
  }
 },
 "nbformat": 4,
 "nbformat_minor": 2
}
