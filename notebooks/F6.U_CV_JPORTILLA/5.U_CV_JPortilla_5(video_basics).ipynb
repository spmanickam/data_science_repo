{
 "cells": [
  {
   "cell_type": "markdown",
   "metadata": {},
   "source": [
    "## Video Basics"
   ]
  },
  {
   "cell_type": "markdown",
   "metadata": {},
   "source": [
    "### Connecting to camera"
   ]
  },
  {
   "cell_type": "code",
   "execution_count": 2,
   "metadata": {},
   "outputs": [],
   "source": [
    "import cv2\n",
    "\n",
    "my_capture = cv2.VideoCapture(0)  # 0 --> default source\n",
    "\n",
    "\n",
    "frame_height = int(my_capture.get(cv2.CAP_PROP_FRAME_HEIGHT))\t#720\n",
    "frame_width = int(my_capture.get(cv2.CAP_PROP_FRAME_WIDTH))    #1280\n",
    "frames_per_second =  int(my_capture.get(cv2.CAP_PROP_FPS))  #12\n",
    "      \n",
    "# MAC OS & LINUX --> *'XVID'\n",
    "# WINDOWS --> *'VIDX'\n",
    "writer = cv2.VideoWriter('my_capture_video.mp4', cv2.VideoWriter_fourcc(*'XVID'), frames_per_second, (frame_width, frame_height))\n",
    "\n",
    "while True:\n",
    "    ret, frame = my_capture.read()\n",
    "    \n",
    "    # gray = cv2.cvtColor(frame, cv2.COLOR_BGR2GRAY)\n",
    "    # cv2.imshow('frame', gray)\n",
    "    \n",
    "    # Perform opertions\n",
    "    writer.write(frame)\n",
    "    \n",
    "    \n",
    "    cv2.imshow('frame', frame)\n",
    "    if cv2.waitKey(1) & 0xFF == ord('q'):\n",
    "        break\n",
    "\n",
    "my_capture.release()\n",
    "writer.release()\n",
    "cv2.destroyAllWindows()\n",
    "\n",
    "        "
   ]
  },
  {
   "cell_type": "code",
   "execution_count": 2,
   "metadata": {},
   "outputs": [
    {
     "name": "stdout",
     "output_type": "stream",
     "text": [
      "\tcv2.CAP_PROP_APERTURE\t 0\n",
      "\tcv2.CAP_PROP_AUTOFOCUS\t 0\n",
      "\tcv2.CAP_PROP_BRIGHTNESS\t 0\n",
      "\tcv2.CAP_PROP_BUFFERSIZE\t 0\n",
      "\tcv2.CAP_PROP_CONTRAST\t 0\n",
      "\tcv2.CAP_PROP_EXPOSURE\t 0\n",
      "\tcv2.CAP_PROP_FOCUS\t 0\n",
      "\tcv2.CAP_PROP_FORMAT\t 16\n",
      "\tcv2.CAP_PROP_FPS\t 30\n",
      "\tcv2.CAP_PROP_FRAME_COUNT\t 0\n",
      "\tcv2.CAP_PROP_FRAME_HEIGHT\t 720\n",
      "\tcv2.CAP_PROP_FRAME_WIDTH\t 1280\n",
      "\tcv2.CAP_PROP_GAIN\t 0\n",
      "\tcv2.CAP_PROP_GAMMA\t 0\n",
      "\tcv2.CAP_PROP_GUID\t 0\n",
      "\tcv2.CAP_PROP_HUE\t 0\n",
      "\tcv2.CAP_PROP_IMAGES_BASE\t 0\n",
      "\tcv2.CAP_PROP_IMAGES_LAST\t 0\n",
      "\tcv2.CAP_PROP_IRIS\t 0\n",
      "\tcv2.CAP_PROP_MODE\t 0\n",
      "\tcv2.CAP_PROP_MONOCHROME\t 0\n",
      "\tcv2.CAP_PROP_PAN\t 0\n",
      "\tcv2.CAP_PROP_ROLL\t 0\n",
      "\tcv2.CAP_PROP_SATURATION\t 0\n",
      "\tcv2.CAP_PROP_SETTINGS\t 0\n",
      "\tcv2.CAP_PROP_SHARPNESS\t 0\n",
      "\tcv2.CAP_PROP_SPEED\t 0\n",
      "\tcv2.CAP_PROP_TEMPERATURE\t 0\n",
      "\tcv2.CAP_PROP_TILT\t 0\n",
      "\tcv2.CAP_PROP_TRIGGER\t 0\n",
      "\tcv2.CAP_PROP_TRIGGER_DELAY\t 0\n",
      "\tcv2.CAP_PROP_VIEWFINDER \t 0\n"
     ]
    }
   ],
   "source": [
    "import cv2\n",
    "my_capture = cv2.VideoCapture(0) \n",
    "\n",
    "print('\tcv2.CAP_PROP_APERTURE\t',\tint(my_capture.get(cv2.CAP_PROP_APERTURE))\t)\n",
    "print('\tcv2.CAP_PROP_AUTOFOCUS\t',\tint(my_capture.get(cv2.CAP_PROP_AUTOFOCUS))\t)\n",
    "print('\tcv2.CAP_PROP_BRIGHTNESS\t',\tint(my_capture.get(cv2.CAP_PROP_BRIGHTNESS))\t)\n",
    "print('\tcv2.CAP_PROP_BUFFERSIZE\t',\tint(my_capture.get(cv2.CAP_PROP_BUFFERSIZE))\t)\n",
    "print('\tcv2.CAP_PROP_CONTRAST\t',\tint(my_capture.get(cv2.CAP_PROP_CONTRAST))\t)\n",
    "print('\tcv2.CAP_PROP_EXPOSURE\t',\tint(my_capture.get(cv2.CAP_PROP_EXPOSURE))\t)\n",
    "print('\tcv2.CAP_PROP_FOCUS\t',\tint(my_capture.get(cv2.CAP_PROP_FOCUS))\t)\n",
    "print('\tcv2.CAP_PROP_FORMAT\t',\tint(my_capture.get(cv2.CAP_PROP_FORMAT))\t)\n",
    "print('\tcv2.CAP_PROP_FPS\t',\tint(my_capture.get(cv2.CAP_PROP_FPS))\t)\n",
    "print('\tcv2.CAP_PROP_FRAME_COUNT\t',\tint(my_capture.get(cv2.CAP_PROP_FRAME_COUNT))\t)\n",
    "print('\tcv2.CAP_PROP_FRAME_HEIGHT\t',\tint(my_capture.get(cv2.CAP_PROP_FRAME_HEIGHT))\t)\n",
    "print('\tcv2.CAP_PROP_FRAME_WIDTH\t',\tint(my_capture.get(cv2.CAP_PROP_FRAME_WIDTH))\t)\n",
    "print('\tcv2.CAP_PROP_GAIN\t',\tint(my_capture.get(cv2.CAP_PROP_GAIN))\t)\n",
    "print('\tcv2.CAP_PROP_GAMMA\t',\tint(my_capture.get(cv2.CAP_PROP_GAMMA))\t)\n",
    "print('\tcv2.CAP_PROP_GUID\t',\tint(my_capture.get(cv2.CAP_PROP_GUID))\t)\n",
    "print('\tcv2.CAP_PROP_HUE\t',\tint(my_capture.get(cv2.CAP_PROP_HUE))\t)\n",
    "print('\tcv2.CAP_PROP_IMAGES_BASE\t',\tint(my_capture.get(cv2.CAP_PROP_IMAGES_BASE))\t)\n",
    "print('\tcv2.CAP_PROP_IMAGES_LAST\t',\tint(my_capture.get(cv2.CAP_PROP_IMAGES_LAST))\t)\n",
    "print('\tcv2.CAP_PROP_IRIS\t',\tint(my_capture.get(cv2.CAP_PROP_IRIS))\t)\n",
    "print('\tcv2.CAP_PROP_MODE\t',\tint(my_capture.get(cv2.CAP_PROP_MODE))\t)\n",
    "print('\tcv2.CAP_PROP_MONOCHROME\t',\tint(my_capture.get(cv2.CAP_PROP_MONOCHROME))\t)\n",
    "print('\tcv2.CAP_PROP_PAN\t',\tint(my_capture.get(cv2.CAP_PROP_PAN))\t)\n",
    "print('\tcv2.CAP_PROP_ROLL\t',\tint(my_capture.get(cv2.CAP_PROP_ROLL))\t)\n",
    "print('\tcv2.CAP_PROP_SATURATION\t',\tint(my_capture.get(cv2.CAP_PROP_SATURATION))\t)\n",
    "print('\tcv2.CAP_PROP_SETTINGS\t',\tint(my_capture.get(cv2.CAP_PROP_SETTINGS))\t)\n",
    "print('\tcv2.CAP_PROP_SHARPNESS\t',\tint(my_capture.get(cv2.CAP_PROP_SHARPNESS))\t)\n",
    "print('\tcv2.CAP_PROP_SPEED\t',\tint(my_capture.get(cv2.CAP_PROP_SPEED))\t)\n",
    "print('\tcv2.CAP_PROP_TEMPERATURE\t',\tint(my_capture.get(cv2.CAP_PROP_TEMPERATURE))\t)\n",
    "print('\tcv2.CAP_PROP_TILT\t',\tint(my_capture.get(cv2.CAP_PROP_TILT))\t)\n",
    "print('\tcv2.CAP_PROP_TRIGGER\t',\tint(my_capture.get(cv2.CAP_PROP_TRIGGER))\t)\n",
    "print('\tcv2.CAP_PROP_TRIGGER_DELAY\t',\tint(my_capture.get(cv2.CAP_PROP_TRIGGER_DELAY))\t)\n",
    "print('\tcv2.CAP_PROP_VIEWFINDER \t',\tint(my_capture.get(cv2.CAP_PROP_VIEWFINDER)) \t)"
   ]
  },
  {
   "cell_type": "code",
   "execution_count": null,
   "metadata": {},
   "outputs": [],
   "source": []
  }
 ],
 "metadata": {
  "kernelspec": {
   "display_name": "Python 3",
   "language": "python",
   "name": "python3"
  },
  "language_info": {
   "codemirror_mode": {
    "name": "ipython",
    "version": 3
   },
   "file_extension": ".py",
   "mimetype": "text/x-python",
   "name": "python",
   "nbconvert_exporter": "python",
   "pygments_lexer": "ipython3",
   "version": "3.6.6"
  }
 },
 "nbformat": 4,
 "nbformat_minor": 2
}
