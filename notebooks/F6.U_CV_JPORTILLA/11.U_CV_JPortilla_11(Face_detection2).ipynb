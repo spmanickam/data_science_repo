{
 "cells": [
  {
   "cell_type": "code",
   "execution_count": null,
   "metadata": {},
   "outputs": [],
   "source": [
    "import cv2\n",
    "import numpy as np\n",
    "import matplotlib.pyplot as plt\n",
    "%matplotlib inline\n",
    "from IPython.display import Image \n",
    "\n",
    "face_cascade = cv2.CascadeClassifier('../../data/raw/Computer-Vision-with-Python_Joseph_Portilla/DATA/haarcascades/haarcascade_frontalface_default.xml')\n",
    "\n",
    "def detect_face2(image, scaleFactor=1.2, minNeighbors=5):\n",
    "    face_image = image.copy()\n",
    "    \n",
    "    face_rectangles = face_cascade.detectMultiScale(face_image, scaleFactor, minNeighbors)\n",
    "    \n",
    "    for (x,y,w,h) in face_rectangles:\n",
    "        cv2.rectangle(face_image, (x,y),(x+w,y+h), (255,255,255),10)\n",
    "        \n",
    "    return face_image\n",
    "\n",
    "capture = cv2.VideoCapture(0)\n",
    "\n",
    "while True:\n",
    "    return_value, frame = capture.read()\n",
    "    frame = detect_face2(frame)\n",
    "    \n",
    "    cv2.imshow('Video Face Detect', frame)\n",
    "    \n",
    "    k = cv2.waitKey(1)\n",
    "    if k == 27:\n",
    "        break\n",
    "\n",
    "capture.release()\n",
    "cv2.destroyAllWindows()"
   ]
  },
  {
   "cell_type": "code",
   "execution_count": null,
   "metadata": {},
   "outputs": [],
   "source": [
    "from IPython.display import Image \n",
    "Image(filename='../images/UDEMY_computer_vision_Joseph_Portilla/computer_vision6_object_detection18.png', height=100, width=200)"
   ]
  },
  {
   "cell_type": "markdown",
   "metadata": {},
   "source": [
    "### TO DO: Detection Assessment"
   ]
  },
  {
   "cell_type": "code",
   "execution_count": null,
   "metadata": {},
   "outputs": [],
   "source": [
    "#END"
   ]
  }
 ],
 "metadata": {
  "kernelspec": {
   "display_name": "Python 3",
   "language": "python",
   "name": "python3"
  },
  "language_info": {
   "codemirror_mode": {
    "name": "ipython",
    "version": 3
   },
   "file_extension": ".py",
   "mimetype": "text/x-python",
   "name": "python",
   "nbconvert_exporter": "python",
   "pygments_lexer": "ipython3",
   "version": "3.6.6"
  }
 },
 "nbformat": 4,
 "nbformat_minor": 2
}
