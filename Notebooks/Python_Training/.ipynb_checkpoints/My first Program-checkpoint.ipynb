{
 "cells": [
  {
   "cell_type": "code",
   "execution_count": 17,
   "metadata": {},
   "outputs": [
    {
     "name": "stdout",
     "output_type": "stream",
     "text": [
      "22\n"
     ]
    }
   ],
   "source": [
    "x=12\n",
    "y=34\n",
    "z=y-x\n",
    "print(z)"
   ]
  },
  {
   "cell_type": "code",
   "execution_count": 18,
   "metadata": {},
   "outputs": [
    {
     "name": "stdout",
     "output_type": "stream",
     "text": [
      "115169\n"
     ]
    }
   ],
   "source": [
    "y=34\n",
    "Employee_Id = 115169\n",
    "print(Employee_Id)\n",
    "#type(Employee_ID)\n"
   ]
  },
  {
   "cell_type": "code",
   "execution_count": 19,
   "metadata": {},
   "outputs": [],
   "source": [
    "z=x+y"
   ]
  },
  {
   "cell_type": "code",
   "execution_count": 20,
   "metadata": {},
   "outputs": [
    {
     "name": "stdout",
     "output_type": "stream",
     "text": [
      "12 34 46\n"
     ]
    }
   ],
   "source": [
    "print(x,y,z)"
   ]
  },
  {
   "cell_type": "code",
   "execution_count": 21,
   "metadata": {},
   "outputs": [
    {
     "data": {
      "text/plain": [
       "16067419.0"
      ]
     },
     "execution_count": 21,
     "metadata": {},
     "output_type": "execute_result"
    }
   ],
   "source": [
    "(5656+1.2+11.56)**2//2"
   ]
  },
  {
   "cell_type": "code",
   "execution_count": 22,
   "metadata": {},
   "outputs": [
    {
     "name": "stdout",
     "output_type": "stream",
     "text": [
      "Hello <class 'str'>\n",
      "Hello world I am learning Python <class 'str'>\n",
      "Hello Hello world I am learning Python <class 'str'> <class 'str'>\n"
     ]
    }
   ],
   "source": [
    "str_var1='Hello'\n",
    "str_var2='Hello world I am learning Python'\n",
    "print(str_var1, type(str_var1))\n",
    "print(str_var2, type(str_var2))\n",
    "print(str_var1, str_var2, type(str_var1), type(str_var2))"
   ]
  },
  {
   "cell_type": "code",
   "execution_count": 23,
   "metadata": {
    "scrolled": true
   },
   "outputs": [
    {
     "name": "stdout",
     "output_type": "stream",
     "text": [
      "1973-09-13 00:00:00 2019-09-13 00:00:00\n"
     ]
    }
   ],
   "source": [
    "datestr1 = '09/13/1973'\n",
    "datestr2 = '09/13/2019'\n",
    "\n",
    "import datetime\n",
    "date1 = datetime.datetime.strptime(datestr1,'%m/%d/%Y')\n",
    "date2 = datetime.datetime.strptime(datestr2,'%m/%d/%Y')\n",
    "print(date1,date2)\n"
   ]
  },
  {
   "cell_type": "code",
   "execution_count": 24,
   "metadata": {},
   "outputs": [
    {
     "name": "stdout",
     "output_type": "stream",
     "text": [
      "1973-09-13 00:00:00 2019-09-13 00:00:00\n"
     ]
    }
   ],
   "source": [
    "datestr1 = '09-13-1973'\n",
    "datestr2 = '09-13-2019'\n",
    "\n",
    "import datetime\n",
    "date1 = datetime.datetime.strptime(datestr1,'%m-%d-%Y')\n",
    "date2 = datetime.datetime.strptime(datestr2,'%m-%d-%Y')\n",
    "print(date1,date2)"
   ]
  },
  {
   "cell_type": "code",
   "execution_count": 25,
   "metadata": {},
   "outputs": [
    {
     "name": "stdout",
     "output_type": "stream",
     "text": [
      "1973-09-13 00:00:00 2019-09-13 00:00:00\n"
     ]
    }
   ],
   "source": [
    "datestr1 = '13 Sep 1973'\n",
    "datestr2 = '13 Sep 2019'\n",
    "\n",
    "import datetime\n",
    "date1 = datetime.datetime.strptime(datestr1,'%d %b %Y')\n",
    "date2 = datetime.datetime.strptime(datestr2,'%d %b %Y')\n",
    "print(date1,date2)"
   ]
  },
  {
   "cell_type": "code",
   "execution_count": 26,
   "metadata": {},
   "outputs": [
    {
     "name": "stdout",
     "output_type": "stream",
     "text": [
      "1973-09-13 00:00:00 2019-09-13 00:00:00\n"
     ]
    }
   ],
   "source": [
    "datestr1 = '13 September 1973'\n",
    "datestr2 = '13 September 2019'\n",
    "\n",
    "import datetime\n",
    "date1 = datetime.datetime.strptime(datestr1,'%d %B %Y')\n",
    "date2 = datetime.datetime.strptime(datestr2,'%d %B %Y')\n",
    "print(date1,date2)"
   ]
  },
  {
   "cell_type": "code",
   "execution_count": 27,
   "metadata": {},
   "outputs": [
    {
     "name": "stdout",
     "output_type": "stream",
     "text": [
      "1973-09-13 00:00:00 2019-09-13 00:00:00\n",
      "16801 days, 0:00:00\n",
      "46 days, 0:43:23.835616\n",
      "13 September 19 09 13\n"
     ]
    }
   ],
   "source": [
    "datestr1 = '13 September 73'\n",
    "datestr2 = '13 September 19'\n",
    "\n",
    "import datetime\n",
    "date1 = datetime.datetime.strptime(datestr1,'%d %B %y')\n",
    "date2 = datetime.datetime.strptime(datestr2,'%d %B %y')\n",
    "date3 = date2-date1\n",
    "date4 = date3/365\n",
    "date5 = date2.strftime('%d %B %y %m %d')\n",
    "\n",
    "print(date1,date2)\n",
    "print(date3)\n",
    "print(date4)\n",
    "print(date5)"
   ]
  },
  {
   "cell_type": "code",
   "execution_count": 28,
   "metadata": {},
   "outputs": [
    {
     "name": "stdout",
     "output_type": "stream",
     "text": [
      "[10, 20, 30, 40, 50] <class 'list'>\n",
      "['man', 200.3, 100, 'woman']\n"
     ]
    }
   ],
   "source": [
    "listofmarks=[10,20,30,40,50]\n",
    "print(listofmarks,type(listofmarks))\n",
    "names=['man',200.300,100,'woman']\n",
    "print(names)"
   ]
  },
  {
   "cell_type": "code",
   "execution_count": 29,
   "metadata": {},
   "outputs": [
    {
     "name": "stdout",
     "output_type": "stream",
     "text": [
      "<class 'pandas.core.frame.DataFrame'>\n",
      "RangeIndex: 5 entries, 0 to 4\n",
      "Data columns (total 12 columns):\n",
      "Jan      5 non-null float64\n",
      "Feb      5 non-null float64\n",
      "Mar      5 non-null float64\n",
      "Apr      5 non-null float64\n",
      " May     5 non-null float64\n",
      " Jun     5 non-null float64\n",
      " Jul     5 non-null float64\n",
      " Aug     5 non-null float64\n",
      " Sep     5 non-null float64\n",
      " Oct     5 non-null float64\n",
      " Nov     5 non-null float64\n",
      " Dec     5 non-null float64\n",
      "dtypes: float64(12)\n",
      "memory usage: 608.0 bytes\n"
     ]
    },
    {
     "data": {
      "text/html": [
       "<div>\n",
       "<style scoped>\n",
       "    .dataframe tbody tr th:only-of-type {\n",
       "        vertical-align: middle;\n",
       "    }\n",
       "\n",
       "    .dataframe tbody tr th {\n",
       "        vertical-align: top;\n",
       "    }\n",
       "\n",
       "    .dataframe thead th {\n",
       "        text-align: right;\n",
       "    }\n",
       "</style>\n",
       "<table border=\"1\" class=\"dataframe\">\n",
       "  <thead>\n",
       "    <tr style=\"text-align: right;\">\n",
       "      <th></th>\n",
       "      <th>Jan</th>\n",
       "      <th>Feb</th>\n",
       "      <th>Mar</th>\n",
       "      <th>Apr</th>\n",
       "      <th>May</th>\n",
       "      <th>Jun</th>\n",
       "      <th>Jul</th>\n",
       "      <th>Aug</th>\n",
       "      <th>Sep</th>\n",
       "      <th>Oct</th>\n",
       "      <th>Nov</th>\n",
       "      <th>Dec</th>\n",
       "    </tr>\n",
       "  </thead>\n",
       "  <tbody>\n",
       "    <tr>\n",
       "      <td>0</td>\n",
       "      <td>465.34</td>\n",
       "      <td>361.09</td>\n",
       "      <td>524.41</td>\n",
       "      <td>477.78</td>\n",
       "      <td>446.88</td>\n",
       "      <td>436.5</td>\n",
       "      <td>441.3</td>\n",
       "      <td>484.3</td>\n",
       "      <td>436.6</td>\n",
       "      <td>472.3</td>\n",
       "      <td>325.0</td>\n",
       "      <td>276.1</td>\n",
       "    </tr>\n",
       "    <tr>\n",
       "      <td>1</td>\n",
       "      <td>0.00</td>\n",
       "      <td>0.00</td>\n",
       "      <td>0.00</td>\n",
       "      <td>0.00</td>\n",
       "      <td>0.00</td>\n",
       "      <td>0.0</td>\n",
       "      <td>0.0</td>\n",
       "      <td>0.0</td>\n",
       "      <td>0.0</td>\n",
       "      <td>0.0</td>\n",
       "      <td>0.0</td>\n",
       "      <td>0.0</td>\n",
       "    </tr>\n",
       "    <tr>\n",
       "      <td>2</td>\n",
       "      <td>0.00</td>\n",
       "      <td>0.00</td>\n",
       "      <td>0.00</td>\n",
       "      <td>0.00</td>\n",
       "      <td>0.00</td>\n",
       "      <td>0.0</td>\n",
       "      <td>0.0</td>\n",
       "      <td>37.0</td>\n",
       "      <td>48.4</td>\n",
       "      <td>25.0</td>\n",
       "      <td>18.0</td>\n",
       "      <td>20.0</td>\n",
       "    </tr>\n",
       "    <tr>\n",
       "      <td>3</td>\n",
       "      <td>0.00</td>\n",
       "      <td>0.00</td>\n",
       "      <td>0.00</td>\n",
       "      <td>0.00</td>\n",
       "      <td>0.00</td>\n",
       "      <td>0.0</td>\n",
       "      <td>0.0</td>\n",
       "      <td>0.0</td>\n",
       "      <td>25.0</td>\n",
       "      <td>75.0</td>\n",
       "      <td>75.0</td>\n",
       "      <td>75.0</td>\n",
       "    </tr>\n",
       "    <tr>\n",
       "      <td>4</td>\n",
       "      <td>465.34</td>\n",
       "      <td>361.09</td>\n",
       "      <td>524.41</td>\n",
       "      <td>477.78</td>\n",
       "      <td>446.88</td>\n",
       "      <td>436.5</td>\n",
       "      <td>441.3</td>\n",
       "      <td>521.3</td>\n",
       "      <td>510.0</td>\n",
       "      <td>572.3</td>\n",
       "      <td>418.0</td>\n",
       "      <td>371.1</td>\n",
       "    </tr>\n",
       "  </tbody>\n",
       "</table>\n",
       "</div>"
      ],
      "text/plain": [
       "      Jan     Feb     Mar     Apr    May    Jun    Jul    Aug    Sep    Oct   \\\n",
       "0  465.34  361.09  524.41  477.78  446.88  436.5  441.3  484.3  436.6  472.3   \n",
       "1    0.00    0.00    0.00    0.00    0.00    0.0    0.0    0.0    0.0    0.0   \n",
       "2    0.00    0.00    0.00    0.00    0.00    0.0    0.0   37.0   48.4   25.0   \n",
       "3    0.00    0.00    0.00    0.00    0.00    0.0    0.0    0.0   25.0   75.0   \n",
       "4  465.34  361.09  524.41  477.78  446.88  436.5  441.3  521.3  510.0  572.3   \n",
       "\n",
       "    Nov    Dec   \n",
       "0  325.0  276.1  \n",
       "1    0.0    0.0  \n",
       "2   18.0   20.0  \n",
       "3   75.0   75.0  \n",
       "4  418.0  371.1  "
      ]
     },
     "execution_count": 29,
     "metadata": {},
     "output_type": "execute_result"
    }
   ],
   "source": [
    "import pandas\n",
    "infile=pandas.read_csv(r'/Users/manick/Python Training/dataset/Book2.csv',encoding='iso-8859-1')\n",
    "infile.info()\n",
    "infile.head()\n",
    "infile.tail()\n",
    "\n"
   ]
  },
  {
   "cell_type": "code",
   "execution_count": 30,
   "metadata": {},
   "outputs": [
    {
     "data": {
      "text/html": [
       "<div>\n",
       "<style scoped>\n",
       "    .dataframe tbody tr th:only-of-type {\n",
       "        vertical-align: middle;\n",
       "    }\n",
       "\n",
       "    .dataframe tbody tr th {\n",
       "        vertical-align: top;\n",
       "    }\n",
       "\n",
       "    .dataframe thead th {\n",
       "        text-align: right;\n",
       "    }\n",
       "</style>\n",
       "<table border=\"1\" class=\"dataframe\">\n",
       "  <thead>\n",
       "    <tr style=\"text-align: right;\">\n",
       "      <th></th>\n",
       "      <th>Jan</th>\n",
       "      <th>Feb</th>\n",
       "      <th>Mar</th>\n",
       "      <th>Apr</th>\n",
       "      <th>May</th>\n",
       "      <th>Jun</th>\n",
       "      <th>Jul</th>\n",
       "      <th>Aug</th>\n",
       "      <th>Sep</th>\n",
       "      <th>Oct</th>\n",
       "      <th>Nov</th>\n",
       "      <th>Dec</th>\n",
       "    </tr>\n",
       "  </thead>\n",
       "  <tbody>\n",
       "    <tr>\n",
       "      <td>4</td>\n",
       "      <td>465.34</td>\n",
       "      <td>361.09</td>\n",
       "      <td>524.41</td>\n",
       "      <td>477.78</td>\n",
       "      <td>446.88</td>\n",
       "      <td>436.5</td>\n",
       "      <td>441.3</td>\n",
       "      <td>521.3</td>\n",
       "      <td>510.0</td>\n",
       "      <td>572.3</td>\n",
       "      <td>418.0</td>\n",
       "      <td>371.1</td>\n",
       "    </tr>\n",
       "  </tbody>\n",
       "</table>\n",
       "</div>"
      ],
      "text/plain": [
       "      Jan     Feb     Mar     Apr    May    Jun    Jul    Aug    Sep    Oct   \\\n",
       "4  465.34  361.09  524.41  477.78  446.88  436.5  441.3  521.3  510.0  572.3   \n",
       "\n",
       "    Nov    Dec   \n",
       "4  418.0  371.1  "
      ]
     },
     "execution_count": 30,
     "metadata": {},
     "output_type": "execute_result"
    }
   ],
   "source": [
    "import pandas\n",
    "infile=pandas.read_csv(r'/Users/manick/Python Training/dataset/Book2.csv',encoding='iso-8859-1')\n",
    "infile.tail(1)"
   ]
  },
  {
   "cell_type": "code",
   "execution_count": 31,
   "metadata": {},
   "outputs": [
    {
     "data": {
      "text/html": [
       "<div>\n",
       "<style scoped>\n",
       "    .dataframe tbody tr th:only-of-type {\n",
       "        vertical-align: middle;\n",
       "    }\n",
       "\n",
       "    .dataframe tbody tr th {\n",
       "        vertical-align: top;\n",
       "    }\n",
       "\n",
       "    .dataframe thead th {\n",
       "        text-align: right;\n",
       "    }\n",
       "</style>\n",
       "<table border=\"1\" class=\"dataframe\">\n",
       "  <thead>\n",
       "    <tr style=\"text-align: right;\">\n",
       "      <th></th>\n",
       "      <th>Jan</th>\n",
       "      <th>Feb</th>\n",
       "      <th>Mar</th>\n",
       "      <th>Apr</th>\n",
       "      <th>May</th>\n",
       "      <th>Jun</th>\n",
       "      <th>Jul</th>\n",
       "      <th>Aug</th>\n",
       "      <th>Sep</th>\n",
       "      <th>Oct</th>\n",
       "      <th>Nov</th>\n",
       "      <th>Dec</th>\n",
       "    </tr>\n",
       "  </thead>\n",
       "  <tbody>\n",
       "    <tr>\n",
       "      <td>0</td>\n",
       "      <td>465.34</td>\n",
       "      <td>361.09</td>\n",
       "      <td>524.41</td>\n",
       "      <td>477.78</td>\n",
       "      <td>446.88</td>\n",
       "      <td>436.5</td>\n",
       "      <td>441.3</td>\n",
       "      <td>484.3</td>\n",
       "      <td>436.6</td>\n",
       "      <td>472.3</td>\n",
       "      <td>325.0</td>\n",
       "      <td>276.1</td>\n",
       "    </tr>\n",
       "    <tr>\n",
       "      <td>4</td>\n",
       "      <td>465.34</td>\n",
       "      <td>361.09</td>\n",
       "      <td>524.41</td>\n",
       "      <td>477.78</td>\n",
       "      <td>446.88</td>\n",
       "      <td>436.5</td>\n",
       "      <td>441.3</td>\n",
       "      <td>521.3</td>\n",
       "      <td>510.0</td>\n",
       "      <td>572.3</td>\n",
       "      <td>418.0</td>\n",
       "      <td>371.1</td>\n",
       "    </tr>\n",
       "  </tbody>\n",
       "</table>\n",
       "</div>"
      ],
      "text/plain": [
       "      Jan     Feb     Mar     Apr    May    Jun    Jul    Aug    Sep    Oct   \\\n",
       "0  465.34  361.09  524.41  477.78  446.88  436.5  441.3  484.3  436.6  472.3   \n",
       "4  465.34  361.09  524.41  477.78  446.88  436.5  441.3  521.3  510.0  572.3   \n",
       "\n",
       "    Nov    Dec   \n",
       "0  325.0  276.1  \n",
       "4  418.0  371.1  "
      ]
     },
     "execution_count": 31,
     "metadata": {},
     "output_type": "execute_result"
    }
   ],
   "source": [
    "import pandas\n",
    "infile=pandas.read_csv(r'/Users/manick/Python Training/dataset/Book2.csv',encoding='iso-8859-1')\n",
    "infile.iloc[[0,-1 , ]]"
   ]
  },
  {
   "cell_type": "code",
   "execution_count": 32,
   "metadata": {},
   "outputs": [
    {
     "data": {
      "text/html": [
       "<div>\n",
       "<style scoped>\n",
       "    .dataframe tbody tr th:only-of-type {\n",
       "        vertical-align: middle;\n",
       "    }\n",
       "\n",
       "    .dataframe tbody tr th {\n",
       "        vertical-align: top;\n",
       "    }\n",
       "\n",
       "    .dataframe thead th {\n",
       "        text-align: right;\n",
       "    }\n",
       "</style>\n",
       "<table border=\"1\" class=\"dataframe\">\n",
       "  <thead>\n",
       "    <tr style=\"text-align: right;\">\n",
       "      <th></th>\n",
       "      <th>Jan</th>\n",
       "      <th>Feb</th>\n",
       "      <th>Mar</th>\n",
       "      <th>Apr</th>\n",
       "      <th>May</th>\n",
       "      <th>Jun</th>\n",
       "      <th>Jul</th>\n",
       "      <th>Aug</th>\n",
       "      <th>Sep</th>\n",
       "      <th>Oct</th>\n",
       "      <th>Nov</th>\n",
       "      <th>Dec</th>\n",
       "    </tr>\n",
       "  </thead>\n",
       "  <tbody>\n",
       "    <tr>\n",
       "      <td>0</td>\n",
       "      <td>465.34</td>\n",
       "      <td>361.09</td>\n",
       "      <td>524.41</td>\n",
       "      <td>477.78</td>\n",
       "      <td>446.88</td>\n",
       "      <td>436.5</td>\n",
       "      <td>441.3</td>\n",
       "      <td>484.3</td>\n",
       "      <td>436.6</td>\n",
       "      <td>472.3</td>\n",
       "      <td>325.0</td>\n",
       "      <td>276.1</td>\n",
       "    </tr>\n",
       "  </tbody>\n",
       "</table>\n",
       "</div>"
      ],
      "text/plain": [
       "      Jan     Feb     Mar     Apr    May    Jun    Jul    Aug    Sep    Oct   \\\n",
       "0  465.34  361.09  524.41  477.78  446.88  436.5  441.3  484.3  436.6  472.3   \n",
       "\n",
       "    Nov    Dec   \n",
       "0  325.0  276.1  "
      ]
     },
     "execution_count": 32,
     "metadata": {},
     "output_type": "execute_result"
    }
   ],
   "source": [
    "import pandas\n",
    "infile=pandas.read_csv(r'/Users/manick/Python Training/dataset/Book2.csv',encoding='iso-8859-1')\n",
    "infile.iloc[[0]]"
   ]
  },
  {
   "cell_type": "code",
   "execution_count": 33,
   "metadata": {},
   "outputs": [
    {
     "data": {
      "text/plain": [
       "Jan      465.34\n",
       "Feb      361.09\n",
       "Mar      524.41\n",
       "Apr      477.78\n",
       " May     446.88\n",
       " Jun     436.50\n",
       " Jul     441.30\n",
       " Aug     484.30\n",
       " Sep     436.60\n",
       " Oct     472.30\n",
       " Nov     325.00\n",
       " Dec     276.10\n",
       "Name: 0, dtype: float64"
      ]
     },
     "execution_count": 33,
     "metadata": {},
     "output_type": "execute_result"
    }
   ],
   "source": [
    "import pandas\n",
    "infile=pandas.read_csv(r'/Users/manick/Python Training/dataset/Book2.csv',encoding='iso-8859-1')\n",
    "infile.iloc[0]"
   ]
  },
  {
   "cell_type": "code",
   "execution_count": 34,
   "metadata": {},
   "outputs": [
    {
     "data": {
      "text/html": [
       "<div>\n",
       "<style scoped>\n",
       "    .dataframe tbody tr th:only-of-type {\n",
       "        vertical-align: middle;\n",
       "    }\n",
       "\n",
       "    .dataframe tbody tr th {\n",
       "        vertical-align: top;\n",
       "    }\n",
       "\n",
       "    .dataframe thead th {\n",
       "        text-align: right;\n",
       "    }\n",
       "</style>\n",
       "<table border=\"1\" class=\"dataframe\">\n",
       "  <thead>\n",
       "    <tr style=\"text-align: right;\">\n",
       "      <th></th>\n",
       "      <th>Jan</th>\n",
       "      <th>Feb</th>\n",
       "      <th>Mar</th>\n",
       "      <th>Apr</th>\n",
       "      <th>May</th>\n",
       "      <th>Jun</th>\n",
       "      <th>Jul</th>\n",
       "      <th>Aug</th>\n",
       "      <th>Sep</th>\n",
       "      <th>Oct</th>\n",
       "      <th>Nov</th>\n",
       "      <th>Dec</th>\n",
       "    </tr>\n",
       "  </thead>\n",
       "  <tbody>\n",
       "    <tr>\n",
       "      <td>0</td>\n",
       "      <td>465.34</td>\n",
       "      <td>361.09</td>\n",
       "      <td>524.41</td>\n",
       "      <td>477.78</td>\n",
       "      <td>446.88</td>\n",
       "      <td>436.5</td>\n",
       "      <td>441.3</td>\n",
       "      <td>484.3</td>\n",
       "      <td>436.6</td>\n",
       "      <td>472.3</td>\n",
       "      <td>325.0</td>\n",
       "      <td>276.1</td>\n",
       "    </tr>\n",
       "  </tbody>\n",
       "</table>\n",
       "</div>"
      ],
      "text/plain": [
       "      Jan     Feb     Mar     Apr    May    Jun    Jul    Aug    Sep    Oct   \\\n",
       "0  465.34  361.09  524.41  477.78  446.88  436.5  441.3  484.3  436.6  472.3   \n",
       "\n",
       "    Nov    Dec   \n",
       "0  325.0  276.1  "
      ]
     },
     "execution_count": 34,
     "metadata": {},
     "output_type": "execute_result"
    }
   ],
   "source": [
    "import pandas\n",
    "infile=pandas.read_csv(r'/Users/manick/Python Training/dataset/Book2.csv',encoding='iso-8859-1')\n",
    "infile.iloc[:1]"
   ]
  },
  {
   "cell_type": "code",
   "execution_count": 35,
   "metadata": {},
   "outputs": [
    {
     "data": {
      "text/html": [
       "<div>\n",
       "<style scoped>\n",
       "    .dataframe tbody tr th:only-of-type {\n",
       "        vertical-align: middle;\n",
       "    }\n",
       "\n",
       "    .dataframe tbody tr th {\n",
       "        vertical-align: top;\n",
       "    }\n",
       "\n",
       "    .dataframe thead th {\n",
       "        text-align: right;\n",
       "    }\n",
       "</style>\n",
       "<table border=\"1\" class=\"dataframe\">\n",
       "  <thead>\n",
       "    <tr style=\"text-align: right;\">\n",
       "      <th></th>\n",
       "      <th>Feb</th>\n",
       "      <th>Apr</th>\n",
       "    </tr>\n",
       "  </thead>\n",
       "  <tbody>\n",
       "    <tr>\n",
       "      <td>0</td>\n",
       "      <td>361.09</td>\n",
       "      <td>477.78</td>\n",
       "    </tr>\n",
       "    <tr>\n",
       "      <td>2</td>\n",
       "      <td>0.00</td>\n",
       "      <td>0.00</td>\n",
       "    </tr>\n",
       "  </tbody>\n",
       "</table>\n",
       "</div>"
      ],
      "text/plain": [
       "      Feb     Apr\n",
       "0  361.09  477.78\n",
       "2    0.00    0.00"
      ]
     },
     "execution_count": 35,
     "metadata": {},
     "output_type": "execute_result"
    }
   ],
   "source": [
    "import pandas\n",
    "infile=pandas.read_csv(r'/Users/manick/Python Training/dataset/Book2.csv',encoding='iso-8859-1')\n",
    "infile.iloc[[0, 2], [1, 3]]"
   ]
  }
 ],
 "metadata": {
  "kernelspec": {
   "display_name": "Python 3",
   "language": "python",
   "name": "python3"
  },
  "language_info": {
   "codemirror_mode": {
    "name": "ipython",
    "version": 3
   },
   "file_extension": ".py",
   "mimetype": "text/x-python",
   "name": "python",
   "nbconvert_exporter": "python",
   "pygments_lexer": "ipython3",
   "version": "3.7.4"
  }
 },
 "nbformat": 4,
 "nbformat_minor": 2
}
