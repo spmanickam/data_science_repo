{
 "cells": [
  {
   "cell_type": "markdown",
   "metadata": {},
   "source": [
    "### IMAGE"
   ]
  },
  {
   "cell_type": "code",
   "execution_count": null,
   "metadata": {},
   "outputs": [],
   "source": [
    "from IPython.display import Image \n",
    "#Image(filename='images/extracting_data_from_db_template.png', height=300, width=400)"
   ]
  },
  {
   "cell_type": "markdown",
   "metadata": {},
   "source": [
    "### CONVERT .ipynb to .py"
   ]
  },
  {
   "cell_type": "code",
   "execution_count": null,
   "metadata": {},
   "outputs": [],
   "source": [
    "!jupyter nbconvert --to script Pluralsight_Python_data_science_Abhishek_kumar_2.ipynb\n",
    "!jupyter nbconvert --to script pyspark_baled_linechart_sql_test.ipynb\n",
    "!jupyter nbconvert --to script UDEMY_DEEP_LEARNING_A-Z_ANN_KIRILL_2.ipynb"
   ]
  },
  {
   "cell_type": "code",
   "execution_count": null,
   "metadata": {},
   "outputs": [],
   "source": [
    "'''\n",
    "!conda install -y nbconvert\n",
    "Solving environment: done\n",
    "\n",
    "## Package Plan ##\n",
    "\n",
    "  environment location: /anaconda3\n",
    "\n",
    "  added / updated specs: \n",
    "    - nbconvert\n",
    "\n",
    "\n",
    "The following packages will be downloaded:\n",
    "\n",
    "    package                    |            build\n",
    "    ---------------------------|-----------------\n",
    "    defusedxml-0.5.0           |           py36_1          29 KB\n",
    "    openssl-1.0.2p             |       h1de35cc_0         3.4 MB\n",
    "    nbconvert-5.4.0            |           py36_1         416 KB\n",
    "    conda-4.5.11               |           py36_0         1.0 MB\n",
    "    certifi-2018.8.24          |           py36_1         139 KB\n",
    "    ------------------------------------------------------------\n",
    "                                           Total:         5.0 MB\n",
    "\n",
    "The following NEW packages will be INSTALLED:\n",
    "\n",
    "    defusedxml:      0.5.0-py36_1                    \n",
    "\n",
    "The following packages will be UPDATED:\n",
    "\n",
    "    certifi:         2018.8.24-py36_1     conda-forge --> 2018.8.24-py36_1 \n",
    "    conda:           4.5.11-py36_0        conda-forge --> 4.5.11-py36_0    \n",
    "    nbconvert:       5.3.1-py36h810822e_0             --> 5.4.0-py36_1     \n",
    "    openssl:         1.0.2p-h470a237_0    conda-forge --> 1.0.2p-h1de35cc_0\n",
    "\n",
    "The following packages will be DOWNGRADED:\n",
    "\n",
    "    ca-certificates: 2018.8.24-ha4d7672_0 conda-forge --> 2018.03.07-0     \n",
    "\n",
    "\n",
    "Downloading and Extracting Packages\n",
    "defusedxml-0.5.0     | 29 KB     | ##################################### | 100% \n",
    "openssl-1.0.2p       | 3.4 MB    | ##################################### | 100% \n",
    "nbconvert-5.4.0      | 416 KB    | ##################################### | 100% \n",
    "conda-4.5.11         | 1.0 MB    | ##################################### | 100% \n",
    "certifi-2018.8.24    | 139 KB    | ##################################### | 100% \n",
    "Preparing transaction: done\n",
    "Verifying transaction: done\n",
    "Executing transaction: done\n",
    "\n",
    "​\n",
    "'''"
   ]
  },
  {
   "cell_type": "markdown",
   "metadata": {},
   "source": [
    "### PATH"
   ]
  },
  {
   "cell_type": "code",
   "execution_count": null,
   "metadata": {},
   "outputs": [],
   "source": [
    "import os\n",
    "raw_file_path = os.path.join(os.path.pardir, 'data', 'raw') \n",
    "\n",
    "consolidatemill_file_path = os.path.join(raw_file_path, 'consolidate_mill.csv')\n",
    "humidity_data_path = os.path.join(raw_file_path, 'dc_humidity.csv')\n",
    "date_data_path = os.path.join(raw_file_path, 'date_data.csv')\n",
    "\n",
    "location_division_mapping_file = os.path.join(os.path.pardir, 'data', 'raw', 'Location_Division_Mapping.csv') "
   ]
  },
  {
   "cell_type": "markdown",
   "metadata": {},
   "source": [
    "### RUN .PY SCRIPT FROM JUPYTER"
   ]
  },
  {
   "cell_type": "code",
   "execution_count": null,
   "metadata": {},
   "outputs": [],
   "source": [
    "import os\n",
    "get_data_processing_file = os.path.join(os.path.pardir, 'src', 'data', 'Titanic_processing_script.py')\n",
    " \n",
    "!python $get_data_processing_file\n",
    "# Output gets written below this cell"
   ]
  },
  {
   "cell_type": "markdown",
   "metadata": {},
   "source": [
    "### OS INFO"
   ]
  },
  {
   "cell_type": "code",
   "execution_count": 1,
   "metadata": {},
   "outputs": [
    {
     "name": "stdout",
     "output_type": "stream",
     "text": [
      "LICENSE\n",
      "LOGGING\n",
      "Makefile\n",
      "README.md\n",
      "docs\n",
      "logging.conf\n",
      "models\n",
      "notebooks\n",
      "references\n",
      "reports\n",
      "requirements.txt\n",
      "setup.py\n",
      "src\n",
      "test_environment.py\n",
      "tox.ini\n"
     ]
    }
   ],
   "source": [
    "import os\n",
    "! ls $os.path.pardir"
   ]
  },
  {
   "cell_type": "code",
   "execution_count": 2,
   "metadata": {},
   "outputs": [
    {
     "name": "stdout",
     "output_type": "stream",
     "text": [
      "MY_DATA_SCIENCE\n"
     ]
    }
   ],
   "source": [
    "! ls ../$os.path.pardir"
   ]
  },
  {
   "cell_type": "code",
   "execution_count": null,
   "metadata": {},
   "outputs": [],
   "source": [
    "import os\n",
    "os.curdir\n",
    "\n",
    "os.pardir\n",
    "\n",
    "os.path.dirname(os.pardir)\n",
    "\n",
    "os.getcwd()\n",
    "\n",
    "os.path.abspath(__name__)\n",
    "\n",
    "os.getegid()\n",
    "\n",
    "os.getenv('SPARK_HOME')\n",
    "\n",
    "os.environ\n",
    "\n",
    "my_folder= !pwd\n",
    "my_folder\n",
    "\n",
    "!pwd"
   ]
  },
  {
   "cell_type": "markdown",
   "metadata": {},
   "source": [
    "### Housekeeping Global file"
   ]
  },
  {
   "cell_type": "code",
   "execution_count": 3,
   "metadata": {},
   "outputs": [
    {
     "data": {
      "text/plain": [
       "'..\\\\src\\\\scripts\\\\housekeeping.py'"
      ]
     },
     "execution_count": 3,
     "metadata": {},
     "output_type": "execute_result"
    }
   ],
   "source": [
    "housekeeping_file = os.path.join(os.pardir , 'src' , 'scripts', 'housekeeping.py')\n",
    "housekeeping_file"
   ]
  },
  {
   "cell_type": "code",
   "execution_count": 5,
   "metadata": {},
   "outputs": [
    {
     "name": "stdout",
     "output_type": "stream",
     "text": [
      "#Housekeeping\\\n",
      "import pandas as pd\n",
      "import numpy as np\n",
      "import matplotlib.pyplot as plt\n",
      "%matplotlib inline\n",
      "import os\n",
      "\n",
      "from IPython.display import Image\n",
      "from IPython.core.display import HTML \n",
      "#Image(filename='images/extracting_data_from_db_template.png', height=300, width=400)}\n"
     ]
    }
   ],
   "source": [
    "!cat $housekeeping_file  "
   ]
  },
  {
   "cell_type": "code",
   "execution_count": null,
   "metadata": {},
   "outputs": [],
   "source": [
    "%load ../src/scripts/housekeeping.py"
   ]
  },
  {
   "cell_type": "code",
   "execution_count": null,
   "metadata": {},
   "outputs": [],
   "source": [
    "# %load ../src/scripts/housekeeping.py\n",
    "#Housekeeping\\\n",
    "import pandas as pd\n",
    "import numpy as np\n",
    "import matplotlib.pyplot as plt\n",
    "%matplotlib inline\n",
    "import os\n",
    "\n",
    "from IPython.display import Image\n",
    "from IPython.core.display import HTML \n",
    "#Image(filename='images/extracting_data_from_db_template.png', height=300, width=400)}"
   ]
  },
  {
   "cell_type": "markdown",
   "metadata": {},
   "source": [
    "### GLOB in python"
   ]
  },
  {
   "cell_type": "code",
   "execution_count": null,
   "metadata": {},
   "outputs": [],
   "source": [
    "def processAll(path):\n",
    "    \n",
    "    allDF = pd.DataFrame()\n",
    "    folder_names = glob.glob(path + '\\\\*') \n",
    "    for f in folder_names:\n",
    "        df = processFolder(f)\n",
    "        allDF = allDF.append(df, ignore_index=True, sort=True)\n",
    "    return allDF\n",
    "\n",
    "def processFolder(folder_name): \n",
    "    partialDF = pd.DataFrame()\n",
    "    current_files = folder_name  + '\\*.xls'\n",
    "    file_names = glob.glob(current_files)  \n",
    "    for f in file_names:\n",
    "        df = pd.read_excel(f)\n",
    "        partialDF = partialDF.append(df,ignore_index=True, sort=True)\n",
    "    return partialDF\n",
    "\n",
    "import glob\n",
    "# STEP 1: Process all folders\n",
    "raw_file_path = os.path.join(os.path.pardir, 'data', 'raw', 'mill_data_all') \n",
    "finalDF = processAll(raw_file_path) "
   ]
  },
  {
   "cell_type": "markdown",
   "metadata": {},
   "source": [
    "### EXECUTE USNG .PY FILE"
   ]
  },
  {
   "cell_type": "code",
   "execution_count": null,
   "metadata": {},
   "outputs": [],
   "source": [
    "#Usage: C:\\OR\\PROJECTS\\BALER\\BALER_JUPYTER_PROJECT\\baler\\notebooks>python Combine_Mill_Data.py <root_path> | default"
   ]
  },
  {
   "cell_type": "markdown",
   "metadata": {},
   "source": [
    "### PRINT"
   ]
  },
  {
   "cell_type": "code",
   "execution_count": null,
   "metadata": {},
   "outputs": [],
   "source": [
    "# Define some helpful functions\n",
    "def printDf(sprkDF): \n",
    "    newdf = sprkDF.toPandas()\n",
    "    from IPython.display import display, HTML\n",
    "    return HTML(newdf.to_html())"
   ]
  }
 ],
 "metadata": {
  "hide_input": false,
  "kernelspec": {
   "display_name": "Python 3",
   "language": "python",
   "name": "python3"
  },
  "language_info": {
   "codemirror_mode": {
    "name": "ipython",
    "version": 3
   },
   "file_extension": ".py",
   "mimetype": "text/x-python",
   "name": "python",
   "nbconvert_exporter": "python",
   "pygments_lexer": "ipython3",
   "version": "3.6.7"
  },
  "nbTranslate": {
   "displayLangs": [
    "*"
   ],
   "hotkey": "alt-t",
   "langInMainMenu": true,
   "sourceLang": "en",
   "targetLang": "fr",
   "useGoogleTranslate": true
  },
  "toc": {
   "base_numbering": 1,
   "nav_menu": {},
   "number_sections": true,
   "sideBar": true,
   "skip_h1_title": false,
   "title_cell": "Table of Contents",
   "title_sidebar": "Contents",
   "toc_cell": false,
   "toc_position": {},
   "toc_section_display": true,
   "toc_window_display": false
  }
 },
 "nbformat": 4,
 "nbformat_minor": 2
}
