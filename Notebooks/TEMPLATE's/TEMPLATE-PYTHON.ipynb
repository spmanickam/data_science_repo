{
 "cells": [
  {
   "cell_type": "markdown",
   "metadata": {},
   "source": [
    "file: 01.CODE_TEMPLATE(ALL).ipynb"
   ]
  },
  {
   "cell_type": "markdown",
   "metadata": {
    "toc": true
   },
   "source": [
    "<h1>Table of Contents<span class=\"tocSkip\"></span></h1>\n",
    "<div class=\"toc\"><ul class=\"toc-item\"><li><span><a href=\"#GENERAL-PYTHON\" data-toc-modified-id=\"GENERAL-PYTHON-1\"><span class=\"toc-item-num\">1&nbsp;&nbsp;</span>GENERAL PYTHON</a></span><ul class=\"toc-item\"><li><ul class=\"toc-item\"><li><ul class=\"toc-item\"><li><span><a href=\"#3.1.2--loc-&amp;-iloc\" data-toc-modified-id=\"3.1.2--loc-&amp;-iloc-1.0.0.1\"><span class=\"toc-item-num\">1.0.0.1&nbsp;&nbsp;</span>3.1.2  loc &amp; iloc</a></span></li></ul></li></ul></li></ul></li><li><span><a href=\"#PYTHON\" data-toc-modified-id=\"PYTHON-2\"><span class=\"toc-item-num\">2&nbsp;&nbsp;</span>PYTHON</a></span><ul class=\"toc-item\"><li><ul class=\"toc-item\"><li><span><a href=\"#HOUSEKEEPING\" data-toc-modified-id=\"HOUSEKEEPING-2.0.1\"><span class=\"toc-item-num\">2.0.1&nbsp;&nbsp;</span>HOUSEKEEPING</a></span></li><li><span><a href=\"#GENERAL\" data-toc-modified-id=\"GENERAL-2.0.2\"><span class=\"toc-item-num\">2.0.2&nbsp;&nbsp;</span>GENERAL</a></span></li><li><span><a href=\"#READ\" data-toc-modified-id=\"READ-2.0.3\"><span class=\"toc-item-num\">2.0.3&nbsp;&nbsp;</span>READ</a></span><ul class=\"toc-item\"><li><span><a href=\"#Read-from-database\" data-toc-modified-id=\"Read-from-database-2.0.3.1\"><span class=\"toc-item-num\">2.0.3.1&nbsp;&nbsp;</span>Read from database</a></span></li><li><span><a href=\"#Read-multiple-fixed-length-files-and-combine\" data-toc-modified-id=\"Read-multiple-fixed-length-files-and-combine-2.0.3.2\"><span class=\"toc-item-num\">2.0.3.2&nbsp;&nbsp;</span>Read multiple fixed length files and combine</a></span></li></ul></li><li><span><a href=\"#INDEX\" data-toc-modified-id=\"INDEX-2.0.4\"><span class=\"toc-item-num\">2.0.4&nbsp;&nbsp;</span>INDEX</a></span></li><li><span><a href=\"#DICTIONARIES\" data-toc-modified-id=\"DICTIONARIES-2.0.5\"><span class=\"toc-item-num\">2.0.5&nbsp;&nbsp;</span>DICTIONARIES</a></span></li><li><span><a href=\"#LIST-COMPREHENSION\" data-toc-modified-id=\"LIST-COMPREHENSION-2.0.6\"><span class=\"toc-item-num\">2.0.6&nbsp;&nbsp;</span>LIST COMPREHENSION</a></span></li><li><span><a href=\"#LAMBDA-/-MAP\" data-toc-modified-id=\"LAMBDA-/-MAP-2.0.7\"><span class=\"toc-item-num\">2.0.7&nbsp;&nbsp;</span>LAMBDA / MAP</a></span></li><li><span><a href=\"#COUNT\" data-toc-modified-id=\"COUNT-2.0.8\"><span class=\"toc-item-num\">2.0.8&nbsp;&nbsp;</span>COUNT</a></span></li><li><span><a href=\"#TYPE-CONVERSION\" data-toc-modified-id=\"TYPE-CONVERSION-2.0.9\"><span class=\"toc-item-num\">2.0.9&nbsp;&nbsp;</span>TYPE CONVERSION</a></span></li><li><span><a href=\"#DATAFRAME-MANIPULATIONS\" data-toc-modified-id=\"DATAFRAME-MANIPULATIONS-2.0.10\"><span class=\"toc-item-num\">2.0.10&nbsp;&nbsp;</span>DATAFRAME MANIPULATIONS</a></span></li><li><span><a href=\"#SELECT\" data-toc-modified-id=\"SELECT-2.0.11\"><span class=\"toc-item-num\">2.0.11&nbsp;&nbsp;</span>SELECT</a></span></li><li><span><a href=\"#WHERE\" data-toc-modified-id=\"WHERE-2.0.12\"><span class=\"toc-item-num\">2.0.12&nbsp;&nbsp;</span>WHERE</a></span></li><li><span><a href=\"#FILTER\" data-toc-modified-id=\"FILTER-2.0.13\"><span class=\"toc-item-num\">2.0.13&nbsp;&nbsp;</span>FILTER</a></span></li><li><span><a href=\"#QUERY\" data-toc-modified-id=\"QUERY-2.0.14\"><span class=\"toc-item-num\">2.0.14&nbsp;&nbsp;</span>QUERY</a></span></li><li><span><a href=\"#SORT\" data-toc-modified-id=\"SORT-2.0.15\"><span class=\"toc-item-num\">2.0.15&nbsp;&nbsp;</span>SORT</a></span></li><li><span><a href=\"#GROUP-BY\" data-toc-modified-id=\"GROUP-BY-2.0.16\"><span class=\"toc-item-num\">2.0.16&nbsp;&nbsp;</span>GROUP BY</a></span></li><li><span><a href=\"#READ/WRITE-File/DataFrame\" data-toc-modified-id=\"READ/WRITE-File/DataFrame-2.0.17\"><span class=\"toc-item-num\">2.0.17&nbsp;&nbsp;</span>READ/WRITE File/DataFrame</a></span></li><li><span><a href=\"#FILL-MISSING-VALUES\" data-toc-modified-id=\"FILL-MISSING-VALUES-2.0.18\"><span class=\"toc-item-num\">2.0.18&nbsp;&nbsp;</span>FILL MISSING VALUES</a></span></li><li><span><a href=\"#UNIQUE\" data-toc-modified-id=\"UNIQUE-2.0.19\"><span class=\"toc-item-num\">2.0.19&nbsp;&nbsp;</span>UNIQUE</a></span></li><li><span><a href=\"#DROP\" data-toc-modified-id=\"DROP-2.0.20\"><span class=\"toc-item-num\">2.0.20&nbsp;&nbsp;</span>DROP</a></span></li><li><span><a href=\"#RENAME\" data-toc-modified-id=\"RENAME-2.0.21\"><span class=\"toc-item-num\">2.0.21&nbsp;&nbsp;</span>RENAME</a></span></li><li><span><a href=\"#SAVE\" data-toc-modified-id=\"SAVE-2.0.22\"><span class=\"toc-item-num\">2.0.22&nbsp;&nbsp;</span>SAVE</a></span></li><li><span><a href=\"#DATE/TIME/TIMESTAMP\" data-toc-modified-id=\"DATE/TIME/TIMESTAMP-2.0.23\"><span class=\"toc-item-num\">2.0.23&nbsp;&nbsp;</span>DATE/TIME/TIMESTAMP</a></span></li><li><span><a href=\"#loc-&amp;-iloc\" data-toc-modified-id=\"loc-&amp;-iloc-2.0.24\"><span class=\"toc-item-num\">2.0.24&nbsp;&nbsp;</span>loc &amp; iloc</a></span></li><li><span><a href=\"#Database-connection\" data-toc-modified-id=\"Database-connection-2.0.25\"><span class=\"toc-item-num\">2.0.25&nbsp;&nbsp;</span>Database connection</a></span></li><li><span><a href=\"#OTHER-FUNCTIONS\" data-toc-modified-id=\"OTHER-FUNCTIONS-2.0.26\"><span class=\"toc-item-num\">2.0.26&nbsp;&nbsp;</span>OTHER FUNCTIONS</a></span><ul class=\"toc-item\"><li><span><a href=\"#DATE\" data-toc-modified-id=\"DATE-2.0.26.1\"><span class=\"toc-item-num\">2.0.26.1&nbsp;&nbsp;</span>DATE</a></span></li><li><span><a href=\"#LIST-FUNCTIONS\" data-toc-modified-id=\"LIST-FUNCTIONS-2.0.26.2\"><span class=\"toc-item-num\">2.0.26.2&nbsp;&nbsp;</span>LIST FUNCTIONS</a></span></li><li><span><a href=\"#DATAFRAME-CREATE/APPEND-ROWS\" data-toc-modified-id=\"DATAFRAME-CREATE/APPEND-ROWS-2.0.26.3\"><span class=\"toc-item-num\">2.0.26.3&nbsp;&nbsp;</span>DATAFRAME CREATE/APPEND ROWS</a></span></li><li><span><a href=\"#MERGE\" data-toc-modified-id=\"MERGE-2.0.26.4\"><span class=\"toc-item-num\">2.0.26.4&nbsp;&nbsp;</span>MERGE</a></span></li><li><span><a href=\"#CONCAT\" data-toc-modified-id=\"CONCAT-2.0.26.5\"><span class=\"toc-item-num\">2.0.26.5&nbsp;&nbsp;</span>CONCAT</a></span></li><li><span><a href=\"#REPLACE\" data-toc-modified-id=\"REPLACE-2.0.26.6\"><span class=\"toc-item-num\">2.0.26.6&nbsp;&nbsp;</span>REPLACE</a></span></li><li><span><a href=\"#COPY\" data-toc-modified-id=\"COPY-2.0.26.7\"><span class=\"toc-item-num\">2.0.26.7&nbsp;&nbsp;</span>COPY</a></span></li><li><span><a href=\"#UNION\" data-toc-modified-id=\"UNION-2.0.26.8\"><span class=\"toc-item-num\">2.0.26.8&nbsp;&nbsp;</span>UNION</a></span></li><li><span><a href=\"#AGGREGATION\" data-toc-modified-id=\"AGGREGATION-2.0.26.9\"><span class=\"toc-item-num\">2.0.26.9&nbsp;&nbsp;</span>AGGREGATION</a></span></li><li><span><a href=\"#SCALING\" data-toc-modified-id=\"SCALING-2.0.26.10\"><span class=\"toc-item-num\">2.0.26.10&nbsp;&nbsp;</span>SCALING</a></span></li><li><span><a href=\"#SHIFT\" data-toc-modified-id=\"SHIFT-2.0.26.11\"><span class=\"toc-item-num\">2.0.26.11&nbsp;&nbsp;</span>SHIFT</a></span></li><li><span><a href=\"#FLOOR\" data-toc-modified-id=\"FLOOR-2.0.26.12\"><span class=\"toc-item-num\">2.0.26.12&nbsp;&nbsp;</span>FLOOR</a></span></li><li><span><a href=\"#ABS\" data-toc-modified-id=\"ABS-2.0.26.13\"><span class=\"toc-item-num\">2.0.26.13&nbsp;&nbsp;</span>ABS</a></span></li></ul></li><li><span><a href=\"#PIVOT\" data-toc-modified-id=\"PIVOT-2.0.27\"><span class=\"toc-item-num\">2.0.27&nbsp;&nbsp;</span>PIVOT</a></span></li><li><span><a href=\"#LOGGING\" data-toc-modified-id=\"LOGGING-2.0.28\"><span class=\"toc-item-num\">2.0.28&nbsp;&nbsp;</span>LOGGING</a></span></li><li><span><a href=\"#ROUTINES\" data-toc-modified-id=\"ROUTINES-2.0.29\"><span class=\"toc-item-num\">2.0.29&nbsp;&nbsp;</span>ROUTINES</a></span></li></ul></li></ul></li><li><span><a href=\"#DATA-SCIENCE---PYTHON\" data-toc-modified-id=\"DATA-SCIENCE---PYTHON-3\"><span class=\"toc-item-num\">3&nbsp;&nbsp;</span>DATA SCIENCE - PYTHON</a></span><ul class=\"toc-item\"><li><ul class=\"toc-item\"><li><ul class=\"toc-item\"><li><span><a href=\"#GENERAL\" data-toc-modified-id=\"GENERAL-3.0.0.1\"><span class=\"toc-item-num\">3.0.0.1&nbsp;&nbsp;</span>GENERAL</a></span></li><li><span><a href=\"#LOGISTIC-REGRESSION\" data-toc-modified-id=\"LOGISTIC-REGRESSION-3.0.0.2\"><span class=\"toc-item-num\">3.0.0.2&nbsp;&nbsp;</span>LOGISTIC REGRESSION</a></span></li><li><span><a href=\"#k-fold-Cross-validation\" data-toc-modified-id=\"k-fold-Cross-validation-3.0.0.3\"><span class=\"toc-item-num\">3.0.0.3&nbsp;&nbsp;</span>k-fold Cross validation</a></span></li><li><span><a href=\"#BASELINE-MODEL\" data-toc-modified-id=\"BASELINE-MODEL-3.0.0.4\"><span class=\"toc-item-num\">3.0.0.4&nbsp;&nbsp;</span>BASELINE MODEL</a></span></li><li><span><a href=\"#EVALUATION\" data-toc-modified-id=\"EVALUATION-3.0.0.5\"><span class=\"toc-item-num\">3.0.0.5&nbsp;&nbsp;</span>EVALUATION</a></span></li><li><span><a href=\"#FEATURE-NORMALIZARION-&amp;-STANDARDIZATION\" data-toc-modified-id=\"FEATURE-NORMALIZARION-&amp;-STANDARDIZATION-3.0.0.6\"><span class=\"toc-item-num\">3.0.0.6&nbsp;&nbsp;</span>FEATURE NORMALIZARION &amp; STANDARDIZATION</a></span></li></ul></li><li><span><a href=\"#PARAMS-PRINT\" data-toc-modified-id=\"PARAMS-PRINT-3.0.1\"><span class=\"toc-item-num\">3.0.1&nbsp;&nbsp;</span>PARAMS PRINT</a></span></li></ul></li><li><span><a href=\"#1.-GBT-(GRADENT-BOOSTING-TREE)-CLASSIFIER\" data-toc-modified-id=\"1.-GBT-(GRADENT-BOOSTING-TREE)-CLASSIFIER-3.1\"><span class=\"toc-item-num\">3.1&nbsp;&nbsp;</span>1. GBT (GRADENT BOOSTING TREE) CLASSIFIER</a></span><ul class=\"toc-item\"><li><span><a href=\"#PYTHON-DATA-FRAME\" data-toc-modified-id=\"PYTHON-DATA-FRAME-3.1.1\"><span class=\"toc-item-num\">3.1.1&nbsp;&nbsp;</span>PYTHON DATA FRAME</a></span></li><li><span><a href=\"#RANGE-&amp;-RANDOM\" data-toc-modified-id=\"RANGE-&amp;-RANDOM-3.1.2\"><span class=\"toc-item-num\">3.1.2&nbsp;&nbsp;</span>RANGE &amp; RANDOM</a></span></li><li><span><a href=\"#READ-FILE\" data-toc-modified-id=\"READ-FILE-3.1.3\"><span class=\"toc-item-num\">3.1.3&nbsp;&nbsp;</span>READ FILE</a></span></li><li><span><a href=\"#GENERAL\" data-toc-modified-id=\"GENERAL-3.1.4\"><span class=\"toc-item-num\">3.1.4&nbsp;&nbsp;</span>GENERAL</a></span></li><li><span><a href=\"#pd.MultiIndex\" data-toc-modified-id=\"pd.MultiIndex-3.1.5\"><span class=\"toc-item-num\">3.1.5&nbsp;&nbsp;</span>pd.MultiIndex</a></span></li><li><span><a href=\"#ZIP-(paired-matching)\" data-toc-modified-id=\"ZIP-(paired-matching)-3.1.6\"><span class=\"toc-item-num\">3.1.6&nbsp;&nbsp;</span>ZIP (paired matching)</a></span></li><li><span><a href=\"#Switcher(case-statement-equivalent)\" data-toc-modified-id=\"Switcher(case-statement-equivalent)-3.1.7\"><span class=\"toc-item-num\">3.1.7&nbsp;&nbsp;</span>Switcher(case statement equivalent)</a></span></li></ul></li></ul></li></ul></div>"
   ]
  },
  {
   "cell_type": "markdown",
   "metadata": {
    "heading_collapsed": true
   },
   "source": [
    "#  GENERAL PYTHON"
   ]
  },
  {
   "cell_type": "code",
   "execution_count": null,
   "metadata": {
    "hidden": true
   },
   "outputs": [],
   "source": [
    "name.split(',')[1] \n",
    "title.strip().lower()"
   ]
  },
  {
   "cell_type": "markdown",
   "metadata": {
    "hidden": true
   },
   "source": [
    "#### 3.1.2  loc & iloc"
   ]
  },
  {
   "cell_type": "code",
   "execution_count": null,
   "metadata": {
    "hidden": true
   },
   "outputs": [],
   "source": [
    "loc: (String based)\n",
    "    --> is label based index as string\n",
    "    --> takes slices based on labels\n",
    "    --> includes last element\n",
    "iloc: (Integer based)\n",
    "    --> bases on index's position\n",
    "    --> uses obersation's position"
   ]
  },
  {
   "cell_type": "code",
   "execution_count": null,
   "metadata": {
    "hidden": true
   },
   "outputs": [],
   "source": [
    "loc gets rows (or columns) with particular labels from the index.\n",
    "iloc gets rows (or columns) at particular positions in the index (so it only takes integers).\n",
    "ix usually tries to behave like loc but falls back to behaving like iloc if a label is not present in the index."
   ]
  },
  {
   "cell_type": "markdown",
   "metadata": {
    "hidden": true
   },
   "source": [
    "##### Integer Index"
   ]
  },
  {
   "cell_type": "code",
   "execution_count": null,
   "metadata": {
    "hidden": true
   },
   "outputs": [],
   "source": [
    "import pandas as pd\n",
    "raw_data_path = os.path.join(os.path.pardir, 'data', 'raw') #'../data/raw\n",
    "\n",
    "train_data_path = os.path.join(raw_data_path, 'train.csv') #'../data/raw/train.csv'\n",
    "df1 = pd.read_csv(train_data_path)"
   ]
  },
  {
   "cell_type": "code",
   "execution_count": null,
   "metadata": {
    "hidden": true
   },
   "outputs": [],
   "source": [
    "df2 = df1[['PassengerId', 'Pclass', 'Name']]"
   ]
  },
  {
   "cell_type": "code",
   "execution_count": null,
   "metadata": {
    "hidden": true
   },
   "outputs": [],
   "source": [
    "df2.head()"
   ]
  },
  {
   "cell_type": "code",
   "execution_count": null,
   "metadata": {
    "hidden": true
   },
   "outputs": [],
   "source": [
    "df2.loc[1:3]"
   ]
  },
  {
   "cell_type": "code",
   "execution_count": null,
   "metadata": {
    "hidden": true
   },
   "outputs": [],
   "source": [
    "df2.iloc[1:3]"
   ]
  },
  {
   "cell_type": "code",
   "execution_count": null,
   "metadata": {
    "hidden": true
   },
   "outputs": [],
   "source": [
    "df2.loc[2]"
   ]
  },
  {
   "cell_type": "code",
   "execution_count": null,
   "metadata": {
    "hidden": true
   },
   "outputs": [],
   "source": [
    "df2.iloc[2]"
   ]
  },
  {
   "cell_type": "markdown",
   "metadata": {
    "hidden": true
   },
   "source": [
    "##### String Index"
   ]
  },
  {
   "cell_type": "code",
   "execution_count": null,
   "metadata": {
    "hidden": true
   },
   "outputs": [],
   "source": [
    "df3 = df2.copy()\n",
    "df3.index = df3.Name\n",
    "df3.head()"
   ]
  },
  {
   "cell_type": "code",
   "execution_count": null,
   "metadata": {
    "hidden": true
   },
   "outputs": [],
   "source": [
    "#df3.loc[1:3] #TypeError: cannot do slice indexing"
   ]
  },
  {
   "cell_type": "code",
   "execution_count": null,
   "metadata": {
    "hidden": true
   },
   "outputs": [],
   "source": [
    "df3.iloc[1:3]"
   ]
  },
  {
   "cell_type": "code",
   "execution_count": null,
   "metadata": {
    "hidden": true
   },
   "outputs": [],
   "source": [
    "#df3.loc[2] #TypeError: cannot do label indexing\n",
    "df3.loc['Heikkinen, Miss. Laina']"
   ]
  },
  {
   "cell_type": "code",
   "execution_count": null,
   "metadata": {
    "hidden": true
   },
   "outputs": [],
   "source": [
    "df3.iloc[2]"
   ]
  },
  {
   "cell_type": "code",
   "execution_count": null,
   "metadata": {
    "hidden": true
   },
   "outputs": [],
   "source": [
    "df4 = df2.copy()\n",
    "df4.set_index(\"Name\", inplace=True)\n",
    "df4.head()"
   ]
  },
  {
   "cell_type": "code",
   "execution_count": null,
   "metadata": {
    "hidden": true
   },
   "outputs": [],
   "source": [
    "df5 = df2.copy()\n",
    "df5.set_index(\"Name\", inplace=False)\n",
    "df5.head()"
   ]
  },
  {
   "cell_type": "code",
   "execution_count": null,
   "metadata": {
    "hidden": true
   },
   "outputs": [],
   "source": [
    "df5.index"
   ]
  },
  {
   "cell_type": "markdown",
   "metadata": {
    "toc-hr-collapsed": false
   },
   "source": [
    "# PYTHON"
   ]
  },
  {
   "cell_type": "markdown",
   "metadata": {},
   "source": [
    "### HOUSEKEEPING"
   ]
  },
  {
   "cell_type": "code",
   "execution_count": null,
   "metadata": {},
   "outputs": [],
   "source": [
    "import os\n",
    "import pandas as pd\n",
    "import numpy as np\n",
    "%matplotlib inline\n",
    "\n",
    "import matplotlib.pyplot as plt"
   ]
  },
  {
   "cell_type": "markdown",
   "metadata": {
    "heading_collapsed": true
   },
   "source": [
    "### GENERAL"
   ]
  },
  {
   "cell_type": "code",
   "execution_count": null,
   "metadata": {
    "hidden": true
   },
   "outputs": [],
   "source": [
    "combinedDF.head()\n",
    "type(combinedDF.Name)\n",
    "combinedDF.index\n",
    "combinedDF.columns\n",
    "len(male_passengers)\n",
    "combinedDF.Embarked.value_counts().to_frame()\n",
    "combinedDF.groupby('Embarked').size() \n",
    "df5 = combinedDF.copy()\n",
    "df5.Age.value_counts(dropna=False).head()\n",
    "trainDF.count().tolist()\n",
    "trainDF.keys()\n",
    "\n",
    "X_train.shape, X_test.shape"
   ]
  },
  {
   "cell_type": "markdown",
   "metadata": {},
   "source": [
    "### READ"
   ]
  },
  {
   "cell_type": "code",
   "execution_count": null,
   "metadata": {},
   "outputs": [],
   "source": [
    "pandasDF = pd.read_csv(baler_file)\n",
    "\n",
    "locationDivisionLookup = pd.read_csv(location_division_mapping_file, dtype={'Location':str})\n",
    "inventoryDF = pd.read_csv('../data/raw/SUPPLIES/supplyDump.csv', dtype={'DIVISION_NO':object, 'STORE_NO':object})\n",
    "\n",
    "suppliesDF = pd.read_csv('../data/raw/SUPPLIES/Cleaning_Center_Supplies_4.11.18.csv', \\\n",
    "                                     usecols=['Case UPC', 'Cons UPC', 'Need'],   dtype={'Case UPC': object, 'Cons UPC': object})\n",
    "                                           #, names=['Case_UPC', 'Cons_UPC', 'Need'])\n",
    "\n",
    "df = pd.read_csv('../../data/raw/Udemy_Zero_to_deep_learning_Mosconi/cansim-0800020-eng-6674700030567901031.csv',\n",
    "                   skiprows=6, skipfooter=9, engine='python')"
   ]
  },
  {
   "cell_type": "markdown",
   "metadata": {},
   "source": [
    "#### Read from database"
   ]
  },
  {
   "cell_type": "code",
   "execution_count": null,
   "metadata": {},
   "outputs": [],
   "source": [
    "import pyodbc\n",
    "sql_connection = pyodbc.connect('DRIVER={ODBC Driver 13 for SQL Server};  SERVER=n060sql11.kroger.com;  \\\n",
    "                          DATABASE=svnfivdbprod')\n",
    "                          #UID=management;PWD=Kroger12345') \n",
    "query = 'select * from SUPPLY_AUDIT'\n",
    "supplyAuditDF = pd.read_sql(con=sql_connection, sql=query)"
   ]
  },
  {
   "cell_type": "markdown",
   "metadata": {},
   "source": [
    "#### Read multiple fixed length files and combine"
   ]
  },
  {
   "cell_type": "code",
   "execution_count": null,
   "metadata": {},
   "outputs": [],
   "source": [
    "'''\n",
    "09/19/18 22:24:54.102    0.45\n",
    "09/19/18 22:24:54.121    0.46\n",
    "09/19/18 22:24:54.125    0.47\n",
    "09/19/18 22:24:54.129    0.47\n",
    "09/19/18 22:24:54.227    0.49\n",
    "'''\n",
    "def processFile(f): \n",
    "    col_specification = [(0, 22), (24, 30)]\n",
    "    df = pd.read_fwf(f, header=None, colspecs=col_specification) \n",
    "    df.columns = ['date_time', 'cycle_time'] \n",
    "    return df\n",
    "\n",
    "def processFolder():\n",
    "    raw_file_path = os.path.join(os.path.pardir, 'data', 'raw', 'sensor', 'store353')   \n",
    "    folder_name = glob.glob(raw_file_path + '\\\\*') \n",
    "    combinedDF = pd.DataFrame()  \n",
    "    for f in folder_name: \n",
    "        df = processFile(f)\n",
    "        combinedDF = combinedDF.append(df,ignore_index=True, sort=True) \n",
    "    return combinedDF\n",
    "sensorDF = processFolder()\n",
    "sensorDF.index = sensorDF.date_time\n",
    "sensorDF.drop(columns='date_time', axis='columns', inplace=True)\n",
    "sensorDF.sort_index(inplace=True)"
   ]
  },
  {
   "cell_type": "markdown",
   "metadata": {},
   "source": [
    "### INDEX"
   ]
  },
  {
   "cell_type": "code",
   "execution_count": null,
   "metadata": {},
   "outputs": [],
   "source": [
    "pandasDF.index= pd.to_datetime(pandasDF.DATE_STRING,infer_datetime_format=True)\n",
    "millWkPandasDF2.index = pd.to_datetime(millWkPandasDF2.week_beg, infer_datetime_format=True)\n",
    "\n",
    "'Set Index\n",
    "df = df.set_index('Adjustments')\n",
    "sensorDF.index = sensorDF.date_time \n",
    "\n",
    "'Sort\n",
    "sensorDF.sort_index(inplace=True)\n",
    "\n",
    "'Reset\n",
    "testDF.reset_index(inplace=True)\n",
    "union14SumDF = union14SumDF.reset_index()\n",
    "\n",
    "'Min & Max\n",
    "train.idxmax(), train.idxmin()   # 2010-12-31 dtype: datetime64[ns]\n",
    "tempDF.index.min(), tempDF.index.max()  #Timestamp('2010-12-31 00:00:00')\n",
    "\n",
    "idx = pd.date_range(tempDF.index.min(), tempDF.index.max())\n",
    "idx.to_pydatetime()\n",
    "\n",
    "'Reindex\n",
    "gapDF.reindex(method='nearest')\n",
    "--------------------------------------------------------------------------------\n",
    "# This is the better way to set the index; if you do df.index= df['Adjustments'], the Adjustment column still exists\n",
    "df = df.set_index('Adjustments')\n",
    "--------------------------------------------------------------------------------\n",
    "split_date = pd.Timestamp('01-01-2011')\n",
    "train =df[df.index < split_date] # same result as below\n",
    "train = df.loc[:split_date, ['Unadjusted']] # same result as above\n",
    "--------------------------------------------------------------------------------\n",
    "\n"
   ]
  },
  {
   "cell_type": "markdown",
   "metadata": {},
   "source": [
    "### DICTIONARIES"
   ]
  },
  {
   "cell_type": "code",
   "execution_count": null,
   "metadata": {},
   "outputs": [],
   "source": [
    "title_dictionary.keys()\n",
    "title_dictionary.values()\n",
    "title_dictionary.get('dona')\n",
    "-----------------------------\n"
   ]
  },
  {
   "cell_type": "markdown",
   "metadata": {},
   "source": [
    "### LIST COMPREHENSION"
   ]
  },
  {
   "cell_type": "code",
   "execution_count": null,
   "metadata": {},
   "outputs": [],
   "source": [
    "h.hist \n",
    "'''{'loss': [0.5505760699510575, 0.5029597784082095, 0.465897373855114],\n",
    "     'acc': [0.690625, 0.7458333333333333, 0.7854166666666667]}\n",
    "'''\n",
    "\n",
    "type(h.history) #dict\n",
    "h.history.get('loss') #[0.5505760699510575, 0.5029597784082095, 0.465897373855114]\n",
    "type(h.history.get('loss')) #loss\n",
    "\n",
    "h.history.keys() #dict_keys(['loss', 'acc'])\n",
    "\n",
    "pd.Series(h.history.get('loss'))\n"
   ]
  },
  {
   "cell_type": "markdown",
   "metadata": {},
   "source": [
    "### LAMBDA / MAP"
   ]
  },
  {
   "cell_type": "code",
   "execution_count": 5,
   "metadata": {},
   "outputs": [
    {
     "ename": "NameError",
     "evalue": "name 'combinedDF' is not defined",
     "output_type": "error",
     "traceback": [
      "\u001b[1;31m---------------------------------------------------------------------------\u001b[0m",
      "\u001b[1;31mNameError\u001b[0m                                 Traceback (most recent call last)",
      "\u001b[1;32m<ipython-input-5-05961b586112>\u001b[0m in \u001b[0;36m<module>\u001b[1;34m()\u001b[0m\n\u001b[1;32m----> 1\u001b[1;33m \u001b[0mcombinedDF\u001b[0m\u001b[1;33m.\u001b[0m\u001b[0mName\u001b[0m\u001b[1;33m.\u001b[0m\u001b[0mmap\u001b[0m\u001b[1;33m(\u001b[0m\u001b[1;32mlambda\u001b[0m \u001b[0mx\u001b[0m\u001b[1;33m:\u001b[0m \u001b[0mgetTitle\u001b[0m\u001b[1;33m(\u001b[0m\u001b[0mx\u001b[0m\u001b[1;33m)\u001b[0m\u001b[1;33m)\u001b[0m\u001b[1;33m.\u001b[0m\u001b[0mhead\u001b[0m\u001b[1;33m(\u001b[0m\u001b[1;33m)\u001b[0m\u001b[1;33m\u001b[0m\u001b[0m\n\u001b[0m\u001b[0;32m      2\u001b[0m \u001b[0mcombinedDF\u001b[0m\u001b[1;33m.\u001b[0m\u001b[0mName\u001b[0m\u001b[1;33m.\u001b[0m\u001b[0mmap\u001b[0m\u001b[1;33m(\u001b[0m\u001b[1;32mlambda\u001b[0m \u001b[0mx\u001b[0m\u001b[1;33m:\u001b[0m \u001b[0mgetTitle\u001b[0m\u001b[1;33m(\u001b[0m\u001b[0mx\u001b[0m\u001b[1;33m)\u001b[0m\u001b[1;33m)\u001b[0m\u001b[1;33m.\u001b[0m\u001b[0munique\u001b[0m\u001b[1;33m(\u001b[0m\u001b[1;33m)\u001b[0m\u001b[1;33m\u001b[0m\u001b[0m\n\u001b[0;32m      3\u001b[0m \u001b[0mcombinedDF\u001b[0m\u001b[1;33m.\u001b[0m\u001b[0mName\u001b[0m\u001b[1;33m.\u001b[0m\u001b[0mmap\u001b[0m\u001b[1;33m(\u001b[0m\u001b[1;32mlambda\u001b[0m \u001b[0mx\u001b[0m\u001b[1;33m:\u001b[0m \u001b[0mgetTitle\u001b[0m\u001b[1;33m(\u001b[0m\u001b[0mx\u001b[0m\u001b[1;33m)\u001b[0m\u001b[1;33m)\u001b[0m\u001b[1;33m.\u001b[0m\u001b[0munique\u001b[0m\u001b[1;33m(\u001b[0m\u001b[1;33m)\u001b[0m\u001b[1;33m\u001b[0m\u001b[0m\n\u001b[0;32m      4\u001b[0m \u001b[0mcombinedDF\u001b[0m\u001b[1;33m.\u001b[0m\u001b[0mName\u001b[0m\u001b[1;33m.\u001b[0m\u001b[0mmap\u001b[0m\u001b[1;33m(\u001b[0m\u001b[1;32mlambda\u001b[0m \u001b[0mx\u001b[0m\u001b[1;33m:\u001b[0m \u001b[0mgetTitle\u001b[0m\u001b[1;33m(\u001b[0m\u001b[0mx\u001b[0m\u001b[1;33m)\u001b[0m\u001b[1;33m)\u001b[0m\u001b[1;33m.\u001b[0m\u001b[0mvalue_counts\u001b[0m\u001b[1;33m(\u001b[0m\u001b[0mascending\u001b[0m\u001b[1;33m=\u001b[0m\u001b[1;32mFalse\u001b[0m\u001b[1;33m)\u001b[0m\u001b[1;33m.\u001b[0m\u001b[0mhead\u001b[0m\u001b[1;33m(\u001b[0m\u001b[1;33m)\u001b[0m\u001b[1;33m\u001b[0m\u001b[0m\n\u001b[0;32m      5\u001b[0m \u001b[0mcombinedDF\u001b[0m\u001b[1;33m.\u001b[0m\u001b[0mName\u001b[0m\u001b[1;33m.\u001b[0m\u001b[0mmap\u001b[0m\u001b[1;33m(\u001b[0m\u001b[1;32mlambda\u001b[0m \u001b[0mx\u001b[0m\u001b[1;33m:\u001b[0m \u001b[0mgetTitle\u001b[0m\u001b[1;33m(\u001b[0m\u001b[0mx\u001b[0m\u001b[1;33m)\u001b[0m\u001b[1;33m)\u001b[0m\u001b[1;33m.\u001b[0m\u001b[0munique\u001b[0m\u001b[1;33m(\u001b[0m\u001b[1;33m)\u001b[0m\u001b[1;33m.\u001b[0m\u001b[0mtolist\u001b[0m\u001b[1;33m(\u001b[0m\u001b[1;33m)\u001b[0m\u001b[1;33m\u001b[0m\u001b[0m\n",
      "\u001b[1;31mNameError\u001b[0m: name 'combinedDF' is not defined"
     ]
    }
   ],
   "source": [
    "combinedDF.Name.map(lambda x: getTitle(x)).head()\n",
    "combinedDF.Name.map(lambda x: getTitle(x)).unique()\n",
    "combinedDF.Name.map(lambda x: getTitle(x)).unique()\n",
    "combinedDF.Name.map(lambda x: getTitle(x)).value_counts(ascending=False).head()\n",
    "combinedDF.Name.map(lambda x: getTitle(x)).unique().tolist()\n",
    "combinedDF['Title'] = combinedDF.Name.map(lambda x: getStandardTitle(getTitle(x)))\n",
    "combinedDF['Deck'] = combinedDF.Cabin.map(lambda x: getDeck(x))\n",
    "\n",
    "\n",
    "unionDF['Division'] = unionDF.Division.map(lambda x: x.replace('/',''))\n",
    "--------------------------------------------------------------------------------\n",
    "def replaceNullInvoice(x): \n",
    "    if x != x:  \n",
    "        result =  'UNKOWN'\n",
    "    else: \n",
    "        result = x\n",
    "    return result\n",
    "union14DF['Invoice'] = union14DF['Invoice'].apply(lambda x: replaceNullInvoice(x))\n",
    "\n",
    "--------------------------------------------------------------------------------\n",
    "def replaceNullInvoice(x): \n",
    "    if x != x: \n",
    "        #print(x)\n",
    "        #result = '00000000000', str(x.year) + str(x.month)\n",
    "        result = np.random.rand(1)[0]\n",
    "    else: \n",
    "        result = x\n",
    "    return result\n",
    "union14DF['Invoice'] = union14DF['Invoice'].apply(lambda x: replaceNullInvoice(x))\n",
    "--------------------------------------------------------------------------------\n",
    "sensorDF['cycle_time_next_rounded'] = sensorDF.cycle_time_next.apply(lambda x: floor(x))\n",
    "--------------------------------------------------------------------------------\n",
    "import math\n",
    "def findZeroToValue(row): \n",
    "    result = 0\n",
    "    a = row.cycle_time_rounded\n",
    "    b = row.cycle_time_next_rounded \n",
    "    if (a == 0) & (b > 0):\n",
    "        result = 1\n",
    "    return result\n",
    " sensor20DF['zeroto_value'] = sensor20DF.apply(findZeroToValue, axis=1)\n"
   ]
  },
  {
   "cell_type": "markdown",
   "metadata": {},
   "source": [
    "### COUNT"
   ]
  },
  {
   "cell_type": "code",
   "execution_count": null,
   "metadata": {},
   "outputs": [],
   "source": [
    "combinedDF.Age.value_counts(dropna=False).head()\n",
    "len(male_passengers)\n",
    "combinedDF.Embarked.value_counts()\n",
    "df5.Age.value_counts(dropna=False)\n",
    "\n",
    "trainDF.count().tolist()"
   ]
  },
  {
   "cell_type": "markdown",
   "metadata": {},
   "source": [
    "### TYPE CONVERSION"
   ]
  },
  {
   "cell_type": "code",
   "execution_count": null,
   "metadata": {},
   "outputs": [],
   "source": [
    "X = trainDF.loc[:, 'Adult_No':].values.astype('float')\n",
    "unionDF['Division'] = unionDF['Division'].astype('str')\n",
    "\n",
    "sensorDF['cycle_time'] = sensorDF.cycle_time.astype('float')\n",
    "\n",
    "# convert series to an array\n",
    "np.array(y).reshape(10000,1)"
   ]
  },
  {
   "cell_type": "markdown",
   "metadata": {},
   "source": [
    "### DATAFRAME MANIPULATIONS"
   ]
  },
  {
   "cell_type": "code",
   "execution_count": null,
   "metadata": {},
   "outputs": [],
   "source": []
  },
  {
   "cell_type": "markdown",
   "metadata": {},
   "source": [
    "### SELECT"
   ]
  },
  {
   "cell_type": "code",
   "execution_count": null,
   "metadata": {},
   "outputs": [],
   "source": [
    "testDF['Survived'] = -888\n",
    "combinedDF.Name[0:5]  #select first 5 from series\n",
    "combinedDF[['Name', 'Age']][6:8]  # select multiple columns\n",
    "trainDF.loc[800:804] # select based on index values(rows)\n",
    "trainDF.iloc[800:804]  #select based on index values(rows) & columns\n",
    "trainDF.loc[2:5, ['Age', 'Pclass']]  #select based on index values(rows) & columns\n",
    "trainDF.iloc[2:5,3:8] # use iloc for postion based indexing\n",
    "trainDF.iloc[2:5,3:8] # use iloc for postion based indexing\n",
    "combinedDF.groupby(['Survived', 'Embarked']).Embarked.count().to_frame().T"
   ]
  },
  {
   "cell_type": "code",
   "execution_count": null,
   "metadata": {},
   "outputs": [],
   "source": [
    "combinedDF = pd.concat((trainDF, testDF), sort=True)  #acis=0 (default)"
   ]
  },
  {
   "cell_type": "code",
   "execution_count": null,
   "metadata": {},
   "outputs": [],
   "source": [
    "#Convert Data frame to matrix\n",
    "df1._as_matrix()"
   ]
  },
  {
   "cell_type": "markdown",
   "metadata": {},
   "source": [
    "### WHERE"
   ]
  },
  {
   "cell_type": "code",
   "execution_count": null,
   "metadata": {},
   "outputs": [],
   "source": [
    "combinedDF['Adult'] = np.where(combinedDF.Age >= 18, 'Yes', 'No')\n",
    "combinedDF['IsMale'] = np.where(combinedDF.Sex == 'male', 1,0)"
   ]
  },
  {
   "cell_type": "markdown",
   "metadata": {},
   "source": [
    "\n",
    "### FILTER"
   ]
  },
  {
   "cell_type": "code",
   "execution_count": null,
   "metadata": {},
   "outputs": [],
   "source": [
    "combinedDF.loc[combinedDF.Sex == 'male']\n",
    "combinedDF.loc[(combinedDF.Sex == 'male') & (combinedDF.Pclass == 1)]\n",
    "combinedDF[combinedDF.Survived != -888].Survived.value_counts()\n",
    "\n",
    "combinedDF[combinedDF.Embarked.isnull()] # BEST RESULT for displaying obervations with nan's\n",
    "\n",
    "combinedDF.Age.value_counts(dropna=False, ascending=False).head()\n",
    "\n",
    "combinedDF[(combinedDF['Embarked'] == 'S') & (combinedDF['Pclass'] == 3)].Fare.value_counts(ascending=False).head()\n",
    "\n",
    "combinedDF.loc[combinedDF.Fare == combinedDF.Fare.max()]\n",
    "combinedDF.loc[combinedDF.Cabin =='T']\n",
    "\n",
    "pandasDF1 = joinedPandasDF[joinedPandasDF.MDivision == 11] \n",
    "\n",
    "\n",
    "union14DF = unionDF[unionDF.Division.isin(['14','014'])]\n",
    "\n",
    "union14Sum5678_2017DF = union14Sum5678DF[union14Sum5678DF.year == 2017]\n",
    "union14Sum5678_2018DF = union14Sum5678DF[union14Sum5678DF.year == 2018]\n",
    "\n",
    "\n",
    "'FILTER & SORT\n",
    "union14Sum5678DF =union14SumDF[union14SumDF.month.isin([5,6,7,8])].sort_values('month')\n",
    "\n",
    "unionDF[(unionDF.year == 2018) & (unionDF.month == 8)][['year','month']]\n",
    "\n",
    "union14DF[union14DF.Invoice.isna()]['Tons'].count()\n",
    "\n",
    "'IS IN\n",
    "union14Sum5678DF =union14SumDF[union14SumDF.month.isin([5,6,7,8])].sort_values('month')\n",
    "millPartialDF = millPartialDF[millPartialDF.Division.isin(['14','014'])]\n",
    "\n",
    "\n",
    "millSelectedDF = millDF.query('year==2017 and month in (5,6,7,8)  | year==2018 and month == 5')\n",
    "\n",
    "union14DF = union14DF[union14DF.Pounds.notna() & union14DF.Tons.notna()]\n",
    "\n",
    "union14DF[union14DF.Invoice == 0]\n",
    "\n",
    "\n",
    "cycleDF = sensorDF[sensorDF['cycle'] == x] \n",
    "\n",
    "    \n",
    "    "
   ]
  },
  {
   "cell_type": "markdown",
   "metadata": {},
   "source": [
    "### QUERY"
   ]
  },
  {
   "cell_type": "code",
   "execution_count": null,
   "metadata": {},
   "outputs": [],
   "source": [
    "millSelectedDF = millDF.query('year==2017 and month in (5,6,7,8)  | year==2018 and month == 5')\n",
    "\n",
    "millSelectedDF.query('year==2018 and month==5')\n",
    "\n",
    "millPartialSelectedDF = millPartialDF.query('year==2018 and month in (6,7,8)')\n",
    "\n",
    "sensorDF = sensorDF.query('cycle_time not in (\"M/DD/\",\"H:MM:\")')\n",
    "sensorNew20DF2.query('date_time == \"09/20/18 22:57:58.313\"')\n",
    "\n",
    "testDF.query('date_time == \"09/20/18 01:11:16.621\" | date_time == \"09/20/18 01:11:16.824\"')\n"
   ]
  },
  {
   "cell_type": "markdown",
   "metadata": {},
   "source": [
    "### SORT"
   ]
  },
  {
   "cell_type": "code",
   "execution_count": null,
   "metadata": {},
   "outputs": [],
   "source": [
    "unionDF.Date.sort_values().tail()\n",
    "unionDF.sort_values(by=['year','month']).tail()\n",
    "\n",
    "np.sort(shipDF2.STO_NO.unique())\n"
   ]
  },
  {
   "cell_type": "code",
   "execution_count": null,
   "metadata": {},
   "outputs": [],
   "source": [
    "### STATS"
   ]
  },
  {
   "cell_type": "code",
   "execution_count": null,
   "metadata": {},
   "outputs": [],
   "source": [
    "trainDF.info()\n",
    "combinedDF.describe()\n",
    "combinedDF.describe(include='all')\n",
    "\n",
    "combinedDF.Sex.value_counts()\n",
    "combinedDF.Age.mean()\n",
    "combinedDF.Age.median()\n",
    "combinedDF.Fare.min(), combinedDF.Fare.max()\n",
    "combinedDF.Fare.quantile(0.25), combinedDF.Fare.quantile(0.5), combinedDF.Fare.quantile(0.75)\n",
    "combinedDF.Fare.var(), combinedDF.Fare.std() \n",
    "\n",
    "combinedDF.Embarked.mode()\n",
    "combinedDF.groupby(['Pclass', 'Embarked']).Fare.median()\n",
    "\n",
    "pd.crosstab(combinedDF.Sex, combinedDF.Pclass)\n",
    "combinedDF.pivot_table(index='Sex', columns='Pclass', values='Age', aggfunc='mean')\n",
    "combinedDF.groupby(['Sex', 'Pclass']).Age.mean()\n",
    "combinedDF.groupby(['Sex', 'Pclass']).Age.mean().unstack()\n",
    "\n",
    "combinedDF.loc[(combinedDF.Embarked =='S') & (combinedDF.Pclass == 3), 'Fare'].median()\n",
    "\n",
    "np.log(combinedDF.Fare + 1.0)\n",
    "\n",
    "\n",
    "np.mean(y_train), np.mean(y_test)\n"
   ]
  },
  {
   "cell_type": "markdown",
   "metadata": {},
   "source": [
    "### GROUP BY"
   ]
  },
  {
   "cell_type": "code",
   "execution_count": 1,
   "metadata": {},
   "outputs": [
    {
     "ename": "NameError",
     "evalue": "name 'combinedDF' is not defined",
     "output_type": "error",
     "traceback": [
      "\u001b[1;31m---------------------------------------------------------------------------\u001b[0m",
      "\u001b[1;31mNameError\u001b[0m                                 Traceback (most recent call last)",
      "\u001b[1;32m<ipython-input-1-9aac183bd7e9>\u001b[0m in \u001b[0;36m<module>\u001b[1;34m\u001b[0m\n\u001b[1;32m----> 1\u001b[1;33m \u001b[0mcombinedDF\u001b[0m\u001b[1;33m.\u001b[0m\u001b[0mgroupby\u001b[0m\u001b[1;33m(\u001b[0m\u001b[1;33m[\u001b[0m\u001b[1;34m'Pclass'\u001b[0m\u001b[1;33m,\u001b[0m\u001b[1;34m'Sex'\u001b[0m\u001b[1;33m]\u001b[0m\u001b[1;33m)\u001b[0m\u001b[1;33m[\u001b[0m\u001b[1;34m'Fare'\u001b[0m\u001b[1;33m,\u001b[0m \u001b[1;34m'Age'\u001b[0m\u001b[1;33m]\u001b[0m\u001b[1;33m.\u001b[0m\u001b[0mmedian\u001b[0m\u001b[1;33m(\u001b[0m\u001b[1;33m)\u001b[0m \u001b[1;31m# display selected columns\u001b[0m\u001b[1;33m\u001b[0m\u001b[1;33m\u001b[0m\u001b[0m\n\u001b[0m\u001b[0;32m      2\u001b[0m \u001b[0mcombinedDF\u001b[0m\u001b[1;33m.\u001b[0m\u001b[0mgroupby\u001b[0m\u001b[1;33m(\u001b[0m\u001b[1;33m[\u001b[0m\u001b[1;34m'Pclass'\u001b[0m\u001b[1;33m]\u001b[0m\u001b[1;33m)\u001b[0m\u001b[1;33m.\u001b[0m\u001b[0magg\u001b[0m\u001b[1;33m(\u001b[0m\u001b[1;33m{\u001b[0m\u001b[1;34m'Fare'\u001b[0m\u001b[1;33m:\u001b[0m\u001b[1;34m'mean'\u001b[0m\u001b[1;33m,\u001b[0m \u001b[1;34m'Age'\u001b[0m\u001b[1;33m:\u001b[0m\u001b[1;34m'median'\u001b[0m\u001b[1;33m}\u001b[0m\u001b[1;33m)\u001b[0m  \u001b[1;31m# using agg\u001b[0m\u001b[1;33m\u001b[0m\u001b[1;33m\u001b[0m\u001b[0m\n\u001b[0;32m      3\u001b[0m \u001b[1;33m\u001b[0m\u001b[0m\n\u001b[0;32m      4\u001b[0m \u001b[1;33m\u001b[0m\u001b[0m\n\u001b[0;32m      5\u001b[0m aggregations = {\n",
      "\u001b[1;31mNameError\u001b[0m: name 'combinedDF' is not defined"
     ]
    }
   ],
   "source": [
    "combinedDF.groupby(['Pclass','Sex'])['Fare', 'Age'].median() # display selected columns\n",
    "combinedDF.groupby(['Pclass']).agg({'Fare':'mean', 'Age':'median'})  # using agg\n",
    "\n",
    "\n",
    "aggregations = {\n",
    "    'Fare': {\n",
    "            'mean_fare' : 'mean' ,\n",
    "            'max_fare' : max,\n",
    "            'min_fare' : np.min\n",
    "            },\n",
    "    'Age': {\n",
    "        'range_age' : lambda x: max(x) - min(x)\n",
    "    }\n",
    "}\n",
    "combinedDF.groupby('Pclass').agg(aggregations)\n",
    "\n",
    "combinedDF.groupby('Sex').Age.transform('median').head()\n",
    "\n",
    "unionDF.groupby(['year', 'month']).agg('count')\n",
    "\n",
    "#Refer to screen shots below for details:\n",
    "# Unique upc's per store \n",
    "supplyAuditDF.groupby(['DIVISION_NO', 'STORE_NO'])['UPC'].unique()\n",
    "\n",
    "# Number of upc's per store (with duplicates)\n",
    "supplyAuditDF.groupby(['DIVISION_NO', 'STORE_NO']).agg({'UPC': 'count'})[:10]\n",
    "\n",
    "# UPC instance count per store #1\n",
    "supplyAuditDF.groupby(['DIVISION_NO', 'STORE_NO'])['UPC'].value_counts()[0:10]\n",
    "\n",
    "# UPC instance count per store #2\n",
    "supplyAuditDF.groupby(['DIVISION_NO', 'STORE_NO', 'UPC']).agg({'UPC': 'count'})[:10]\n",
    "\n",
    "#COUNT OF UNIQUE ITEMS PER STORE PER DIVISION (UNIQUE UPC's count per store per division)\n",
    "supplyAuditDF.groupby(['DIVISION_NO', 'STORE_NO'])['UPC'].nunique()\n"
   ]
  },
  {
   "cell_type": "code",
   "execution_count": 11,
   "metadata": {},
   "outputs": [
    {
     "data": {
      "image/png": "[encoded data removed]",
      "text/plain": [
       "<IPython.core.display.Image object>"
      ]
     },
     "execution_count": 11,
     "metadata": {
      "image/png": {
       "height": 1200,
       "width": 900
      }
     },
     "output_type": "execute_result"
    }
   ],
   "source": [
    "from IPython.display import Image\n",
    "Image(filename='images/groupby_screenshot1.PNG', height=1200, width=900)"
   ]
  },
  {
   "cell_type": "code",
   "execution_count": 9,
   "metadata": {},
   "outputs": [
    {
     "data": {
      "image/png": "[encoded data removed]",
      "text/plain": [
       "<IPython.core.display.Image object>"
      ]
     },
     "execution_count": 9,
     "metadata": {
      "image/png": {
       "height": 800,
       "width": 600
      }
     },
     "output_type": "execute_result"
    }
   ],
   "source": [
    "Image(filename='images/groupby_screenshot2.PNG', height=800, width=600)"
   ]
  },
  {
   "cell_type": "code",
   "execution_count": 12,
   "metadata": {},
   "outputs": [
    {
     "data": {
      "image/png": "[encoded data removed]",
      "text/plain": [
       "<IPython.core.display.Image object>"
      ]
     },
     "execution_count": 12,
     "metadata": {
      "image/png": {
       "height": 800,
       "width": 600
      }
     },
     "output_type": "execute_result"
    }
   ],
   "source": [
    "Image(filename='images/groupby_screenshot3.PNG', height=800, width=600)"
   ]
  },
  {
   "cell_type": "code",
   "execution_count": 13,
   "metadata": {},
   "outputs": [
    {
     "data": {
      "image/png": "[encoded data removed]",
      "text/plain": [
       "<IPython.core.display.Image object>"
      ]
     },
     "execution_count": 13,
     "metadata": {
      "image/png": {
       "height": 800,
       "width": 600
      }
     },
     "output_type": "execute_result"
    }
   ],
   "source": [
    "Image(filename='images/groupby_screenshot4.PNG', height=800, width=600)"
   ]
  },
  {
   "cell_type": "code",
   "execution_count": 14,
   "metadata": {},
   "outputs": [
    {
     "data": {
      "image/png": "[encoded data removed]",
      "text/plain": [
       "<IPython.core.display.Image object>"
      ]
     },
     "execution_count": 14,
     "metadata": {
      "image/png": {
       "height": 800,
       "width": 600
      }
     },
     "output_type": "execute_result"
    }
   ],
   "source": [
    "Image(filename='images/groupby_screenshot5.PNG', height=800, width=600)"
   ]
  },
  {
   "cell_type": "code",
   "execution_count": 15,
   "metadata": {},
   "outputs": [
    {
     "data": {
      "image/png": "[encoded data removed]",
      "text/plain": [
       "<IPython.core.display.Image object>"
      ]
     },
     "execution_count": 15,
     "metadata": {
      "image/png": {
       "height": 800,
       "width": 600
      }
     },
     "output_type": "execute_result"
    }
   ],
   "source": [
    "Image(filename='images/groupby_screenshot6.PNG', height=800, width=600)"
   ]
  },
  {
   "cell_type": "markdown",
   "metadata": {
    "heading_collapsed": true
   },
   "source": [
    "### READ/WRITE File/DataFrame"
   ]
  },
  {
   "cell_type": "raw",
   "metadata": {
    "hidden": true,
    "lang": "en"
   },
   "source": [
    "trainDF = pd.read_csv(train_data_path, index_col='PassengerId')\n",
    "\n",
    "combinedDF.loc[combinedDF.Survived != -888].to_csv(write_train_data_path)"
   ]
  },
  {
   "cell_type": "markdown",
   "metadata": {
    "heading_collapsed": true
   },
   "source": [
    "### FILL MISSING VALUES"
   ]
  },
  {
   "cell_type": "code",
   "execution_count": null,
   "metadata": {
    "hidden": true
   },
   "outputs": [],
   "source": [
    "# Solution: \n",
    "#       -> Deletion \n",
    "#       -> Imputation\n",
    "#          --> Mean imputation  (average) (result IS impacted by outliers)\n",
    "#          --> Median imputation (middle value) (result NOT impacted by outliers)\n",
    "#          --> Mode imputation (most occurring) (for categorical features)\n",
    "#          --> Forward fill (replace with previous value)\n",
    "#          --> Backward fill (replace with next value)\n",
    "#          --> Predictive Model (predict using models)\n",
    "\n",
    "combinedDF.Embarked.nunique(dropna=False)\n",
    "combinedDF.Embarked.fillna('C', inplace=True)\n",
    "combinedDF[combinedDF.Age.isna()]\n",
    "df5.Age.fillna(combinedDF.groupby('Sex').Age.median(), inplace=True)\n",
    "df5.Age.fillna(combinedDF.groupby('Sex').Age.transform('median'), inplace=True)\n",
    "combinedDF.Age.fillna(combinedDF.groupby('Title').Age.transform('median'), inplace=True)\n",
    "\n",
    "pandasDF0 = pandasDF.fillna(value=0, axis=0)\n",
    "pandasDF1 = pandasDF.fillna(pandasDF.mean(), axis=0)\n",
    "\n",
    "combinedDF['Notes'] = np.nan\n",
    "\n",
    "union14DF = union14DF[union14DF.Date.notna()]\n",
    "union14DF = union14DF[union14DF.Pounds.notna() & union14DF.Tons.notna()]\n",
    "\n",
    "millWkPandasDF3F_filtered_filled = millWkPandasDF3F_filtered.fillna(value=0, axis=0)\n",
    "\n",
    "sensorDF['cycle_time_next'].fillna(value=0, inplace=True)\n",
    "\n",
    "\n",
    "#Drop\n",
    "cycle_list= sensorDF.cycle.dropna()"
   ]
  },
  {
   "cell_type": "code",
   "execution_count": null,
   "metadata": {
    "hidden": true
   },
   "outputs": [],
   "source": []
  },
  {
   "cell_type": "markdown",
   "metadata": {
    "heading_collapsed": true
   },
   "source": [
    "### UNIQUE"
   ]
  },
  {
   "cell_type": "code",
   "execution_count": null,
   "metadata": {
    "hidden": true
   },
   "outputs": [],
   "source": [
    "combinedDF.Embarked.unique()\n",
    "combinedDF.Cabin.unique()\n",
    "\n",
    "unionDF[unionDF.Division ==  \"014\"]['Location'].unique()"
   ]
  },
  {
   "cell_type": "markdown",
   "metadata": {},
   "source": [
    "### DROP"
   ]
  },
  {
   "cell_type": "code",
   "execution_count": null,
   "metadata": {},
   "outputs": [],
   "source": [
    "combinedDF.drop(['Cabin','Name','Ticket','Parch','SibSp','Sex'], axis=1, inplace=True)\n",
    "combinedDF = combinedDF.drop(columns=['Paper Cost Avg','Price per Ton'], axis='columns')\n",
    "\n",
    "pandasDF.drop('DATE_STRING', inplace=True, axis = 1)\n",
    "joinedPandasDF = joinedPandasDF.drop('MDATE_ONLY', axis='columns')\n",
    "\n",
    "unionDF = unionDF.drop(axis='columns', columns=['Check_Num', 'Notes', 'Units', 'Filename'])\n",
    "\n",
    "union14DF = union14DF.drop_duplicates()\n",
    "millSelectedDF[['year', 'month']].drop_duplicates()"
   ]
  },
  {
   "cell_type": "markdown",
   "metadata": {},
   "source": [
    "### RENAME"
   ]
  },
  {
   "cell_type": "code",
   "execution_count": null,
   "metadata": {},
   "outputs": [],
   "source": [
    "suppliesDF.rename(columns={'Case UPC': 'Case_UPC', 'Cons UPC': 'Cons_UPC' }, inplace=True)\n",
    "\n",
    "combinedDF = combinedDF.rename(index=str, columns={\"Date Rcv\": \"Date\", \"Paper Cost\": \"Paper_Cost\", \"#Units\":\"Units\", \"ck reference number\":\"Check_Num\"})"
   ]
  },
  {
   "cell_type": "markdown",
   "metadata": {},
   "source": [
    "### SAVE"
   ]
  },
  {
   "cell_type": "code",
   "execution_count": null,
   "metadata": {},
   "outputs": [],
   "source": []
  },
  {
   "cell_type": "markdown",
   "metadata": {},
   "source": [
    "### DATE/TIME/TIMESTAMP"
   ]
  },
  {
   "cell_type": "code",
   "execution_count": null,
   "metadata": {},
   "outputs": [],
   "source": [
    "from datetime import datetime\n",
    "\n",
    "datetime.today()  #datetime.datetime(2018, 11, 7, 11, 2, 10, 516948)\n",
    "datetime.now()    #datetime.datetime(2018, 11, 7, 11, 2, 25, 147517)\n",
    "datetime.utcnow()  #datetime.datetime(2018, 11, 7, 16, 2, 36, 940195)\n",
    "my_date.ctime() #'Wed Nov  7 18:54:55 2018'\n",
    "--------------------------------------------------------------------------------\n",
    "datetime.strptime('09/21/18 07:29:09', '%m/%d/%y %H:%M:%S') #datetime.datetime(2018, 9, 21, 7, 29, 9)\n",
    "datetime.strptime('09/21/2018 07:29:09', '%m/%d/%Y %H:%M:%S') #datetime.datetime(2018, 9, 21, 7, 29, 9)\n",
    "datetime.strptime(\"2018-06-03 08:00:00\", \"%Y-%m-%d %H:%M:%S\") #datetime.datetime(2018, 6, 3, 8, 0)\n",
    "datetime.strptime('07/28/2014 18:54:55.099000', '%m/%d/%Y %H:%M:%S.%f') #datetime.datetime(2014, 7, 28, 18, 54, 55, 99000)\n",
    "datetime.strptime('07/28/2014 18:54:55.099000', '%m/%d/%Y %H:%M:%S.%f').month #7\n",
    "--------------------------------------------------------------------------------my_date = datetime.strptime('11/07/2018 18:54:55.099000', '%m/%d/%Y %H:%M:%S.%f')\n",
    "my_date.day, my_date.month, my_date.year, my_date.hour, my_date.minute, my_date.second, my_date.weekday() #(7, 11, 2018, 18, 54, 55, 2)\n",
    "--------------------------------------------------------------------------------d1 = datetime.strptime('09/21/2018 07:29:09.099', '%m/%d/%Y %H:%M:%S.%f')\n",
    "d2 = datetime.strptime('09/22/2018 07:29:32.001', '%m/%d/%Y %H:%M:%S.%f')\n",
    "#type(d2-d1) #datetime.timedelta\n",
    "td = d2-d1\n",
    "#td.days #1 \n",
    "#td.seconds #22\n",
    "#td.microseconds #902000\n",
    "td.total_seconds() #86422.902\n",
    "--------------------------------------------------------------------------------\n",
    "--------------------------------------------------------------------------------\n",
    "union14DF['Date'] =  pd.to_datetime(union14DF['Date'])\n",
    "\n",
    "union14DF['year'] = pd.DatetimeIndex(union14DF['Date']).year.astype(int)\n",
    "union14DF['month'] = pd.DatetimeIndex(union14DF['Date']).month.astype(int)\n",
    "\n",
    "# unionDF['year'] = unionDF['Date'].dt.year\n",
    "# unionDF['month'] = unionDF['Date'].dt.month\n",
    "\n",
    "'$GOOD--------------------------------------------------------------------------------\n",
    "#STEP2.1: Convert Date to date format and extract month & year \n",
    "millDF['Date'] =  pd.to_datetime(millDF['Date'])\n",
    "millDF = millDF[millDF.Date.notna()]\n",
    "millDF = millDF[millDF.Pounds.notna() & millDF.Tons.notna()]\n",
    "millDF['year'] = pd.DatetimeIndex(millDF['Date']).year.astype(int)\n",
    "millDF['month'] = pd.DatetimeIndex(millDF['Date']).month.astype(int)\n",
    "'$GOOD--------------------------------------------------------------------------------\n",
    "panDf['week_beg'] = pd.to_datetime(panDf['week_beg'])\n",
    "--------------------------------------------------------------------------------\n",
    "from datetime import date\n",
    "from datetime import time\n",
    "from datetime import date\n",
    "from datetime import datetime\n",
    "sensorDF2['year'] = pd.DatetimeIndex(sensorDF2['date_time']).year.astype(int)\n",
    "sensorDF2['month'] = pd.DatetimeIndex(sensorDF2['date_time']).month.astype(int)\n",
    "sensorDF2['day'] = pd.DatetimeIndex(sensorDF2['date_time']).day.astype(int)\n",
    "--------------------------------------------------------------------------------\n",
    "idx = pd.date_range(tempDF.index.min(), tempDF.index.max())\n",
    "idx.to_pydatetime() 'OUTPUT: array([datetime.datetime(2018, 9, 27, 0, 0, 7, 418000)], dtype=object)\n",
    "--------------------------------------------------------------------------------\n",
    "'Difference'\n",
    "from datetime import datetime\n",
    "\n",
    "def days_between(d1, d2):\n",
    "    d1 = datetime.strptime(d1, '%d/%m/%Y %H:%M:%S')\n",
    "    d2 = datetime.strptime(d2, '%d/%m/%Y %H:%M:%S')\n",
    "    return abs((d2 - d1).days)\n",
    "days_between('09/21/18 07:29:09.996','09/21/18 07:29:09.997')\n",
    "--------------------------------------------------------------------------------\n",
    "from pandas.tseries.offsets import MonthEnd, YearEnd\n",
    "pd.datetime.today() # datetime.datetime(2019, 1, 23, 10, 56, 36, 414545)\n",
    "pd.datetime.today() + MonthEnd(1) # Timestamp('2019-01-31 10:04:18.429534')\n",
    "pd.datetime.today() + MonthEnd(2) # Timestamp('2019-02-28 10:57:15.643560')\n",
    "pd.datetime.today() + MonthEnd(2) + YearEnd(2) # Timestamp('2020-12-31 10:58:11.521212')\n",
    "df['Adjustments'] = pd.to_datetime(df['Adjustments']) + MonthEnd(1)\n",
    "--------------------------------------------------------------------------------\n",
    "pd.Timestamp('01-01-2011') #Timestamp('2011-01-01 00:00:00')"
   ]
  },
  {
   "cell_type": "markdown",
   "metadata": {},
   "source": [
    "### loc & iloc"
   ]
  },
  {
   "cell_type": "code",
   "execution_count": 6,
   "metadata": {},
   "outputs": [
    {
     "ename": "SyntaxError",
     "evalue": "invalid syntax (<ipython-input-6-30b932cce3e4>, line 1)",
     "output_type": "error",
     "traceback": [
      "\u001b[1;36m  File \u001b[1;32m\"<ipython-input-6-30b932cce3e4>\"\u001b[1;36m, line \u001b[1;32m1\u001b[0m\n\u001b[1;33m    loc: (String based)\u001b[0m\n\u001b[1;37m                     ^\u001b[0m\n\u001b[1;31mSyntaxError\u001b[0m\u001b[1;31m:\u001b[0m invalid syntax\n"
     ]
    }
   ],
   "source": [
    "loc: (String based)\n",
    "    --> is label based index as string\n",
    "    --> takes slices based on labels\n",
    "    --> includes last element\n",
    "iloc: (Integer based)\n",
    "    --> bases on index's position\n",
    "    --> uses obersation's position\n",
    "\n",
    "loc gets rows (or columns) with particular labels from the index.\n",
    "iloc gets rows (or columns) at particular positions in the index (so it only takes integers).\n",
    "ix usually tries to behave like loc but falls back to behaving like iloc if a label is not present in the index.\n",
    "\n",
    "test=panDf.loc[(panDf['fis_week_id'] >= 20170101) & (panDf['fis_week_id'] <= 20181204)]\n",
    "\n",
    "millWkPandasDF3F_filtered=millWkPandasDF3.loc[millWkPandasDF3.index >= '20170101']\n",
    "--------------------------------------------------------------------------------\n",
    "sensorDF.at[list1[x]:list2[x],'cycle_time_new']= sensorDF.loc[x+2: x+7].cycle_time_rounded.mean()\n",
    "print('sensorDF.loc[list1[x]:list2[x]].new_cycle_time', sensorDF.loc[list1[x]:list2[x]].cycle_time_new)\n",
    "sensorDF.at[list1[x]:list2[x],'spike']= True\n",
    "'''\n",
    "list2[x]: 0 list1[x]: 7\n",
    "sensorDF.loc[list1[x]:list2[x]].new_cycle_time Series([], Name: cycle_time_new, dtype: float64)\n",
    "list2[x]: 32 list1[x]: 51\n",
    "sensorDF.loc[list1[x]:list2[x]].new_cycle_time Series([], Name: cycle_time_new, dtype: float64)\n",
    "list2[x]: 71 list1[x]: 90\n",
    "sensorDF.loc[list1[x]:list2[x]].new_cycle_time Series([], Name: cycle_time_new, dtype: float64)\n",
    "list2[x]: 92 list1[x]: 94\n",
    "'''\n",
    "--------------------------------------------------------------------------------\n",
    "sensor20DF.at[list3[x],'new_cycle_time_modified']= sensor20DF.loc[x+2: x+7].new_cycle_time.mean() \n",
    "--------------------------------------------------------------------------------\n",
    "cycle_start_timestamp = cycleDF.loc[cycleDF.index.min()]['date_time']\n",
    "cycle_end_timestamp = cycleDF.loc[cycleDF.index.max()]['date_time']\n",
    "--------------------------------------------------------------------------------\n",
    "diff_seconds = diff.total_seconds()\n",
    "--------------------------------------------------------------------------------\n",
    "df.loc['1991-01-31': '1991-05-31']\n",
    "train = df.loc[:split_date, ['Unadjusted']]# same as train =df[df.index < split_date]\n",
    "test = df.loc[split_date:, ['Unadjusted']]\n",
    "\n",
    "df.loc['2010-12-31'] # match found\n",
    "df.loc['2011-01-01'] # #KeyError: 'the label [2011-01-01 00:00:00] is not in the [index]'"
   ]
  },
  {
   "cell_type": "markdown",
   "metadata": {},
   "source": [
    "### Database connection"
   ]
  },
  {
   "cell_type": "code",
   "execution_count": null,
   "metadata": {},
   "outputs": [],
   "source": [
    "import pandas as pd\n",
    "import pyodbc\n",
    "sql_connection = pyodbc.connect('DRIVER={ODBC Driver 13 for SQL Server};  SERVER=10.3.162.167;  \\\n",
    "                          DATABASE=SEVENTY5_PROD; \\\n",
    "                          UID=management;PWD=Kroger12345') \n",
    "query = 'select * from SUPPLY_AUDIT'\n",
    "supplyAuditDF = pd.read_sql(con=sql_connection, sql=query)"
   ]
  },
  {
   "cell_type": "markdown",
   "metadata": {},
   "source": [
    "### OTHER FUNCTIONS"
   ]
  },
  {
   "cell_type": "markdown",
   "metadata": {},
   "source": [
    "#### DATE"
   ]
  },
  {
   "cell_type": "code",
   "execution_count": 1,
   "metadata": {},
   "outputs": [
    {
     "name": "stdout",
     "output_type": "stream",
     "text": [
      "2019-06-19 16:01:21.220388\n"
     ]
    }
   ],
   "source": [
    "import datetime\n",
    "print(datetime.datetime.now())"
   ]
  },
  {
   "cell_type": "markdown",
   "metadata": {},
   "source": [
    "#### LIST FUNCTIONS"
   ]
  },
  {
   "cell_type": "code",
   "execution_count": null,
   "metadata": {},
   "outputs": [],
   "source": [
    "smiths_case_upc_list = list(suppliesDF.query('Need == \"Smiths\"').Case_UPC)\n",
    "case_upc_needed_list = []  # EMPTY LIST\n",
    "case_upc_needed_list.extend(every_store_case_upc_list) # APPEND TO LIST"
   ]
  },
  {
   "cell_type": "markdown",
   "metadata": {},
   "source": [
    "#### DATAFRAME CREATE/APPEND ROWS"
   ]
  },
  {
   "cell_type": "code",
   "execution_count": null,
   "metadata": {},
   "outputs": [],
   "source": [
    "pd.DataFrame(['1','2','3'])\n",
    "\n",
    "caseUnneededDF= pd.DataFrame(columns=['store', 'division', 'case_upc'])\n",
    "caseUnneededDF = caseUnneededDF.append({'store':sNumber, 'division':dNumber, 'case_upc':case_unneededList[k1]}, ignore_index=True)\n",
    "--------------------------------------------------------------------------------\n",
    "d = {'lr': 1.1, 'loss': h.history.get('loss'), 'acc': h.history.get('acc')}\n",
    "--------------------------------------------------------------------------------\n",
    "d = {'col1': [1, 2], 'col2': [3, 4]}\n",
    "df = pd.DataFrame(data=d)\n",
    "# output:\n",
    "#    col1\tcol2\n",
    "# 0\t 1\t    3\n",
    "# 1\t 2\t    4 "
   ]
  },
  {
   "cell_type": "markdown",
   "metadata": {},
   "source": [
    "#### MERGE"
   ]
  },
  {
   "cell_type": "code",
   "execution_count": null,
   "metadata": {},
   "outputs": [],
   "source": [
    "combinedDF = finalDF.merge(locationDivisionLookupDF, how='left', on='Location') \n",
    "\n",
    "# STEP10: Findout which unneeded case upcs where orderd (Join shipDf with unneeded upc DF)\n",
    "resultCaseUnneededShippedDF = pd.merge(shipDF, caseUnneededDF, how='inner', left_on=['DIV_NO', 'STO_NO','BAS_CAS_UPC_NO'], right_on=['division', 'store','case_upc'],\n",
    "         left_index=False, right_index=False, sort=True,\n",
    "         suffixes=('_x', '_y'), copy=True, indicator=False,\n",
    "         validate=None)\n"
   ]
  },
  {
   "cell_type": "markdown",
   "metadata": {},
   "source": [
    "#### CONCAT"
   ]
  },
  {
   "cell_type": "code",
   "execution_count": null,
   "metadata": {},
   "outputs": [],
   "source": [
    "unionDF = pd.concat([millDF, millPartialDF], ignore_index=True, sort=True) \n",
    "\n",
    "unionDF = pd.concat([millSelectedDF, millPartialSelectedDF], ignore_index=True, sort=True)  \n",
    "unionDF = unionDF.drop_duplicates() "
   ]
  },
  {
   "cell_type": "markdown",
   "metadata": {},
   "source": [
    "#### REPLACE"
   ]
  },
  {
   "cell_type": "code",
   "execution_count": null,
   "metadata": {},
   "outputs": [],
   "source": [
    "# x = '/181'\n",
    "# x = x.replace('/', '')"
   ]
  },
  {
   "cell_type": "markdown",
   "metadata": {},
   "source": [
    "#### COPY"
   ]
  },
  {
   "cell_type": "code",
   "execution_count": null,
   "metadata": {},
   "outputs": [],
   "source": [
    "myDF1 = millDF.copy()"
   ]
  },
  {
   "cell_type": "markdown",
   "metadata": {},
   "source": [
    "#### UNION"
   ]
  },
  {
   "cell_type": "code",
   "execution_count": null,
   "metadata": {},
   "outputs": [],
   "source": [
    "union14DF = unionDF[unionDF.Location == 'Cincinatti']"
   ]
  },
  {
   "cell_type": "markdown",
   "metadata": {},
   "source": [
    "#### AGGREGATION"
   ]
  },
  {
   "cell_type": "code",
   "execution_count": null,
   "metadata": {},
   "outputs": [],
   "source": [
    "my14SumDF1 = my14DF1[['year','month', 'Tons']].groupby(['year','month']).agg(np.sum)\n",
    "union14SumDF = union14DF.groupby(['year','month']).agg(np.sum)\n",
    "\n",
    "union14DF = union14DF.groupby(['Invoice']).agg({'month': 'max', 'year':'max', 'Tons': 'sum'})\n",
    "groupDF = sensorDF.groupby(sensorDF.cycle).agg({\"cycle\": \"count\", \"cycle_time\": \"max\"})"
   ]
  },
  {
   "cell_type": "markdown",
   "metadata": {},
   "source": [
    "#### SCALING"
   ]
  },
  {
   "cell_type": "markdown",
   "metadata": {},
   "source": [
    "#### SHIFT"
   ]
  },
  {
   "cell_type": "code",
   "execution_count": null,
   "metadata": {},
   "outputs": [],
   "source": [
    "sensorDF2['date_time_1'] = sensorDF2.date_time.shift(-1)"
   ]
  },
  {
   "cell_type": "markdown",
   "metadata": {},
   "source": [
    "#### FLOOR"
   ]
  },
  {
   "cell_type": "code",
   "execution_count": null,
   "metadata": {},
   "outputs": [],
   "source": [
    "math.floor(row.cycle_time)"
   ]
  },
  {
   "cell_type": "markdown",
   "metadata": {},
   "source": [
    "#### ABS"
   ]
  },
  {
   "cell_type": "code",
   "execution_count": null,
   "metadata": {},
   "outputs": [],
   "source": [
    "diff_seconds = abs((pd.to_datetime(cycle_end_timestamp)-pd.to_datetime(cycle_start_timestamp)))"
   ]
  },
  {
   "cell_type": "markdown",
   "metadata": {},
   "source": [
    "### PIVOT"
   ]
  },
  {
   "cell_type": "code",
   "execution_count": null,
   "metadata": {},
   "outputs": [],
   "source": [
    "# pivotDf = test.pivot_table(index=['week_beg'], columns='Division', values='pct_lght')\n",
    "# pivotDf.head(5)\n",
    "pd.pivot_table(test, 'pct_lght','week_beg','Division')\n",
    "my_pivot = pd.pivot_table(millWkPandasDF2, index = 'week_beg', columns='Division', values='pct_lght')\n"
   ]
  },
  {
   "cell_type": "markdown",
   "metadata": {},
   "source": [
    "### LOGGING"
   ]
  },
  {
   "cell_type": "code",
   "execution_count": null,
   "metadata": {},
   "outputs": [],
   "source": [
    "# Levels: DEBUG, INFO, WARNING, ERROR, CRITICAL or NOTSET\n",
    "# NOTE: NOTSET means all messages will be logged\n",
    "import logging\n",
    "\n",
    "'''\n",
    "# create file handler which logs even debug messages\n",
    "fileLogger = logging.FileHandler('pluralsight_python_datascience_abhishek.log')\n",
    "fileLogger.setLevel(logging.DEBUG) \n",
    "\n",
    "# create console handler with a higher log level\n",
    "consoleStreamingLogger = logging.StreamHandler()\n",
    "consoleStreamingLogger.setLevel(logging.ERROR)\n",
    " \n",
    "# create formatter and add it to the handlers\n",
    "formatter = logging.Formatter('%(asctime)s - %(name)s - %(levelname)s - %(message)s')\n",
    "consoleStreamingLogger.setFormatter(formatter)\n",
    "consoleStreamingLogger.setFormatter(formatter)\n",
    "\n",
    "# add the handlers to the logger\n",
    "logger.addHandler(fileLogger)\n",
    "logger.addHandler(consoleStreamingLogger)\n",
    "\n",
    "logger = logging.getLogger(name=__name__)\n",
    "logger.setLevel(logging.DEBUG)\n",
    "\n",
    "print(logger.level)\n",
    "logger.level = logging.DEBUG\n",
    "\n",
    "logger.debug('This is debug message')\n",
    "logger.info('This is info message')\n",
    "# logger.warn('This is warn message') # DeprecationWarning: The 'warn' method is deprecated\n",
    "logger.warning('This is warning message')\n",
    "logger.error('This is error message')  # 2018-09-11 19:29:27,348 - __main__ - ERROR - This is error message\n",
    "logger.fatal('This is fatal message') # 2018-09-11 19:29:27,362 - __main__ - CRITICAL - This is fatal message\n",
    "logger.critical('This is critical message') # 2018-09-11 19:29:27,381 - __main__ - CRITICAL - This is critical message\n",
    "'''\n",
    "# WORKS\n",
    "import logging\n",
    "from logging.config import fileConfig\n",
    "\n",
    "#logging.config.fileConfig('titanic/logging/logging.conf')\n",
    "fileConfig('titanic/logging/logging.conf')\n",
    "\n",
    "# create logger\n",
    "logger = logging.getLogger()\n",
    "\n",
    "# 'application' code\n",
    "logger.debug('debug message')\n",
    "logger.info('info message')\n",
    "logger.warning('warn message')\n",
    "logger.error('error message')\n",
    "logger.critical('critical message')"
   ]
  },
  {
   "cell_type": "markdown",
   "metadata": {},
   "source": [
    "### ROUTINES"
   ]
  },
  {
   "cell_type": "code",
   "execution_count": 3,
   "metadata": {},
   "outputs": [
    {
     "data": {
      "text/plain": [
       "'../src/scripts/Titanic_processing_script.py'"
      ]
     },
     "execution_count": 3,
     "metadata": {},
     "output_type": "execute_result"
    }
   ],
   "source": [
    "import os\n",
    "get_data_processing_file = os.path.join(os.path.pardir, 'src', 'scripts', 'Titanic_processing_script.py')\n",
    "get_data_processing_file"
   ]
  },
  {
   "cell_type": "code",
   "execution_count": 4,
   "metadata": {},
   "outputs": [
    {
     "name": "stdout",
     "output_type": "stream",
     "text": [
      "in __main__\n",
      "              Age Cabin        ...        Survived            Ticket\n",
      "PassengerId                    ...                                  \n",
      "1            22.0   NaN        ...               0         A/5 21171\n",
      "2            38.0   C85        ...               1          PC 17599\n",
      "3            26.0   NaN        ...               1  STON/O2. 3101282\n",
      "4            35.0  C123        ...               1            113803\n",
      "5            35.0   NaN        ...               0            373450\n",
      "\n",
      "[5 rows x 11 columns]\n",
      "In processData...\n",
      "Index(['Age', 'Cabin', 'Embarked', 'Fare', 'Name', 'Parch', 'Pclass', 'Sex',\n",
      "       'SibSp', 'Survived', 'Ticket'],\n",
      "      dtype='object')\n",
      "in printDF(myDF)\n",
      "Index(['Columns:Survived', 'Columns:Adult_No', 'Columns:Adult_Yes',\n",
      "       'Columns:Age', 'Columns:Deck_A', 'Columns:Deck_B', 'Columns:Deck_C',\n",
      "       'Columns:Deck_D', 'Columns:Deck_E', 'Columns:Deck_F', 'Columns:Deck_G',\n",
      "       'Columns:Deck_Z', 'Columns:Embarked_C', 'Columns:Embarked_Q',\n",
      "       'Columns:Embarked_S', 'Columns:FamilySize', 'Columns:Fare',\n",
      "       'Columns:IsMale', 'Columns:IsMother', 'Columns:Pclass_1',\n",
      "       'Columns:Pclass_2', 'Columns:Pclass_3', 'Columns:Title_lady',\n",
      "       'Columns:Title_master', 'Columns:Title_miss', 'Columns:Title_mr',\n",
      "       'Columns:Title_mrs', 'Columns:Title_officer', 'Columns:Title_sir'],\n",
      "      dtype='object')\n",
      "             Survived  Adult_No    ...      Title_officer  Title_sir\n",
      "PassengerId                        ...                              \n",
      "1                   0         0    ...                  0          0\n",
      "2                   1         0    ...                  0          0\n",
      "3                   1         0    ...                  0          0\n",
      "4                   1         0    ...                  0          0\n",
      "5                   0         0    ...                  0          0\n",
      "\n",
      "[5 rows x 29 columns]\n",
      "In processData DONE\n",
      "in __main__  DONE\n"
     ]
    }
   ],
   "source": [
    "!python $get_data_processing_file"
   ]
  },
  {
   "cell_type": "markdown",
   "metadata": {
    "toc-hr-collapsed": false
   },
   "source": [
    "# DATA SCIENCE - PYTHON"
   ]
  },
  {
   "cell_type": "markdown",
   "metadata": {},
   "source": [
    "#### GENERAL"
   ]
  },
  {
   "cell_type": "code",
   "execution_count": null,
   "metadata": {},
   "outputs": [],
   "source": [
    "combinedDF = pd.get_dummies(combinedDF, columns=['Deck', 'Pclass', 'Title', 'Embarked', 'Adult'])\n",
    "\n",
    "y = trainDF.Survived.ravel()\n",
    " \n",
    "from sklearn.model_selection import train_test_split\n",
    "X_train, X_test, y_train, y_test = train_test_split(X, y, test_size=0.2, random_state=0)"
   ]
  },
  {
   "cell_type": "markdown",
   "metadata": {},
   "source": [
    "#### LOGISTIC REGRESSION"
   ]
  },
  {
   "cell_type": "code",
   "execution_count": null,
   "metadata": {},
   "outputs": [],
   "source": [
    "from sklearn.linear_model import LogisticRegression\n",
    "lrModel = LogisticRegression(random_state=0)\n",
    "lrModel.fit(X_train, y_train)\n",
    "lr_prediction = lrModel.predict(X_test)\n",
    "\n",
    "lrModel.get_params()\n",
    "lrModel.densify\n",
    "lrModel.coef_"
   ]
  },
  {
   "cell_type": "markdown",
   "metadata": {},
   "source": [
    "#### k-fold Cross validation"
   ]
  },
  {
   "cell_type": "code",
   "execution_count": null,
   "metadata": {},
   "outputs": [],
   "source": []
  },
  {
   "cell_type": "markdown",
   "metadata": {},
   "source": [
    "#### BASELINE MODEL"
   ]
  },
  {
   "cell_type": "code",
   "execution_count": null,
   "metadata": {},
   "outputs": [],
   "source": [
    "np.mean(y_train), np.mean(y_test)\n",
    "\n",
    "# OPTIONS: \"most_frequent\", \"stratified\", \"uniform\",  \"constant\", \"prior\"\n",
    "dummyModel = DummyClassifier(random_state=0, strategy='most_frequent')\n",
    "dummyModel.fit(X=X_train, y = y_train)\n",
    "prediction = dummyModel.predict(X=X_test)\n"
   ]
  },
  {
   "cell_type": "markdown",
   "metadata": {},
   "source": [
    "#### EVALUATION"
   ]
  },
  {
   "cell_type": "code",
   "execution_count": null,
   "metadata": {},
   "outputs": [],
   "source": [
    "from sklearn.metrics import accuracy_score, precision_score, recall_score, confusion_matrix\n",
    "accuracy_score(y_test, prediction)\n",
    "precision_score(y_test, prediction)\n",
    "recall_score(y_test, prediction)\n",
    "confusion_matrix(y_test, prediction)"
   ]
  },
  {
   "cell_type": "markdown",
   "metadata": {},
   "source": [
    "#### FEATURE NORMALIZARION & STANDARDIZATION"
   ]
  },
  {
   "cell_type": "code",
   "execution_count": null,
   "metadata": {
    "lang": "en"
   },
   "outputs": [],
   "source": [
    "#PYTHON DATA SCIENCE\n",
    "adultDF = adultDF.replace('?', None)\n",
    "adultDF.dropna(how='any')\n",
    "\n",
    "\n",
    "adultDF = adultDF.replace('?', None)\n",
    "adultDF.dropna(how='any')\n",
    "\n",
    "adultDF.filter(adultDF['WorkClass'] == 'Without-pay').show(3)\n",
    "'''\n",
    "String values --> numerical values:       <column>.cast(FloatType())\n",
    "Categorical Variables --> numeric         String Indexer\n",
    "Indexed columns --> Vector                OneHotEncoderEstimator\n",
    "Create feature vector(of input columns)   VectorAssembler\n",
    "'''\n",
    "\n",
    "from pyspark.sql.functions import min, max, mean\n",
    "\n",
    "#STEP1: Convert string values into numeric values (not needed for my dataset)\n",
    "from pyspark.sql.types import FloatType\n",
    "from pyspark.sql.functions import col\n",
    "adultDF = adultDF.withColumnRenamed('Age_int', adultDF['Age'].cast(FloatType()))\n",
    "\n",
    "#STEP2: Convert Categorical Variables into numeric\n",
    "#WorkClass --> WorkClass_index\n",
    "#'State-gov' -->  3.0\n",
    "from pyspark.ml.feature import StringIndexer\n",
    "stringIndexer = StringIndexer(inputCol='WorkClass', outputCol='WorkClass_index')\n",
    "indexedDF = stringIndexer.fit(adultDF).transform(adultDF)\n",
    "#indexedDF.select('WorkClass', 'WorkClass_index').distinct().show(10)\n",
    "\n",
    "#STEP3: Convert Indexed Categorical Variables to vectors\n",
    "#WorkClassindex -->WorkClass_encoded\n",
    "#2.0 -->   (6,[2],[1.0])\n",
    "from pyspark.ml.feature import OneHotEncoderEstimator\n",
    "oneHotEncoderEstimator = OneHotEncoderEstimator(inputCols=['WorkClass_index'], outputCols=['WorkClass_encoded'])\n",
    "ncodedDF = oneHotEncoderEstimator.fit(indexedDF).transform(indexedDF)\n",
    "encodedDF.select('WorkClass', 'WorkClass_index', 'WorkClass_encoded').distinct().show(10)\n",
    "\n",
    "encodedDF = encodedDF.withColumnRenamed('WorkClass_index','WorkClass_index_one_off')\\\n",
    "                     .withColumnRenamed('WorkClass_encoded','WorkClass_encoded_one_off')\n",
    "\n",
    "#STEP4: String Indexing all other categorical features\n",
    "categoricalFeatures = [  'WorkClass',\n",
    "                         'Education',\n",
    "                         'MaritalStatus',\n",
    "                         'Occupation',\n",
    "                         'Relationship',\n",
    "                         'Race',\n",
    "                         'Gender',\n",
    "                         'NativeCountry']\n",
    "indexers = [StringIndexer(inputCol=i, outputCol=i + '_indexed', handleInvalid='keep') for i in categoricalFeatures]\n",
    "#for indexer in indexers:\n",
    "  #print(indexer.getOutputCol())\n",
    "\n",
    "encoders = [OneHotEncoderEstimator(inputCols=[i + '_indexed'], outputCols=[i + '_encoded']) for i in categoricalFeatures]\n",
    "#for encoder in encoders:\n",
    "   #print(encoder.getInputCols(), '\\t', encoder.getOutputCols())\n",
    "\n",
    "#STEP5: Convert label column into index\n",
    "labelIndexer = StringIndexer(inputCol='Label', outputCol='Label_indexed')\n",
    "\n",
    "#STEP6: USE PIPELINE\n",
    "##import pyspark.ml.Pipeline\n",
    "from pyspark.ml import Pipeline \n",
    "pipeline = Pipeline(stages=indexers + encoders + [labelIndexer])\n",
    "tranformedDF = pipeline.fit(encodedDF).transform(encodedDF)\n",
    "#tranformedDF.take(1)\n",
    "#tranformedDF.select('Label', 'Label_indexed').distinct().show()\n",
    "#tranformedDF.columns\n",
    "    \n",
    "#STEP7: Vectorize all feature columns together\n",
    "requiredFeatures = ['Age',\n",
    " 'EducationNum',\n",
    " 'CapitalGain',\n",
    " 'CapitalLoss',\n",
    " 'HoursPerWeek',\n",
    " 'WorkClass_encoded',\n",
    " 'Education_encoded',\n",
    " 'MaritalStatus_encoded',\n",
    " 'Occupation_encoded',\n",
    " 'Relationship_encoded',\n",
    " 'Race_encoded',\n",
    " 'Gender_encoded',\n",
    " 'NativeCountry_encoded']\n",
    "from pyspark.ml.feature import VectorAssembler\n",
    "assembler = VectorAssembler(inputCols=requiredFeatures, outputCol='features')\n",
    "vectorizedDF = assembler.transform(tranformedDF)\n",
    "#vectorizedDF.select('features').show(5, truncate=False)\n",
    "#vectorizedDF.select('WorkClass_index_one_off', 'WorkClass_encoded_one_off', \n",
    "           #'WorkClass_indexed','WorkClass_encoded').show(5, truncate=False)\n",
    "    \n",
    "#STEP8: Split the data\n",
    "trainingDataDF, testDataDF = vectorizedDF.randomSplit([0.8,0.2])\n",
    "#trainingDataDF.count(), testDataDF.count()\n",
    "\n",
    "#STEP9: Create RANDOMFOREST Classifier\n",
    "from pyspark.ml.classification import RandomForestClassifier\n",
    "randomForestClassifier = RandomForestClassifier(maxDepth=5, \n",
    "                                                labelCol='Label_indexed', \n",
    "                                                featuresCol= 'features')\n",
    "\n",
    "#NOTE: BELOW STEP DOESN'T WORK BEACUSE ALL THE stages ARE ALREADY APPLIED. \n",
    "#EITHER DROP ALL THSOSE NEW COLUMNS OR \n",
    "#RECREATE THE ORIGINAL DATASET OR \n",
    "#APPLY ONLY THE classification STEPstep\n",
    "'''\n",
    "pipelineAll  = Pipeline(stages = indexers + \n",
    "                                 encoders + \n",
    "                                [labelIndexer] + \n",
    "                                [assembler] + \n",
    "                                [randomForestClassifier]) \n",
    "model = pipelineAll.fit(trainingDataDF)\n",
    "'''\n",
    "model = randomForestClassifier.fit(trainingDataDF)\n",
    "\n",
    "#{param[0].name: param[1] for param in model.extractParamMap().items()}\n",
    "#model.explainParam('maxDepth')\n",
    "\n",
    "#dict_values = model.extractParamMap().values()\n",
    "#list(dict_values)\n",
    "#list(model.extractParamMap().values())[7]\n",
    "#model.getNumTrees\n",
    "#model.featuresCol\n",
    "#model.impurity  # SAME AS model.getParam('impurity')\n",
    "#model.numClasses, model.numFeatures\n",
    "#model.labelCol, model.featuresCol\n",
    "\n",
    "#STEP10: PREDICT ON TEST DATA\n",
    "predictedDF = model.transform(testDataDF)\n",
    "#predictedDF.select('Label_indexed', 'prediction').show(10)\n",
    "#PLOT\n",
    "#predictedDF.select('Label_indexed', 'prediction').toPandas().plot(kind='scatter', x='Label_indexed', y='prediction')\n",
    "\n",
    "#STEP11 Evaluate the model(evaluate the predictions)\n",
    "\n",
    "from pyspark.ml.evaluation import BinaryClassificationEvaluator\n",
    "binaryClassificationEvaluator = BinaryClassificationEvaluator(\n",
    "                                        labelCol='Label_indexed', \n",
    "                                        rawPredictionCol='prediction', \n",
    "                                        metricName='areaUnderROC')\n",
    "accuracy = binaryClassificationEvaluator.evaluate(predictedOnlyDF)\n",
    "#accuracy\n",
    "#predictedOnlyPandasDF = predictedOnlyDF.toPandas()\n",
    "#predictedOnlyPandasDF.loc[predictedOnlyPandasDF['Label_indexed'] \n",
    "                      #  != predictedOnlyPandasDF['prediction']][0:5]\n",
    "\n",
    "\n",
    "###STEP12: Try again with different depth\n",
    "randomForestClassifier10 = RandomForestClassifier(maxDepth=10, \n",
    "                                                labelCol='Label_indexed', \n",
    "                                                featuresCol= 'features')\n",
    "model10 = randomForestClassifier10.fit(trainingDataDF)\n",
    "preditions10 = model10.transform(testDataDF)\n",
    "accuracy10 = binaryClassificationEvaluator.evaluate(preditions10)\n",
    "#accuracy10\n",
    "    \n",
    "maxBins   = range(10, 33, 11)  # max value = 32   \n",
    "maxBins   = range(10, 33, 11)  # max value = 32    \n",
    "my_parameter_list = list(zip(maxDepths,maxBins)) #[(10, 10), (20, 21), (30, 32)]    \n",
    "#for x in my_parameter_list\n",
    "  #print(x[0],x[1])   \n",
    "\n",
    "randomForestClassifierList = []\n",
    "\n",
    "randomForestClassifierList.append(\n",
    "                            RandomForestClassifier(maxDepth=x[0], maxBins=x[1],\n",
    "                                                   labelCol='Label_indexed', \n",
    "                                                   featuresCol= 'features'))\n",
    "    \n",
    "#len(randomForestClassifierList\n",
    "    \n",
    "def classify(classifier):\n",
    "    model = classifier.fit(trainingDataDF)\n",
    "    prediction = model.transform(testDataDF)\n",
    "    accuracy = binaryClassificationEvaluator.evaluate(prediction) \n",
    "    print('MAXDEPTH:', list(model.extractParamMap().values())[7], \n",
    "          'MAXBINS:', list(model.extractParamMap().values())[6],\n",
    "          'ACCURACY:', accuracy)    \n",
    "    \n",
    "# USING LIST COMPREHENSION\n",
    "[classify(r) for r in randomForestClassifierList]    \n",
    "#O:\n",
    "#MAXDEPTH: 10 MAXBINS: 10 ACCURACY: 0.7187703161570407\n",
    "#MAXDEPTH: 20 MAXBINS: 21 ACCURACY: 0.7622451075477894\n",
    "#MAXDEPTH: 30 MAXBINS: 32 ACCURACY: 0.7754354575437111\n",
    "\n",
    "#STEP13: \n",
    "'''\n",
    "Two Types of Hyper Parameter Tuning (aka Model Selection) \n",
    "    1) Cross Validator\n",
    "    2) TrainValidationSplit\n",
    "'''\n",
    "#CROSS VALIDATOR\n",
    "from pyspark.ml.tuning import CrossValidator\n",
    "from pyspark.ml.tuning import ParamGridBuilder\n",
    "paramGrid =   ParamGridBuilder().addGrid(randomForestClassifier10.maxDepth, [4,6]) \\\n",
    "                                .addGrid(randomForestClassifier10.maxBins, [20,60]) \\\n",
    "                                .addGrid(randomForestClassifier10.numTrees, [5,20]) \\\n",
    "                                .build()\n",
    "\n",
    "crossValidator = CrossValidator(estimator=randomForestClassifier10, \n",
    "                                evaluator=binaryClassificationEvaluator,\n",
    "                                estimatorParamMaps=paramGrid,\n",
    "                                numFolds=5)\n",
    "\n",
    "\n",
    "\n",
    "STEP14: Fit training data to all the models\n",
    "cvModel = crossValidator.fit(trainingDataDF) # THIS STEP WILL TAKE A LONG TIME\n",
    "#cvModel.avgMetrics   # (2 x 2 x 2 iterations)\n",
    "\n",
    "#STEP15: GET THE BEST MODEL\n",
    "\n",
    "bestModel = cvModel.bestModel\n",
    "list(bestModel.extractParamMap().values())\n",
    "{param[0].name: param[1] for param in bestModel.extractParamMap().items()}\n",
    "\n",
    "#STEP16: Predict using the test data\n",
    "bestModelPredictions = bestModel.transform(testDataDF)\n",
    "bestModelAccuracy = binaryClassificationEvaluator.evaluate(bestModelPredictions)\n",
    "#bestModelAccuracy #0.7170562491880605\n",
    "\n",
    "#STEP17: Save the model for future use\n",
    "bestModel.write().overwrite().save(\"random_forest_CrossValidator_best_model\")\n",
    "\n",
    "#STEP 17.1: READ BACK\n",
    "from pyspark.ml.classification import RandomForestClassificationModel\n",
    "saved_model = RandomForestClassificationModel.load(\"random_forest_CrossValidator_best_model\")\n",
    "_, testDataDF2 = vectorizedDF.randomSplit([0.9,0.1])\n",
    "saved_model_predictions = saved_model.transform(testDataDF2)\n",
    "saved_model_accuracy = binaryClassificationEvaluator.evaluate(saved_model_predictions)\n",
    "#saved_model_accuracy\n",
    "\n",
    "#STEP18: Hyper Parameter Tuning (aka Model Selection) (TrainValidationSplit)\n",
    "#Evaluates each combination of parameters once\n",
    "from pyspark.ml.tuning import TrainValidationSplit    \n",
    "paramGrid2 = ParamGridBuilder().addGrid(randomForestClassifier10.maxDepth, [4,6])\n",
    "                               .addGrid(randomForestClassifier10.numTrees, [5,20])\n",
    "                               .build()\n",
    "trainingData90, testData10 = vectorizedDF.randomSplit([0.9, 0.1], seed=12345)\n",
    "tvs = TrainValidationSplit(estimator=bestModel, estimatorParamMaps=paramGrid2,\n",
    "                               evaluator=BinaryClassificationEvaluator, trainRatio=0.9)\n",
    "\n",
    "tvsModel = tvs.fit(trainingData90)\n",
    "#ERROR: AttributeError: 'RandomForestClassificationModel' object has no attribute 'fitMultiple'\n",
    "#TO DO: FIX THIS LATER  \n",
    "\n",
    "#STEP19: EVALUATION using BinaryClassificationMetrics\n",
    "predictedOnlyDF2 = predictedOnlyDF.withColumnRenamed('Label_indexed', 'label')\n",
    "#predictedOnlyDF2.columns  O:['label', 'prediction']\n",
    "predictionAndLabels = predictedOnlyDF2.rdd.map(lambda row: (float(row.label), float(row.prediction)))\n",
    "binaryClassificationMetrics = BinaryClassificationMetrics(predictionAndLabels)\n",
    "binaryClassificationMetrics.areaUnderPR #0.4040690039202276\n",
    "binaryClassificationMetrics.areaUnderROC #0.8158521147102044\n",
    "\n",
    "#STEP20: TO DO: EVALUATION using MulticlassMetrics\n",
    "#TO DO: Select the best model and do the evaluation in it( same as for CrossValidator)\n",
    "\n"
   ]
  },
  {
   "cell_type": "markdown",
   "metadata": {},
   "source": [
    "### PARAMS PRINT"
   ]
  },
  {
   "cell_type": "code",
   "execution_count": null,
   "metadata": {},
   "outputs": [],
   "source": [
    "for key, value in bestModel.extractParamMap().items():\n",
    "    print (key.name, \":\", value)"
   ]
  },
  {
   "cell_type": "markdown",
   "metadata": {},
   "source": [
    "## 1. GBT (GRADENT BOOSTING TREE) CLASSIFIER"
   ]
  },
  {
   "cell_type": "code",
   "execution_count": null,
   "metadata": {},
   "outputs": [],
   "source": [
    "# 1. GBT (GRADENT BOOSTING TREE) CLASSIFIER\n",
    "from pyspark.ml.classification import GBTClassifier\n",
    "gbtClassifier = GBTClassifier(labelCol='Label_indexed',  featuresCol = 'features',  maxIter=30)\n",
    "gbtModel = gbtClassifier.fit(trainingDataDF)\n",
    "gbtPredictions = gbtModel.transform(testDataDF)\n",
    "gbtAccuracy = binaryClassificationEvaluator.evaluate(gbtPredictions)\n",
    "#gbtAccuracy #0.7647927357765553\n"
   ]
  },
  {
   "cell_type": "code",
   "execution_count": null,
   "metadata": {},
   "outputs": [],
   "source": []
  },
  {
   "cell_type": "code",
   "execution_count": null,
   "metadata": {},
   "outputs": [],
   "source": [
    "#### TO DO: LOGGING USING YAML config file"
   ]
  },
  {
   "cell_type": "markdown",
   "metadata": {},
   "source": [
    "### PYTHON DATA FRAME"
   ]
  },
  {
   "cell_type": "code",
   "execution_count": null,
   "metadata": {},
   "outputs": [],
   "source": [
    "# PYTHON DATA FRAME\n",
    "pd.DataFrame(data = [list(ucase), list(lcase)], index=(\"upper\", \"lower\"), columns = list(ucase))\n",
    "pd.DataFrame(np.random.randint(1,100,12).reshape(3,4))\n",
    "forecast = pd.DataFrame({\"high\": high_temps, \"low\": low_temps}, index=[\"Mon\", \"Tue\", \"Wed\", \"Thu\", \"Fri\"])\n",
    "\n",
    "df1.head()\n",
    "df1.index= np.arange(1,27)\n",
    "\n",
    "df1.dtypes  # column types\n",
    "df1.index = df1['lower'] # set index\n",
    "df1.sort_values('numbers').head() # sort\n",
    "df1['numbers'].head() # select column\n",
    "df1[['numbers', 'lower']].head(3) # select columns\n",
    "df1.iloc[20] # select row\n",
    "df1.iloc[15:18] # select rows\n",
    "\n",
    "df1.describe() # stats\n",
    "\n",
    "df1['numbers'] = np.random.randint(1,100,26) # adding new column\n",
    "forecast['difference']= forecast['high'] - forecast['low'] # adding new column\n",
    "df['three']=pd.Series([10,20,30],index=['a','b','c']) # add series as a new column\n",
    "\n",
    "df2 = pd.read_csv(s2, parse_dates=['Date'])   # Date format gets changed\n",
    "df2.set_index('Date', inplace=True) # df2 gets changed\n",
    "\n",
    "df2.plot(kind='area')\n",
    "\n",
    "\n",
    "del df['one']  # delete a column \n",
    "df.pop('two')  # delete a column "
   ]
  },
  {
   "cell_type": "markdown",
   "metadata": {},
   "source": [
    "### RANGE & RANDOM"
   ]
  },
  {
   "cell_type": "code",
   "execution_count": null,
   "metadata": {},
   "outputs": [],
   "source": [
    "#RANGE & RANDOM\n",
    "A1 = range(1,10) #O: 1 2 3 4 5 6 7 8 9\n",
    "A = np.arange(10) #O: array([0, 1, 2, 3, 4, 5, 6, 7, 8, 9])\n",
    "B = np.random.randn(10)\n",
    "#O: Array([-1.49553106, -0.84957435,  0.63583913, ...,  1.17658258,  2.43626867, -1.50656064])\n",
    "colors = np.random.randint(0,10,10) #array([0, 9, 8, 8, 8, 5, 7, 2, 2, 3])\n",
    "D = np.random.random(10)\n",
    "#O: array([ 0.55010528,  0.57947712,  0.23147827, ..., 0.01487446,  0.12264088,  0.34392944])\n",
    "E = np.random.random_sample(10)\n",
    "#O: array([ 0.55010528,  0.57947712,  0.23147827, ..., 0.01487446,  0.12264088,  0.34392944])"
   ]
  },
  {
   "cell_type": "markdown",
   "metadata": {},
   "source": [
    "### READ FILE"
   ]
  },
  {
   "cell_type": "code",
   "execution_count": null,
   "metadata": {},
   "outputs": [],
   "source": [
    "pandasDF = pd.read_csv(airpassengers_file)"
   ]
  },
  {
   "cell_type": "markdown",
   "metadata": {},
   "source": [
    "### GENERAL"
   ]
  },
  {
   "cell_type": "code",
   "execution_count": null,
   "metadata": {},
   "outputs": [],
   "source": [
    "pandasDF.dtypes\n",
    "type(pandasDF)\n",
    "pandasDF.index\n",
    "pandasDF.head(2)"
   ]
  },
  {
   "cell_type": "markdown",
   "metadata": {},
   "source": [
    "### pd.MultiIndex"
   ]
  },
  {
   "cell_type": "code",
   "execution_count": 1,
   "metadata": {},
   "outputs": [
    {
     "name": "stdout",
     "output_type": "stream",
     "text": [
      "[20, 35, 60, 85]\n",
      "['a', 'b']\n"
     ]
    }
   ],
   "source": [
    "import pandas as pd\n",
    "price = [20, 35, 60, 85]\n",
    "name = ['a', 'b']\n",
    "print(price) \n",
    "print(name)"
   ]
  },
  {
   "cell_type": "code",
   "execution_count": 2,
   "metadata": {},
   "outputs": [
    {
     "data": {
      "text/plain": [
       "MultiIndex(levels=[['a', 'b'], [20, 35, 60, 85]],\n",
       "           labels=[[0, 0, 0, 0, 1, 1, 1, 1], [0, 1, 2, 3, 0, 1, 2, 3]],\n",
       "           names=['Name', 'Price'])"
      ]
     },
     "execution_count": 2,
     "metadata": {},
     "output_type": "execute_result"
    }
   ],
   "source": [
    "multiIndex = pd.MultiIndex.from_product([name, price], names = ['Name', 'Price'])\n",
    "multiIndex"
   ]
  },
  {
   "cell_type": "code",
   "execution_count": 3,
   "metadata": {},
   "outputs": [
    {
     "data": {
      "text/plain": [
       "array([('a', 20), ('a', 35), ('a', 60), ('a', 85), ('b', 20), ('b', 35),\n",
       "       ('b', 60), ('b', 85)], dtype=object)"
      ]
     },
     "execution_count": 3,
     "metadata": {},
     "output_type": "execute_result"
    }
   ],
   "source": [
    "multiIndex.get_values()"
   ]
  },
  {
   "cell_type": "code",
   "execution_count": 4,
   "metadata": {},
   "outputs": [
    {
     "name": "stdout",
     "output_type": "stream",
     "text": [
      "('a', 20)\n",
      "('a', 35)\n",
      "('a', 60)\n",
      "('a', 85)\n",
      "('b', 20)\n",
      "('b', 35)\n",
      "('b', 60)\n",
      "('b', 85)\n"
     ]
    }
   ],
   "source": [
    "for v in multiIndex.get_values():\n",
    "    print(v)"
   ]
  },
  {
   "cell_type": "markdown",
   "metadata": {},
   "source": [
    "### ZIP (paired matching)"
   ]
  },
  {
   "cell_type": "code",
   "execution_count": 1,
   "metadata": {},
   "outputs": [],
   "source": [
    "x = [1, 2, 3]\n",
    "y = [4, 5, 6]\n",
    "z = [4, 5, 6,8]\n",
    "zipped = zip(x,y,z)"
   ]
  },
  {
   "cell_type": "code",
   "execution_count": 2,
   "metadata": {},
   "outputs": [
    {
     "data": {
      "text/plain": [
       "[(1, 4, 4), (2, 5, 5), (3, 6, 6)]"
      ]
     },
     "execution_count": 2,
     "metadata": {},
     "output_type": "execute_result"
    }
   ],
   "source": [
    "list(zipped)"
   ]
  },
  {
   "cell_type": "code",
   "execution_count": 4,
   "metadata": {},
   "outputs": [],
   "source": [
    "x = range(0,30,5)\n",
    "y = range(0,32, 5)"
   ]
  },
  {
   "cell_type": "code",
   "execution_count": 7,
   "metadata": {},
   "outputs": [
    {
     "name": "stdout",
     "output_type": "stream",
     "text": [
      "0\n",
      "5\n",
      "10\n",
      "15\n",
      "20\n",
      "25\n"
     ]
    }
   ],
   "source": [
    "for value in x:\n",
    "    print(value)"
   ]
  },
  {
   "cell_type": "code",
   "execution_count": 8,
   "metadata": {},
   "outputs": [
    {
     "name": "stdout",
     "output_type": "stream",
     "text": [
      "0\n",
      "5\n",
      "10\n",
      "15\n",
      "20\n",
      "25\n",
      "30\n"
     ]
    }
   ],
   "source": [
    "for value in y:\n",
    "    print(value)"
   ]
  },
  {
   "cell_type": "code",
   "execution_count": 9,
   "metadata": {},
   "outputs": [
    {
     "name": "stdout",
     "output_type": "stream",
     "text": [
      "4\n",
      "5\n",
      "6\n",
      "8\n"
     ]
    }
   ],
   "source": [
    "for value in z:\n",
    "    print(value)"
   ]
  },
  {
   "cell_type": "code",
   "execution_count": 10,
   "metadata": {},
   "outputs": [
    {
     "data": {
      "text/plain": [
       "[(0, 0), (5, 5), (10, 10), (15, 15), (20, 20), (25, 25)]"
      ]
     },
     "execution_count": 10,
     "metadata": {},
     "output_type": "execute_result"
    }
   ],
   "source": [
    "list(zip(x,y))"
   ]
  },
  {
   "cell_type": "markdown",
   "metadata": {},
   "source": [
    "### Switcher(case statement equivalent)"
   ]
  },
  {
   "cell_type": "code",
   "execution_count": null,
   "metadata": {},
   "outputs": [],
   "source": [
    "# switcher = {\n",
    "#     '3': 'triangle',\n",
    "#     '4': 'square',\n",
    "#     '3': get_child_text(detail_element, 'sensorDataTxt'),\n",
    "#     '4': get_child_text(detail_element, 'sensorDataBit')\n",
    "# }\n",
    "# switcher.get(data_type_id)"
   ]
  },
  {
   "cell_type": "code",
   "execution_count": null,
   "metadata": {},
   "outputs": [],
   "source": [
    "# END"
   ]
  }
 ],
 "metadata": {
  "hide_input": false,
  "kernelspec": {
   "display_name": "Python 3",
   "language": "python",
   "name": "python3"
  },
  "language_info": {
   "codemirror_mode": {
    "name": "ipython",
    "version": 3
   },
   "file_extension": ".py",
   "mimetype": "text/x-python",
   "name": "python",
   "nbconvert_exporter": "python",
   "pygments_lexer": "ipython3",
   "version": "3.6.6"
  },
  "nbTranslate": {
   "displayLangs": [
    "*"
   ],
   "hotkey": "alt-t",
   "langInMainMenu": true,
   "sourceLang": "en",
   "targetLang": "fr",
   "useGoogleTranslate": true
  },
  "toc": {
   "base_numbering": 1,
   "nav_menu": {},
   "number_sections": true,
   "sideBar": true,
   "skip_h1_title": false,
   "title_cell": "Table of Contents",
   "title_sidebar": "Contents",
   "toc_cell": true,
   "toc_position": {
    "height": "727px",
    "left": "37px",
    "top": "134px",
    "width": "387.55px"
   },
   "toc_section_display": true,
   "toc_window_display": true
  }
 },
 "nbformat": 4,
 "nbformat_minor": 2
}
